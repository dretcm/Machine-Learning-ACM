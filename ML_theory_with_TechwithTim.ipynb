{
  "nbformat": 4,
  "nbformat_minor": 0,
  "metadata": {
    "colab": {
      "name": "ML theory with TechwithTim",
      "provenance": [],
      "collapsed_sections": [],
      "authorship_tag": "ABX9TyMuhFT1y4iYsZwNvxQTtVBU",
      "include_colab_link": true
    },
    "kernelspec": {
      "name": "python3",
      "display_name": "Python 3"
    }
  },
  "cells": [
    {
      "cell_type": "markdown",
      "metadata": {
        "id": "view-in-github",
        "colab_type": "text"
      },
      "source": [
        "<a href=\"https://colab.research.google.com/github/dretcm/Machine-Learning-ACM/blob/main/ML_theory_with_TechwithTim.ipynb\" target=\"_parent\"><img src=\"https://colab.research.google.com/assets/colab-badge.svg\" alt=\"Open In Colab\"/></a>"
      ]
    },
    {
      "cell_type": "markdown",
      "metadata": {
        "id": "zSQy3qbI_sk9"
      },
      "source": [
        "**************************************************************\n",
        "**************************************************************\n",
        "### **1. first Theme: Linear Regression**\n",
        "**************************************************************\n",
        "**************************************************************\n",
        "Cuando se usa regresion linear un conjunto de datos en un plano carteciano, donde se tiene una pendiente(m) y intercepta(b) en un cierto punto con el eje Y, se dara un valor donde se posicionara en el eje X, y usando la formula \" Y = mX + b \", nos dara un valor para cada dato, y asi encontrando una mejor version para nuestro modelo segun el posicionamiento de la pendiente.\n",
        "\n",
        "![alt text](http://techwithtim.net/wp-content/uploads/2019/01/linear-2.png)"
      ]
    },
    {
      "cell_type": "code",
      "metadata": {
        "id": "jqLQTAby5nWu"
      },
      "source": [
        "import pandas as pd\n",
        "import numpy as np\n",
        "import sklearn\n",
        "from sklearn import linear_model\n",
        "from sklearn.utils import shuffle\n",
        "\n",
        "from google.colab import files\n",
        "\n",
        "import matplotlib.pyplot as plt\n",
        "from matplotlib import style\n",
        "import pickle\n",
        "\n",
        "files.upload()\n",
        "files.upload()"
      ],
      "execution_count": null,
      "outputs": []
    },
    {
      "cell_type": "code",
      "metadata": {
        "id": "4g8j9OqNWALM"
      },
      "source": [
        "data = pd.read_csv(\"student-mat.csv\",sep=\";\")\n",
        "data.head(10)"
      ],
      "execution_count": null,
      "outputs": []
    },
    {
      "cell_type": "code",
      "metadata": {
        "id": "G4smJkKYWOzx"
      },
      "source": [
        "#data.shape\n",
        "#data.isna()\n",
        "# now,we´ll trimming our data, exists data relevant and not relevant, for this we´ll trimming the important data.\n",
        "data = data[[\"G1\", \"G2\", \"G3\", \"studytime\", \"failures\", \"absences\"]]\n",
        "data.head()"
      ],
      "execution_count": null,
      "outputs": []
    },
    {
      "cell_type": "code",
      "metadata": {
        "id": "SDq6GGgBYJXG"
      },
      "source": [
        "predict = \"G3\"\n",
        "# separate data, with \"X\" how features and \"y\" how Labels.\n",
        "X = np.array(data.drop([predict],1))\n",
        "y = np.array(data[predict])\n",
        "dataf = pd.DataFrame(X,columns=data.columns.drop(predict))\n",
        "dataf.head()"
      ],
      "execution_count": null,
      "outputs": []
    },
    {
      "cell_type": "code",
      "metadata": {
        "id": "S88Laj-NbdEY"
      },
      "source": [
        "X_train, X_test, y_train, y_test = sklearn.model_selection.train_test_split(X,y,test_size=0.1)\n",
        "# dividimos la data en data de entrenamiento y prueba\n",
        "# hacemos esto para probar nuestro modelo con datos que no ha visto\n",
        "\n",
        "linear = linear_model.LinearRegression()   #definimos el modelo a usar, en este caso es regresion linear\n",
        "linear.fit(X_train,y_train)   # entrenamos la data\n",
        "accuracy = linear.score(X_test,y_test)   # y obtendremos el total o promedio de exactitud a la hora de hacer la prediccion\n",
        "print(\" Accuracy: \",int(accuracy*100),\"%\")\n",
        "\n",
        "print('Coefficient: \\n', linear.coef_) # These are each slope value\n",
        "print('Intercept: \\n', linear.intercept_) # This is the intercept"
      ],
      "execution_count": null,
      "outputs": []
    },
    {
      "cell_type": "code",
      "metadata": {
        "id": "1vwUQT0pglGC"
      },
      "source": [
        "predictions = linear.predict(X_test) # Gets a list of all predictions\n",
        "# print(X_test,y_test)\n",
        "for x in range(len(predictions)):     #donde se muestra la prediccion, las caracteristicas de prueba, y las etiquetas o respuestasa verdaderas.\n",
        "    print(predictions[x], X_test[x], y_test[x])"
      ],
      "execution_count": null,
      "outputs": []
    },
    {
      "cell_type": "code",
      "metadata": {
        "id": "ta_jFZYkjxLI"
      },
      "source": [
        "new_data = np.array([y_test,predictions])\n",
        "dataf = pd.DataFrame(new_data,index=[\"G3\",\"G3_new\"])\n",
        "dataf.head()\n"
      ],
      "execution_count": null,
      "outputs": []
    },
    {
      "cell_type": "code",
      "metadata": {
        "id": "WKEmkLJf2PBQ"
      },
      "source": [
        "with open(\"student_grades.pickle\",\"wb\") as f:\n",
        "  pickle.dump(linear,f)\n",
        "\n",
        "pickle_in = open(\"student_grades.pickle\",\"rb\")\n",
        "linear = pickle.load(pickle_in)\n"
      ],
      "execution_count": null,
      "outputs": []
    },
    {
      "cell_type": "code",
      "metadata": {
        "id": "Jsf5q7HJ8mdQ"
      },
      "source": [
        "best = 0.0\n",
        "for _ in range(20):\n",
        "  X_train, X_test, y_train, y_test = sklearn.model_selection.train_test_split(X,y,test_size=0.1)\n",
        "\n",
        "  linear = linear_model.LinearRegression()\n",
        "  linear.fit(X_train,y_train)\n",
        "\n",
        "  accuracy = linear.score(X_test,y_test)\n",
        "  print(\" Accuracy: \",int(accuracy*100),\" % \")\n",
        "\n",
        "  if accuracy > best:\n",
        "    best = accuracy\n",
        "    with open(\"student_grades.pickle\",\"wb\") as f:\n",
        "      pickle.dump(linear,f)\n",
        "\n",
        "print(\"\\n Best Accuracy => \",int(best*100),\" % \")  "
      ],
      "execution_count": null,
      "outputs": []
    },
    {
      "cell_type": "code",
      "metadata": {
        "id": "yJgcZzu_BSPQ"
      },
      "source": [
        "# Drawing and plotting model\n",
        "style.use(\"ggplot\")\n",
        "plot = \"G1\" # Change this to G1, G2, studytime or absences to see other graphs\n",
        "plt.scatter(data[plot], data[\"G3\"],) \n",
        "plt.xlabel(plot)\n",
        "plt.ylabel(\"Final Grade\")\n",
        "plt.show()"
      ],
      "execution_count": null,
      "outputs": []
    },
    {
      "cell_type": "markdown",
      "metadata": {
        "id": "xta5V0ktL7Pa"
      },
      "source": [
        "**************************************************************\n",
        "**************************************************************\n",
        "### **2.Second Theme: K-Nearest Neightbors**\n",
        "**************************************************************\n",
        "**************************************************************\n",
        "Usar k-NN, o el vecino mas cercano, es una buena opcion cuando manejaremos un conjunto de data pequeña, pero a medida que la data cresca o sea muy extensa con millones de datos esto sera muy costoso computacionalmente, ya que en K-NN comprueba la distancia entre los puntos de los datos con cada punto de la data de entrenamiento para hacer la prediccion, y que cada punto de la data de entrenamiento este calculando la distancia con millones de datos hace que el \n",
        "proceso sea muy lento. \n",
        "\n",
        "Otro problema es la carga de datos a la memoria para hacer la prediccion, como son millones de datos subirlos consumira mucho tiempo.\n",
        "\n",
        "![alt text](http://techwithtim.net/wp-content/uploads/2019/01/ml-3.png)\n",
        "\n"
      ]
    },
    {
      "cell_type": "code",
      "metadata": {
        "id": "AsgDZr9JDLJ7",
        "outputId": "528f87d4-9108-4b96-d507-6f5eb47adc73",
        "colab": {
          "resources": {
            "http://localhost:8080/nbextensions/google.colab/files.js": {
              "data": "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",
              "ok": true,
              "headers": [
                [
                  "content-type",
                  "application/javascript"
                ]
              ],
              "status": 200,
              "status_text": ""
            }
          },
          "base_uri": "https://localhost:8080/",
          "height": 109
        }
      },
      "source": [
        "import sklearn\n",
        "from sklearn.utils import shuffle\n",
        "from sklearn.neighbors import KNeighborsClassifier\n",
        "import pandas as pd\n",
        "import numpy as np\n",
        "from sklearn import linear_model, preprocessing\n",
        "\n",
        "from google.colab import files\n",
        "\n",
        "files.upload()\n"
      ],
      "execution_count": null,
      "outputs": [
        {
          "output_type": "display_data",
          "data": {
            "text/html": [
              "\n",
              "     <input type=\"file\" id=\"files-34979610-82f0-400f-a838-3dd2fea9ed95\" name=\"files[]\" multiple disabled\n",
              "        style=\"border:none\" />\n",
              "     <output id=\"result-34979610-82f0-400f-a838-3dd2fea9ed95\">\n",
              "      Upload widget is only available when the cell has been executed in the\n",
              "      current browser session. Please rerun this cell to enable.\n",
              "      </output>\n",
              "      <script src=\"/nbextensions/google.colab/files.js\"></script> "
            ],
            "text/plain": [
              "<IPython.core.display.HTML object>"
            ]
          },
          "metadata": {
            "tags": []
          }
        },
        {
          "output_type": "stream",
          "text": [
            "Saving car.data to car.data\n"
          ],
          "name": "stdout"
        },
        {
          "output_type": "execute_result",
          "data": {
            "text/plain": [
              "{'car.data': b'buying,maint,door,persons,lug_boot,safety,class\\nvhigh,vhigh,2,2,small,low,unacc\\nvhigh,vhigh,2,2,small,med,unacc\\nvhigh,vhigh,2,2,small,high,unacc\\nvhigh,vhigh,2,2,med,low,unacc\\nvhigh,vhigh,2,2,med,med,unacc\\nvhigh,vhigh,2,2,med,high,unacc\\nvhigh,vhigh,2,2,big,low,unacc\\nvhigh,vhigh,2,2,big,med,unacc\\nvhigh,vhigh,2,2,big,high,unacc\\nvhigh,vhigh,2,4,small,low,unacc\\nvhigh,vhigh,2,4,small,med,unacc\\nvhigh,vhigh,2,4,small,high,unacc\\nvhigh,vhigh,2,4,med,low,unacc\\nvhigh,vhigh,2,4,med,med,unacc\\nvhigh,vhigh,2,4,med,high,unacc\\nvhigh,vhigh,2,4,big,low,unacc\\nvhigh,vhigh,2,4,big,med,unacc\\nvhigh,vhigh,2,4,big,high,unacc\\nvhigh,vhigh,2,more,small,low,unacc\\nvhigh,vhigh,2,more,small,med,unacc\\nvhigh,vhigh,2,more,small,high,unacc\\nvhigh,vhigh,2,more,med,low,unacc\\nvhigh,vhigh,2,more,med,med,unacc\\nvhigh,vhigh,2,more,med,high,unacc\\nvhigh,vhigh,2,more,big,low,unacc\\nvhigh,vhigh,2,more,big,med,unacc\\nvhigh,vhigh,2,more,big,high,unacc\\nvhigh,vhigh,3,2,small,low,unacc\\nvhigh,vhigh,3,2,small,med,unacc\\nvhigh,vhigh,3,2,small,high,unacc\\nvhigh,vhigh,3,2,med,low,unacc\\nvhigh,vhigh,3,2,med,med,unacc\\nvhigh,vhigh,3,2,med,high,unacc\\nvhigh,vhigh,3,2,big,low,unacc\\nvhigh,vhigh,3,2,big,med,unacc\\nvhigh,vhigh,3,2,big,high,unacc\\nvhigh,vhigh,3,4,small,low,unacc\\nvhigh,vhigh,3,4,small,med,unacc\\nvhigh,vhigh,3,4,small,high,unacc\\nvhigh,vhigh,3,4,med,low,unacc\\nvhigh,vhigh,3,4,med,med,unacc\\nvhigh,vhigh,3,4,med,high,unacc\\nvhigh,vhigh,3,4,big,low,unacc\\nvhigh,vhigh,3,4,big,med,unacc\\nvhigh,vhigh,3,4,big,high,unacc\\nvhigh,vhigh,3,more,small,low,unacc\\nvhigh,vhigh,3,more,small,med,unacc\\nvhigh,vhigh,3,more,small,high,unacc\\nvhigh,vhigh,3,more,med,low,unacc\\nvhigh,vhigh,3,more,med,med,unacc\\nvhigh,vhigh,3,more,med,high,unacc\\nvhigh,vhigh,3,more,big,low,unacc\\nvhigh,vhigh,3,more,big,med,unacc\\nvhigh,vhigh,3,more,big,high,unacc\\nvhigh,vhigh,4,2,small,low,unacc\\nvhigh,vhigh,4,2,small,med,unacc\\nvhigh,vhigh,4,2,small,high,unacc\\nvhigh,vhigh,4,2,med,low,unacc\\nvhigh,vhigh,4,2,med,med,unacc\\nvhigh,vhigh,4,2,med,high,unacc\\nvhigh,vhigh,4,2,big,low,unacc\\nvhigh,vhigh,4,2,big,med,unacc\\nvhigh,vhigh,4,2,big,high,unacc\\nvhigh,vhigh,4,4,small,low,unacc\\nvhigh,vhigh,4,4,small,med,unacc\\nvhigh,vhigh,4,4,small,high,unacc\\nvhigh,vhigh,4,4,med,low,unacc\\nvhigh,vhigh,4,4,med,med,unacc\\nvhigh,vhigh,4,4,med,high,unacc\\nvhigh,vhigh,4,4,big,low,unacc\\nvhigh,vhigh,4,4,big,med,unacc\\nvhigh,vhigh,4,4,big,high,unacc\\nvhigh,vhigh,4,more,small,low,unacc\\nvhigh,vhigh,4,more,small,med,unacc\\nvhigh,vhigh,4,more,small,high,unacc\\nvhigh,vhigh,4,more,med,low,unacc\\nvhigh,vhigh,4,more,med,med,unacc\\nvhigh,vhigh,4,more,med,high,unacc\\nvhigh,vhigh,4,more,big,low,unacc\\nvhigh,vhigh,4,more,big,med,unacc\\nvhigh,vhigh,4,more,big,high,unacc\\nvhigh,vhigh,5more,2,small,low,unacc\\nvhigh,vhigh,5more,2,small,med,unacc\\nvhigh,vhigh,5more,2,small,high,unacc\\nvhigh,vhigh,5more,2,med,low,unacc\\nvhigh,vhigh,5more,2,med,med,unacc\\nvhigh,vhigh,5more,2,med,high,unacc\\nvhigh,vhigh,5more,2,big,low,unacc\\nvhigh,vhigh,5more,2,big,med,unacc\\nvhigh,vhigh,5more,2,big,high,unacc\\nvhigh,vhigh,5more,4,small,low,unacc\\nvhigh,vhigh,5more,4,small,med,unacc\\nvhigh,vhigh,5more,4,small,high,unacc\\nvhigh,vhigh,5more,4,med,low,unacc\\nvhigh,vhigh,5more,4,med,med,unacc\\nvhigh,vhigh,5more,4,med,high,unacc\\nvhigh,vhigh,5more,4,big,low,unacc\\nvhigh,vhigh,5more,4,big,med,unacc\\nvhigh,vhigh,5more,4,big,high,unacc\\nvhigh,vhigh,5more,more,small,low,unacc\\nvhigh,vhigh,5more,more,small,med,unacc\\nvhigh,vhigh,5more,more,small,high,unacc\\nvhigh,vhigh,5more,more,med,low,unacc\\nvhigh,vhigh,5more,more,med,med,unacc\\nvhigh,vhigh,5more,more,med,high,unacc\\nvhigh,vhigh,5more,more,big,low,unacc\\nvhigh,vhigh,5more,more,big,med,unacc\\nvhigh,vhigh,5more,more,big,high,unacc\\nvhigh,high,2,2,small,low,unacc\\nvhigh,high,2,2,small,med,unacc\\nvhigh,high,2,2,small,high,unacc\\nvhigh,high,2,2,med,low,unacc\\nvhigh,high,2,2,med,med,unacc\\nvhigh,high,2,2,med,high,unacc\\nvhigh,high,2,2,big,low,unacc\\nvhigh,high,2,2,big,med,unacc\\nvhigh,high,2,2,big,high,unacc\\nvhigh,high,2,4,small,low,unacc\\nvhigh,high,2,4,small,med,unacc\\nvhigh,high,2,4,small,high,unacc\\nvhigh,high,2,4,med,low,unacc\\nvhigh,high,2,4,med,med,unacc\\nvhigh,high,2,4,med,high,unacc\\nvhigh,high,2,4,big,low,unacc\\nvhigh,high,2,4,big,med,unacc\\nvhigh,high,2,4,big,high,unacc\\nvhigh,high,2,more,small,low,unacc\\nvhigh,high,2,more,small,med,unacc\\nvhigh,high,2,more,small,high,unacc\\nvhigh,high,2,more,med,low,unacc\\nvhigh,high,2,more,med,med,unacc\\nvhigh,high,2,more,med,high,unacc\\nvhigh,high,2,more,big,low,unacc\\nvhigh,high,2,more,big,med,unacc\\nvhigh,high,2,more,big,high,unacc\\nvhigh,high,3,2,small,low,unacc\\nvhigh,high,3,2,small,med,unacc\\nvhigh,high,3,2,small,high,unacc\\nvhigh,high,3,2,med,low,unacc\\nvhigh,high,3,2,med,med,unacc\\nvhigh,high,3,2,med,high,unacc\\nvhigh,high,3,2,big,low,unacc\\nvhigh,high,3,2,big,med,unacc\\nvhigh,high,3,2,big,high,unacc\\nvhigh,high,3,4,small,low,unacc\\nvhigh,high,3,4,small,med,unacc\\nvhigh,high,3,4,small,high,unacc\\nvhigh,high,3,4,med,low,unacc\\nvhigh,high,3,4,med,med,unacc\\nvhigh,high,3,4,med,high,unacc\\nvhigh,high,3,4,big,low,unacc\\nvhigh,high,3,4,big,med,unacc\\nvhigh,high,3,4,big,high,unacc\\nvhigh,high,3,more,small,low,unacc\\nvhigh,high,3,more,small,med,unacc\\nvhigh,high,3,more,small,high,unacc\\nvhigh,high,3,more,med,low,unacc\\nvhigh,high,3,more,med,med,unacc\\nvhigh,high,3,more,med,high,unacc\\nvhigh,high,3,more,big,low,unacc\\nvhigh,high,3,more,big,med,unacc\\nvhigh,high,3,more,big,high,unacc\\nvhigh,high,4,2,small,low,unacc\\nvhigh,high,4,2,small,med,unacc\\nvhigh,high,4,2,small,high,unacc\\nvhigh,high,4,2,med,low,unacc\\nvhigh,high,4,2,med,med,unacc\\nvhigh,high,4,2,med,high,unacc\\nvhigh,high,4,2,big,low,unacc\\nvhigh,high,4,2,big,med,unacc\\nvhigh,high,4,2,big,high,unacc\\nvhigh,high,4,4,small,low,unacc\\nvhigh,high,4,4,small,med,unacc\\nvhigh,high,4,4,small,high,unacc\\nvhigh,high,4,4,med,low,unacc\\nvhigh,high,4,4,med,med,unacc\\nvhigh,high,4,4,med,high,unacc\\nvhigh,high,4,4,big,low,unacc\\nvhigh,high,4,4,big,med,unacc\\nvhigh,high,4,4,big,high,unacc\\nvhigh,high,4,more,small,low,unacc\\nvhigh,high,4,more,small,med,unacc\\nvhigh,high,4,more,small,high,unacc\\nvhigh,high,4,more,med,low,unacc\\nvhigh,high,4,more,med,med,unacc\\nvhigh,high,4,more,med,high,unacc\\nvhigh,high,4,more,big,low,unacc\\nvhigh,high,4,more,big,med,unacc\\nvhigh,high,4,more,big,high,unacc\\nvhigh,high,5more,2,small,low,unacc\\nvhigh,high,5more,2,small,med,unacc\\nvhigh,high,5more,2,small,high,unacc\\nvhigh,high,5more,2,med,low,unacc\\nvhigh,high,5more,2,med,med,unacc\\nvhigh,high,5more,2,med,high,unacc\\nvhigh,high,5more,2,big,low,unacc\\nvhigh,high,5more,2,big,med,unacc\\nvhigh,high,5more,2,big,high,unacc\\nvhigh,high,5more,4,small,low,unacc\\nvhigh,high,5more,4,small,med,unacc\\nvhigh,high,5more,4,small,high,unacc\\nvhigh,high,5more,4,med,low,unacc\\nvhigh,high,5more,4,med,med,unacc\\nvhigh,high,5more,4,med,high,unacc\\nvhigh,high,5more,4,big,low,unacc\\nvhigh,high,5more,4,big,med,unacc\\nvhigh,high,5more,4,big,high,unacc\\nvhigh,high,5more,more,small,low,unacc\\nvhigh,high,5more,more,small,med,unacc\\nvhigh,high,5more,more,small,high,unacc\\nvhigh,high,5more,more,med,low,unacc\\nvhigh,high,5more,more,med,med,unacc\\nvhigh,high,5more,more,med,high,unacc\\nvhigh,high,5more,more,big,low,unacc\\nvhigh,high,5more,more,big,med,unacc\\nvhigh,high,5more,more,big,high,unacc\\nvhigh,med,2,2,small,low,unacc\\nvhigh,med,2,2,small,med,unacc\\nvhigh,med,2,2,small,high,unacc\\nvhigh,med,2,2,med,low,unacc\\nvhigh,med,2,2,med,med,unacc\\nvhigh,med,2,2,med,high,unacc\\nvhigh,med,2,2,big,low,unacc\\nvhigh,med,2,2,big,med,unacc\\nvhigh,med,2,2,big,high,unacc\\nvhigh,med,2,4,small,low,unacc\\nvhigh,med,2,4,small,med,unacc\\nvhigh,med,2,4,small,high,acc\\nvhigh,med,2,4,med,low,unacc\\nvhigh,med,2,4,med,med,unacc\\nvhigh,med,2,4,med,high,acc\\nvhigh,med,2,4,big,low,unacc\\nvhigh,med,2,4,big,med,acc\\nvhigh,med,2,4,big,high,acc\\nvhigh,med,2,more,small,low,unacc\\nvhigh,med,2,more,small,med,unacc\\nvhigh,med,2,more,small,high,unacc\\nvhigh,med,2,more,med,low,unacc\\nvhigh,med,2,more,med,med,unacc\\nvhigh,med,2,more,med,high,acc\\nvhigh,med,2,more,big,low,unacc\\nvhigh,med,2,more,big,med,acc\\nvhigh,med,2,more,big,high,acc\\nvhigh,med,3,2,small,low,unacc\\nvhigh,med,3,2,small,med,unacc\\nvhigh,med,3,2,small,high,unacc\\nvhigh,med,3,2,med,low,unacc\\nvhigh,med,3,2,med,med,unacc\\nvhigh,med,3,2,med,high,unacc\\nvhigh,med,3,2,big,low,unacc\\nvhigh,med,3,2,big,med,unacc\\nvhigh,med,3,2,big,high,unacc\\nvhigh,med,3,4,small,low,unacc\\nvhigh,med,3,4,small,med,unacc\\nvhigh,med,3,4,small,high,acc\\nvhigh,med,3,4,med,low,unacc\\nvhigh,med,3,4,med,med,unacc\\nvhigh,med,3,4,med,high,acc\\nvhigh,med,3,4,big,low,unacc\\nvhigh,med,3,4,big,med,acc\\nvhigh,med,3,4,big,high,acc\\nvhigh,med,3,more,small,low,unacc\\nvhigh,med,3,more,small,med,unacc\\nvhigh,med,3,more,small,high,acc\\nvhigh,med,3,more,med,low,unacc\\nvhigh,med,3,more,med,med,acc\\nvhigh,med,3,more,med,high,acc\\nvhigh,med,3,more,big,low,unacc\\nvhigh,med,3,more,big,med,acc\\nvhigh,med,3,more,big,high,acc\\nvhigh,med,4,2,small,low,unacc\\nvhigh,med,4,2,small,med,unacc\\nvhigh,med,4,2,small,high,unacc\\nvhigh,med,4,2,med,low,unacc\\nvhigh,med,4,2,med,med,unacc\\nvhigh,med,4,2,med,high,unacc\\nvhigh,med,4,2,big,low,unacc\\nvhigh,med,4,2,big,med,unacc\\nvhigh,med,4,2,big,high,unacc\\nvhigh,med,4,4,small,low,unacc\\nvhigh,med,4,4,small,med,unacc\\nvhigh,med,4,4,small,high,acc\\nvhigh,med,4,4,med,low,unacc\\nvhigh,med,4,4,med,med,acc\\nvhigh,med,4,4,med,high,acc\\nvhigh,med,4,4,big,low,unacc\\nvhigh,med,4,4,big,med,acc\\nvhigh,med,4,4,big,high,acc\\nvhigh,med,4,more,small,low,unacc\\nvhigh,med,4,more,small,med,unacc\\nvhigh,med,4,more,small,high,acc\\nvhigh,med,4,more,med,low,unacc\\nvhigh,med,4,more,med,med,acc\\nvhigh,med,4,more,med,high,acc\\nvhigh,med,4,more,big,low,unacc\\nvhigh,med,4,more,big,med,acc\\nvhigh,med,4,more,big,high,acc\\nvhigh,med,5more,2,small,low,unacc\\nvhigh,med,5more,2,small,med,unacc\\nvhigh,med,5more,2,small,high,unacc\\nvhigh,med,5more,2,med,low,unacc\\nvhigh,med,5more,2,med,med,unacc\\nvhigh,med,5more,2,med,high,unacc\\nvhigh,med,5more,2,big,low,unacc\\nvhigh,med,5more,2,big,med,unacc\\nvhigh,med,5more,2,big,high,unacc\\nvhigh,med,5more,4,small,low,unacc\\nvhigh,med,5more,4,small,med,unacc\\nvhigh,med,5more,4,small,high,acc\\nvhigh,med,5more,4,med,low,unacc\\nvhigh,med,5more,4,med,med,acc\\nvhigh,med,5more,4,med,high,acc\\nvhigh,med,5more,4,big,low,unacc\\nvhigh,med,5more,4,big,med,acc\\nvhigh,med,5more,4,big,high,acc\\nvhigh,med,5more,more,small,low,unacc\\nvhigh,med,5more,more,small,med,unacc\\nvhigh,med,5more,more,small,high,acc\\nvhigh,med,5more,more,med,low,unacc\\nvhigh,med,5more,more,med,med,acc\\nvhigh,med,5more,more,med,high,acc\\nvhigh,med,5more,more,big,low,unacc\\nvhigh,med,5more,more,big,med,acc\\nvhigh,med,5more,more,big,high,acc\\nvhigh,low,2,2,small,low,unacc\\nvhigh,low,2,2,small,med,unacc\\nvhigh,low,2,2,small,high,unacc\\nvhigh,low,2,2,med,low,unacc\\nvhigh,low,2,2,med,med,unacc\\nvhigh,low,2,2,med,high,unacc\\nvhigh,low,2,2,big,low,unacc\\nvhigh,low,2,2,big,med,unacc\\nvhigh,low,2,2,big,high,unacc\\nvhigh,low,2,4,small,low,unacc\\nvhigh,low,2,4,small,med,unacc\\nvhigh,low,2,4,small,high,acc\\nvhigh,low,2,4,med,low,unacc\\nvhigh,low,2,4,med,med,unacc\\nvhigh,low,2,4,med,high,acc\\nvhigh,low,2,4,big,low,unacc\\nvhigh,low,2,4,big,med,acc\\nvhigh,low,2,4,big,high,acc\\nvhigh,low,2,more,small,low,unacc\\nvhigh,low,2,more,small,med,unacc\\nvhigh,low,2,more,small,high,unacc\\nvhigh,low,2,more,med,low,unacc\\nvhigh,low,2,more,med,med,unacc\\nvhigh,low,2,more,med,high,acc\\nvhigh,low,2,more,big,low,unacc\\nvhigh,low,2,more,big,med,acc\\nvhigh,low,2,more,big,high,acc\\nvhigh,low,3,2,small,low,unacc\\nvhigh,low,3,2,small,med,unacc\\nvhigh,low,3,2,small,high,unacc\\nvhigh,low,3,2,med,low,unacc\\nvhigh,low,3,2,med,med,unacc\\nvhigh,low,3,2,med,high,unacc\\nvhigh,low,3,2,big,low,unacc\\nvhigh,low,3,2,big,med,unacc\\nvhigh,low,3,2,big,high,unacc\\nvhigh,low,3,4,small,low,unacc\\nvhigh,low,3,4,small,med,unacc\\nvhigh,low,3,4,small,high,acc\\nvhigh,low,3,4,med,low,unacc\\nvhigh,low,3,4,med,med,unacc\\nvhigh,low,3,4,med,high,acc\\nvhigh,low,3,4,big,low,unacc\\nvhigh,low,3,4,big,med,acc\\nvhigh,low,3,4,big,high,acc\\nvhigh,low,3,more,small,low,unacc\\nvhigh,low,3,more,small,med,unacc\\nvhigh,low,3,more,small,high,acc\\nvhigh,low,3,more,med,low,unacc\\nvhigh,low,3,more,med,med,acc\\nvhigh,low,3,more,med,high,acc\\nvhigh,low,3,more,big,low,unacc\\nvhigh,low,3,more,big,med,acc\\nvhigh,low,3,more,big,high,acc\\nvhigh,low,4,2,small,low,unacc\\nvhigh,low,4,2,small,med,unacc\\nvhigh,low,4,2,small,high,unacc\\nvhigh,low,4,2,med,low,unacc\\nvhigh,low,4,2,med,med,unacc\\nvhigh,low,4,2,med,high,unacc\\nvhigh,low,4,2,big,low,unacc\\nvhigh,low,4,2,big,med,unacc\\nvhigh,low,4,2,big,high,unacc\\nvhigh,low,4,4,small,low,unacc\\nvhigh,low,4,4,small,med,unacc\\nvhigh,low,4,4,small,high,acc\\nvhigh,low,4,4,med,low,unacc\\nvhigh,low,4,4,med,med,acc\\nvhigh,low,4,4,med,high,acc\\nvhigh,low,4,4,big,low,unacc\\nvhigh,low,4,4,big,med,acc\\nvhigh,low,4,4,big,high,acc\\nvhigh,low,4,more,small,low,unacc\\nvhigh,low,4,more,small,med,unacc\\nvhigh,low,4,more,small,high,acc\\nvhigh,low,4,more,med,low,unacc\\nvhigh,low,4,more,med,med,acc\\nvhigh,low,4,more,med,high,acc\\nvhigh,low,4,more,big,low,unacc\\nvhigh,low,4,more,big,med,acc\\nvhigh,low,4,more,big,high,acc\\nvhigh,low,5more,2,small,low,unacc\\nvhigh,low,5more,2,small,med,unacc\\nvhigh,low,5more,2,small,high,unacc\\nvhigh,low,5more,2,med,low,unacc\\nvhigh,low,5more,2,med,med,unacc\\nvhigh,low,5more,2,med,high,unacc\\nvhigh,low,5more,2,big,low,unacc\\nvhigh,low,5more,2,big,med,unacc\\nvhigh,low,5more,2,big,high,unacc\\nvhigh,low,5more,4,small,low,unacc\\nvhigh,low,5more,4,small,med,unacc\\nvhigh,low,5more,4,small,high,acc\\nvhigh,low,5more,4,med,low,unacc\\nvhigh,low,5more,4,med,med,acc\\nvhigh,low,5more,4,med,high,acc\\nvhigh,low,5more,4,big,low,unacc\\nvhigh,low,5more,4,big,med,acc\\nvhigh,low,5more,4,big,high,acc\\nvhigh,low,5more,more,small,low,unacc\\nvhigh,low,5more,more,small,med,unacc\\nvhigh,low,5more,more,small,high,acc\\nvhigh,low,5more,more,med,low,unacc\\nvhigh,low,5more,more,med,med,acc\\nvhigh,low,5more,more,med,high,acc\\nvhigh,low,5more,more,big,low,unacc\\nvhigh,low,5more,more,big,med,acc\\nvhigh,low,5more,more,big,high,acc\\nhigh,vhigh,2,2,small,low,unacc\\nhigh,vhigh,2,2,small,med,unacc\\nhigh,vhigh,2,2,small,high,unacc\\nhigh,vhigh,2,2,med,low,unacc\\nhigh,vhigh,2,2,med,med,unacc\\nhigh,vhigh,2,2,med,high,unacc\\nhigh,vhigh,2,2,big,low,unacc\\nhigh,vhigh,2,2,big,med,unacc\\nhigh,vhigh,2,2,big,high,unacc\\nhigh,vhigh,2,4,small,low,unacc\\nhigh,vhigh,2,4,small,med,unacc\\nhigh,vhigh,2,4,small,high,unacc\\nhigh,vhigh,2,4,med,low,unacc\\nhigh,vhigh,2,4,med,med,unacc\\nhigh,vhigh,2,4,med,high,unacc\\nhigh,vhigh,2,4,big,low,unacc\\nhigh,vhigh,2,4,big,med,unacc\\nhigh,vhigh,2,4,big,high,unacc\\nhigh,vhigh,2,more,small,low,unacc\\nhigh,vhigh,2,more,small,med,unacc\\nhigh,vhigh,2,more,small,high,unacc\\nhigh,vhigh,2,more,med,low,unacc\\nhigh,vhigh,2,more,med,med,unacc\\nhigh,vhigh,2,more,med,high,unacc\\nhigh,vhigh,2,more,big,low,unacc\\nhigh,vhigh,2,more,big,med,unacc\\nhigh,vhigh,2,more,big,high,unacc\\nhigh,vhigh,3,2,small,low,unacc\\nhigh,vhigh,3,2,small,med,unacc\\nhigh,vhigh,3,2,small,high,unacc\\nhigh,vhigh,3,2,med,low,unacc\\nhigh,vhigh,3,2,med,med,unacc\\nhigh,vhigh,3,2,med,high,unacc\\nhigh,vhigh,3,2,big,low,unacc\\nhigh,vhigh,3,2,big,med,unacc\\nhigh,vhigh,3,2,big,high,unacc\\nhigh,vhigh,3,4,small,low,unacc\\nhigh,vhigh,3,4,small,med,unacc\\nhigh,vhigh,3,4,small,high,unacc\\nhigh,vhigh,3,4,med,low,unacc\\nhigh,vhigh,3,4,med,med,unacc\\nhigh,vhigh,3,4,med,high,unacc\\nhigh,vhigh,3,4,big,low,unacc\\nhigh,vhigh,3,4,big,med,unacc\\nhigh,vhigh,3,4,big,high,unacc\\nhigh,vhigh,3,more,small,low,unacc\\nhigh,vhigh,3,more,small,med,unacc\\nhigh,vhigh,3,more,small,high,unacc\\nhigh,vhigh,3,more,med,low,unacc\\nhigh,vhigh,3,more,med,med,unacc\\nhigh,vhigh,3,more,med,high,unacc\\nhigh,vhigh,3,more,big,low,unacc\\nhigh,vhigh,3,more,big,med,unacc\\nhigh,vhigh,3,more,big,high,unacc\\nhigh,vhigh,4,2,small,low,unacc\\nhigh,vhigh,4,2,small,med,unacc\\nhigh,vhigh,4,2,small,high,unacc\\nhigh,vhigh,4,2,med,low,unacc\\nhigh,vhigh,4,2,med,med,unacc\\nhigh,vhigh,4,2,med,high,unacc\\nhigh,vhigh,4,2,big,low,unacc\\nhigh,vhigh,4,2,big,med,unacc\\nhigh,vhigh,4,2,big,high,unacc\\nhigh,vhigh,4,4,small,low,unacc\\nhigh,vhigh,4,4,small,med,unacc\\nhigh,vhigh,4,4,small,high,unacc\\nhigh,vhigh,4,4,med,low,unacc\\nhigh,vhigh,4,4,med,med,unacc\\nhigh,vhigh,4,4,med,high,unacc\\nhigh,vhigh,4,4,big,low,unacc\\nhigh,vhigh,4,4,big,med,unacc\\nhigh,vhigh,4,4,big,high,unacc\\nhigh,vhigh,4,more,small,low,unacc\\nhigh,vhigh,4,more,small,med,unacc\\nhigh,vhigh,4,more,small,high,unacc\\nhigh,vhigh,4,more,med,low,unacc\\nhigh,vhigh,4,more,med,med,unacc\\nhigh,vhigh,4,more,med,high,unacc\\nhigh,vhigh,4,more,big,low,unacc\\nhigh,vhigh,4,more,big,med,unacc\\nhigh,vhigh,4,more,big,high,unacc\\nhigh,vhigh,5more,2,small,low,unacc\\nhigh,vhigh,5more,2,small,med,unacc\\nhigh,vhigh,5more,2,small,high,unacc\\nhigh,vhigh,5more,2,med,low,unacc\\nhigh,vhigh,5more,2,med,med,unacc\\nhigh,vhigh,5more,2,med,high,unacc\\nhigh,vhigh,5more,2,big,low,unacc\\nhigh,vhigh,5more,2,big,med,unacc\\nhigh,vhigh,5more,2,big,high,unacc\\nhigh,vhigh,5more,4,small,low,unacc\\nhigh,vhigh,5more,4,small,med,unacc\\nhigh,vhigh,5more,4,small,high,unacc\\nhigh,vhigh,5more,4,med,low,unacc\\nhigh,vhigh,5more,4,med,med,unacc\\nhigh,vhigh,5more,4,med,high,unacc\\nhigh,vhigh,5more,4,big,low,unacc\\nhigh,vhigh,5more,4,big,med,unacc\\nhigh,vhigh,5more,4,big,high,unacc\\nhigh,vhigh,5more,more,small,low,unacc\\nhigh,vhigh,5more,more,small,med,unacc\\nhigh,vhigh,5more,more,small,high,unacc\\nhigh,vhigh,5more,more,med,low,unacc\\nhigh,vhigh,5more,more,med,med,unacc\\nhigh,vhigh,5more,more,med,high,unacc\\nhigh,vhigh,5more,more,big,low,unacc\\nhigh,vhigh,5more,more,big,med,unacc\\nhigh,vhigh,5more,more,big,high,unacc\\nhigh,high,2,2,small,low,unacc\\nhigh,high,2,2,small,med,unacc\\nhigh,high,2,2,small,high,unacc\\nhigh,high,2,2,med,low,unacc\\nhigh,high,2,2,med,med,unacc\\nhigh,high,2,2,med,high,unacc\\nhigh,high,2,2,big,low,unacc\\nhigh,high,2,2,big,med,unacc\\nhigh,high,2,2,big,high,unacc\\nhigh,high,2,4,small,low,unacc\\nhigh,high,2,4,small,med,unacc\\nhigh,high,2,4,small,high,acc\\nhigh,high,2,4,med,low,unacc\\nhigh,high,2,4,med,med,unacc\\nhigh,high,2,4,med,high,acc\\nhigh,high,2,4,big,low,unacc\\nhigh,high,2,4,big,med,acc\\nhigh,high,2,4,big,high,acc\\nhigh,high,2,more,small,low,unacc\\nhigh,high,2,more,small,med,unacc\\nhigh,high,2,more,small,high,unacc\\nhigh,high,2,more,med,low,unacc\\nhigh,high,2,more,med,med,unacc\\nhigh,high,2,more,med,high,acc\\nhigh,high,2,more,big,low,unacc\\nhigh,high,2,more,big,med,acc\\nhigh,high,2,more,big,high,acc\\nhigh,high,3,2,small,low,unacc\\nhigh,high,3,2,small,med,unacc\\nhigh,high,3,2,small,high,unacc\\nhigh,high,3,2,med,low,unacc\\nhigh,high,3,2,med,med,unacc\\nhigh,high,3,2,med,high,unacc\\nhigh,high,3,2,big,low,unacc\\nhigh,high,3,2,big,med,unacc\\nhigh,high,3,2,big,high,unacc\\nhigh,high,3,4,small,low,unacc\\nhigh,high,3,4,small,med,unacc\\nhigh,high,3,4,small,high,acc\\nhigh,high,3,4,med,low,unacc\\nhigh,high,3,4,med,med,unacc\\nhigh,high,3,4,med,high,acc\\nhigh,high,3,4,big,low,unacc\\nhigh,high,3,4,big,med,acc\\nhigh,high,3,4,big,high,acc\\nhigh,high,3,more,small,low,unacc\\nhigh,high,3,more,small,med,unacc\\nhigh,high,3,more,small,high,acc\\nhigh,high,3,more,med,low,unacc\\nhigh,high,3,more,med,med,acc\\nhigh,high,3,more,med,high,acc\\nhigh,high,3,more,big,low,unacc\\nhigh,high,3,more,big,med,acc\\nhigh,high,3,more,big,high,acc\\nhigh,high,4,2,small,low,unacc\\nhigh,high,4,2,small,med,unacc\\nhigh,high,4,2,small,high,unacc\\nhigh,high,4,2,med,low,unacc\\nhigh,high,4,2,med,med,unacc\\nhigh,high,4,2,med,high,unacc\\nhigh,high,4,2,big,low,unacc\\nhigh,high,4,2,big,med,unacc\\nhigh,high,4,2,big,high,unacc\\nhigh,high,4,4,small,low,unacc\\nhigh,high,4,4,small,med,unacc\\nhigh,high,4,4,small,high,acc\\nhigh,high,4,4,med,low,unacc\\nhigh,high,4,4,med,med,acc\\nhigh,high,4,4,med,high,acc\\nhigh,high,4,4,big,low,unacc\\nhigh,high,4,4,big,med,acc\\nhigh,high,4,4,big,high,acc\\nhigh,high,4,more,small,low,unacc\\nhigh,high,4,more,small,med,unacc\\nhigh,high,4,more,small,high,acc\\nhigh,high,4,more,med,low,unacc\\nhigh,high,4,more,med,med,acc\\nhigh,high,4,more,med,high,acc\\nhigh,high,4,more,big,low,unacc\\nhigh,high,4,more,big,med,acc\\nhigh,high,4,more,big,high,acc\\nhigh,high,5more,2,small,low,unacc\\nhigh,high,5more,2,small,med,unacc\\nhigh,high,5more,2,small,high,unacc\\nhigh,high,5more,2,med,low,unacc\\nhigh,high,5more,2,med,med,unacc\\nhigh,high,5more,2,med,high,unacc\\nhigh,high,5more,2,big,low,unacc\\nhigh,high,5more,2,big,med,unacc\\nhigh,high,5more,2,big,high,unacc\\nhigh,high,5more,4,small,low,unacc\\nhigh,high,5more,4,small,med,unacc\\nhigh,high,5more,4,small,high,acc\\nhigh,high,5more,4,med,low,unacc\\nhigh,high,5more,4,med,med,acc\\nhigh,high,5more,4,med,high,acc\\nhigh,high,5more,4,big,low,unacc\\nhigh,high,5more,4,big,med,acc\\nhigh,high,5more,4,big,high,acc\\nhigh,high,5more,more,small,low,unacc\\nhigh,high,5more,more,small,med,unacc\\nhigh,high,5more,more,small,high,acc\\nhigh,high,5more,more,med,low,unacc\\nhigh,high,5more,more,med,med,acc\\nhigh,high,5more,more,med,high,acc\\nhigh,high,5more,more,big,low,unacc\\nhigh,high,5more,more,big,med,acc\\nhigh,high,5more,more,big,high,acc\\nhigh,med,2,2,small,low,unacc\\nhigh,med,2,2,small,med,unacc\\nhigh,med,2,2,small,high,unacc\\nhigh,med,2,2,med,low,unacc\\nhigh,med,2,2,med,med,unacc\\nhigh,med,2,2,med,high,unacc\\nhigh,med,2,2,big,low,unacc\\nhigh,med,2,2,big,med,unacc\\nhigh,med,2,2,big,high,unacc\\nhigh,med,2,4,small,low,unacc\\nhigh,med,2,4,small,med,unacc\\nhigh,med,2,4,small,high,acc\\nhigh,med,2,4,med,low,unacc\\nhigh,med,2,4,med,med,unacc\\nhigh,med,2,4,med,high,acc\\nhigh,med,2,4,big,low,unacc\\nhigh,med,2,4,big,med,acc\\nhigh,med,2,4,big,high,acc\\nhigh,med,2,more,small,low,unacc\\nhigh,med,2,more,small,med,unacc\\nhigh,med,2,more,small,high,unacc\\nhigh,med,2,more,med,low,unacc\\nhigh,med,2,more,med,med,unacc\\nhigh,med,2,more,med,high,acc\\nhigh,med,2,more,big,low,unacc\\nhigh,med,2,more,big,med,acc\\nhigh,med,2,more,big,high,acc\\nhigh,med,3,2,small,low,unacc\\nhigh,med,3,2,small,med,unacc\\nhigh,med,3,2,small,high,unacc\\nhigh,med,3,2,med,low,unacc\\nhigh,med,3,2,med,med,unacc\\nhigh,med,3,2,med,high,unacc\\nhigh,med,3,2,big,low,unacc\\nhigh,med,3,2,big,med,unacc\\nhigh,med,3,2,big,high,unacc\\nhigh,med,3,4,small,low,unacc\\nhigh,med,3,4,small,med,unacc\\nhigh,med,3,4,small,high,acc\\nhigh,med,3,4,med,low,unacc\\nhigh,med,3,4,med,med,unacc\\nhigh,med,3,4,med,high,acc\\nhigh,med,3,4,big,low,unacc\\nhigh,med,3,4,big,med,acc\\nhigh,med,3,4,big,high,acc\\nhigh,med,3,more,small,low,unacc\\nhigh,med,3,more,small,med,unacc\\nhigh,med,3,more,small,high,acc\\nhigh,med,3,more,med,low,unacc\\nhigh,med,3,more,med,med,acc\\nhigh,med,3,more,med,high,acc\\nhigh,med,3,more,big,low,unacc\\nhigh,med,3,more,big,med,acc\\nhigh,med,3,more,big,high,acc\\nhigh,med,4,2,small,low,unacc\\nhigh,med,4,2,small,med,unacc\\nhigh,med,4,2,small,high,unacc\\nhigh,med,4,2,med,low,unacc\\nhigh,med,4,2,med,med,unacc\\nhigh,med,4,2,med,high,unacc\\nhigh,med,4,2,big,low,unacc\\nhigh,med,4,2,big,med,unacc\\nhigh,med,4,2,big,high,unacc\\nhigh,med,4,4,small,low,unacc\\nhigh,med,4,4,small,med,unacc\\nhigh,med,4,4,small,high,acc\\nhigh,med,4,4,med,low,unacc\\nhigh,med,4,4,med,med,acc\\nhigh,med,4,4,med,high,acc\\nhigh,med,4,4,big,low,unacc\\nhigh,med,4,4,big,med,acc\\nhigh,med,4,4,big,high,acc\\nhigh,med,4,more,small,low,unacc\\nhigh,med,4,more,small,med,unacc\\nhigh,med,4,more,small,high,acc\\nhigh,med,4,more,med,low,unacc\\nhigh,med,4,more,med,med,acc\\nhigh,med,4,more,med,high,acc\\nhigh,med,4,more,big,low,unacc\\nhigh,med,4,more,big,med,acc\\nhigh,med,4,more,big,high,acc\\nhigh,med,5more,2,small,low,unacc\\nhigh,med,5more,2,small,med,unacc\\nhigh,med,5more,2,small,high,unacc\\nhigh,med,5more,2,med,low,unacc\\nhigh,med,5more,2,med,med,unacc\\nhigh,med,5more,2,med,high,unacc\\nhigh,med,5more,2,big,low,unacc\\nhigh,med,5more,2,big,med,unacc\\nhigh,med,5more,2,big,high,unacc\\nhigh,med,5more,4,small,low,unacc\\nhigh,med,5more,4,small,med,unacc\\nhigh,med,5more,4,small,high,acc\\nhigh,med,5more,4,med,low,unacc\\nhigh,med,5more,4,med,med,acc\\nhigh,med,5more,4,med,high,acc\\nhigh,med,5more,4,big,low,unacc\\nhigh,med,5more,4,big,med,acc\\nhigh,med,5more,4,big,high,acc\\nhigh,med,5more,more,small,low,unacc\\nhigh,med,5more,more,small,med,unacc\\nhigh,med,5more,more,small,high,acc\\nhigh,med,5more,more,med,low,unacc\\nhigh,med,5more,more,med,med,acc\\nhigh,med,5more,more,med,high,acc\\nhigh,med,5more,more,big,low,unacc\\nhigh,med,5more,more,big,med,acc\\nhigh,med,5more,more,big,high,acc\\nhigh,low,2,2,small,low,unacc\\nhigh,low,2,2,small,med,unacc\\nhigh,low,2,2,small,high,unacc\\nhigh,low,2,2,med,low,unacc\\nhigh,low,2,2,med,med,unacc\\nhigh,low,2,2,med,high,unacc\\nhigh,low,2,2,big,low,unacc\\nhigh,low,2,2,big,med,unacc\\nhigh,low,2,2,big,high,unacc\\nhigh,low,2,4,small,low,unacc\\nhigh,low,2,4,small,med,unacc\\nhigh,low,2,4,small,high,acc\\nhigh,low,2,4,med,low,unacc\\nhigh,low,2,4,med,med,unacc\\nhigh,low,2,4,med,high,acc\\nhigh,low,2,4,big,low,unacc\\nhigh,low,2,4,big,med,acc\\nhigh,low,2,4,big,high,acc\\nhigh,low,2,more,small,low,unacc\\nhigh,low,2,more,small,med,unacc\\nhigh,low,2,more,small,high,unacc\\nhigh,low,2,more,med,low,unacc\\nhigh,low,2,more,med,med,unacc\\nhigh,low,2,more,med,high,acc\\nhigh,low,2,more,big,low,unacc\\nhigh,low,2,more,big,med,acc\\nhigh,low,2,more,big,high,acc\\nhigh,low,3,2,small,low,unacc\\nhigh,low,3,2,small,med,unacc\\nhigh,low,3,2,small,high,unacc\\nhigh,low,3,2,med,low,unacc\\nhigh,low,3,2,med,med,unacc\\nhigh,low,3,2,med,high,unacc\\nhigh,low,3,2,big,low,unacc\\nhigh,low,3,2,big,med,unacc\\nhigh,low,3,2,big,high,unacc\\nhigh,low,3,4,small,low,unacc\\nhigh,low,3,4,small,med,unacc\\nhigh,low,3,4,small,high,acc\\nhigh,low,3,4,med,low,unacc\\nhigh,low,3,4,med,med,unacc\\nhigh,low,3,4,med,high,acc\\nhigh,low,3,4,big,low,unacc\\nhigh,low,3,4,big,med,acc\\nhigh,low,3,4,big,high,acc\\nhigh,low,3,more,small,low,unacc\\nhigh,low,3,more,small,med,unacc\\nhigh,low,3,more,small,high,acc\\nhigh,low,3,more,med,low,unacc\\nhigh,low,3,more,med,med,acc\\nhigh,low,3,more,med,high,acc\\nhigh,low,3,more,big,low,unacc\\nhigh,low,3,more,big,med,acc\\nhigh,low,3,more,big,high,acc\\nhigh,low,4,2,small,low,unacc\\nhigh,low,4,2,small,med,unacc\\nhigh,low,4,2,small,high,unacc\\nhigh,low,4,2,med,low,unacc\\nhigh,low,4,2,med,med,unacc\\nhigh,low,4,2,med,high,unacc\\nhigh,low,4,2,big,low,unacc\\nhigh,low,4,2,big,med,unacc\\nhigh,low,4,2,big,high,unacc\\nhigh,low,4,4,small,low,unacc\\nhigh,low,4,4,small,med,unacc\\nhigh,low,4,4,small,high,acc\\nhigh,low,4,4,med,low,unacc\\nhigh,low,4,4,med,med,acc\\nhigh,low,4,4,med,high,acc\\nhigh,low,4,4,big,low,unacc\\nhigh,low,4,4,big,med,acc\\nhigh,low,4,4,big,high,acc\\nhigh,low,4,more,small,low,unacc\\nhigh,low,4,more,small,med,unacc\\nhigh,low,4,more,small,high,acc\\nhigh,low,4,more,med,low,unacc\\nhigh,low,4,more,med,med,acc\\nhigh,low,4,more,med,high,acc\\nhigh,low,4,more,big,low,unacc\\nhigh,low,4,more,big,med,acc\\nhigh,low,4,more,big,high,acc\\nhigh,low,5more,2,small,low,unacc\\nhigh,low,5more,2,small,med,unacc\\nhigh,low,5more,2,small,high,unacc\\nhigh,low,5more,2,med,low,unacc\\nhigh,low,5more,2,med,med,unacc\\nhigh,low,5more,2,med,high,unacc\\nhigh,low,5more,2,big,low,unacc\\nhigh,low,5more,2,big,med,unacc\\nhigh,low,5more,2,big,high,unacc\\nhigh,low,5more,4,small,low,unacc\\nhigh,low,5more,4,small,med,unacc\\nhigh,low,5more,4,small,high,acc\\nhigh,low,5more,4,med,low,unacc\\nhigh,low,5more,4,med,med,acc\\nhigh,low,5more,4,med,high,acc\\nhigh,low,5more,4,big,low,unacc\\nhigh,low,5more,4,big,med,acc\\nhigh,low,5more,4,big,high,acc\\nhigh,low,5more,more,small,low,unacc\\nhigh,low,5more,more,small,med,unacc\\nhigh,low,5more,more,small,high,acc\\nhigh,low,5more,more,med,low,unacc\\nhigh,low,5more,more,med,med,acc\\nhigh,low,5more,more,med,high,acc\\nhigh,low,5more,more,big,low,unacc\\nhigh,low,5more,more,big,med,acc\\nhigh,low,5more,more,big,high,acc\\nmed,vhigh,2,2,small,low,unacc\\nmed,vhigh,2,2,small,med,unacc\\nmed,vhigh,2,2,small,high,unacc\\nmed,vhigh,2,2,med,low,unacc\\nmed,vhigh,2,2,med,med,unacc\\nmed,vhigh,2,2,med,high,unacc\\nmed,vhigh,2,2,big,low,unacc\\nmed,vhigh,2,2,big,med,unacc\\nmed,vhigh,2,2,big,high,unacc\\nmed,vhigh,2,4,small,low,unacc\\nmed,vhigh,2,4,small,med,unacc\\nmed,vhigh,2,4,small,high,acc\\nmed,vhigh,2,4,med,low,unacc\\nmed,vhigh,2,4,med,med,unacc\\nmed,vhigh,2,4,med,high,acc\\nmed,vhigh,2,4,big,low,unacc\\nmed,vhigh,2,4,big,med,acc\\nmed,vhigh,2,4,big,high,acc\\nmed,vhigh,2,more,small,low,unacc\\nmed,vhigh,2,more,small,med,unacc\\nmed,vhigh,2,more,small,high,unacc\\nmed,vhigh,2,more,med,low,unacc\\nmed,vhigh,2,more,med,med,unacc\\nmed,vhigh,2,more,med,high,acc\\nmed,vhigh,2,more,big,low,unacc\\nmed,vhigh,2,more,big,med,acc\\nmed,vhigh,2,more,big,high,acc\\nmed,vhigh,3,2,small,low,unacc\\nmed,vhigh,3,2,small,med,unacc\\nmed,vhigh,3,2,small,high,unacc\\nmed,vhigh,3,2,med,low,unacc\\nmed,vhigh,3,2,med,med,unacc\\nmed,vhigh,3,2,med,high,unacc\\nmed,vhigh,3,2,big,low,unacc\\nmed,vhigh,3,2,big,med,unacc\\nmed,vhigh,3,2,big,high,unacc\\nmed,vhigh,3,4,small,low,unacc\\nmed,vhigh,3,4,small,med,unacc\\nmed,vhigh,3,4,small,high,acc\\nmed,vhigh,3,4,med,low,unacc\\nmed,vhigh,3,4,med,med,unacc\\nmed,vhigh,3,4,med,high,acc\\nmed,vhigh,3,4,big,low,unacc\\nmed,vhigh,3,4,big,med,acc\\nmed,vhigh,3,4,big,high,acc\\nmed,vhigh,3,more,small,low,unacc\\nmed,vhigh,3,more,small,med,unacc\\nmed,vhigh,3,more,small,high,acc\\nmed,vhigh,3,more,med,low,unacc\\nmed,vhigh,3,more,med,med,acc\\nmed,vhigh,3,more,med,high,acc\\nmed,vhigh,3,more,big,low,unacc\\nmed,vhigh,3,more,big,med,acc\\nmed,vhigh,3,more,big,high,acc\\nmed,vhigh,4,2,small,low,unacc\\nmed,vhigh,4,2,small,med,unacc\\nmed,vhigh,4,2,small,high,unacc\\nmed,vhigh,4,2,med,low,unacc\\nmed,vhigh,4,2,med,med,unacc\\nmed,vhigh,4,2,med,high,unacc\\nmed,vhigh,4,2,big,low,unacc\\nmed,vhigh,4,2,big,med,unacc\\nmed,vhigh,4,2,big,high,unacc\\nmed,vhigh,4,4,small,low,unacc\\nmed,vhigh,4,4,small,med,unacc\\nmed,vhigh,4,4,small,high,acc\\nmed,vhigh,4,4,med,low,unacc\\nmed,vhigh,4,4,med,med,acc\\nmed,vhigh,4,4,med,high,acc\\nmed,vhigh,4,4,big,low,unacc\\nmed,vhigh,4,4,big,med,acc\\nmed,vhigh,4,4,big,high,acc\\nmed,vhigh,4,more,small,low,unacc\\nmed,vhigh,4,more,small,med,unacc\\nmed,vhigh,4,more,small,high,acc\\nmed,vhigh,4,more,med,low,unacc\\nmed,vhigh,4,more,med,med,acc\\nmed,vhigh,4,more,med,high,acc\\nmed,vhigh,4,more,big,low,unacc\\nmed,vhigh,4,more,big,med,acc\\nmed,vhigh,4,more,big,high,acc\\nmed,vhigh,5more,2,small,low,unacc\\nmed,vhigh,5more,2,small,med,unacc\\nmed,vhigh,5more,2,small,high,unacc\\nmed,vhigh,5more,2,med,low,unacc\\nmed,vhigh,5more,2,med,med,unacc\\nmed,vhigh,5more,2,med,high,unacc\\nmed,vhigh,5more,2,big,low,unacc\\nmed,vhigh,5more,2,big,med,unacc\\nmed,vhigh,5more,2,big,high,unacc\\nmed,vhigh,5more,4,small,low,unacc\\nmed,vhigh,5more,4,small,med,unacc\\nmed,vhigh,5more,4,small,high,acc\\nmed,vhigh,5more,4,med,low,unacc\\nmed,vhigh,5more,4,med,med,acc\\nmed,vhigh,5more,4,med,high,acc\\nmed,vhigh,5more,4,big,low,unacc\\nmed,vhigh,5more,4,big,med,acc\\nmed,vhigh,5more,4,big,high,acc\\nmed,vhigh,5more,more,small,low,unacc\\nmed,vhigh,5more,more,small,med,unacc\\nmed,vhigh,5more,more,small,high,acc\\nmed,vhigh,5more,more,med,low,unacc\\nmed,vhigh,5more,more,med,med,acc\\nmed,vhigh,5more,more,med,high,acc\\nmed,vhigh,5more,more,big,low,unacc\\nmed,vhigh,5more,more,big,med,acc\\nmed,vhigh,5more,more,big,high,acc\\nmed,high,2,2,small,low,unacc\\nmed,high,2,2,small,med,unacc\\nmed,high,2,2,small,high,unacc\\nmed,high,2,2,med,low,unacc\\nmed,high,2,2,med,med,unacc\\nmed,high,2,2,med,high,unacc\\nmed,high,2,2,big,low,unacc\\nmed,high,2,2,big,med,unacc\\nmed,high,2,2,big,high,unacc\\nmed,high,2,4,small,low,unacc\\nmed,high,2,4,small,med,unacc\\nmed,high,2,4,small,high,acc\\nmed,high,2,4,med,low,unacc\\nmed,high,2,4,med,med,unacc\\nmed,high,2,4,med,high,acc\\nmed,high,2,4,big,low,unacc\\nmed,high,2,4,big,med,acc\\nmed,high,2,4,big,high,acc\\nmed,high,2,more,small,low,unacc\\nmed,high,2,more,small,med,unacc\\nmed,high,2,more,small,high,unacc\\nmed,high,2,more,med,low,unacc\\nmed,high,2,more,med,med,unacc\\nmed,high,2,more,med,high,acc\\nmed,high,2,more,big,low,unacc\\nmed,high,2,more,big,med,acc\\nmed,high,2,more,big,high,acc\\nmed,high,3,2,small,low,unacc\\nmed,high,3,2,small,med,unacc\\nmed,high,3,2,small,high,unacc\\nmed,high,3,2,med,low,unacc\\nmed,high,3,2,med,med,unacc\\nmed,high,3,2,med,high,unacc\\nmed,high,3,2,big,low,unacc\\nmed,high,3,2,big,med,unacc\\nmed,high,3,2,big,high,unacc\\nmed,high,3,4,small,low,unacc\\nmed,high,3,4,small,med,unacc\\nmed,high,3,4,small,high,acc\\nmed,high,3,4,med,low,unacc\\nmed,high,3,4,med,med,unacc\\nmed,high,3,4,med,high,acc\\nmed,high,3,4,big,low,unacc\\nmed,high,3,4,big,med,acc\\nmed,high,3,4,big,high,acc\\nmed,high,3,more,small,low,unacc\\nmed,high,3,more,small,med,unacc\\nmed,high,3,more,small,high,acc\\nmed,high,3,more,med,low,unacc\\nmed,high,3,more,med,med,acc\\nmed,high,3,more,med,high,acc\\nmed,high,3,more,big,low,unacc\\nmed,high,3,more,big,med,acc\\nmed,high,3,more,big,high,acc\\nmed,high,4,2,small,low,unacc\\nmed,high,4,2,small,med,unacc\\nmed,high,4,2,small,high,unacc\\nmed,high,4,2,med,low,unacc\\nmed,high,4,2,med,med,unacc\\nmed,high,4,2,med,high,unacc\\nmed,high,4,2,big,low,unacc\\nmed,high,4,2,big,med,unacc\\nmed,high,4,2,big,high,unacc\\nmed,high,4,4,small,low,unacc\\nmed,high,4,4,small,med,unacc\\nmed,high,4,4,small,high,acc\\nmed,high,4,4,med,low,unacc\\nmed,high,4,4,med,med,acc\\nmed,high,4,4,med,high,acc\\nmed,high,4,4,big,low,unacc\\nmed,high,4,4,big,med,acc\\nmed,high,4,4,big,high,acc\\nmed,high,4,more,small,low,unacc\\nmed,high,4,more,small,med,unacc\\nmed,high,4,more,small,high,acc\\nmed,high,4,more,med,low,unacc\\nmed,high,4,more,med,med,acc\\nmed,high,4,more,med,high,acc\\nmed,high,4,more,big,low,unacc\\nmed,high,4,more,big,med,acc\\nmed,high,4,more,big,high,acc\\nmed,high,5more,2,small,low,unacc\\nmed,high,5more,2,small,med,unacc\\nmed,high,5more,2,small,high,unacc\\nmed,high,5more,2,med,low,unacc\\nmed,high,5more,2,med,med,unacc\\nmed,high,5more,2,med,high,unacc\\nmed,high,5more,2,big,low,unacc\\nmed,high,5more,2,big,med,unacc\\nmed,high,5more,2,big,high,unacc\\nmed,high,5more,4,small,low,unacc\\nmed,high,5more,4,small,med,unacc\\nmed,high,5more,4,small,high,acc\\nmed,high,5more,4,med,low,unacc\\nmed,high,5more,4,med,med,acc\\nmed,high,5more,4,med,high,acc\\nmed,high,5more,4,big,low,unacc\\nmed,high,5more,4,big,med,acc\\nmed,high,5more,4,big,high,acc\\nmed,high,5more,more,small,low,unacc\\nmed,high,5more,more,small,med,unacc\\nmed,high,5more,more,small,high,acc\\nmed,high,5more,more,med,low,unacc\\nmed,high,5more,more,med,med,acc\\nmed,high,5more,more,med,high,acc\\nmed,high,5more,more,big,low,unacc\\nmed,high,5more,more,big,med,acc\\nmed,high,5more,more,big,high,acc\\nmed,med,2,2,small,low,unacc\\nmed,med,2,2,small,med,unacc\\nmed,med,2,2,small,high,unacc\\nmed,med,2,2,med,low,unacc\\nmed,med,2,2,med,med,unacc\\nmed,med,2,2,med,high,unacc\\nmed,med,2,2,big,low,unacc\\nmed,med,2,2,big,med,unacc\\nmed,med,2,2,big,high,unacc\\nmed,med,2,4,small,low,unacc\\nmed,med,2,4,small,med,acc\\nmed,med,2,4,small,high,acc\\nmed,med,2,4,med,low,unacc\\nmed,med,2,4,med,med,acc\\nmed,med,2,4,med,high,acc\\nmed,med,2,4,big,low,unacc\\nmed,med,2,4,big,med,acc\\nmed,med,2,4,big,high,vgood\\nmed,med,2,more,small,low,unacc\\nmed,med,2,more,small,med,unacc\\nmed,med,2,more,small,high,unacc\\nmed,med,2,more,med,low,unacc\\nmed,med,2,more,med,med,acc\\nmed,med,2,more,med,high,acc\\nmed,med,2,more,big,low,unacc\\nmed,med,2,more,big,med,acc\\nmed,med,2,more,big,high,vgood\\nmed,med,3,2,small,low,unacc\\nmed,med,3,2,small,med,unacc\\nmed,med,3,2,small,high,unacc\\nmed,med,3,2,med,low,unacc\\nmed,med,3,2,med,med,unacc\\nmed,med,3,2,med,high,unacc\\nmed,med,3,2,big,low,unacc\\nmed,med,3,2,big,med,unacc\\nmed,med,3,2,big,high,unacc\\nmed,med,3,4,small,low,unacc\\nmed,med,3,4,small,med,acc\\nmed,med,3,4,small,high,acc\\nmed,med,3,4,med,low,unacc\\nmed,med,3,4,med,med,acc\\nmed,med,3,4,med,high,acc\\nmed,med,3,4,big,low,unacc\\nmed,med,3,4,big,med,acc\\nmed,med,3,4,big,high,vgood\\nmed,med,3,more,small,low,unacc\\nmed,med,3,more,small,med,acc\\nmed,med,3,more,small,high,acc\\nmed,med,3,more,med,low,unacc\\nmed,med,3,more,med,med,acc\\nmed,med,3,more,med,high,vgood\\nmed,med,3,more,big,low,unacc\\nmed,med,3,more,big,med,acc\\nmed,med,3,more,big,high,vgood\\nmed,med,4,2,small,low,unacc\\nmed,med,4,2,small,med,unacc\\nmed,med,4,2,small,high,unacc\\nmed,med,4,2,med,low,unacc\\nmed,med,4,2,med,med,unacc\\nmed,med,4,2,med,high,unacc\\nmed,med,4,2,big,low,unacc\\nmed,med,4,2,big,med,unacc\\nmed,med,4,2,big,high,unacc\\nmed,med,4,4,small,low,unacc\\nmed,med,4,4,small,med,acc\\nmed,med,4,4,small,high,acc\\nmed,med,4,4,med,low,unacc\\nmed,med,4,4,med,med,acc\\nmed,med,4,4,med,high,vgood\\nmed,med,4,4,big,low,unacc\\nmed,med,4,4,big,med,acc\\nmed,med,4,4,big,high,vgood\\nmed,med,4,more,small,low,unacc\\nmed,med,4,more,small,med,acc\\nmed,med,4,more,small,high,acc\\nmed,med,4,more,med,low,unacc\\nmed,med,4,more,med,med,acc\\nmed,med,4,more,med,high,vgood\\nmed,med,4,more,big,low,unacc\\nmed,med,4,more,big,med,acc\\nmed,med,4,more,big,high,vgood\\nmed,med,5more,2,small,low,unacc\\nmed,med,5more,2,small,med,unacc\\nmed,med,5more,2,small,high,unacc\\nmed,med,5more,2,med,low,unacc\\nmed,med,5more,2,med,med,unacc\\nmed,med,5more,2,med,high,unacc\\nmed,med,5more,2,big,low,unacc\\nmed,med,5more,2,big,med,unacc\\nmed,med,5more,2,big,high,unacc\\nmed,med,5more,4,small,low,unacc\\nmed,med,5more,4,small,med,acc\\nmed,med,5more,4,small,high,acc\\nmed,med,5more,4,med,low,unacc\\nmed,med,5more,4,med,med,acc\\nmed,med,5more,4,med,high,vgood\\nmed,med,5more,4,big,low,unacc\\nmed,med,5more,4,big,med,acc\\nmed,med,5more,4,big,high,vgood\\nmed,med,5more,more,small,low,unacc\\nmed,med,5more,more,small,med,acc\\nmed,med,5more,more,small,high,acc\\nmed,med,5more,more,med,low,unacc\\nmed,med,5more,more,med,med,acc\\nmed,med,5more,more,med,high,vgood\\nmed,med,5more,more,big,low,unacc\\nmed,med,5more,more,big,med,acc\\nmed,med,5more,more,big,high,vgood\\nmed,low,2,2,small,low,unacc\\nmed,low,2,2,small,med,unacc\\nmed,low,2,2,small,high,unacc\\nmed,low,2,2,med,low,unacc\\nmed,low,2,2,med,med,unacc\\nmed,low,2,2,med,high,unacc\\nmed,low,2,2,big,low,unacc\\nmed,low,2,2,big,med,unacc\\nmed,low,2,2,big,high,unacc\\nmed,low,2,4,small,low,unacc\\nmed,low,2,4,small,med,acc\\nmed,low,2,4,small,high,good\\nmed,low,2,4,med,low,unacc\\nmed,low,2,4,med,med,acc\\nmed,low,2,4,med,high,good\\nmed,low,2,4,big,low,unacc\\nmed,low,2,4,big,med,good\\nmed,low,2,4,big,high,vgood\\nmed,low,2,more,small,low,unacc\\nmed,low,2,more,small,med,unacc\\nmed,low,2,more,small,high,unacc\\nmed,low,2,more,med,low,unacc\\nmed,low,2,more,med,med,acc\\nmed,low,2,more,med,high,good\\nmed,low,2,more,big,low,unacc\\nmed,low,2,more,big,med,good\\nmed,low,2,more,big,high,vgood\\nmed,low,3,2,small,low,unacc\\nmed,low,3,2,small,med,unacc\\nmed,low,3,2,small,high,unacc\\nmed,low,3,2,med,low,unacc\\nmed,low,3,2,med,med,unacc\\nmed,low,3,2,med,high,unacc\\nmed,low,3,2,big,low,unacc\\nmed,low,3,2,big,med,unacc\\nmed,low,3,2,big,high,unacc\\nmed,low,3,4,small,low,unacc\\nmed,low,3,4,small,med,acc\\nmed,low,3,4,small,high,good\\nmed,low,3,4,med,low,unacc\\nmed,low,3,4,med,med,acc\\nmed,low,3,4,med,high,good\\nmed,low,3,4,big,low,unacc\\nmed,low,3,4,big,med,good\\nmed,low,3,4,big,high,vgood\\nmed,low,3,more,small,low,unacc\\nmed,low,3,more,small,med,acc\\nmed,low,3,more,small,high,good\\nmed,low,3,more,med,low,unacc\\nmed,low,3,more,med,med,good\\nmed,low,3,more,med,high,vgood\\nmed,low,3,more,big,low,unacc\\nmed,low,3,more,big,med,good\\nmed,low,3,more,big,high,vgood\\nmed,low,4,2,small,low,unacc\\nmed,low,4,2,small,med,unacc\\nmed,low,4,2,small,high,unacc\\nmed,low,4,2,med,low,unacc\\nmed,low,4,2,med,med,unacc\\nmed,low,4,2,med,high,unacc\\nmed,low,4,2,big,low,unacc\\nmed,low,4,2,big,med,unacc\\nmed,low,4,2,big,high,unacc\\nmed,low,4,4,small,low,unacc\\nmed,low,4,4,small,med,acc\\nmed,low,4,4,small,high,good\\nmed,low,4,4,med,low,unacc\\nmed,low,4,4,med,med,good\\nmed,low,4,4,med,high,vgood\\nmed,low,4,4,big,low,unacc\\nmed,low,4,4,big,med,good\\nmed,low,4,4,big,high,vgood\\nmed,low,4,more,small,low,unacc\\nmed,low,4,more,small,med,acc\\nmed,low,4,more,small,high,good\\nmed,low,4,more,med,low,unacc\\nmed,low,4,more,med,med,good\\nmed,low,4,more,med,high,vgood\\nmed,low,4,more,big,low,unacc\\nmed,low,4,more,big,med,good\\nmed,low,4,more,big,high,vgood\\nmed,low,5more,2,small,low,unacc\\nmed,low,5more,2,small,med,unacc\\nmed,low,5more,2,small,high,unacc\\nmed,low,5more,2,med,low,unacc\\nmed,low,5more,2,med,med,unacc\\nmed,low,5more,2,med,high,unacc\\nmed,low,5more,2,big,low,unacc\\nmed,low,5more,2,big,med,unacc\\nmed,low,5more,2,big,high,unacc\\nmed,low,5more,4,small,low,unacc\\nmed,low,5more,4,small,med,acc\\nmed,low,5more,4,small,high,good\\nmed,low,5more,4,med,low,unacc\\nmed,low,5more,4,med,med,good\\nmed,low,5more,4,med,high,vgood\\nmed,low,5more,4,big,low,unacc\\nmed,low,5more,4,big,med,good\\nmed,low,5more,4,big,high,vgood\\nmed,low,5more,more,small,low,unacc\\nmed,low,5more,more,small,med,acc\\nmed,low,5more,more,small,high,good\\nmed,low,5more,more,med,low,unacc\\nmed,low,5more,more,med,med,good\\nmed,low,5more,more,med,high,vgood\\nmed,low,5more,more,big,low,unacc\\nmed,low,5more,more,big,med,good\\nmed,low,5more,more,big,high,vgood\\nlow,vhigh,2,2,small,low,unacc\\nlow,vhigh,2,2,small,med,unacc\\nlow,vhigh,2,2,small,high,unacc\\nlow,vhigh,2,2,med,low,unacc\\nlow,vhigh,2,2,med,med,unacc\\nlow,vhigh,2,2,med,high,unacc\\nlow,vhigh,2,2,big,low,unacc\\nlow,vhigh,2,2,big,med,unacc\\nlow,vhigh,2,2,big,high,unacc\\nlow,vhigh,2,4,small,low,unacc\\nlow,vhigh,2,4,small,med,unacc\\nlow,vhigh,2,4,small,high,acc\\nlow,vhigh,2,4,med,low,unacc\\nlow,vhigh,2,4,med,med,unacc\\nlow,vhigh,2,4,med,high,acc\\nlow,vhigh,2,4,big,low,unacc\\nlow,vhigh,2,4,big,med,acc\\nlow,vhigh,2,4,big,high,acc\\nlow,vhigh,2,more,small,low,unacc\\nlow,vhigh,2,more,small,med,unacc\\nlow,vhigh,2,more,small,high,unacc\\nlow,vhigh,2,more,med,low,unacc\\nlow,vhigh,2,more,med,med,unacc\\nlow,vhigh,2,more,med,high,acc\\nlow,vhigh,2,more,big,low,unacc\\nlow,vhigh,2,more,big,med,acc\\nlow,vhigh,2,more,big,high,acc\\nlow,vhigh,3,2,small,low,unacc\\nlow,vhigh,3,2,small,med,unacc\\nlow,vhigh,3,2,small,high,unacc\\nlow,vhigh,3,2,med,low,unacc\\nlow,vhigh,3,2,med,med,unacc\\nlow,vhigh,3,2,med,high,unacc\\nlow,vhigh,3,2,big,low,unacc\\nlow,vhigh,3,2,big,med,unacc\\nlow,vhigh,3,2,big,high,unacc\\nlow,vhigh,3,4,small,low,unacc\\nlow,vhigh,3,4,small,med,unacc\\nlow,vhigh,3,4,small,high,acc\\nlow,vhigh,3,4,med,low,unacc\\nlow,vhigh,3,4,med,med,unacc\\nlow,vhigh,3,4,med,high,acc\\nlow,vhigh,3,4,big,low,unacc\\nlow,vhigh,3,4,big,med,acc\\nlow,vhigh,3,4,big,high,acc\\nlow,vhigh,3,more,small,low,unacc\\nlow,vhigh,3,more,small,med,unacc\\nlow,vhigh,3,more,small,high,acc\\nlow,vhigh,3,more,med,low,unacc\\nlow,vhigh,3,more,med,med,acc\\nlow,vhigh,3,more,med,high,acc\\nlow,vhigh,3,more,big,low,unacc\\nlow,vhigh,3,more,big,med,acc\\nlow,vhigh,3,more,big,high,acc\\nlow,vhigh,4,2,small,low,unacc\\nlow,vhigh,4,2,small,med,unacc\\nlow,vhigh,4,2,small,high,unacc\\nlow,vhigh,4,2,med,low,unacc\\nlow,vhigh,4,2,med,med,unacc\\nlow,vhigh,4,2,med,high,unacc\\nlow,vhigh,4,2,big,low,unacc\\nlow,vhigh,4,2,big,med,unacc\\nlow,vhigh,4,2,big,high,unacc\\nlow,vhigh,4,4,small,low,unacc\\nlow,vhigh,4,4,small,med,unacc\\nlow,vhigh,4,4,small,high,acc\\nlow,vhigh,4,4,med,low,unacc\\nlow,vhigh,4,4,med,med,acc\\nlow,vhigh,4,4,med,high,acc\\nlow,vhigh,4,4,big,low,unacc\\nlow,vhigh,4,4,big,med,acc\\nlow,vhigh,4,4,big,high,acc\\nlow,vhigh,4,more,small,low,unacc\\nlow,vhigh,4,more,small,med,unacc\\nlow,vhigh,4,more,small,high,acc\\nlow,vhigh,4,more,med,low,unacc\\nlow,vhigh,4,more,med,med,acc\\nlow,vhigh,4,more,med,high,acc\\nlow,vhigh,4,more,big,low,unacc\\nlow,vhigh,4,more,big,med,acc\\nlow,vhigh,4,more,big,high,acc\\nlow,vhigh,5more,2,small,low,unacc\\nlow,vhigh,5more,2,small,med,unacc\\nlow,vhigh,5more,2,small,high,unacc\\nlow,vhigh,5more,2,med,low,unacc\\nlow,vhigh,5more,2,med,med,unacc\\nlow,vhigh,5more,2,med,high,unacc\\nlow,vhigh,5more,2,big,low,unacc\\nlow,vhigh,5more,2,big,med,unacc\\nlow,vhigh,5more,2,big,high,unacc\\nlow,vhigh,5more,4,small,low,unacc\\nlow,vhigh,5more,4,small,med,unacc\\nlow,vhigh,5more,4,small,high,acc\\nlow,vhigh,5more,4,med,low,unacc\\nlow,vhigh,5more,4,med,med,acc\\nlow,vhigh,5more,4,med,high,acc\\nlow,vhigh,5more,4,big,low,unacc\\nlow,vhigh,5more,4,big,med,acc\\nlow,vhigh,5more,4,big,high,acc\\nlow,vhigh,5more,more,small,low,unacc\\nlow,vhigh,5more,more,small,med,unacc\\nlow,vhigh,5more,more,small,high,acc\\nlow,vhigh,5more,more,med,low,unacc\\nlow,vhigh,5more,more,med,med,acc\\nlow,vhigh,5more,more,med,high,acc\\nlow,vhigh,5more,more,big,low,unacc\\nlow,vhigh,5more,more,big,med,acc\\nlow,vhigh,5more,more,big,high,acc\\nlow,high,2,2,small,low,unacc\\nlow,high,2,2,small,med,unacc\\nlow,high,2,2,small,high,unacc\\nlow,high,2,2,med,low,unacc\\nlow,high,2,2,med,med,unacc\\nlow,high,2,2,med,high,unacc\\nlow,high,2,2,big,low,unacc\\nlow,high,2,2,big,med,unacc\\nlow,high,2,2,big,high,unacc\\nlow,high,2,4,small,low,unacc\\nlow,high,2,4,small,med,acc\\nlow,high,2,4,small,high,acc\\nlow,high,2,4,med,low,unacc\\nlow,high,2,4,med,med,acc\\nlow,high,2,4,med,high,acc\\nlow,high,2,4,big,low,unacc\\nlow,high,2,4,big,med,acc\\nlow,high,2,4,big,high,vgood\\nlow,high,2,more,small,low,unacc\\nlow,high,2,more,small,med,unacc\\nlow,high,2,more,small,high,unacc\\nlow,high,2,more,med,low,unacc\\nlow,high,2,more,med,med,acc\\nlow,high,2,more,med,high,acc\\nlow,high,2,more,big,low,unacc\\nlow,high,2,more,big,med,acc\\nlow,high,2,more,big,high,vgood\\nlow,high,3,2,small,low,unacc\\nlow,high,3,2,small,med,unacc\\nlow,high,3,2,small,high,unacc\\nlow,high,3,2,med,low,unacc\\nlow,high,3,2,med,med,unacc\\nlow,high,3,2,med,high,unacc\\nlow,high,3,2,big,low,unacc\\nlow,high,3,2,big,med,unacc\\nlow,high,3,2,big,high,unacc\\nlow,high,3,4,small,low,unacc\\nlow,high,3,4,small,med,acc\\nlow,high,3,4,small,high,acc\\nlow,high,3,4,med,low,unacc\\nlow,high,3,4,med,med,acc\\nlow,high,3,4,med,high,acc\\nlow,high,3,4,big,low,unacc\\nlow,high,3,4,big,med,acc\\nlow,high,3,4,big,high,vgood\\nlow,high,3,more,small,low,unacc\\nlow,high,3,more,small,med,acc\\nlow,high,3,more,small,high,acc\\nlow,high,3,more,med,low,unacc\\nlow,high,3,more,med,med,acc\\nlow,high,3,more,med,high,vgood\\nlow,high,3,more,big,low,unacc\\nlow,high,3,more,big,med,acc\\nlow,high,3,more,big,high,vgood\\nlow,high,4,2,small,low,unacc\\nlow,high,4,2,small,med,unacc\\nlow,high,4,2,small,high,unacc\\nlow,high,4,2,med,low,unacc\\nlow,high,4,2,med,med,unacc\\nlow,high,4,2,med,high,unacc\\nlow,high,4,2,big,low,unacc\\nlow,high,4,2,big,med,unacc\\nlow,high,4,2,big,high,unacc\\nlow,high,4,4,small,low,unacc\\nlow,high,4,4,small,med,acc\\nlow,high,4,4,small,high,acc\\nlow,high,4,4,med,low,unacc\\nlow,high,4,4,med,med,acc\\nlow,high,4,4,med,high,vgood\\nlow,high,4,4,big,low,unacc\\nlow,high,4,4,big,med,acc\\nlow,high,4,4,big,high,vgood\\nlow,high,4,more,small,low,unacc\\nlow,high,4,more,small,med,acc\\nlow,high,4,more,small,high,acc\\nlow,high,4,more,med,low,unacc\\nlow,high,4,more,med,med,acc\\nlow,high,4,more,med,high,vgood\\nlow,high,4,more,big,low,unacc\\nlow,high,4,more,big,med,acc\\nlow,high,4,more,big,high,vgood\\nlow,high,5more,2,small,low,unacc\\nlow,high,5more,2,small,med,unacc\\nlow,high,5more,2,small,high,unacc\\nlow,high,5more,2,med,low,unacc\\nlow,high,5more,2,med,med,unacc\\nlow,high,5more,2,med,high,unacc\\nlow,high,5more,2,big,low,unacc\\nlow,high,5more,2,big,med,unacc\\nlow,high,5more,2,big,high,unacc\\nlow,high,5more,4,small,low,unacc\\nlow,high,5more,4,small,med,acc\\nlow,high,5more,4,small,high,acc\\nlow,high,5more,4,med,low,unacc\\nlow,high,5more,4,med,med,acc\\nlow,high,5more,4,med,high,vgood\\nlow,high,5more,4,big,low,unacc\\nlow,high,5more,4,big,med,acc\\nlow,high,5more,4,big,high,vgood\\nlow,high,5more,more,small,low,unacc\\nlow,high,5more,more,small,med,acc\\nlow,high,5more,more,small,high,acc\\nlow,high,5more,more,med,low,unacc\\nlow,high,5more,more,med,med,acc\\nlow,high,5more,more,med,high,vgood\\nlow,high,5more,more,big,low,unacc\\nlow,high,5more,more,big,med,acc\\nlow,high,5more,more,big,high,vgood\\nlow,med,2,2,small,low,unacc\\nlow,med,2,2,small,med,unacc\\nlow,med,2,2,small,high,unacc\\nlow,med,2,2,med,low,unacc\\nlow,med,2,2,med,med,unacc\\nlow,med,2,2,med,high,unacc\\nlow,med,2,2,big,low,unacc\\nlow,med,2,2,big,med,unacc\\nlow,med,2,2,big,high,unacc\\nlow,med,2,4,small,low,unacc\\nlow,med,2,4,small,med,acc\\nlow,med,2,4,small,high,good\\nlow,med,2,4,med,low,unacc\\nlow,med,2,4,med,med,acc\\nlow,med,2,4,med,high,good\\nlow,med,2,4,big,low,unacc\\nlow,med,2,4,big,med,good\\nlow,med,2,4,big,high,vgood\\nlow,med,2,more,small,low,unacc\\nlow,med,2,more,small,med,unacc\\nlow,med,2,more,small,high,unacc\\nlow,med,2,more,med,low,unacc\\nlow,med,2,more,med,med,acc\\nlow,med,2,more,med,high,good\\nlow,med,2,more,big,low,unacc\\nlow,med,2,more,big,med,good\\nlow,med,2,more,big,high,vgood\\nlow,med,3,2,small,low,unacc\\nlow,med,3,2,small,med,unacc\\nlow,med,3,2,small,high,unacc\\nlow,med,3,2,med,low,unacc\\nlow,med,3,2,med,med,unacc\\nlow,med,3,2,med,high,unacc\\nlow,med,3,2,big,low,unacc\\nlow,med,3,2,big,med,unacc\\nlow,med,3,2,big,high,unacc\\nlow,med,3,4,small,low,unacc\\nlow,med,3,4,small,med,acc\\nlow,med,3,4,small,high,good\\nlow,med,3,4,med,low,unacc\\nlow,med,3,4,med,med,acc\\nlow,med,3,4,med,high,good\\nlow,med,3,4,big,low,unacc\\nlow,med,3,4,big,med,good\\nlow,med,3,4,big,high,vgood\\nlow,med,3,more,small,low,unacc\\nlow,med,3,more,small,med,acc\\nlow,med,3,more,small,high,good\\nlow,med,3,more,med,low,unacc\\nlow,med,3,more,med,med,good\\nlow,med,3,more,med,high,vgood\\nlow,med,3,more,big,low,unacc\\nlow,med,3,more,big,med,good\\nlow,med,3,more,big,high,vgood\\nlow,med,4,2,small,low,unacc\\nlow,med,4,2,small,med,unacc\\nlow,med,4,2,small,high,unacc\\nlow,med,4,2,med,low,unacc\\nlow,med,4,2,med,med,unacc\\nlow,med,4,2,med,high,unacc\\nlow,med,4,2,big,low,unacc\\nlow,med,4,2,big,med,unacc\\nlow,med,4,2,big,high,unacc\\nlow,med,4,4,small,low,unacc\\nlow,med,4,4,small,med,acc\\nlow,med,4,4,small,high,good\\nlow,med,4,4,med,low,unacc\\nlow,med,4,4,med,med,good\\nlow,med,4,4,med,high,vgood\\nlow,med,4,4,big,low,unacc\\nlow,med,4,4,big,med,good\\nlow,med,4,4,big,high,vgood\\nlow,med,4,more,small,low,unacc\\nlow,med,4,more,small,med,acc\\nlow,med,4,more,small,high,good\\nlow,med,4,more,med,low,unacc\\nlow,med,4,more,med,med,good\\nlow,med,4,more,med,high,vgood\\nlow,med,4,more,big,low,unacc\\nlow,med,4,more,big,med,good\\nlow,med,4,more,big,high,vgood\\nlow,med,5more,2,small,low,unacc\\nlow,med,5more,2,small,med,unacc\\nlow,med,5more,2,small,high,unacc\\nlow,med,5more,2,med,low,unacc\\nlow,med,5more,2,med,med,unacc\\nlow,med,5more,2,med,high,unacc\\nlow,med,5more,2,big,low,unacc\\nlow,med,5more,2,big,med,unacc\\nlow,med,5more,2,big,high,unacc\\nlow,med,5more,4,small,low,unacc\\nlow,med,5more,4,small,med,acc\\nlow,med,5more,4,small,high,good\\nlow,med,5more,4,med,low,unacc\\nlow,med,5more,4,med,med,good\\nlow,med,5more,4,med,high,vgood\\nlow,med,5more,4,big,low,unacc\\nlow,med,5more,4,big,med,good\\nlow,med,5more,4,big,high,vgood\\nlow,med,5more,more,small,low,unacc\\nlow,med,5more,more,small,med,acc\\nlow,med,5more,more,small,high,good\\nlow,med,5more,more,med,low,unacc\\nlow,med,5more,more,med,med,good\\nlow,med,5more,more,med,high,vgood\\nlow,med,5more,more,big,low,unacc\\nlow,med,5more,more,big,med,good\\nlow,med,5more,more,big,high,vgood\\nlow,low,2,2,small,low,unacc\\nlow,low,2,2,small,med,unacc\\nlow,low,2,2,small,high,unacc\\nlow,low,2,2,med,low,unacc\\nlow,low,2,2,med,med,unacc\\nlow,low,2,2,med,high,unacc\\nlow,low,2,2,big,low,unacc\\nlow,low,2,2,big,med,unacc\\nlow,low,2,2,big,high,unacc\\nlow,low,2,4,small,low,unacc\\nlow,low,2,4,small,med,acc\\nlow,low,2,4,small,high,good\\nlow,low,2,4,med,low,unacc\\nlow,low,2,4,med,med,acc\\nlow,low,2,4,med,high,good\\nlow,low,2,4,big,low,unacc\\nlow,low,2,4,big,med,good\\nlow,low,2,4,big,high,vgood\\nlow,low,2,more,small,low,unacc\\nlow,low,2,more,small,med,unacc\\nlow,low,2,more,small,high,unacc\\nlow,low,2,more,med,low,unacc\\nlow,low,2,more,med,med,acc\\nlow,low,2,more,med,high,good\\nlow,low,2,more,big,low,unacc\\nlow,low,2,more,big,med,good\\nlow,low,2,more,big,high,vgood\\nlow,low,3,2,small,low,unacc\\nlow,low,3,2,small,med,unacc\\nlow,low,3,2,small,high,unacc\\nlow,low,3,2,med,low,unacc\\nlow,low,3,2,med,med,unacc\\nlow,low,3,2,med,high,unacc\\nlow,low,3,2,big,low,unacc\\nlow,low,3,2,big,med,unacc\\nlow,low,3,2,big,high,unacc\\nlow,low,3,4,small,low,unacc\\nlow,low,3,4,small,med,acc\\nlow,low,3,4,small,high,good\\nlow,low,3,4,med,low,unacc\\nlow,low,3,4,med,med,acc\\nlow,low,3,4,med,high,good\\nlow,low,3,4,big,low,unacc\\nlow,low,3,4,big,med,good\\nlow,low,3,4,big,high,vgood\\nlow,low,3,more,small,low,unacc\\nlow,low,3,more,small,med,acc\\nlow,low,3,more,small,high,good\\nlow,low,3,more,med,low,unacc\\nlow,low,3,more,med,med,good\\nlow,low,3,more,med,high,vgood\\nlow,low,3,more,big,low,unacc\\nlow,low,3,more,big,med,good\\nlow,low,3,more,big,high,vgood\\nlow,low,4,2,small,low,unacc\\nlow,low,4,2,small,med,unacc\\nlow,low,4,2,small,high,unacc\\nlow,low,4,2,med,low,unacc\\nlow,low,4,2,med,med,unacc\\nlow,low,4,2,med,high,unacc\\nlow,low,4,2,big,low,unacc\\nlow,low,4,2,big,med,unacc\\nlow,low,4,2,big,high,unacc\\nlow,low,4,4,small,low,unacc\\nlow,low,4,4,small,med,acc\\nlow,low,4,4,small,high,good\\nlow,low,4,4,med,low,unacc\\nlow,low,4,4,med,med,good\\nlow,low,4,4,med,high,vgood\\nlow,low,4,4,big,low,unacc\\nlow,low,4,4,big,med,good\\nlow,low,4,4,big,high,vgood\\nlow,low,4,more,small,low,unacc\\nlow,low,4,more,small,med,acc\\nlow,low,4,more,small,high,good\\nlow,low,4,more,med,low,unacc\\nlow,low,4,more,med,med,good\\nlow,low,4,more,med,high,vgood\\nlow,low,4,more,big,low,unacc\\nlow,low,4,more,big,med,good\\nlow,low,4,more,big,high,vgood\\nlow,low,5more,2,small,low,unacc\\nlow,low,5more,2,small,med,unacc\\nlow,low,5more,2,small,high,unacc\\nlow,low,5more,2,med,low,unacc\\nlow,low,5more,2,med,med,unacc\\nlow,low,5more,2,med,high,unacc\\nlow,low,5more,2,big,low,unacc\\nlow,low,5more,2,big,med,unacc\\nlow,low,5more,2,big,high,unacc\\nlow,low,5more,4,small,low,unacc\\nlow,low,5more,4,small,med,acc\\nlow,low,5more,4,small,high,good\\nlow,low,5more,4,med,low,unacc\\nlow,low,5more,4,med,med,good\\nlow,low,5more,4,med,high,vgood\\nlow,low,5more,4,big,low,unacc\\nlow,low,5more,4,big,med,good\\nlow,low,5more,4,big,high,vgood\\nlow,low,5more,more,small,low,unacc\\nlow,low,5more,more,small,med,acc\\nlow,low,5more,more,small,high,good\\nlow,low,5more,more,med,low,unacc\\nlow,low,5more,more,med,med,good\\nlow,low,5more,more,med,high,vgood\\nlow,low,5more,more,big,low,unacc\\nlow,low,5more,more,big,med,good\\nlow,low,5more,more,big,high,vgood\\n'}"
            ]
          },
          "metadata": {
            "tags": []
          },
          "execution_count": 1
        }
      ]
    },
    {
      "cell_type": "code",
      "metadata": {
        "id": "Et3q0ot4NaWi",
        "outputId": "40a71745-a2a3-4460-8318-98e5e8b805dd",
        "colab": {
          "base_uri": "https://localhost:8080/",
          "height": 204
        }
      },
      "source": [
        "data = pd.read_csv(\"car.data\")\n",
        "data.head()"
      ],
      "execution_count": null,
      "outputs": [
        {
          "output_type": "execute_result",
          "data": {
            "text/html": [
              "<div>\n",
              "<style scoped>\n",
              "    .dataframe tbody tr th:only-of-type {\n",
              "        vertical-align: middle;\n",
              "    }\n",
              "\n",
              "    .dataframe tbody tr th {\n",
              "        vertical-align: top;\n",
              "    }\n",
              "\n",
              "    .dataframe thead th {\n",
              "        text-align: right;\n",
              "    }\n",
              "</style>\n",
              "<table border=\"1\" class=\"dataframe\">\n",
              "  <thead>\n",
              "    <tr style=\"text-align: right;\">\n",
              "      <th></th>\n",
              "      <th>buying</th>\n",
              "      <th>maint</th>\n",
              "      <th>door</th>\n",
              "      <th>persons</th>\n",
              "      <th>lug_boot</th>\n",
              "      <th>safety</th>\n",
              "      <th>class</th>\n",
              "    </tr>\n",
              "  </thead>\n",
              "  <tbody>\n",
              "    <tr>\n",
              "      <th>0</th>\n",
              "      <td>vhigh</td>\n",
              "      <td>vhigh</td>\n",
              "      <td>2</td>\n",
              "      <td>2</td>\n",
              "      <td>small</td>\n",
              "      <td>low</td>\n",
              "      <td>unacc</td>\n",
              "    </tr>\n",
              "    <tr>\n",
              "      <th>1</th>\n",
              "      <td>vhigh</td>\n",
              "      <td>vhigh</td>\n",
              "      <td>2</td>\n",
              "      <td>2</td>\n",
              "      <td>small</td>\n",
              "      <td>med</td>\n",
              "      <td>unacc</td>\n",
              "    </tr>\n",
              "    <tr>\n",
              "      <th>2</th>\n",
              "      <td>vhigh</td>\n",
              "      <td>vhigh</td>\n",
              "      <td>2</td>\n",
              "      <td>2</td>\n",
              "      <td>small</td>\n",
              "      <td>high</td>\n",
              "      <td>unacc</td>\n",
              "    </tr>\n",
              "    <tr>\n",
              "      <th>3</th>\n",
              "      <td>vhigh</td>\n",
              "      <td>vhigh</td>\n",
              "      <td>2</td>\n",
              "      <td>2</td>\n",
              "      <td>med</td>\n",
              "      <td>low</td>\n",
              "      <td>unacc</td>\n",
              "    </tr>\n",
              "    <tr>\n",
              "      <th>4</th>\n",
              "      <td>vhigh</td>\n",
              "      <td>vhigh</td>\n",
              "      <td>2</td>\n",
              "      <td>2</td>\n",
              "      <td>med</td>\n",
              "      <td>med</td>\n",
              "      <td>unacc</td>\n",
              "    </tr>\n",
              "  </tbody>\n",
              "</table>\n",
              "</div>"
            ],
            "text/plain": [
              "  buying  maint door persons lug_boot safety  class\n",
              "0  vhigh  vhigh    2       2    small    low  unacc\n",
              "1  vhigh  vhigh    2       2    small    med  unacc\n",
              "2  vhigh  vhigh    2       2    small   high  unacc\n",
              "3  vhigh  vhigh    2       2      med    low  unacc\n",
              "4  vhigh  vhigh    2       2      med    med  unacc"
            ]
          },
          "metadata": {
            "tags": []
          },
          "execution_count": 2
        }
      ]
    },
    {
      "cell_type": "code",
      "metadata": {
        "id": "9csh65_ew2f6",
        "outputId": "4dce0fe2-b4f9-4600-bbdb-9da0eb3098d6",
        "colab": {
          "base_uri": "https://localhost:8080/",
          "height": 204
        }
      },
      "source": [
        "Le = preprocessing.LabelEncoder()\n",
        "\n",
        "elements = [\"buying\",\t\"maint\", \"door\",\t\"persons\",\t\"lug_boot\",\t\"safety\",\t\"class\"]\n",
        "\n",
        "for i in range(len(elements)):\n",
        "  data[elements[i]] = Le.fit_transform(data[elements[i]])\n",
        "\n",
        "data.head()"
      ],
      "execution_count": null,
      "outputs": [
        {
          "output_type": "execute_result",
          "data": {
            "text/html": [
              "<div>\n",
              "<style scoped>\n",
              "    .dataframe tbody tr th:only-of-type {\n",
              "        vertical-align: middle;\n",
              "    }\n",
              "\n",
              "    .dataframe tbody tr th {\n",
              "        vertical-align: top;\n",
              "    }\n",
              "\n",
              "    .dataframe thead th {\n",
              "        text-align: right;\n",
              "    }\n",
              "</style>\n",
              "<table border=\"1\" class=\"dataframe\">\n",
              "  <thead>\n",
              "    <tr style=\"text-align: right;\">\n",
              "      <th></th>\n",
              "      <th>buying</th>\n",
              "      <th>maint</th>\n",
              "      <th>door</th>\n",
              "      <th>persons</th>\n",
              "      <th>lug_boot</th>\n",
              "      <th>safety</th>\n",
              "      <th>class</th>\n",
              "    </tr>\n",
              "  </thead>\n",
              "  <tbody>\n",
              "    <tr>\n",
              "      <th>0</th>\n",
              "      <td>3</td>\n",
              "      <td>3</td>\n",
              "      <td>0</td>\n",
              "      <td>0</td>\n",
              "      <td>2</td>\n",
              "      <td>1</td>\n",
              "      <td>2</td>\n",
              "    </tr>\n",
              "    <tr>\n",
              "      <th>1</th>\n",
              "      <td>3</td>\n",
              "      <td>3</td>\n",
              "      <td>0</td>\n",
              "      <td>0</td>\n",
              "      <td>2</td>\n",
              "      <td>2</td>\n",
              "      <td>2</td>\n",
              "    </tr>\n",
              "    <tr>\n",
              "      <th>2</th>\n",
              "      <td>3</td>\n",
              "      <td>3</td>\n",
              "      <td>0</td>\n",
              "      <td>0</td>\n",
              "      <td>2</td>\n",
              "      <td>0</td>\n",
              "      <td>2</td>\n",
              "    </tr>\n",
              "    <tr>\n",
              "      <th>3</th>\n",
              "      <td>3</td>\n",
              "      <td>3</td>\n",
              "      <td>0</td>\n",
              "      <td>0</td>\n",
              "      <td>1</td>\n",
              "      <td>1</td>\n",
              "      <td>2</td>\n",
              "    </tr>\n",
              "    <tr>\n",
              "      <th>4</th>\n",
              "      <td>3</td>\n",
              "      <td>3</td>\n",
              "      <td>0</td>\n",
              "      <td>0</td>\n",
              "      <td>1</td>\n",
              "      <td>2</td>\n",
              "      <td>2</td>\n",
              "    </tr>\n",
              "  </tbody>\n",
              "</table>\n",
              "</div>"
            ],
            "text/plain": [
              "   buying  maint  door  persons  lug_boot  safety  class\n",
              "0       3      3     0        0         2       1      2\n",
              "1       3      3     0        0         2       2      2\n",
              "2       3      3     0        0         2       0      2\n",
              "3       3      3     0        0         1       1      2\n",
              "4       3      3     0        0         1       2      2"
            ]
          },
          "metadata": {
            "tags": []
          },
          "execution_count": 3
        }
      ]
    },
    {
      "cell_type": "code",
      "metadata": {
        "id": "oXQ_hnuKzd8e"
      },
      "source": [
        "predict = \"class\"\n",
        "X = np.array(data.drop([predict],1))\n",
        "y = np.array(data[predict])\n",
        "\n",
        "X_train, X_test, y_train, y_test = sklearn.model_selection.train_test_split(X,y,test_size=0.1)\n",
        "# print(X_train.shape)\n",
        "# print(X_test.shape)\n",
        "# print(y_train.shape)\n",
        "# print(y_test.shape)\n",
        "\n"
      ],
      "execution_count": null,
      "outputs": []
    },
    {
      "cell_type": "code",
      "metadata": {
        "id": "uCfZR2B0AX5X",
        "outputId": "7bdcf3dc-a61b-453b-f52e-ba930e7ded8f",
        "colab": {
          "base_uri": "https://localhost:8080/",
          "height": 34
        }
      },
      "source": [
        "from sklearn.neighbors import KNeighborsClassifier\n",
        "\n",
        "model = KNeighborsClassifier(n_neighbors=9)\n",
        "\n",
        "model.fit(X_train,y_train)\n",
        "\n",
        "acc = model.score(X_test,y_test)\n",
        "print(\"Accuracy: \",int(acc*100),\"%\")"
      ],
      "execution_count": null,
      "outputs": [
        {
          "output_type": "stream",
          "text": [
            "Accuracy:  91 %\n"
          ],
          "name": "stdout"
        }
      ]
    },
    {
      "cell_type": "code",
      "metadata": {
        "id": "Z_wbOpLDFZ6J",
        "outputId": "b7f4f2fc-064d-4e9c-ee28-04114df5d46e",
        "colab": {
          "base_uri": "https://localhost:8080/",
          "height": 1000
        }
      },
      "source": [
        "predicted = model.predict(X_test)\n",
        "names = [\"unacc\", \"acc\", \"good\", \"vgood\"]\n",
        "\n",
        "for x in range(len(predicted)):\n",
        "    print(\"Predicted: \", names[predicted[x]], \"Data: \", X_test[x], \"Actual: \", names[y_test[x]])\n",
        "    # muestra primero la distacia entre cada dato de entrenamiento y la data, y el otro array el indice de los datos.\n",
        "    n = model.kneighbors([X_test[x]], 9, True)\n",
        "    print(\"N: \", n)"
      ],
      "execution_count": null,
      "outputs": [
        {
          "output_type": "stream",
          "text": [
            "Predicted:  good Data:  [0 3 1 1 0 0] Actual:  good\n",
            "N:  (array([[1.        , 1.        , 1.        , 1.        , 1.        ,\n",
            "        1.        , 1.        , 1.        , 1.41421356]]), array([[ 703,  320, 1486,   63,  624, 1171, 1204,  749,  744]]))\n",
            "Predicted:  good Data:  [3 1 1 2 0 1] Actual:  good\n",
            "N:  (array([[1.        , 1.        , 1.        , 1.        , 1.        ,\n",
            "        1.        , 1.        , 1.        , 1.41421356]]), array([[ 358,  753, 1480,  285,  776,  740,  648, 1041,  726]]))\n",
            "Predicted:  unacc Data:  [0 1 0 1 2 0] Actual:  unacc\n",
            "N:  (array([[1.        , 1.        , 1.        , 1.        , 1.        ,\n",
            "        1.        , 1.        , 1.        , 1.41421356]]), array([[1075,  637, 1406, 1131, 1053, 1442, 1081,  908,  883]]))\n",
            "Predicted:  good Data:  [0 3 2 0 0 1] Actual:  good\n",
            "N:  (array([[1.        , 1.        , 1.        , 1.        , 1.        ,\n",
            "        1.        , 1.        , 1.        , 1.41421356]]), array([[1515,  763,  564,  300,  972,  494,  924, 1027,  811]]))\n",
            "Predicted:  good Data:  [2 2 1 0 2 0] Actual:  good\n",
            "N:  (array([[1., 1., 1., 1., 1., 1., 1., 1., 1.]]), array([[ 245, 1542, 1312,  547,  775,  735,  656,   90, 1094]]))\n",
            "Predicted:  good Data:  [0 2 3 0 0 0] Actual:  good\n",
            "N:  (array([[1.        , 1.        , 1.        , 1.        , 1.        ,\n",
            "        1.        , 1.        , 1.41421356, 1.41421356]]), array([[1253,  419,  135,    4, 1468,  216,  167,   30, 1294]]))\n",
            "Predicted:  good Data:  [1 2 0 0 1 2] Actual:  good\n",
            "N:  (array([[1.        , 1.        , 1.        , 1.        , 1.        ,\n",
            "        1.41421356, 1.41421356, 1.41421356, 1.41421356]]), array([[509, 810, 770, 615,  43, 257, 729, 734, 579]]))\n",
            "Predicted:  good Data:  [1 0 3 2 2 2] Actual:  unacc\n",
            "N:  (array([[1.        , 1.        , 1.        , 1.        , 1.        ,\n",
            "        1.        , 1.        , 1.41421356, 1.41421356]]), array([[  41,   91,   28,  240, 1398,  549,   88,  844,  120]]))\n",
            "Predicted:  good Data:  [1 0 1 0 1 1] Actual:  good\n",
            "N:  (array([[1., 1., 1., 1., 1., 1., 1., 1., 1.]]), array([[ 568, 1113,  765,  903,   32,  182,  849, 1245, 1504]]))\n",
            "Predicted:  good Data:  [3 1 3 0 2 1] Actual:  good\n",
            "N:  (array([[1.        , 1.        , 1.        , 1.        , 1.        ,\n",
            "        1.        , 1.        , 1.        , 1.41421356]]), array([[1287,  790,   31, 1444,  301, 1425, 1322,  244,  536]]))\n",
            "Predicted:  good Data:  [2 0 3 0 0 2] Actual:  good\n",
            "N:  (array([[1.        , 1.        , 1.        , 1.        , 1.        ,\n",
            "        1.41421356, 1.41421356, 1.41421356, 1.41421356]]), array([[ 528,  259,  474, 1098,  121,   70,   13, 1186,  762]]))\n",
            "Predicted:  good Data:  [2 1 1 0 2 2] Actual:  good\n",
            "N:  (array([[1., 1., 1., 1., 1., 1., 1., 1., 1.]]), array([[ 378,  880,  410,   26,  298, 1214,   45, 1430, 1339]]))\n",
            "Predicted:  unacc Data:  [2 0 3 2 2 0] Actual:  unacc\n",
            "N:  (array([[1.        , 1.        , 1.        , 1.        , 1.        ,\n",
            "        1.        , 1.41421356, 1.41421356, 1.41421356]]), array([[1309, 1483, 1091,   22,  284,  482, 1277, 1438, 1130]]))\n",
            "Predicted:  good Data:  [2 1 1 1 2 0] Actual:  acc\n",
            "N:  (array([[1.        , 1.        , 1.        , 1.        , 1.        ,\n",
            "        1.        , 1.        , 1.41421356, 1.41421356]]), array([[ 258,  873,  471,  645,  656,  985, 1094, 1018,  759]]))\n",
            "Predicted:  good Data:  [1 2 0 0 2 1] Actual:  good\n",
            "N:  (array([[1.        , 1.        , 1.        , 1.        , 1.        ,\n",
            "        1.        , 1.41421356, 1.41421356, 1.41421356]]), array([[ 124, 1392,  781,  600, 1019,  911,  622,  409,  242]]))\n",
            "Predicted:  acc Data:  [2 1 2 2 1 2] Actual:  acc\n",
            "N:  (array([[1., 1., 1., 1., 1., 1., 1., 1., 1.]]), array([[297, 696, 939, 802, 626, 149, 490,  27,  77]]))\n",
            "Predicted:  good Data:  [2 1 2 0 2 1] Actual:  good\n",
            "N:  (array([[1., 1., 1., 1., 1., 1., 1., 1., 1.]]), array([[ 601, 1471,  977, 1339,  790,   26,  955,  370,  244]]))\n",
            "Predicted:  good Data:  [1 3 2 0 2 0] Actual:  good\n",
            "N:  (array([[1.        , 1.        , 1.        , 1.        , 1.        ,\n",
            "        1.        , 1.        , 1.41421356, 1.41421356]]), array([[  24,  311, 1157,  432,  275, 1526, 1310, 1174,  930]]))\n",
            "Predicted:  good Data:  [1 2 1 0 0 1] Actual:  good\n",
            "N:  (array([[1., 1., 1., 1., 1., 1., 1., 1., 1.]]), array([[1391,  573, 1057,  131, 1422,  593,  839, 1319, 1187]]))\n",
            "Predicted:  good Data:  [0 2 1 0 0 0] Actual:  good\n",
            "N:  (array([[1.        , 1.        , 1.        , 1.        , 1.        ,\n",
            "        1.        , 1.        , 1.        , 1.41421356]]), array([[ 703, 1187,  749,  167,  719, 1422,  686,  915, 1377]]))\n",
            "Predicted:  good Data:  [0 0 2 0 0 2] Actual:  good\n",
            "N:  (array([[1.        , 1.        , 1.        , 1.        , 1.        ,\n",
            "        1.        , 1.        , 1.41421356, 1.41421356]]), array([[ 117, 1186, 1163,  949,  448,  546,  211,  265, 1246]]))\n",
            "Predicted:  unacc Data:  [1 1 2 1 2 2] Actual:  unacc\n",
            "N:  (array([[1., 1., 1., 1., 1., 1., 1., 1., 1.]]), array([[1015,  714,  953,  107,  429, 1333, 1045,  826,  150]]))\n",
            "Predicted:  unacc Data:  [1 1 0 1 2 2] Actual:  unacc\n",
            "N:  (array([[1., 1., 1., 1., 1., 1., 1., 1., 1.]]), array([[ 785, 1217,  739,  579,  341, 1015,  270, 1517,  596]]))\n",
            "Predicted:  unacc Data:  [1 1 2 2 0 2] Actual:  acc\n",
            "N:  (array([[1.        , 1.        , 1.        , 1.        , 1.        ,\n",
            "        1.        , 1.        , 1.41421356, 1.41421356]]), array([[  27,  263, 1132,  647,  149,  681, 1269,  252, 1196]]))\n",
            "Predicted:  vgood Data:  [1 2 3 2 1 0] Actual:  vgood\n",
            "N:  (array([[1.        , 1.        , 1.        , 1.        , 1.        ,\n",
            "        1.        , 1.        , 1.        , 1.41421356]]), array([[ 919,  610,  861,  944, 1379, 1004, 1087,  560,   81]]))\n",
            "Predicted:  good Data:  [1 0 1 0 1 2] Actual:  good\n",
            "N:  (array([[1.        , 1.        , 1.        , 1.        , 1.        ,\n",
            "        1.        , 1.41421356, 1.41421356, 1.41421356]]), array([[  74,  679, 1246,  734, 1512, 1488,  633, 1051,  568]]))\n",
            "Predicted:  good Data:  [3 0 3 2 2 0] Actual:  good\n",
            "N:  (array([[1.        , 1.        , 1.        , 1.        , 1.41421356,\n",
            "        1.41421356, 1.41421356, 1.41421356, 1.41421356]]), array([[ 449,  318, 1506,   99, 1228, 1483,   51, 1288,  515]]))\n",
            "Predicted:  good Data:  [3 3 0 2 0 0] Actual:  good\n",
            "N:  (array([[1.        , 1.        , 1.        , 1.        , 1.        ,\n",
            "        1.41421356, 1.41421356, 1.41421356, 1.41421356]]), array([[ 222,  256,  338,   18,  606,   46, 1543, 1160, 1079]]))\n",
            "Predicted:  good Data:  [0 0 2 1 0 1] Actual:  good\n",
            "N:  (array([[1.        , 1.        , 1.        , 1.        , 1.        ,\n",
            "        1.        , 1.        , 1.        , 1.41421356]]), array([[1262,  819,  949, 1378, 1532,  546,  401,  983,  273]]))\n",
            "Predicted:  vgood Data:  [1 2 3 1 1 0] Actual:  vgood\n",
            "N:  (array([[1.        , 1.        , 1.        , 1.        , 1.        ,\n",
            "        1.        , 1.        , 1.41421356, 1.41421356]]), array([[ 837,   12,  177,  302,  224,  871,  565, 1220,  319]]))\n",
            "Predicted:  good Data:  [2 2 1 0 1 1] Actual:  good\n",
            "N:  (array([[1., 1., 1., 1., 1., 1., 1., 1., 1.]]), array([[1265, 1218,  547,  712,  573,  625,  782, 1391, 1338]]))\n",
            "Predicted:  good Data:  [0 0 0 2 0 1] Actual:  good\n",
            "N:  (array([[1.        , 1.        , 1.        , 1.        , 1.        ,\n",
            "        1.        , 1.41421356, 1.41421356, 1.41421356]]), array([[ 967, 1544, 1481,  273,  670, 1111,  376, 1279, 1206]]))\n",
            "Predicted:  good Data:  [0 2 1 2 2 2] Actual:  good\n",
            "N:  (array([[1.        , 1.        , 1.        , 1.        , 1.        ,\n",
            "        1.        , 1.        , 1.        , 1.41421356]]), array([[1315, 1239, 1440,  329,  869, 1248, 1511,  130,  104]]))\n",
            "Predicted:  good Data:  [3 1 0 1 1 2] Actual:  good\n",
            "N:  (array([[1.        , 1.        , 1.        , 1.        , 1.        ,\n",
            "        1.        , 1.        , 1.        , 1.41421356]]), array([[ 773, 1439, 1286,  843, 1403,  206,  288, 1300,  381]]))\n",
            "Predicted:  good Data:  [0 3 2 2 1 0] Actual:  good\n",
            "N:  (array([[1.        , 1.        , 1.        , 1.        , 1.        ,\n",
            "        1.        , 1.        , 1.41421356, 1.41421356]]), array([[ 860,  303, 1362,  366, 1405, 1490, 1514, 1103, 1108]]))\n",
            "Predicted:  good Data:  [1 0 0 2 0 1] Actual:  good\n",
            "N:  (array([[1.        , 1.        , 1.        , 1.        , 1.        ,\n",
            "        1.        , 1.        , 1.41421356, 1.41421356]]), array([[959, 914, 814,  21, 614, 183, 109, 283, 591]]))\n",
            "Predicted:  good Data:  [2 0 2 0 1 1] Actual:  good\n",
            "N:  (array([[1., 1., 1., 1., 1., 1., 1., 1., 1.]]), array([[ 903, 1113, 1293,  977,  370, 1518, 1061,  447,  701]]))\n",
            "Predicted:  good Data:  [0 3 3 1 1 1] Actual:  good\n",
            "N:  (array([[1.        , 1.        , 1.        , 1.        , 1.        ,\n",
            "        1.        , 1.        , 1.41421356, 1.41421356]]), array([[1114,  829,  441, 1209,  209,  855, 1259,  366,  208]]))\n",
            "Predicted:  vgood Data:  [1 1 1 1 1 0] Actual:  acc\n",
            "N:  (array([[1., 1., 1., 1., 1., 1., 1., 1., 1.]]), array([[ 830, 1123,  237, 1202,  875,  439, 1048,  985,   16]]))\n",
            "Predicted:  good Data:  [3 0 3 1 1 1] Actual:  good\n",
            "N:  (array([[1., 1., 1., 1., 1., 1., 1., 1., 1.]]), array([[ 530,  328,   47,  515, 1507, 1288,   51,  725,  185]]))\n",
            "Predicted:  unacc Data:  [0 2 2 1 0 0] Actual:  unacc\n",
            "N:  (array([[1.        , 1.        , 1.        , 1.        , 1.        ,\n",
            "        1.        , 1.        , 1.        , 1.41421356]]), array([[  63, 1220,  703, 1003,  711,  135,  887,  167, 1362]]))\n",
            "Predicted:  good Data:  [3 3 0 0 0 2] Actual:  good\n",
            "N:  (array([[1.        , 1.        , 1.        , 1.        , 1.        ,\n",
            "        1.        , 1.41421356, 1.41421356, 1.41421356]]), array([[  62,  540, 1029,  856,  754,  100,  888, 1387,  655]]))\n",
            "Predicted:  good Data:  [3 1 1 0 0 1] Actual:  good\n",
            "N:  (array([[1., 1., 1., 1., 1., 1., 1., 1., 1.]]), array([[ 736,  556, 1443, 1429,  533,  214, 1041,  268, 1060]]))\n",
            "Predicted:  good Data:  [1 0 0 0 1 2] Actual:  good\n",
            "N:  (array([[1.        , 1.        , 1.        , 1.        , 1.        ,\n",
            "        1.        , 1.        , 1.41421356, 1.41421356]]), array([[1264,  171,   29,  808,  454,  509, 1504, 1101,  809]]))\n",
            "Predicted:  good Data:  [2 1 2 0 2 0] Actual:  good\n",
            "N:  (array([[1.        , 1.        , 1.        , 1.        , 1.        ,\n",
            "        1.        , 1.        , 1.41421356, 1.41421356]]), array([[ 992,    0, 1542, 1094,  664,  962,  385,  759,  927]]))\n",
            "Predicted:  good Data:  [2 2 0 2 1 1] Actual:  good\n",
            "N:  (array([[1., 1., 1., 1., 1., 1., 1., 1., 1.]]), array([[ 330, 1357,  821,  859,  687, 1344,  262, 1223, 1415]]))\n",
            "Predicted:  good Data:  [3 0 2 1 2 2] Actual:  good\n",
            "N:  (array([[1.        , 1.        , 1.        , 1.        , 1.        ,\n",
            "        1.        , 1.        , 1.        , 1.41421356]]), array([[1457,  889,  982,  865,  558,  801, 1297,  912,  733]]))\n",
            "Predicted:  unacc Data:  [3 1 1 2 0 0] Actual:  unacc\n",
            "N:  (array([[1.        , 1.        , 1.        , 1.        , 1.        ,\n",
            "        1.        , 1.41421356, 1.41421356, 1.41421356]]), array([[1509,  684,  331,  805, 1024,  423,  886,  753, 1273]]))\n",
            "Predicted:  good Data:  [0 1 1 1 2 1] Actual:  good\n",
            "N:  (array([[1., 1., 1., 1., 1., 1., 1., 1., 1.]]), array([[1075, 1135,  278, 1018, 1195, 1219,  693, 1442, 1251]]))\n",
            "Predicted:  good Data:  [3 0 0 2 2 2] Actual:  good\n",
            "N:  (array([[1.        , 1.        , 1.        , 1.        , 1.        ,\n",
            "        1.        , 1.41421356, 1.41421356, 1.41421356]]), array([[ 616,  451,  140, 1291, 1173,  381, 1475, 1289,  865]]))\n",
            "Predicted:  good Data:  [1 2 2 1 2 1] Actual:  good\n",
            "N:  (array([[1., 1., 1., 1., 1., 1., 1., 1., 1.]]), array([[1353,  429, 1455, 1349, 1451,  137,  107,  406, 1336]]))\n",
            "Predicted:  good Data:  [3 0 3 0 0 2] Actual:  good\n",
            "N:  (array([[1.        , 1.        , 1.        , 1.        , 1.41421356,\n",
            "        1.41421356, 1.41421356, 1.41421356, 1.41421356]]), array([[ 144,  691,  689, 1107, 1098, 1364,  259,  121,  307]]))\n",
            "Predicted:  unacc Data:  [1 0 0 1 0 2] Actual:  unacc\n",
            "N:  (array([[1.        , 1.        , 1.        , 1.        , 1.        ,\n",
            "        1.        , 1.        , 1.        , 1.41421356]]), array([[ 959,  352, 1395, 1264,  852, 1485,  183,   29,  785]]))\n",
            "Predicted:  good Data:  [0 3 2 1 1 1] Actual:  good\n",
            "N:  (array([[1.        , 1.        , 1.        , 1.        , 1.        ,\n",
            "        1.        , 1.        , 1.        , 1.41421356]]), array([[ 564,  492,  464,  538,  946, 1515,  815,  303, 1455]]))\n",
            "Predicted:  good Data:  [0 1 0 0 1 0] Actual:  good\n",
            "N:  (array([[1.        , 1.        , 1.        , 1.        , 1.        ,\n",
            "        1.        , 1.        , 1.        , 1.41421356]]), array([[1017, 1053, 1318,  346,  115,  637,  414, 1371, 1023]]))\n",
            "Predicted:  unacc Data:  [2 2 0 1 0 2] Actual:  unacc\n",
            "N:  (array([[1.        , 1.        , 1.        , 1.        , 1.        ,\n",
            "        1.        , 1.        , 1.        , 1.41421356]]), array([[ 309,  257,  569,   53,   86,  655,   25,  110, 1032]]))\n",
            "Predicted:  good Data:  [2 3 0 0 2 0] Actual:  good\n",
            "N:  (array([[1.        , 1.        , 1.        , 1.        , 1.        ,\n",
            "        1.        , 1.41421356, 1.41421356, 1.41421356]]), array([[1083,  775,  229, 1470,   90,  213,   24, 1432,  545]]))\n",
            "Predicted:  good Data:  [3 0 1 1 0 0] Actual:  good\n",
            "N:  (array([[1.        , 1.        , 1.        , 1.        , 1.        ,\n",
            "        1.        , 1.        , 1.        , 1.41421356]]), array([[ 420, 1445, 1024, 1070,  660, 1509,  190, 1181,  268]]))\n",
            "Predicted:  unacc Data:  [2 0 2 2 1 0] Actual:  unacc\n",
            "N:  (array([[1.        , 1.        , 1.        , 1.        , 1.        ,\n",
            "        1.        , 1.        , 1.        , 1.41421356]]), array([[ 284, 1388, 1309,  993,  272,  505, 1545,  994, 1547]]))\n",
            "Predicted:  unacc Data:  [0 0 0 2 2 0] Actual:  good\n",
            "N:  (array([[1.        , 1.        , 1.        , 1.        , 1.        ,\n",
            "        1.        , 1.41421356, 1.41421356, 1.41421356]]), array([[ 908,  376, 1081,  282,  688, 1095,  771, 1367,  156]]))\n",
            "Predicted:  good Data:  [3 2 3 0 1 0] Actual:  good\n",
            "N:  (array([[1.        , 1.        , 1.        , 1.        , 1.        ,\n",
            "        1.        , 1.        , 1.41421356, 1.41421356]]), array([[1255,   55,  947, 1222,  170,   68,  976, 1355, 1366]]))\n",
            "Predicted:  unacc Data:  [0 2 0 1 0 0] Actual:  unacc\n",
            "N:  (array([[1.        , 1.        , 1.        , 1.        , 1.        ,\n",
            "        1.        , 1.        , 1.        , 1.41421356]]), array([[ 703,  686, 1486,  702,  295,  692,  281, 1441,  882]]))\n",
            "Predicted:  good Data:  [2 0 0 0 1 0] Actual:  good\n",
            "N:  (array([[1.        , 1.        , 1.        , 1.        , 1.        ,\n",
            "        1.        , 1.        , 1.        , 1.41421356]]), array([[ 260,  476,  950, 1124, 1413, 1028, 1347,  507, 1504]]))\n",
            "Predicted:  unacc Data:  [2 1 2 1 2 0] Actual:  acc\n",
            "N:  (array([[1.        , 1.        , 1.        , 1.        , 1.        ,\n",
            "        1.        , 1.        , 1.        , 1.41421356]]), array([[ 927, 1346,  955, 1037,   17,  926,  395, 1446, 1123]]))\n",
            "Predicted:  good Data:  [0 1 2 2 1 1] Actual:  good\n",
            "N:  (array([[1., 1., 1., 1., 1., 1., 1., 1., 1.]]), array([[ 512, 1537, 1066,  989, 1477, 1261,  422,  415, 1086]]))\n",
            "Predicted:  unacc Data:  [2 1 3 1 1 2] Actual:  acc\n",
            "N:  (array([[1.        , 1.        , 1.        , 1.        , 1.        ,\n",
            "        1.        , 1.        , 1.        , 1.41421356]]), array([[ 802,  827,   76, 1042,   77,  323, 1326,  293,  943]]))\n",
            "Predicted:  good Data:  [2 0 1 0 1 2] Actual:  good\n",
            "N:  (array([[1.        , 1.        , 1.        , 1.        , 1.        ,\n",
            "        1.        , 1.        , 1.        , 1.41421356]]), array([[1113,   54,  223, 1518, 1214,  527,  378,  454, 1512]]))\n",
            "Predicted:  good Data:  [2 3 0 1 2 1] Actual:  good\n",
            "N:  (array([[1., 1., 1., 1., 1., 1., 1., 1., 1.]]), array([[ 213,  604,  468, 1324, 1470,  700, 1479, 1304,  974]]))\n",
            "Predicted:  unacc Data:  [0 2 1 2 2 0] Actual:  unacc\n",
            "N:  (array([[1.        , 1.        , 1.        , 1.        , 1.        ,\n",
            "        1.        , 1.        , 1.41421356, 1.41421356]]), array([[ 813, 1231,  130,  628,  427,  780,  851,  671,  382]]))\n",
            "Predicted:  good Data:  [1 2 2 2 2 1] Actual:  good\n",
            "N:  (array([[1.        , 1.        , 1.        , 1.        , 1.        ,\n",
            "        1.        , 1.        , 1.41421356, 1.41421356]]), array([[ 108, 1031,  101,  907, 1191,  103,   56,  406,  107]]))\n",
            "Predicted:  good Data:  [0 3 1 1 2 2] Actual:  good\n",
            "N:  (array([[1.        , 1.        , 1.        , 1.        , 1.        ,\n",
            "        1.        , 1.        , 1.41421356, 1.41421356]]), array([[ 351,  838,  869,  402,  850, 1239, 1384, 1229,  104]]))\n",
            "Predicted:  good Data:  [3 3 3 1 0 1] Actual:  good\n",
            "N:  (array([[1.        , 1.        , 1.        , 1.        , 1.        ,\n",
            "        1.        , 1.        , 1.41421356, 1.41421356]]), array([[1529,  629,  184, 1458, 1474,  956,  241,  870, 1170]]))\n",
            "Predicted:  good Data:  [0 0 2 0 1 1] Actual:  good\n",
            "N:  (array([[1.        , 1.        , 1.        , 1.        , 1.        ,\n",
            "        1.        , 1.        , 1.        , 1.41421356]]), array([[ 138,  957, 1411,  683,  448,  903,  849,  546, 1198]]))\n",
            "Predicted:  good Data:  [3 2 2 0 2 0] Actual:  good\n",
            "N:  (array([[1.        , 1.        , 1.        , 1.        , 1.        ,\n",
            "        1.        , 1.        , 1.41421356, 1.41421356]]), array([[ 155,  947, 1312,  667,    0, 1542,  751,  244, 1366]]))\n",
            "Predicted:  good Data:  [1 2 1 0 1 2] Actual:  good\n",
            "N:  (array([[1., 1., 1., 1., 1., 1., 1., 1., 1.]]), array([[ 473, 1338, 1137,  817,  768,  734,  729, 1391, 1057]]))\n",
            "Predicted:  unacc Data:  [0 0 1 1 1 0] Actual:  unacc\n",
            "N:  (array([[1., 1., 1., 1., 1., 1., 1., 1., 1.]]), array([[ 918,  595, 1524, 1048, 1198, 1497,  752,  156, 1202]]))\n",
            "Predicted:  unacc Data:  [0 2 3 1 0 2] Actual:  unacc\n",
            "N:  (array([[1.        , 1.        , 1.        , 1.        , 1.        ,\n",
            "        1.        , 1.        , 1.41421356, 1.41421356]]), array([[1317, 1363,  484,  574, 1394,  732,  249,  209, 1321]]))\n",
            "Predicted:  good Data:  [3 2 3 0 2 0] Actual:  good\n",
            "N:  (array([[1.        , 1.        , 1.        , 1.        , 1.        ,\n",
            "        1.41421356, 1.41421356, 1.41421356, 1.41421356]]), array([[ 952,   31,  831, 1444, 1148,   55,    0,  877,  992]]))\n",
            "Predicted:  good Data:  [2 1 3 1 0 2] Actual:  acc\n",
            "N:  (array([[1.        , 1.        , 1.        , 1.        , 1.        ,\n",
            "        1.        , 1.41421356, 1.41421356, 1.41421356]]), array([[ 758, 1134, 1381, 1370, 1011,  474,  144,   70, 1080]]))\n",
            "Predicted:  good Data:  [0 2 3 1 0 1] Actual:  good\n",
            "N:  (array([[1.        , 1.        , 1.        , 1.        , 1.        ,\n",
            "        1.        , 1.        , 1.        , 1.41421356]]), array([[  95,  216,  711,  657, 1321,  135,  209,  441, 1414]]))\n",
            "Predicted:  good Data:  [2 2 2 0 0 0] Actual:  good\n",
            "N:  (array([[1., 1., 1., 1., 1., 1., 1., 1., 1.]]), array([[ 680, 1241, 1140, 1482,  333,  609,   30, 1416,  337]]))\n",
            "Predicted:  good Data:  [3 3 2 1 0 1] Actual:  good\n",
            "N:  (array([[1.        , 1.        , 1.        , 1.        , 1.        ,\n",
            "        1.        , 1.        , 1.        , 1.41421356]]), array([[1172, 1328,  392,  435,  651, 1127, 1494, 1242, 1275]]))\n",
            "Predicted:  good Data:  [3 0 3 0 0 1] Actual:  good\n",
            "N:  (array([[1.        , 1.        , 1.        , 1.        , 1.        ,\n",
            "        1.        , 1.41421356, 1.41421356, 1.41421356]]), array([[1098,  530,    5,   47, 1126,  307, 1354, 1554,  689]]))\n",
            "Predicted:  good Data:  [2 2 0 2 2 0] Actual:  good\n",
            "N:  (array([[1.        , 1.        , 1.        , 1.        , 1.        ,\n",
            "        1.        , 1.        , 1.        , 1.41421356]]), array([[ 728,  262, 1357,   42,  517, 1306,  145,  158,  630]]))\n",
            "Predicted:  good Data:  [1 2 3 0 1 0] Actual:  good\n",
            "N:  (array([[1.        , 1.        , 1.        , 1.        , 1.        ,\n",
            "        1.        , 1.        , 1.        , 1.41421356]]), array([[ 718,  419, 1253,  170,  319, 1166,  715,  455, 1146]]))\n",
            "Predicted:  good Data:  [0 2 3 1 2 2] Actual:  good\n",
            "N:  (array([[1.        , 1.        , 1.        , 1.        , 1.        ,\n",
            "        1.        , 1.        , 1.41421356, 1.41421356]]), array([[ 355,  438,  113, 1460,  631,   92, 1317,  324,  356]]))\n",
            "Predicted:  good Data:  [3 1 3 1 0 2] Actual:  unacc\n",
            "N:  (array([[1.        , 1.        , 1.        , 1.        , 1.        ,\n",
            "        1.        , 1.        , 1.41421356, 1.41421356]]), array([[  76, 1107, 1036, 1469,  634,  144,  442,   47,  474]]))\n",
            "Predicted:  good Data:  [3 2 1 1 0 2] Actual:  unacc\n",
            "N:  (array([[1.        , 1.        , 1.        , 1.        , 1.        ,\n",
            "        1.        , 1.        , 1.        , 1.41421356]]), array([[ 383,  954,  134,  287,   86,  576,  369,  685, 1041]]))\n",
            "Predicted:  good Data:  [3 2 2 2 2 2] Actual:  good\n",
            "N:  (array([[1.        , 1.        , 1.        , 1.        , 1.        ,\n",
            "        1.        , 1.41421356, 1.41421356, 1.41421356]]), array([[1215, 1536,  379,  577,  945,  286,  558, 1106,  939]]))\n",
            "Predicted:  good Data:  [2 0 2 0 0 1] Actual:  good\n",
            "N:  (array([[1.        , 1.        , 1.        , 1.        , 1.        ,\n",
            "        1.        , 1.        , 1.        , 1.41421356]]), array([[ 121,  991, 1098, 1110, 1178,  307, 1233, 1201, 1532]]))\n",
            "Predicted:  good Data:  [2 3 1 1 1 2] Actual:  good\n",
            "N:  (array([[1., 1., 1., 1., 1., 1., 1., 1., 1.]]), array([[ 582, 1190, 1230, 1115,  163,  566, 1105, 1068,  931]]))\n",
            "Predicted:  good Data:  [2 0 1 0 2 1] Actual:  good\n",
            "N:  (array([[1., 1., 1., 1., 1., 1., 1., 1., 1.]]), array([[ 378,  370,   79, 1339,  707, 1113,  210,  765,  559]]))\n",
            "Predicted:  unacc Data:  [1 2 3 2 0 2] Actual:  acc\n",
            "N:  (array([[1.        , 1.        , 1.        , 1.        , 1.        ,\n",
            "        1.        , 1.        , 1.41421356, 1.41421356]]), array([[ 647, 1363, 1414,  362,  192, 1449,  249,  610, 1321]]))\n",
            "Predicted:  good Data:  [3 3 0 1 0 0] Actual:  good\n",
            "N:  (array([[1.        , 1.        , 1.        , 1.        , 1.        ,\n",
            "        1.        , 1.41421356, 1.41421356, 1.41421356]]), array([[ 706, 1313,   73,   46,  235,  777,  304,  254,   62]]))\n",
            "Predicted:  good Data:  [3 1 3 2 1 1] Actual:  good\n",
            "N:  (array([[1., 1., 1., 1., 1., 1., 1., 1., 1.]]), array([[ 515,  340, 1350,  328, 1012, 1373,  221, 1207, 1226]]))\n",
            "Predicted:  vgood Data:  [2 2 2 1 1 0] Actual:  vgood\n",
            "N:  (array([[1., 1., 1., 1., 1., 1., 1., 1., 1.]]), array([[1346, 1487,  756,  337,  609, 1224,  280,  302, 1037]]))\n",
            "Predicted:  vgood Data:  [2 1 3 2 0 0] Actual:  vgood\n",
            "N:  (array([[1.        , 1.        , 1.        , 1.        , 1.        ,\n",
            "        1.        , 1.        , 1.        , 1.41421356]]), array([[1325,   85,  828, 1033, 1258,  443, 1341,  644,  349]]))\n",
            "Predicted:  good Data:  [3 0 0 0 1 2] Actual:  good\n",
            "N:  (array([[1.        , 1.        , 1.        , 1.        , 1.        ,\n",
            "        1.        , 1.41421356, 1.41421356, 1.41421356]]), array([[1439,  454,  274,  288,  527, 1267,  963, 1028, 1540]]))\n",
            "Predicted:  good Data:  [2 1 1 2 2 1] Actual:  good\n",
            "N:  (array([[1., 1., 1., 1., 1., 1., 1., 1., 1.]]), array([[1284,   58,  471,  105,  783,  646,  258, 1459,  334]]))\n",
            "Predicted:  unacc Data:  [0 2 2 2 0 2] Actual:  unacc\n",
            "N:  (array([[1.        , 1.        , 1.        , 1.        , 1.        ,\n",
            "        1.        , 1.        , 1.        , 1.41421356]]), array([[  69,  574,  314,  681,  647,  249, 1069,   15,  711]]))\n",
            "Predicted:  good Data:  [1 1 3 2 0 2] Actual:  acc\n",
            "N:  (array([[1.        , 1.        , 1.        , 1.        , 1.        ,\n",
            "        1.        , 1.41421356, 1.41421356, 1.41421356]]), array([[ 758,   80,  231, 1370,  193,  523,  588, 1269,  387]]))\n",
            "Predicted:  good Data:  [2 1 3 1 1 1] Actual:  good\n",
            "N:  (array([[1., 1., 1., 1., 1., 1., 1., 1., 1.]]), array([[ 386, 1207, 1359, 1011,  394,  328,  586, 1507,  835]]))\n",
            "Predicted:  good Data:  [1 3 2 0 2 1] Actual:  good\n",
            "N:  (array([[1.        , 1.        , 1.        , 1.        , 1.        ,\n",
            "        1.        , 1.        , 1.41421356, 1.41421356]]), array([[1336,  930,  807,   71,  459, 1455,  431,  336,  946]]))\n",
            "Predicted:  good Data:  [0 3 3 1 2 1] Actual:  good\n",
            "N:  (array([[1.        , 1.        , 1.        , 1.        , 1.        ,\n",
            "        1.        , 1.        , 1.41421356, 1.41421356]]), array([[ 797, 1460,  815,  793,  438, 1047, 1539, 1259,  168]]))\n",
            "Predicted:  vgood Data:  [1 1 3 1 0 0] Actual:  vgood\n",
            "N:  (array([[1., 1., 1., 1., 1., 1., 1., 1., 1.]]), array([[1080, 1258,  187,   12,  153,  774,  177, 1550,   85]]))\n",
            "Predicted:  good Data:  [3 0 0 0 0 0] Actual:  good\n",
            "N:  (array([[1.        , 1.        , 1.        , 1.        , 1.        ,\n",
            "        1.        , 1.41421356, 1.41421356, 1.41421356]]), array([[1527,  260,  507,  420, 1445,  197,  268,   97,  274]]))\n",
            "Predicted:  good Data:  [1 3 0 0 2 0] Actual:  good\n",
            "N:  (array([[1.        , 1.        , 1.        , 1.        , 1.        ,\n",
            "        1.        , 1.41421356, 1.41421356, 1.41421356]]), array([[1019,  545,  911,   24, 1549, 1432,  669,  904,  245]]))\n",
            "Predicted:  good Data:  [0 3 1 1 1 2] Actual:  good\n",
            "N:  (array([[1.        , 1.        , 1.        , 1.        , 1.        ,\n",
            "        1.        , 1.        , 1.        , 1.41421356]]), array([[ 538,  978,  566,  492,  936, 1327, 1229, 1314,  838]]))\n",
            "Predicted:  good Data:  [2 0 3 0 2 1] Actual:  good\n",
            "N:  (array([[1.        , 1.        , 1.        , 1.        , 1.        ,\n",
            "        1.        , 1.        , 1.        , 1.41421356]]), array([[1322,  535, 1380,  790,  238,  701,  370, 1277,  844]]))\n",
            "Predicted:  unacc Data:  [2 1 1 1 1 0] Actual:  acc\n",
            "N:  (array([[1., 1., 1., 1., 1., 1., 1., 1., 1.]]), array([[ 119,  876, 1247, 1346, 1008,  848, 1521, 1102,  584]]))\n",
            "Predicted:  good Data:  [2 3 1 0 0 2] Actual:  good\n",
            "N:  (array([[1.        , 1.        , 1.        , 1.        , 1.        ,\n",
            "        1.        , 1.        , 1.        , 1.41421356]]), array([[1006,  408, 1068, 1145,  893, 1029,  754,  163, 1057]]))\n",
            "Predicted:  good Data:  [3 0 3 2 2 1] Actual:  good\n",
            "N:  (array([[1.        , 1.        , 1.        , 1.        , 1.        ,\n",
            "        1.        , 1.41421356, 1.41421356, 1.41421356]]), array([[  36,  515,   51, 1483,  181, 1226,  982, 1277, 1506]]))\n",
            "Predicted:  vgood Data:  [1 0 1 2 0 0] Actual:  vgood\n",
            "N:  (array([[1.        , 1.        , 1.        , 1.        , 1.        ,\n",
            "        1.        , 1.        , 1.        , 1.41421356]]), array([[ 109,  247,   72,  532, 1276, 1205, 1197,   21, 1048]]))\n",
            "Predicted:  unacc Data:  [2 2 0 1 1 0] Actual:  unacc\n",
            "N:  (array([[1., 1., 1., 1., 1., 1., 1., 1., 1.]]), array([[ 672,  262,  347, 1143,  146,  876,   42,  584,  400]]))\n",
            "Predicted:  good Data:  [1 2 0 0 1 1] Actual:  good\n",
            "N:  (array([[1.        , 1.        , 1.        , 1.        , 1.        ,\n",
            "        1.        , 1.        , 1.        , 1.41421356]]), array([[ 409,  466, 1546,  782, 1319, 1391,  246,  809,   43]]))\n",
            "Predicted:  good Data:  [1 1 2 0 0 1] Actual:  good\n",
            "N:  (array([[1., 1., 1., 1., 1., 1., 1., 1., 1.]]), array([[1235,  839, 1456,  602, 1233, 1368,  497,  131, 1433]]))\n",
            "Predicted:  good Data:  [1 2 1 0 2 1] Actual:  good\n",
            "N:  (array([[1., 1., 1., 1., 1., 1., 1., 1., 1.]]), array([[1391,  735,   71,  980,  473,  245, 1349,  627, 1336]]))\n",
            "Predicted:  good Data:  [3 3 3 2 2 2] Actual:  good\n",
            "N:  (array([[1.        , 1.        , 1.        , 1.        , 1.        ,\n",
            "        1.        , 1.41421356, 1.41421356, 1.41421356]]), array([[ 779,  577,  555, 1215,  291, 1161,  477,  892,  174]]))\n",
            "Predicted:  unacc Data:  [0 2 3 1 2 0] Actual:  unacc\n",
            "N:  (array([[1.        , 1.        , 1.        , 1.        , 1.        ,\n",
            "        1.        , 1.        , 1.        , 1.41421356]]), array([[ 816,  871, 1047,  806,  764,  900,  565,  438, 1087]]))\n",
            "Predicted:  good Data:  [3 0 1 2 2 0] Actual:  good\n",
            "N:  (array([[1.        , 1.        , 1.        , 1.        , 1.        ,\n",
            "        1.        , 1.        , 1.41421356, 1.41421356]]), array([[ 705, 1491, 1375, 1400,  449, 1289, 1308,   33,  993]]))\n",
            "Predicted:  good Data:  [0 2 3 0 2 1] Actual:  good\n",
            "N:  (array([[1.        , 1.        , 1.        , 1.        , 1.        ,\n",
            "        1.        , 1.        , 1.        , 1.41421356]]), array([[ 438,  631,  900, 1503,  793, 1294, 1136,  405,  913]]))\n",
            "Predicted:  good Data:  [0 2 3 2 2 2] Actual:  good\n",
            "N:  (array([[1.        , 1.        , 1.        , 1.        , 1.        ,\n",
            "        1.41421356, 1.41421356, 1.41421356, 1.41421356]]), array([[ 126, 1440,  176, 1282,  324,  355,   92,  438,   81]]))\n",
            "Predicted:  good Data:  [3 3 2 0 2 2] Actual:  good\n",
            "N:  (array([[1.        , 1.        , 1.        , 1.        , 1.        ,\n",
            "        1.        , 1.        , 1.41421356, 1.41421356]]), array([[ 253,  720,  961, 1270, 1553,  116, 1232,  155, 1090]]))\n",
            "Predicted:  good Data:  [1 2 1 1 0 1] Actual:  good\n",
            "N:  (array([[1., 1., 1., 1., 1., 1., 1., 1., 1.]]), array([[ 934,  114,  737,  502,  995,  690,  891, 1085, 1046]]))\n",
            "Predicted:  good Data:  [3 2 1 2 2 2] Actual:  good\n",
            "N:  (array([[1.        , 1.        , 1.        , 1.        , 1.        ,\n",
            "        1.        , 1.        , 1.41421356, 1.41421356]]), array([[ 562,  594, 1193,  199, 1257, 1106,  694,  616,  334]]))\n",
            "Predicted:  acc Data:  [1 1 2 1 0 2] Actual:  acc\n",
            "N:  (array([[1., 1., 1., 1., 1., 1., 1., 1., 1.]]), array([[1456, 1134,  602,  758, 1196,  252,  714,  467,  450]]))\n",
            "Predicted:  unacc Data:  [1 0 1 2 1 2] Actual:  unacc\n",
            "N:  (array([[1., 1., 1., 1., 1., 1., 1., 1., 1.]]), array([[ 804,  834,  591,  603,  673,  823, 1376,   74,   84]]))\n",
            "Predicted:  unacc Data:  [0 0 0 1 0 0] Actual:  unacc\n",
            "N:  (array([[1.        , 1.        , 1.        , 1.        , 1.        ,\n",
            "        1.        , 1.        , 1.41421356, 1.41421356]]), array([[ 967,  156, 1274, 1524,  548,  702, 1481,  376, 1206]]))\n",
            "Predicted:  good Data:  [0 3 2 1 1 0] Actual:  good\n",
            "N:  (array([[1.        , 1.        , 1.        , 1.        , 1.        ,\n",
            "        1.        , 1.        , 1.41421356, 1.41421356]]), array([[1174,  811,  887,  829, 1171,   63,    1,  303,  946]]))\n",
            "Predicted:  good Data:  [1 3 1 2 1 1] Actual:  good\n",
            "N:  (array([[1., 1., 1., 1., 1., 1., 1., 1., 1.]]), array([[ 990,  461, 1434, 1100,  520, 1254,  658,  833,  430]]))\n",
            "Predicted:  good Data:  [3 1 0 1 2 2] Actual:  good\n",
            "N:  (array([[1.        , 1.        , 1.        , 1.        , 1.        ,\n",
            "        1.        , 1.        , 1.41421356, 1.41421356]]), array([[1175, 1217,  478,  616,  495,  381,  433,  288,  623]]))\n",
            "Predicted:  good Data:  [2 3 3 0 1 0] Actual:  good\n",
            "N:  (array([[1.        , 1.        , 1.        , 1.        , 1.        ,\n",
            "        1.        , 1.        , 1.        , 1.41421356]]), array([[465, 718, 313, 170, 917, 136, 976, 118, 311]]))\n",
            "Predicted:  unacc Data:  [2 0 3 1 0 2] Actual:  unacc\n",
            "N:  (array([[1.        , 1.        , 1.        , 1.        , 1.        ,\n",
            "        1.        , 1.41421356, 1.41421356, 1.41421356]]), array([[  70,  144,  162,  827, 1054,  139,  121, 1519,  758]]))\n",
            "Predicted:  unacc Data:  [2 0 1 1 2 0] Actual:  unacc\n",
            "N:  (array([[1.        , 1.        , 1.        , 1.        , 1.        ,\n",
            "        1.        , 1.        , 1.        , 1.41421356]]), array([[1102,  786,  705,  395, 1491,  472,  707,  210, 1048]]))\n",
            "Predicted:  unacc Data:  [0 1 1 2 1 0] Actual:  unacc\n",
            "N:  (array([[1.        , 1.        , 1.        , 1.        , 1.        ,\n",
            "        1.        , 1.        , 1.        , 1.41421356]]), array([[ 628, 1202,  752, 1537,   16, 1261,  771,  659, 1014]]))\n",
            "Predicted:  unacc Data:  [3 2 2 2 2 0] Actual:  unacc\n",
            "N:  (array([[1.        , 1.        , 1.        , 1.        , 1.        ,\n",
            "        1.        , 1.        , 1.        , 1.41421356]]), array([[ 617,  945, 1510,  906,  677, 1243,  667,  812,   99]]))\n",
            "Predicted:  unacc Data:  [1 3 3 1 1 0] Actual:  unacc\n",
            "N:  (array([[1.        , 1.        , 1.        , 1.        , 1.        ,\n",
            "        1.        , 1.        , 1.        , 1.41421356]]), array([[ 757,  861,  718,  313,    1, 1114,  713,  829,  208]]))\n",
            "Predicted:  unacc Data:  [2 2 2 2 2 2] Actual:  unacc\n",
            "N:  (array([[1.        , 1.        , 1.        , 1.        , 1.        ,\n",
            "        1.        , 1.        , 1.        , 1.41421356]]), array([[ 544,  626, 1316, 1193,  123, 1191,  103,  862, 1315]]))\n",
            "Predicted:  good Data:  [0 3 0 0 2 1] Actual:  good\n",
            "N:  (array([[1.        , 1.        , 1.        , 1.        , 1.        ,\n",
            "        1.        , 1.        , 1.41421356, 1.41421356]]), array([[1431,  154, 1147, 1074, 1392, 1549, 1019, 1500,  437]]))\n",
            "Predicted:  good Data:  [0 2 2 1 1 2] Actual:  unacc\n",
            "N:  (array([[1., 1., 1., 1., 1., 1., 1., 1., 1.]]), array([[ 355, 1229,  464,  492,  574,   37, 1317, 1104,   15]]))\n",
            "Predicted:  good Data:  [2 2 2 0 2 2] Actual:  good\n",
            "N:  (array([[1., 1., 1., 1., 1., 1., 1., 1., 1.]]), array([[1553,  880,  720, 1305,   26,  371,  862, 1221, 1471]]))\n",
            "Predicted:  good Data:  [2 1 0 2 2 1] Actual:  good\n",
            "N:  (array([[1.        , 1.        , 1.        , 1.        , 1.        ,\n",
            "        1.        , 1.        , 1.        , 1.41421356]]), array([[ 145, 1462,  330, 1357,   60, 1021,  738, 1342,  341]]))\n",
            "Predicted:  unacc Data:  [0 2 3 2 1 2] Actual:  unacc\n",
            "N:  (array([[1.        , 1.        , 1.        , 1.        , 1.        ,\n",
            "        1.        , 1.        , 1.41421356, 1.41421356]]), array([[ 822, 1449,  249,  425,   81, 1317,   15,  324,  209]]))\n",
            "Predicted:  good Data:  [2 3 3 1 2 2] Actual:  good\n",
            "N:  (array([[1.        , 1.        , 1.        , 1.        , 1.        ,\n",
            "        1.        , 1.41421356, 1.41421356, 1.41421356]]), array([[ 555,  868,  127,  779,  662, 1418, 1305, 1303,  847]]))\n",
            "Predicted:  good Data:  [3 1 1 0 1 0] Actual:  good\n",
            "N:  (array([[1., 1., 1., 1., 1., 1., 1., 1., 1.]]), array([[ 516,  935, 1397, 1366,  533,  119, 1008,  612, 1443]]))\n",
            "Predicted:  good Data:  [3 0 0 0 2 2] Actual:  good\n",
            "N:  (array([[1.        , 1.        , 1.        , 1.        , 1.        ,\n",
            "        1.41421356, 1.41421356, 1.41421356, 1.41421356]]), array([[ 963, 1097,  495, 1540,  381,  559,   79,  454,  527]]))\n",
            "Predicted:  unacc Data:  [2 2 3 1 2 2] Actual:  unacc\n",
            "N:  (array([[1.        , 1.        , 1.        , 1.        , 1.        ,\n",
            "        1.        , 1.        , 1.        , 1.41421356]]), array([[ 791, 1305,  892,  862,  123, 1042,  293,   92,  356]]))\n",
            "Predicted:  good Data:  [1 2 0 0 2 2] Actual:  good\n",
            "N:  (array([[1.        , 1.        , 1.        , 1.        , 1.        ,\n",
            "        1.        , 1.41421356, 1.41421356, 1.41421356]]), array([[ 437,  579, 1500,  596,  473,  215, 1551,  104,   43]]))\n",
            "Predicted:  good Data:  [3 0 0 2 1 1] Actual:  good\n",
            "N:  (array([[1.        , 1.        , 1.        , 1.        , 1.        ,\n",
            "        1.        , 1.        , 1.        , 1.41421356]]), array([[ 726,  140, 1533,  225, 1007, 1173,  731,  460,  814]]))\n",
            "Predicted:  unacc Data:  [2 3 1 1 1 0] Actual:  unacc\n",
            "N:  (array([[1., 1., 1., 1., 1., 1., 1., 1., 1.]]), array([[ 317, 1238,  316,  188,  876, 1225,  518,  699,  931]]))\n",
            "Predicted:  good Data:  [1 2 3 0 1 2] Actual:  good\n",
            "N:  (array([[1., 1., 1., 1., 1., 1., 1., 1., 1.]]), array([[  3, 276, 195, 356, 817, 399, 715, 943, 913]]))\n",
            "Predicted:  good Data:  [3 0 2 2 1 0] Actual:  good\n",
            "N:  (array([[1.        , 1.        , 1.        , 1.        , 1.        ,\n",
            "        1.        , 1.        , 1.41421356, 1.41421356]]), array([[ 697,  335,  449, 1400, 1495,  318,  857, 1228, 1388]]))\n",
            "Predicted:  good Data:  [1 3 3 1 0 1] Actual:  good\n",
            "N:  (array([[1., 1., 1., 1., 1., 1., 1., 1., 1.]]), array([[1383, 1529,  441, 1321, 1114, 1534,  722, 1034,  757]]))\n",
            "Predicted:  good Data:  [1 3 3 0 0 2] Actual:  good\n",
            "N:  (array([[1.        , 1.        , 1.        , 1.        , 1.        ,\n",
            "        1.        , 1.        , 1.41421356, 1.41421356]]), array([[1534, 1383,  194,    3,  399,    8,  391, 1394, 1027]]))\n",
            "Predicted:  good Data:  [0 0 2 1 1 1] Actual:  good\n",
            "N:  (array([[1.        , 1.        , 1.        , 1.        , 1.        ,\n",
            "        1.        , 1.        , 1.        , 1.41421356]]), array([[ 228,  989, 1240, 1477,  636, 1345, 1497,  595,  846]]))\n",
            "Predicted:  unacc Data:  [3 1 0 2 0 0] Actual:  unacc\n",
            "N:  (array([[1.        , 1.        , 1.        , 1.        , 1.        ,\n",
            "        1.        , 1.41421356, 1.41421356, 1.41421356]]), array([[ 322,  886, 1273,  222,  648,  674, 1509,  239,  460]]))\n",
            "Predicted:  unacc Data:  [0 2 1 2 1 0] Actual:  unacc\n",
            "N:  (array([[1.        , 1.        , 1.        , 1.        , 1.        ,\n",
            "        1.        , 1.        , 1.41421356, 1.41421356]]), array([[ 940,  772, 1405, 1208, 1362,  671,  382,  692, 1065]]))\n",
            "Predicted:  good Data:  [2 0 0 2 1 2] Actual:  good\n",
            "N:  (array([[1.        , 1.        , 1.        , 1.        , 1.        ,\n",
            "        1.        , 1.        , 1.        , 1.41421356]]), array([[1291,  591, 1072, 1298,  965,  834, 1173,  731, 1535]]))\n",
            "Predicted:  good Data:  [0 3 2 0 1 2] Actual:  good\n",
            "N:  (array([[1.        , 1.        , 1.        , 1.        , 1.        ,\n",
            "        1.        , 1.        , 1.        , 1.41421356]]), array([[1073, 1501,   37,  978,  492, 1515, 1389,  494,  807]]))\n",
            "Predicted:  good Data:  [1 1 2 0 1 2] Actual:  good\n",
            "N:  (array([[1., 1., 1., 1., 1., 1., 1., 1., 1.]]), array([[1488,  734,  953,  714,  497,  195,  817,  514, 1456]]))\n",
            "Predicted:  unacc Data:  [2 2 1 1 0 2] Actual:  unacc\n",
            "N:  (array([[1.        , 1.        , 1.        , 1.        , 1.        ,\n",
            "        1.        , 1.        , 1.        , 1.41421356]]), array([[   9,  787,  163,  453, 1105,  408,  934,  424, 1057]]))\n",
            "Predicted:  good Data:  [1 2 1 2 2 1] Actual:  good\n",
            "N:  (array([[1., 1., 1., 1., 1., 1., 1., 1., 1.]]), array([[ 130,   58, 1100,  646, 1231, 1254, 1349, 1116, 1315]]))\n",
            "Predicted:  good Data:  [1 2 3 2 2 1] Actual:  good\n",
            "N:  (array([[1.        , 1.        , 1.        , 1.        , 1.        ,\n",
            "        1.        , 1.        , 1.        , 1.41421356]]), array([[1087,  324,  610, 1453,  462,  137,  126,  541,   92]]))\n",
            "Predicted:  unacc Data:  [1 2 0 1 1 2] Actual:  unacc\n",
            "N:  (array([[1., 1., 1., 1., 1., 1., 1., 1., 1.]]), array([[ 257,  110,  513,  785, 1454,  246,  729,  579,   11]]))\n",
            "Predicted:  good Data:  [0 3 3 1 0 0] Actual:  good\n",
            "N:  (array([[1.        , 1.        , 1.        , 1.        , 1.        ,\n",
            "        1.        , 1.        , 1.41421356, 1.41421356]]), array([[441, 788,  63,   4, 135, 829, 757, 366, 208]]))\n",
            "Predicted:  good Data:  [1 1 1 2 0 1] Actual:  good\n",
            "N:  (array([[1., 1., 1., 1., 1., 1., 1., 1., 1.]]), array([[1132, 1085,  914,  180,  326,  114, 1269, 1197,   21]]))\n",
            "Predicted:  good Data:  [2 3 2 0 1 1] Actual:  good\n",
            "N:  (array([[1., 1., 1., 1., 1., 1., 1., 1., 1.]]), array([[ 933,  712,  917,  136, 1088, 1266,  357,  459, 1090]]))\n",
            "Predicted:  unacc Data:  [1 3 1 2 0 0] Actual:  unacc\n",
            "N:  (array([[1.        , 1.        , 1.        , 1.        , 1.        ,\n",
            "        1.        , 1.        , 1.        , 1.41421356]]), array([[ 624,  520,  320, 1079,  151,  361,  840,  990,  737]]))\n",
            "Predicted:  unacc Data:  [2 3 3 1 1 2] Actual:  unacc\n",
            "N:  (array([[1.        , 1.        , 1.        , 1.        , 1.        ,\n",
            "        1.        , 1.        , 1.        , 1.41421356]]), array([[1082,   40,  721,  825,  675, 1170,  306, 1042,  399]]))\n",
            "Predicted:  unacc Data:  [0 2 2 2 0 0] Actual:  unacc\n",
            "N:  (array([[1.        , 1.        , 1.        , 1.        , 1.        ,\n",
            "        1.        , 1.        , 1.41421356, 1.41421356]]), array([[ 860, 1362, 1069,  940,  499,  496, 1473, 1212,  919]]))\n",
            "Predicted:  good Data:  [0 3 1 2 0 1] Actual:  good\n",
            "N:  (array([[1.        , 1.        , 1.        , 1.        , 1.        ,\n",
            "        1.        , 1.        , 1.        , 1.41421356]]), array([[1194, 1419,  624, 1108, 1204,  520, 1516,  658,  538]]))\n",
            "Predicted:  good Data:  [2 3 2 0 2 1] Actual:  good\n",
            "N:  (array([[1.        , 1.        , 1.        , 1.        , 1.        ,\n",
            "        1.        , 1.        , 1.41421356, 1.41421356]]), array([[1471,  116,  792, 1393, 1049,  432,  720,  807, 1455]]))\n",
            "Predicted:  good Data:  [0 2 2 0 2 2] Actual:  good\n",
            "N:  (array([[1.        , 1.        , 1.        , 1.        , 1.        ,\n",
            "        1.        , 1.        , 1.        , 1.41421356]]), array([[ 405,  355, 1389,  542, 1551,  631,   37, 1221,  107]]))\n"
          ],
          "name": "stdout"
        }
      ]
    },
    {
      "cell_type": "markdown",
      "metadata": {
        "id": "XigxVSsl7FMg"
      },
      "source": [
        "\n",
        "**************************************************************\n",
        "**************************************************************\n",
        "### **3. third Theme: support vector machines(SVM)**\n",
        "**************************************************************\n",
        "**************************************************************\n",
        "El uso de una maquina de sorporte de matrices(SVM) es el mismo o tiene el mismo fin que usar K-NN, ya que ambas clasifican la data, pero con diferencia que SVM puede clasificar datos mas extensos que K-NN, y no permite clasificar datos que se encuentren o tengan una correspondencia lineal, para K-NN clasificar datos de forma no lineal(figura) nos retornaria un accuracy muy bajo, y ahi es donde dentra a trabajar SVM.\n",
        "\n",
        "![alt text](http://techwithtim.net/wp-content/uploads/2019/01/svm-data.png)\n",
        "\n",
        "Como funciona? link = https://techwithtim.net/tutorials/machine-learning-python/svm-2/"
      ]
    },
    {
      "cell_type": "code",
      "metadata": {
        "id": "kep5hp7qOMOG"
      },
      "source": [
        "import sklearn\n",
        "from sklearn import svm\n",
        "from sklearn import datasets\n",
        "\n",
        "cancer = datasets.load_breast_cancer()\n",
        "\n",
        "print(cancer.feature_names)\n",
        "print(cancer.target_names)"
      ],
      "execution_count": null,
      "outputs": []
    },
    {
      "cell_type": "code",
      "metadata": {
        "id": "D7krWLaSD2yP"
      },
      "source": [
        "x = cancer.data\n",
        "y = cancer.target\n",
        "\n",
        "x_train, x_test, y_train, y_test = sklearn.model_selection.train_test_split(x,y,test_size = 0.2)\n",
        "\n",
        "print(x_train[:5], y_train[:5])"
      ],
      "execution_count": null,
      "outputs": []
    },
    {
      "cell_type": "code",
      "metadata": {
        "id": "8bwD7DCrEgVF"
      },
      "source": [
        "from sklearn import metrics\n",
        "from sklearn.neighbors import KNeighborsClassifier\n",
        "\n",
        "clf = svm.SVC(kernel=\"linear\",C=2)\n",
        "\n",
        "clf.fit(x_train,y_train)\n",
        "y_pred = clf.predict(x_test)\n",
        "\n",
        "acc = metrics.accuracy_score(y_test,y_pred)\n",
        "\n",
        "print(\" Accuracy: \",int(acc*100),\"%\")"
      ],
      "execution_count": null,
      "outputs": []
    },
    {
      "cell_type": "markdown",
      "metadata": {
        "id": "yC5MNKJDoQ1t"
      },
      "source": [
        "**************************************************************\n",
        "**************************************************************\n",
        "### **4. fourth Theme: K-Means Clustering**\n",
        "**************************************************************\n",
        "**************************************************************\n",
        "Como funciona?, a diferencia de otros algoritmos de aprendizaje donde se envia los datos y etiquetas(aprendizaje supervisado), k-means NO es un algoritmo de aprendizaje supevisado, o sea que solo enviaremos los datos ya no las etiquetas o labels. \n",
        "pasos para que k-means se desarrolle:\n",
        "\n",
        "Paso 1 : Seleccione aleatoriamente K puntos para colocar K centroides.\n",
        "\n",
        "Paso 2 : Asigne todos los puntos de datos a los centroides por distancia. El centroide más cercano a un punto es aquel al que está asignado.\n",
        "\n",
        "Paso 3: promedia todos los puntos que pertenecen a cada centroide para encontrar el centro de esos grupos (centro de masa). Coloque los centroides correspondientes en esa posición.\n",
        "\n",
        "Paso 4 : reasigne cada punto una vez más al centroide más cercano.\n",
        "\n",
        "Paso 5 : repita los pasos 3-4 hasta que ningún punto cambie a qué centroide pertenece.\n",
        "\n",
        "link visualizacion: https://techwithtim.net/tutorials/machine-learning-python/k-means-1/"
      ]
    },
    {
      "cell_type": "code",
      "metadata": {
        "id": "WvjNPQLuolOt"
      },
      "source": [
        "import numpy as np\n",
        "import sklearn\n",
        "from sklearn.preprocessing import scale\n",
        "from sklearn.datasets import load_digits\n",
        "from sklearn.cluster import KMeans\n",
        "from sklearn import metrics\n",
        "\n",
        "digits = load_digits()\n",
        "data = scale(digits.data)\n",
        "y = digits.target\n",
        "#k = len(np.unique(y))\n",
        "k = 10\n",
        "samples, features = data.shape"
      ],
      "execution_count": null,
      "outputs": []
    },
    {
      "cell_type": "code",
      "metadata": {
        "id": "AJy7hridvxpU"
      },
      "source": [
        "def bench_k_means(estimator, name, data):\n",
        "    estimator.fit(data)\n",
        "    print('%-9s\\t%i\\t%.3f\\t%.3f\\t%.3f\\t%.3f\\t%.3f\\t%.3f'\n",
        "          % (name, estimator.inertia_,\n",
        "             metrics.homogeneity_score(y, estimator.labels_),\n",
        "             metrics.completeness_score(y, estimator.labels_),\n",
        "             metrics.v_measure_score(y, estimator.labels_),\n",
        "             metrics.adjusted_rand_score(y, estimator.labels_),\n",
        "             metrics.adjusted_mutual_info_score(y,  estimator.labels_),\n",
        "             metrics.silhouette_score(data, estimator.labels_,\n",
        "                                      metric='euclidean')))"
      ],
      "execution_count": null,
      "outputs": []
    },
    {
      "cell_type": "code",
      "metadata": {
        "id": "rpzRRGuhvy4v"
      },
      "source": [
        "clf = KMeans(n_clusters=k, init=\"random\", n_init=10)\n",
        "bench_k_means(clf, \"1\", data)"
      ],
      "execution_count": null,
      "outputs": []
    },
    {
      "cell_type": "code",
      "metadata": {
        "id": "DaaAgwG_w99W"
      },
      "source": [
        "from time import time\n",
        "import numpy as np\n",
        "import matplotlib.pyplot as plt\n",
        "\n",
        "from sklearn import metrics\n",
        "from sklearn.cluster import KMeans\n",
        "from sklearn.datasets import load_digits\n",
        "from sklearn.decomposition import PCA\n",
        "from sklearn.preprocessing import scale\n",
        "\n",
        "np.random.seed(42)\n",
        "\n",
        "digits = load_digits()\n",
        "data = scale(digits.data)\n",
        "\n",
        "n_samples, n_features = data.shape\n",
        "n_digits = len(np.unique(digits.target))\n",
        "labels = digits.target\n",
        "\n",
        "sample_size = 300\n",
        "\n",
        "print(\"n_digits: %d, \\t n_samples %d, \\t n_features %d\"\n",
        "      % (n_digits, n_samples, n_features))\n",
        "\n",
        "\n",
        "print(82 * '_')\n",
        "print('init\\t\\ttime\\tinertia\\thomo\\tcompl\\tv-meas\\tARI\\tAMI\\tsilhouette')\n",
        "\n",
        "\n",
        "def bench_k_means(estimator, name, data):\n",
        "    t0 = time()\n",
        "    estimator.fit(data)\n",
        "    print('%-9s\\t%.2fs\\t%i\\t%.3f\\t%.3f\\t%.3f\\t%.3f\\t%.3f\\t%.3f'\n",
        "          % (name, (time() - t0), estimator.inertia_,\n",
        "             metrics.homogeneity_score(labels, estimator.labels_),\n",
        "             metrics.completeness_score(labels, estimator.labels_),\n",
        "             metrics.v_measure_score(labels, estimator.labels_),\n",
        "             metrics.adjusted_rand_score(labels, estimator.labels_),\n",
        "             metrics.adjusted_mutual_info_score(labels,  estimator.labels_),\n",
        "             metrics.silhouette_score(data, estimator.labels_,\n",
        "                                      metric='euclidean',\n",
        "                                      sample_size=sample_size)))\n",
        "\n",
        "bench_k_means(KMeans(init='k-means++', n_clusters=n_digits, n_init=10),\n",
        "              name=\"k-means++\", data=data)\n",
        "\n",
        "bench_k_means(KMeans(init='random', n_clusters=n_digits, n_init=10),\n",
        "              name=\"random\", data=data)\n",
        "\n",
        "\n",
        "print(82 * '_')\n",
        "\n",
        "# #############################################################################\n",
        "# Visualize the results on PCA-reduced data\n",
        "\n",
        "reduced_data = PCA(n_components=2).fit_transform(data)\n",
        "kmeans = KMeans(init='k-means++', n_clusters=n_digits, n_init=10)\n",
        "kmeans.fit(reduced_data)\n",
        "\n",
        "# Step size of the mesh. Decrease to increase the quality of the VQ.\n",
        "h = .02     # point in the mesh [x_min, x_max]x[y_min, y_max].\n",
        "\n",
        "# Plot the decision boundary. For that, we will assign a color to each\n",
        "x_min, x_max = reduced_data[:, 0].min() - 1, reduced_data[:, 0].max() + 1\n",
        "y_min, y_max = reduced_data[:, 1].min() - 1, reduced_data[:, 1].max() + 1\n",
        "xx, yy = np.meshgrid(np.arange(x_min, x_max, h), np.arange(y_min, y_max, h))\n",
        "\n",
        "# Obtain labels for each point in mesh. Use last trained model.\n",
        "Z = kmeans.predict(np.c_[xx.ravel(), yy.ravel()])\n",
        "\n",
        "# Put the result into a color plot\n",
        "Z = Z.reshape(xx.shape)\n",
        "plt.figure(1)\n",
        "plt.clf()\n",
        "plt.imshow(Z, interpolation='nearest',\n",
        "           extent=(xx.min(), xx.max(), yy.min(), yy.max()),\n",
        "           cmap=plt.cm.Paired,\n",
        "           aspect='auto', origin='lower')\n",
        "\n",
        "plt.plot(reduced_data[:, 0], reduced_data[:, 1], 'k.', markersize=2)\n",
        "# Plot the centroids as a white X\n",
        "centroids = kmeans.cluster_centers_\n",
        "plt.scatter(centroids[:, 0], centroids[:, 1],\n",
        "            marker='x', s=169, linewidths=3,\n",
        "            color='w', zorder=10)\n",
        "plt.title('K-means clustering on the digits dataset (PCA-reduced data)\\n'\n",
        "          'Centroids are marked with white cross')\n",
        "plt.xlim(x_min, x_max)\n",
        "plt.ylim(y_min, y_max)\n",
        "plt.xticks(())\n",
        "plt.yticks(())\n",
        "plt.show()"
      ],
      "execution_count": null,
      "outputs": []
    },
    {
      "cell_type": "markdown",
      "metadata": {
        "id": "DmNWl_LS1LK7"
      },
      "source": [
        "**************************************************************\n",
        "**************************************************************\n",
        "### **5. Fifth Topic: Neural Networks**\n",
        "**************************************************************\n",
        "**************************************************************\n",
        "Entonces, ¿qué es una red neuronal? Cuando la mayoría de las personas se entera de una red neuronal, piensa en una caja negra mágica que es capaz de resolver problemas muy complicados. En realidad, una red neuronal es solo una fórmula matemática muy elegante, más o menos. Una red neuronal está inspirada biológicamente y lleva el nombre de la red de neuronas que existen en su cerebro. Una red neuronal es simplemente un grupo de neuronas conectadas, hay algunas neuronas de entrada, algunas neuronas de salida y un grupo de lo que llamamos neuronas ocultas en el medio. Cuando alimentamos información a las neuronas de entrada, obtenemos información de las neuronas de salida. La información comienza en las neuronas de entrada y viaja a las siguientes capas de neuronas que tienen lo que se llama un peso y un sesgo aplicado. Estos pesos y sesgos comienzan de forma aleatoria y se modifican a medida que la red aprende y ve más datos.\n",
        "![alt text](https://techwithtim.net/wp-content/uploads/2019/05/1_3w6P6OHcU3j0T_lRUmnjQw.jpeg)"
      ]
    },
    {
      "cell_type": "code",
      "metadata": {
        "id": "ZTLmjkvqQEns"
      },
      "source": [
        "import tensorflow as tf \n",
        "from tensorflow import keras\n",
        "import numpy as np \n",
        "import matplotlib.pyplot as plt\n",
        "\n",
        "data = keras.datasets.fashion_mnist"
      ],
      "execution_count": null,
      "outputs": []
    },
    {
      "cell_type": "code",
      "metadata": {
        "id": "gKiiRoQoR8-j",
        "outputId": "9406abe8-e089-4855-b247-54a6dc31e982",
        "colab": {
          "base_uri": "https://localhost:8080/",
          "height": 153
        }
      },
      "source": [
        "(train_images, train_labels), (test_images, test_labels) = data.load_data()"
      ],
      "execution_count": null,
      "outputs": [
        {
          "output_type": "stream",
          "text": [
            "Downloading data from https://storage.googleapis.com/tensorflow/tf-keras-datasets/train-labels-idx1-ubyte.gz\n",
            "32768/29515 [=================================] - 0s 0us/step\n",
            "Downloading data from https://storage.googleapis.com/tensorflow/tf-keras-datasets/train-images-idx3-ubyte.gz\n",
            "26427392/26421880 [==============================] - 0s 0us/step\n",
            "Downloading data from https://storage.googleapis.com/tensorflow/tf-keras-datasets/t10k-labels-idx1-ubyte.gz\n",
            "8192/5148 [===============================================] - 0s 0us/step\n",
            "Downloading data from https://storage.googleapis.com/tensorflow/tf-keras-datasets/t10k-images-idx3-ubyte.gz\n",
            "4423680/4422102 [==============================] - 0s 0us/step\n"
          ],
          "name": "stdout"
        }
      ]
    },
    {
      "cell_type": "code",
      "metadata": {
        "id": "tVhhNXqQSkF-"
      },
      "source": [
        "class_names = ['T-shirt/top', 'Trouser', 'Pullover', 'Dress', 'Coat',\n",
        "               'Sandal', 'Shirt', 'Sneaker', 'Bag', 'Ankle boot']\n",
        "\n",
        "train_images = train_images/255.0\n",
        "test_images = test_images/255.0"
      ],
      "execution_count": null,
      "outputs": []
    },
    {
      "cell_type": "code",
      "metadata": {
        "id": "6Bmm6_XhTQQj",
        "outputId": "2aafeba4-0831-4a08-906d-9c299fa5a89b",
        "colab": {
          "base_uri": "https://localhost:8080/",
          "height": 1000
        }
      },
      "source": [
        "print(train_images[5])\n",
        "plt.imshow(train_images[5], cmap=plt.cm.binary)\n",
        "plt.show()"
      ],
      "execution_count": null,
      "outputs": [
        {
          "output_type": "stream",
          "text": [
            "[[0.00000000e+00 0.00000000e+00 0.00000000e+00 0.00000000e+00\n",
            "  1.53787005e-05 0.00000000e+00 0.00000000e+00 0.00000000e+00\n",
            "  0.00000000e+00 3.38331411e-04 1.35332564e-03 2.89119569e-03\n",
            "  2.64513649e-03 2.02998847e-03 1.92233756e-03 2.16839677e-03\n",
            "  3.06036140e-03 2.19915417e-03 1.38408304e-04 0.00000000e+00\n",
            "  0.00000000e+00 0.00000000e+00 1.53787005e-05 0.00000000e+00\n",
            "  0.00000000e+00 0.00000000e+00 0.00000000e+00 0.00000000e+00]\n",
            " [0.00000000e+00 0.00000000e+00 0.00000000e+00 1.53787005e-05\n",
            "  0.00000000e+00 0.00000000e+00 3.07574010e-04 2.01460977e-03\n",
            "  3.06036140e-03 3.16801230e-03 3.01422530e-03 3.10649750e-03\n",
            "  3.72164552e-03 3.92156863e-03 3.92156863e-03 3.84467512e-03\n",
            "  3.41407151e-03 3.02960400e-03 3.16801230e-03 2.89119569e-03\n",
            "  1.93771626e-03 2.61437908e-04 0.00000000e+00 0.00000000e+00\n",
            "  0.00000000e+00 0.00000000e+00 0.00000000e+00 0.00000000e+00]\n",
            " [0.00000000e+00 0.00000000e+00 0.00000000e+00 1.53787005e-05\n",
            "  0.00000000e+00 5.38254517e-04 3.29104191e-03 2.93733180e-03\n",
            "  2.81430219e-03 2.73740869e-03 2.69127259e-03 2.58362168e-03\n",
            "  2.30680507e-03 2.49134948e-03 2.44521338e-03 2.33756248e-03\n",
            "  2.42983468e-03 2.75278739e-03 2.81430219e-03 2.90657439e-03\n",
            "  2.99884660e-03 2.84505959e-03 1.26105344e-03 0.00000000e+00\n",
            "  0.00000000e+00 0.00000000e+00 0.00000000e+00 0.00000000e+00]\n",
            " [0.00000000e+00 0.00000000e+00 0.00000000e+00 0.00000000e+00\n",
            "  0.00000000e+00 2.61437908e-03 2.92195309e-03 2.64513649e-03\n",
            "  2.72202999e-03 2.70665129e-03 2.62975779e-03 2.59900038e-03\n",
            "  2.49134948e-03 2.38369858e-03 2.27604767e-03 2.36831988e-03\n",
            "  2.59900038e-03 2.67589389e-03 2.69127259e-03 2.69127259e-03\n",
            "  2.72202999e-03 2.81430219e-03 2.89119569e-03 1.84544406e-04\n",
            "  0.00000000e+00 0.00000000e+00 0.00000000e+00 0.00000000e+00]\n",
            " [0.00000000e+00 0.00000000e+00 0.00000000e+00 0.00000000e+00\n",
            "  3.84467512e-04 2.98346790e-03 2.76816609e-03 2.73740869e-03\n",
            "  2.67589389e-03 2.82968089e-03 2.87581699e-03 2.90657439e-03\n",
            "  2.87581699e-03 2.82968089e-03 2.78354479e-03 2.90657439e-03\n",
            "  3.07574010e-03 3.02960400e-03 2.96808920e-03 2.92195309e-03\n",
            "  2.73740869e-03 2.69127259e-03 2.98346790e-03 1.38408304e-03\n",
            "  0.00000000e+00 0.00000000e+00 0.00000000e+00 0.00000000e+00]\n",
            " [0.00000000e+00 0.00000000e+00 0.00000000e+00 0.00000000e+00\n",
            "  6.45905421e-04 3.35255671e-03 2.93733180e-03 3.02960400e-03\n",
            "  3.19876970e-03 3.13725490e-03 3.24490581e-03 3.21414840e-03\n",
            "  3.22952710e-03 3.26028451e-03 3.24490581e-03 3.29104191e-03\n",
            "  3.30642061e-03 3.27566321e-03 3.29104191e-03 3.24490581e-03\n",
            "  3.24490581e-03 2.93733180e-03 3.07574010e-03 2.42983468e-03\n",
            "  0.00000000e+00 0.00000000e+00 0.00000000e+00 0.00000000e+00]\n",
            " [0.00000000e+00 0.00000000e+00 0.00000000e+00 0.00000000e+00\n",
            "  1.35332564e-03 3.39869281e-03 3.30642061e-03 3.33717801e-03\n",
            "  3.36793541e-03 3.24490581e-03 2.84505959e-03 2.30680507e-03\n",
            "  1.81468666e-03 1.64552095e-03 1.52249135e-03 1.35332564e-03\n",
            "  1.27643214e-03 1.38408304e-03 2.07612457e-03 3.26028451e-03\n",
            "  3.12187620e-03 3.18339100e-03 3.36793541e-03 2.59900038e-03\n",
            "  0.00000000e+00 0.00000000e+00 0.00000000e+00 0.00000000e+00]\n",
            " [0.00000000e+00 0.00000000e+00 0.00000000e+00 0.00000000e+00\n",
            "  0.00000000e+00 4.15224913e-04 1.81468666e-03 2.49134948e-03\n",
            "  6.15148020e-04 0.00000000e+00 0.00000000e+00 0.00000000e+00\n",
            "  1.53787005e-04 2.92195309e-04 4.30603614e-04 5.99769319e-04\n",
            "  7.22798923e-04 5.53633218e-04 0.00000000e+00 0.00000000e+00\n",
            "  3.12187620e-03 3.53710111e-03 3.38331411e-03 3.12187620e-03\n",
            "  0.00000000e+00 0.00000000e+00 0.00000000e+00 0.00000000e+00]\n",
            " [0.00000000e+00 0.00000000e+00 0.00000000e+00 0.00000000e+00\n",
            "  2.12226067e-03 2.09150327e-03 1.09188774e-03 1.06113033e-03\n",
            "  8.30449827e-04 3.32179931e-03 3.33717801e-03 3.12187620e-03\n",
            "  2.82968089e-03 2.58362168e-03 2.50672818e-03 2.49134948e-03\n",
            "  2.50672818e-03 2.73740869e-03 3.39869281e-03 2.86043829e-03\n",
            "  5.84390619e-04 3.99846213e-04 1.07650903e-04 0.00000000e+00\n",
            "  0.00000000e+00 0.00000000e+00 0.00000000e+00 0.00000000e+00]\n",
            " [0.00000000e+00 0.00000000e+00 0.00000000e+00 0.00000000e+00\n",
            "  1.03037293e-03 2.06074587e-03 2.36831988e-03 3.44482891e-03\n",
            "  1.98385236e-03 1.01499423e-03 1.24567474e-03 1.79930796e-03\n",
            "  1.98385236e-03 1.96847366e-03 2.02998847e-03 2.10688197e-03\n",
            "  2.01460977e-03 1.98385236e-03 1.32256824e-03 1.12264514e-03\n",
            "  2.41445598e-03 2.32218378e-03 2.06074587e-03 3.32179931e-03\n",
            "  2.76816609e-04 0.00000000e+00 0.00000000e+00 0.00000000e+00]\n",
            " [0.00000000e+00 0.00000000e+00 0.00000000e+00 0.00000000e+00\n",
            "  3.12187620e-03 3.04498270e-03 2.64513649e-03 2.81430219e-03\n",
            "  3.16801230e-03 3.92156863e-03 3.92156863e-03 3.84467512e-03\n",
            "  3.73702422e-03 3.69088812e-03 3.67550942e-03 3.61399462e-03\n",
            "  3.66013072e-03 3.75240292e-03 3.92156863e-03 3.66013072e-03\n",
            "  2.82968089e-03 2.46059208e-03 1.32256824e-03 1.50711265e-03\n",
            "  0.00000000e+00 0.00000000e+00 0.00000000e+00 0.00000000e+00]\n",
            " [0.00000000e+00 0.00000000e+00 0.00000000e+00 0.00000000e+00\n",
            "  1.87620146e-03 2.89119569e-03 3.44482891e-03 2.32218378e-03\n",
            "  1.61476355e-03 1.95309496e-03 1.49173395e-03 1.53787005e-03\n",
            "  1.61476355e-03 1.75317186e-03 1.79930796e-03 1.79930796e-03\n",
            "  1.73779316e-03 1.58400615e-03 1.50711265e-03 1.70703576e-03\n",
            "  2.18377547e-03 3.90618993e-03 2.93733180e-03 3.92156863e-03\n",
            "  7.53556324e-04 0.00000000e+00 0.00000000e+00 0.00000000e+00]\n",
            " [0.00000000e+00 0.00000000e+00 0.00000000e+00 0.00000000e+00\n",
            "  2.50672818e-03 2.75278739e-03 3.07574010e-03 1.46097655e-03\n",
            "  2.36831988e-03 3.04498270e-03 3.02960400e-03 3.07574010e-03\n",
            "  3.07574010e-03 3.04498270e-03 3.02960400e-03 3.04498270e-03\n",
            "  3.06036140e-03 3.10649750e-03 3.07574010e-03 2.70665129e-03\n",
            "  1.32256824e-03 3.16801230e-03 2.41445598e-03 2.49134948e-03\n",
            "  1.53787005e-04 0.00000000e+00 0.00000000e+00 0.00000000e+00]\n",
            " [0.00000000e+00 0.00000000e+00 0.00000000e+00 0.00000000e+00\n",
            "  3.02960400e-03 3.09111880e-03 3.52172241e-03 1.09188774e-03\n",
            "  2.21453287e-03 2.98346790e-03 2.78354479e-03 2.81430219e-03\n",
            "  2.75278739e-03 2.79892349e-03 2.76816609e-03 2.75278739e-03\n",
            "  2.76816609e-03 2.92195309e-03 2.84505959e-03 3.02960400e-03\n",
            "  1.16878124e-03 3.36793541e-03 2.84505959e-03 3.09111880e-03\n",
            "  5.22875817e-04 0.00000000e+00 0.00000000e+00 0.00000000e+00]\n",
            " [0.00000000e+00 0.00000000e+00 0.00000000e+00 0.00000000e+00\n",
            "  3.06036140e-03 2.96808920e-03 3.47558631e-03 8.91964629e-04\n",
            "  2.36831988e-03 2.95271050e-03 2.82968089e-03 2.87581699e-03\n",
            "  2.82968089e-03 2.86043829e-03 2.82968089e-03 2.84505959e-03\n",
            "  2.81430219e-03 2.95271050e-03 2.93733180e-03 3.07574010e-03\n",
            "  8.61207228e-04 3.36793541e-03 3.12187620e-03 3.18339100e-03\n",
            "  9.22722030e-04 0.00000000e+00 0.00000000e+00 0.00000000e+00]\n",
            " [0.00000000e+00 0.00000000e+00 0.00000000e+00 0.00000000e+00\n",
            "  3.09111880e-03 2.98346790e-03 3.44482891e-03 6.30526720e-04\n",
            "  2.50672818e-03 2.92195309e-03 2.86043829e-03 2.86043829e-03\n",
            "  2.82968089e-03 2.84505959e-03 2.81430219e-03 2.84505959e-03\n",
            "  2.73740869e-03 2.92195309e-03 2.98346790e-03 3.10649750e-03\n",
            "  5.07497116e-04 3.24490581e-03 3.07574010e-03 3.16801230e-03\n",
            "  1.12264514e-03 0.00000000e+00 0.00000000e+00 0.00000000e+00]\n",
            " [0.00000000e+00 0.00000000e+00 0.00000000e+00 0.00000000e+00\n",
            "  3.09111880e-03 3.02960400e-03 3.41407151e-03 2.61437908e-04\n",
            "  2.64513649e-03 2.92195309e-03 2.86043829e-03 2.87581699e-03\n",
            "  2.79892349e-03 2.86043829e-03 2.84505959e-03 2.87581699e-03\n",
            "  2.76816609e-03 2.87581699e-03 2.96808920e-03 3.10649750e-03\n",
            "  3.99846213e-04 3.26028451e-03 3.10649750e-03 3.12187620e-03\n",
            "  1.16878124e-03 0.00000000e+00 0.00000000e+00 0.00000000e+00]\n",
            " [0.00000000e+00 0.00000000e+00 0.00000000e+00 0.00000000e+00\n",
            "  3.07574010e-03 3.02960400e-03 3.42945021e-03 0.00000000e+00\n",
            "  2.72202999e-03 2.90657439e-03 2.82968089e-03 2.84505959e-03\n",
            "  2.73740869e-03 2.82968089e-03 2.81430219e-03 2.82968089e-03\n",
            "  2.76816609e-03 2.81430219e-03 2.90657439e-03 3.12187620e-03\n",
            "  5.38254517e-04 3.01422530e-03 3.12187620e-03 3.12187620e-03\n",
            "  1.29181084e-03 0.00000000e+00 0.00000000e+00 0.00000000e+00]\n",
            " [0.00000000e+00 0.00000000e+00 0.00000000e+00 0.00000000e+00\n",
            "  3.07574010e-03 3.02960400e-03 3.42945021e-03 0.00000000e+00\n",
            "  2.84505959e-03 2.87581699e-03 2.84505959e-03 2.87581699e-03\n",
            "  2.76816609e-03 2.82968089e-03 2.79892349e-03 2.81430219e-03\n",
            "  2.73740869e-03 2.79892349e-03 2.81430219e-03 3.15263360e-03\n",
            "  6.76662822e-04 2.44521338e-03 3.18339100e-03 3.09111880e-03\n",
            "  1.30718954e-03 0.00000000e+00 0.00000000e+00 0.00000000e+00]\n",
            " [0.00000000e+00 0.00000000e+00 0.00000000e+00 0.00000000e+00\n",
            "  2.87581699e-03 3.04498270e-03 3.46020761e-03 0.00000000e+00\n",
            "  2.98346790e-03 2.89119569e-03 2.82968089e-03 2.84505959e-03\n",
            "  2.76816609e-03 2.81430219e-03 2.81430219e-03 2.82968089e-03\n",
            "  2.78354479e-03 2.78354479e-03 2.72202999e-03 3.16801230e-03\n",
            "  7.07420223e-04 1.98385236e-03 3.24490581e-03 3.07574010e-03\n",
            "  1.35332564e-03 0.00000000e+00 0.00000000e+00 0.00000000e+00]\n",
            " [0.00000000e+00 0.00000000e+00 0.00000000e+00 9.22722030e-05\n",
            "  2.86043829e-03 3.07574010e-03 3.24490581e-03 0.00000000e+00\n",
            "  3.06036140e-03 2.90657439e-03 2.82968089e-03 2.82968089e-03\n",
            "  2.84505959e-03 2.79892349e-03 2.81430219e-03 2.82968089e-03\n",
            "  2.84505959e-03 2.79892349e-03 2.69127259e-03 3.15263360e-03\n",
            "  7.68935025e-04 1.49173395e-03 3.32179931e-03 3.02960400e-03\n",
            "  1.43021915e-03 0.00000000e+00 0.00000000e+00 0.00000000e+00]\n",
            " [0.00000000e+00 0.00000000e+00 0.00000000e+00 7.68935025e-05\n",
            "  2.84505959e-03 3.13725490e-03 2.82968089e-03 0.00000000e+00\n",
            "  3.10649750e-03 2.89119569e-03 2.79892349e-03 2.79892349e-03\n",
            "  2.81430219e-03 2.81430219e-03 2.82968089e-03 2.79892349e-03\n",
            "  2.76816609e-03 2.79892349e-03 2.67589389e-03 3.10649750e-03\n",
            "  9.68858131e-04 9.07343329e-04 3.38331411e-03 3.01422530e-03\n",
            "  1.44559785e-03 0.00000000e+00 0.00000000e+00 0.00000000e+00]\n",
            " [0.00000000e+00 0.00000000e+00 0.00000000e+00 7.68935025e-05\n",
            "  2.82968089e-03 3.16801230e-03 2.41445598e-03 0.00000000e+00\n",
            "  3.13725490e-03 2.87581699e-03 2.87581699e-03 2.90657439e-03\n",
            "  2.95271050e-03 2.92195309e-03 2.92195309e-03 2.93733180e-03\n",
            "  2.92195309e-03 2.87581699e-03 2.81430219e-03 3.10649750e-03\n",
            "  1.19953864e-03 5.38254517e-04 3.41407151e-03 3.02960400e-03\n",
            "  1.46097655e-03 0.00000000e+00 0.00000000e+00 0.00000000e+00]\n",
            " [0.00000000e+00 0.00000000e+00 0.00000000e+00 7.68935025e-05\n",
            "  2.81430219e-03 3.19876970e-03 1.95309496e-03 0.00000000e+00\n",
            "  3.02960400e-03 2.55286428e-03 2.35294118e-03 2.29142637e-03\n",
            "  2.29142637e-03 2.24529027e-03 2.27604767e-03 2.29142637e-03\n",
            "  2.30680507e-03 2.32218378e-03 2.42983468e-03 2.93733180e-03\n",
            "  1.38408304e-03 1.23029604e-04 3.42945021e-03 2.99884660e-03\n",
            "  1.52249135e-03 0.00000000e+00 0.00000000e+00 0.00000000e+00]\n",
            " [0.00000000e+00 0.00000000e+00 0.00000000e+00 9.22722030e-05\n",
            "  2.82968089e-03 3.19876970e-03 1.75317186e-03 0.00000000e+00\n",
            "  3.13725490e-03 2.66051519e-03 2.47597078e-03 2.76816609e-03\n",
            "  2.70665129e-03 2.64513649e-03 2.66051519e-03 2.66051519e-03\n",
            "  2.67589389e-03 2.70665129e-03 2.49134948e-03 3.10649750e-03\n",
            "  1.76855056e-03 0.00000000e+00 3.52172241e-03 3.06036140e-03\n",
            "  1.61476355e-03 0.00000000e+00 0.00000000e+00 0.00000000e+00]\n",
            " [0.00000000e+00 0.00000000e+00 0.00000000e+00 1.38408304e-04\n",
            "  2.73740869e-03 3.13725490e-03 1.76855056e-03 0.00000000e+00\n",
            "  1.86082276e-03 2.07612457e-03 1.75317186e-03 1.79930796e-03\n",
            "  1.75317186e-03 1.75317186e-03 1.79930796e-03 1.81468666e-03\n",
            "  1.83006536e-03 1.79930796e-03 1.73779316e-03 2.26066897e-03\n",
            "  9.68858131e-04 0.00000000e+00 3.46020761e-03 3.01422530e-03\n",
            "  1.64552095e-03 0.00000000e+00 0.00000000e+00 0.00000000e+00]\n",
            " [0.00000000e+00 0.00000000e+00 0.00000000e+00 2.76816609e-04\n",
            "  2.76816609e-03 3.16801230e-03 2.01460977e-03 0.00000000e+00\n",
            "  0.00000000e+00 0.00000000e+00 0.00000000e+00 0.00000000e+00\n",
            "  0.00000000e+00 0.00000000e+00 0.00000000e+00 0.00000000e+00\n",
            "  0.00000000e+00 0.00000000e+00 0.00000000e+00 0.00000000e+00\n",
            "  0.00000000e+00 0.00000000e+00 3.44482891e-03 3.02960400e-03\n",
            "  1.89158016e-03 0.00000000e+00 0.00000000e+00 0.00000000e+00]\n",
            " [0.00000000e+00 0.00000000e+00 0.00000000e+00 0.00000000e+00\n",
            "  2.16839677e-03 2.32218378e-03 1.16878124e-03 0.00000000e+00\n",
            "  1.53787005e-05 1.53787005e-05 0.00000000e+00 0.00000000e+00\n",
            "  0.00000000e+00 0.00000000e+00 0.00000000e+00 0.00000000e+00\n",
            "  0.00000000e+00 0.00000000e+00 0.00000000e+00 0.00000000e+00\n",
            "  0.00000000e+00 0.00000000e+00 2.04536717e-03 2.56824298e-03\n",
            "  1.12264514e-03 0.00000000e+00 0.00000000e+00 0.00000000e+00]]\n"
          ],
          "name": "stdout"
        },
        {
          "output_type": "display_data",
          "data": {
            "image/png": "[encoded data removed]",
            "text/plain": [
              "<Figure size 432x288 with 1 Axes>"
            ]
          },
          "metadata": {
            "tags": [],
            "needs_background": "light"
          }
        }
      ]
    },
    {
      "cell_type": "code",
      "metadata": {
        "id": "odkfnXP2bYgi"
      },
      "source": [
        "model = keras.Sequential([\n",
        "\tkeras.layers.Flatten(input_shape=(28,28)),\n",
        "\tkeras.layers.Dense(128, activation=\"relu\"),\n",
        "\tkeras.layers.Dense(10, activation=\"softmax\")\n",
        "\t])"
      ],
      "execution_count": null,
      "outputs": []
    },
    {
      "cell_type": "code",
      "metadata": {
        "id": "7yB0XEfxjghb",
        "outputId": "40be4f0f-cc64-46bb-a5cb-9648da4dfbf7",
        "colab": {
          "base_uri": "https://localhost:8080/",
          "height": 204
        }
      },
      "source": [
        "model.compile(optimizer=\"adam\", loss=\"sparse_categorical_crossentropy\", metrics=[\"accuracy\"])\n",
        "\n",
        "model.fit(train_images, train_labels, epochs=5)"
      ],
      "execution_count": null,
      "outputs": [
        {
          "output_type": "stream",
          "text": [
            "Epoch 1/5\n",
            "1875/1875 [==============================] - 5s 2ms/step - loss: 1.1008 - accuracy: 0.6592\n",
            "Epoch 2/5\n",
            "1875/1875 [==============================] - 4s 2ms/step - loss: 0.6451 - accuracy: 0.7671\n",
            "Epoch 3/5\n",
            "1875/1875 [==============================] - 5s 3ms/step - loss: 0.5686 - accuracy: 0.7963\n",
            "Epoch 4/5\n",
            "1875/1875 [==============================] - 4s 2ms/step - loss: 0.5262 - accuracy: 0.8137\n",
            "Epoch 5/5\n",
            "1875/1875 [==============================] - 4s 2ms/step - loss: 0.4986 - accuracy: 0.8243\n"
          ],
          "name": "stdout"
        },
        {
          "output_type": "execute_result",
          "data": {
            "text/plain": [
              "<tensorflow.python.keras.callbacks.History at 0x7fb4a28b5c88>"
            ]
          },
          "metadata": {
            "tags": []
          },
          "execution_count": 7
        }
      ]
    },
    {
      "cell_type": "code",
      "metadata": {
        "id": "TjtMB6wWkSGo",
        "outputId": "757599fa-6b83-43a3-f000-9bb06301ac15",
        "colab": {
          "base_uri": "https://localhost:8080/",
          "height": 68
        }
      },
      "source": [
        "test_loss, test_acc = model.evaluate(test_images, test_labels)\n",
        "\n",
        "print('\\nTest accuracy:', int(test_acc*100),\"%\")"
      ],
      "execution_count": null,
      "outputs": [
        {
          "output_type": "stream",
          "text": [
            "313/313 [==============================] - 0s 1ms/step - loss: 0.5109 - accuracy: 0.8154\n",
            "\n",
            "Test accuracy: 81 %\n"
          ],
          "name": "stdout"
        }
      ]
    },
    {
      "cell_type": "code",
      "metadata": {
        "id": "lcWVq_d0lCYL",
        "outputId": "1a2e4b84-e3fc-4627-95e7-485de1884082",
        "colab": {
          "base_uri": "https://localhost:8080/",
          "height": 1000
        }
      },
      "source": [
        "predictions = model.predict(test_images)\n",
        "\n",
        "plt.figure(figsize=(5,5))\n",
        "for i in range(10):\n",
        "    plt.grid(False)\n",
        "    plt.imshow(test_images[i], cmap=plt.cm.binary)\n",
        "    plt.xlabel(class_names[test_labels[i]])\n",
        "    plt.title(class_names[np.argmax(predictions[i])])\n",
        "    plt.show()"
      ],
      "execution_count": null,
      "outputs": [
        {
          "output_type": "display_data",
          "data": {
            "image/png": "[encoded data removed]",
            "text/plain": [
              "<Figure size 360x360 with 1 Axes>"
            ]
          },
          "metadata": {
            "tags": [],
            "needs_background": "light"
          }
        },
        {
          "output_type": "display_data",
          "data": {
            "image/png": "[encoded data removed]",
            "text/plain": [
              "<Figure size 432x288 with 1 Axes>"
            ]
          },
          "metadata": {
            "tags": [],
            "needs_background": "light"
          }
        },
        {
          "output_type": "display_data",
          "data": {
            "image/png": "[encoded data removed]",
            "text/plain": [
              "<Figure size 432x288 with 1 Axes>"
            ]
          },
          "metadata": {
            "tags": [],
            "needs_background": "light"
          }
        },
        {
          "output_type": "display_data",
          "data": {
            "image/png": "[encoded data removed]",
            "text/plain": [
              "<Figure size 432x288 with 1 Axes>"
            ]
          },
          "metadata": {
            "tags": [],
            "needs_background": "light"
          }
        },
        {
          "output_type": "display_data",
          "data": {
            "image/png": "[encoded data removed]",
            "text/plain": [
              "<Figure size 432x288 with 1 Axes>"
            ]
          },
          "metadata": {
            "tags": [],
            "needs_background": "light"
          }
        },
        {
          "output_type": "display_data",
          "data": {
            "image/png": "[encoded data removed]",
            "text/plain": [
              "<Figure size 432x288 with 1 Axes>"
            ]
          },
          "metadata": {
            "tags": [],
            "needs_background": "light"
          }
        },
        {
          "output_type": "display_data",
          "data": {
            "image/png": "[encoded data removed]",
            "text/plain": [
              "<Figure size 432x288 with 1 Axes>"
            ]
          },
          "metadata": {
            "tags": [],
            "needs_background": "light"
          }
        },
        {
          "output_type": "display_data",
          "data": {
            "image/png": "[encoded data removed]",
            "text/plain": [
              "<Figure size 432x288 with 1 Axes>"
            ]
          },
          "metadata": {
            "tags": [],
            "needs_background": "light"
          }
        },
        {
          "output_type": "display_data",
          "data": {
            "image/png": "[encoded data removed]",
            "text/plain": [
              "<Figure size 432x288 with 1 Axes>"
            ]
          },
          "metadata": {
            "tags": [],
            "needs_background": "light"
          }
        },
        {
          "output_type": "display_data",
          "data": {
            "image/png": "[encoded data removed]",
            "text/plain": [
              "<Figure size 432x288 with 1 Axes>"
            ]
          },
          "metadata": {
            "tags": [],
            "needs_background": "light"
          }
        }
      ]
    },
    {
      "cell_type": "markdown",
      "metadata": {
        "id": "WUJWNzzi6mrA"
      },
      "source": [
        "## Ejemplo 1. Reseña de peliculas: \n"
      ]
    },
    {
      "cell_type": "code",
      "metadata": {
        "id": "xgrJ_xLz6sJG",
        "outputId": "5ae74cb4-d110-422a-8d6c-ccbabb491c47",
        "colab": {
          "base_uri": "https://localhost:8080/",
          "height": 51
        }
      },
      "source": [
        "import tensorflow as tf\n",
        "from tensorflow import keras\n",
        "import numpy\n",
        "\n",
        "imdb = keras.datasets.imdb\n",
        "\n",
        "(train_data, train_labels), (test_data, test_labels) = imdb.load_data(num_words=10000)"
      ],
      "execution_count": null,
      "outputs": [
        {
          "output_type": "stream",
          "text": [
            "Downloading data from https://storage.googleapis.com/tensorflow/tf-keras-datasets/imdb.npz\n",
            "17465344/17464789 [==============================] - 0s 0us/step\n"
          ],
          "name": "stdout"
        }
      ]
    },
    {
      "cell_type": "code",
      "metadata": {
        "id": "lydxR7gF7fhf",
        "outputId": "606f03ed-bd90-4436-cbc4-219095f2615d",
        "colab": {
          "base_uri": "https://localhost:8080/",
          "height": 51
        }
      },
      "source": [
        "_word_index = imdb.get_word_index()\n",
        "\n",
        "word_index = {k:(v+3) for k,v in _word_index.items()}\n",
        "\n",
        "word_index[\"<PAD>\"] = 0\n",
        "word_index[\"<START>\"] = 1\n",
        "word_index[\"<UNK>\"] = 2  # unknown\n",
        "word_index[\"<UNUSED>\"] = 3\n",
        "\n",
        "reverse_word_index = dict([(value, key) for (key, value) in word_index.items()])\n",
        "\n",
        "def decode_review(text):\n",
        "\treturn \" \".join([reverse_word_index.get(i, \"?\") for i in text])\n",
        " \n",
        "train_data = keras.preprocessing.sequence.pad_sequences(train_data, value=word_index[\"<PAD>\"], padding=\"post\", maxlen=250)\n",
        "test_data = keras.preprocessing.sequence.pad_sequences(test_data, value=word_index[\"<PAD>\"], padding=\"post\", maxlen=250)"
      ],
      "execution_count": null,
      "outputs": [
        {
          "output_type": "stream",
          "text": [
            "Downloading data from https://storage.googleapis.com/tensorflow/tf-keras-datasets/imdb_word_index.json\n",
            "1646592/1641221 [==============================] - 0s 0us/step\n"
          ],
          "name": "stdout"
        }
      ]
    },
    {
      "cell_type": "code",
      "metadata": {
        "id": "KOgMqjB7Awwm",
        "outputId": "6cb99f52-8747-4a38-ee75-dd23badf250d",
        "colab": {
          "base_uri": "https://localhost:8080/",
          "height": 289
        }
      },
      "source": [
        "model = keras.Sequential()\n",
        "model.add(keras.layers.Embedding(88000, 16))  # diferencia las palabras vectorizandolas\n",
        "model.add(keras.layers.GlobalAveragePooling1D())  # reduce el coste computacional de embedding\n",
        "model.add(keras.layers.Dense(16, activation=\"relu\"))\n",
        "model.add(keras.layers.Dense(1, activation=\"sigmoid\"))\n",
        "\n",
        "model.summary()  # prints a summary of the model"
      ],
      "execution_count": null,
      "outputs": [
        {
          "output_type": "stream",
          "text": [
            "Model: \"sequential_1\"\n",
            "_________________________________________________________________\n",
            "Layer (type)                 Output Shape              Param #   \n",
            "=================================================================\n",
            "embedding_1 (Embedding)      (None, None, 16)          1408000   \n",
            "_________________________________________________________________\n",
            "global_average_pooling1d_1 ( (None, 16)                0         \n",
            "_________________________________________________________________\n",
            "dense_2 (Dense)              (None, 16)                272       \n",
            "_________________________________________________________________\n",
            "dense_3 (Dense)              (None, 1)                 17        \n",
            "=================================================================\n",
            "Total params: 1,408,289\n",
            "Trainable params: 1,408,289\n",
            "Non-trainable params: 0\n",
            "_________________________________________________________________\n"
          ],
          "name": "stdout"
        }
      ]
    },
    {
      "cell_type": "code",
      "metadata": {
        "id": "VPfNTz60XBAz",
        "outputId": "2e447bd2-87aa-4c37-93e0-bfa8f8a621fa",
        "colab": {
          "base_uri": "https://localhost:8080/",
          "height": 1000
        }
      },
      "source": [
        "model.compile(optimizer=\"adam\",loss=\"binary_crossentropy\",metrics=[\"accuracy\"])\n",
        "x_val = train_data[:10000]\n",
        "x_train = train_data[10000:]\n",
        "\n",
        "y_val = train_labels[:10000]\n",
        "y_train = train_labels[10000:]\n",
        "\n",
        "fitModel = model.fit(x_train, y_train, epochs=40, batch_size=512, validation_data=(x_val, y_val), verbose=1)\n",
        "\n",
        "results = model.evaluate(test_data, test_labels)\n",
        "print(results)"
      ],
      "execution_count": null,
      "outputs": [
        {
          "output_type": "stream",
          "text": [
            "Epoch 1/40\n",
            "30/30 [==============================] - 1s 34ms/step - loss: 0.6918 - accuracy: 0.5047 - val_loss: 0.6897 - val_accuracy: 0.5118\n",
            "Epoch 2/40\n",
            "30/30 [==============================] - 1s 29ms/step - loss: 0.6855 - accuracy: 0.6766 - val_loss: 0.6817 - val_accuracy: 0.6339\n",
            "Epoch 3/40\n",
            "30/30 [==============================] - 1s 29ms/step - loss: 0.6734 - accuracy: 0.7073 - val_loss: 0.6670 - val_accuracy: 0.7291\n",
            "Epoch 4/40\n",
            "30/30 [==============================] - 1s 29ms/step - loss: 0.6533 - accuracy: 0.7603 - val_loss: 0.6451 - val_accuracy: 0.7350\n",
            "Epoch 5/40\n",
            "30/30 [==============================] - 1s 29ms/step - loss: 0.6249 - accuracy: 0.7663 - val_loss: 0.6151 - val_accuracy: 0.7727\n",
            "Epoch 6/40\n",
            "30/30 [==============================] - 1s 29ms/step - loss: 0.5887 - accuracy: 0.7981 - val_loss: 0.5794 - val_accuracy: 0.7975\n",
            "Epoch 7/40\n",
            "30/30 [==============================] - 1s 29ms/step - loss: 0.5458 - accuracy: 0.8212 - val_loss: 0.5373 - val_accuracy: 0.8151\n",
            "Epoch 8/40\n",
            "30/30 [==============================] - 1s 29ms/step - loss: 0.4988 - accuracy: 0.8419 - val_loss: 0.4957 - val_accuracy: 0.8304\n",
            "Epoch 9/40\n",
            "30/30 [==============================] - 1s 29ms/step - loss: 0.4540 - accuracy: 0.8597 - val_loss: 0.4575 - val_accuracy: 0.8417\n",
            "Epoch 10/40\n",
            "30/30 [==============================] - 1s 29ms/step - loss: 0.4135 - accuracy: 0.8706 - val_loss: 0.4249 - val_accuracy: 0.8484\n",
            "Epoch 11/40\n",
            "30/30 [==============================] - 1s 29ms/step - loss: 0.3784 - accuracy: 0.8797 - val_loss: 0.3974 - val_accuracy: 0.8557\n",
            "Epoch 12/40\n",
            "30/30 [==============================] - 1s 29ms/step - loss: 0.3483 - accuracy: 0.8892 - val_loss: 0.3754 - val_accuracy: 0.8619\n",
            "Epoch 13/40\n",
            "30/30 [==============================] - 1s 30ms/step - loss: 0.3234 - accuracy: 0.8929 - val_loss: 0.3576 - val_accuracy: 0.8655\n",
            "Epoch 14/40\n",
            "30/30 [==============================] - 1s 29ms/step - loss: 0.3016 - accuracy: 0.9012 - val_loss: 0.3430 - val_accuracy: 0.8708\n",
            "Epoch 15/40\n",
            "30/30 [==============================] - 1s 29ms/step - loss: 0.2828 - accuracy: 0.9055 - val_loss: 0.3309 - val_accuracy: 0.8754\n",
            "Epoch 16/40\n",
            "30/30 [==============================] - 1s 29ms/step - loss: 0.2660 - accuracy: 0.9110 - val_loss: 0.3213 - val_accuracy: 0.8777\n",
            "Epoch 17/40\n",
            "30/30 [==============================] - 1s 30ms/step - loss: 0.2515 - accuracy: 0.9165 - val_loss: 0.3139 - val_accuracy: 0.8785\n",
            "Epoch 18/40\n",
            "30/30 [==============================] - 1s 29ms/step - loss: 0.2382 - accuracy: 0.9201 - val_loss: 0.3067 - val_accuracy: 0.8803\n",
            "Epoch 19/40\n",
            "30/30 [==============================] - 1s 29ms/step - loss: 0.2265 - accuracy: 0.9227 - val_loss: 0.3015 - val_accuracy: 0.8819\n",
            "Epoch 20/40\n",
            "30/30 [==============================] - 1s 29ms/step - loss: 0.2160 - accuracy: 0.9265 - val_loss: 0.2984 - val_accuracy: 0.8823\n",
            "Epoch 21/40\n",
            "30/30 [==============================] - 1s 29ms/step - loss: 0.2054 - accuracy: 0.9314 - val_loss: 0.2937 - val_accuracy: 0.8834\n",
            "Epoch 22/40\n",
            "30/30 [==============================] - 1s 29ms/step - loss: 0.1961 - accuracy: 0.9355 - val_loss: 0.2922 - val_accuracy: 0.8826\n",
            "Epoch 23/40\n",
            "30/30 [==============================] - 1s 29ms/step - loss: 0.1876 - accuracy: 0.9399 - val_loss: 0.2889 - val_accuracy: 0.8836\n",
            "Epoch 24/40\n",
            "30/30 [==============================] - 1s 29ms/step - loss: 0.1792 - accuracy: 0.9434 - val_loss: 0.2881 - val_accuracy: 0.8840\n",
            "Epoch 25/40\n",
            "30/30 [==============================] - 1s 30ms/step - loss: 0.1721 - accuracy: 0.9455 - val_loss: 0.2867 - val_accuracy: 0.8848\n",
            "Epoch 26/40\n",
            "30/30 [==============================] - 1s 30ms/step - loss: 0.1644 - accuracy: 0.9477 - val_loss: 0.2873 - val_accuracy: 0.8844\n",
            "Epoch 27/40\n",
            "30/30 [==============================] - 1s 29ms/step - loss: 0.1579 - accuracy: 0.9509 - val_loss: 0.2858 - val_accuracy: 0.8858\n",
            "Epoch 28/40\n",
            "30/30 [==============================] - 1s 29ms/step - loss: 0.1512 - accuracy: 0.9543 - val_loss: 0.2861 - val_accuracy: 0.8852\n",
            "Epoch 29/40\n",
            "30/30 [==============================] - 1s 29ms/step - loss: 0.1452 - accuracy: 0.9564 - val_loss: 0.2862 - val_accuracy: 0.8865\n",
            "Epoch 30/40\n",
            "30/30 [==============================] - 1s 29ms/step - loss: 0.1395 - accuracy: 0.9597 - val_loss: 0.2887 - val_accuracy: 0.8858\n",
            "Epoch 31/40\n",
            "30/30 [==============================] - 1s 30ms/step - loss: 0.1343 - accuracy: 0.9609 - val_loss: 0.2890 - val_accuracy: 0.8860\n",
            "Epoch 32/40\n",
            "30/30 [==============================] - 1s 30ms/step - loss: 0.1290 - accuracy: 0.9630 - val_loss: 0.2901 - val_accuracy: 0.8858\n",
            "Epoch 33/40\n",
            "30/30 [==============================] - 1s 30ms/step - loss: 0.1241 - accuracy: 0.9647 - val_loss: 0.2925 - val_accuracy: 0.8859\n",
            "Epoch 34/40\n",
            "30/30 [==============================] - 1s 29ms/step - loss: 0.1194 - accuracy: 0.9657 - val_loss: 0.2943 - val_accuracy: 0.8848\n",
            "Epoch 35/40\n",
            "30/30 [==============================] - 1s 30ms/step - loss: 0.1144 - accuracy: 0.9685 - val_loss: 0.2955 - val_accuracy: 0.8859\n",
            "Epoch 36/40\n",
            "30/30 [==============================] - 1s 30ms/step - loss: 0.1109 - accuracy: 0.9692 - val_loss: 0.2975 - val_accuracy: 0.8854\n",
            "Epoch 37/40\n",
            "30/30 [==============================] - 1s 29ms/step - loss: 0.1062 - accuracy: 0.9714 - val_loss: 0.3005 - val_accuracy: 0.8849\n",
            "Epoch 38/40\n",
            "30/30 [==============================] - 1s 29ms/step - loss: 0.1021 - accuracy: 0.9725 - val_loss: 0.3029 - val_accuracy: 0.8839\n",
            "Epoch 39/40\n",
            "30/30 [==============================] - 1s 30ms/step - loss: 0.0983 - accuracy: 0.9743 - val_loss: 0.3058 - val_accuracy: 0.8831\n",
            "Epoch 40/40\n",
            "30/30 [==============================] - 1s 29ms/step - loss: 0.0945 - accuracy: 0.9756 - val_loss: 0.3085 - val_accuracy: 0.8833\n",
            "782/782 [==============================] - 1s 1ms/step - loss: 0.3301 - accuracy: 0.8702\n",
            "[0.3301006257534027, 0.870199978351593]\n"
          ],
          "name": "stdout"
        }
      ]
    },
    {
      "cell_type": "code",
      "metadata": {
        "id": "6M3l-Vr3YRZp",
        "outputId": "2c7bc2da-fe37-4d96-b626-19ccef4c00e4",
        "colab": {
          "base_uri": "https://localhost:8080/",
          "height": 122
        }
      },
      "source": [
        "test_review = test_data[2]\n",
        "predict = model.predict([test_review])\n",
        "print(\"Review: \")\n",
        "print(decode_review(test_review))\n",
        "\n",
        "print(\"prediction: \",predict[2])\n",
        "print(\"actual: \",test_labels[2])\n",
        "print(results)"
      ],
      "execution_count": null,
      "outputs": [
        {
          "output_type": "stream",
          "text": [
            "Review: \n",
            "king irritated <UNK> sends them a <UNK> br br delighted with this <UNK> looking new king who towers above them the <UNK> welcome him with a <UNK> of <UNK> dressed <UNK> the mayor steps forward to hand him the key to the <UNK> as <UNK> cameras record the event to everyone's horror the <UNK> promptly eats the mayor and then goes on a merry rampage <UNK> citizens at random a title card <UNK> reads news of the king's <UNK> throughout the kingdom when the now terrified <UNK> once more <UNK> <UNK> for help he loses his temper and <UNK> their community with lightning <UNK> the moral of our story delivered by a hapless frog just before he is eaten is let well enough alone br br considering the time period when this startling little film was made and considering the fact that it was made by a russian <UNK> at the height of that <UNK> country's civil war it would be easy to see this as a <UNK> about those events <UNK> may or may not have had <UNK> turmoil in mind when he made <UNK> but whatever <UNK> his choice of material the film stands as a <UNK> tale of universal <UNK> <UNK> could be the soviet union italy germany or japan in the 1930s or any country of any era that lets its guard down and is overwhelmed by <UNK> it's a fascinating film even a charming one in its macabre way but its message is no joke\n",
            "prediction:  [0.00017601]\n",
            "actual:  1\n",
            "[0.3301006257534027, 0.870199978351593]\n"
          ],
          "name": "stdout"
        }
      ]
    },
    {
      "cell_type": "code",
      "metadata": {
        "id": "fFKU-OckvNh2"
      },
      "source": [
        "#model.save(\"model.h5\")"
      ],
      "execution_count": null,
      "outputs": []
    },
    {
      "cell_type": "code",
      "metadata": {
        "id": "RRWOnpcAwH5F"
      },
      "source": [
        "model = keras.models.load_model(\"model.h5\")"
      ],
      "execution_count": null,
      "outputs": []
    },
    {
      "cell_type": "code",
      "metadata": {
        "id": "Le_s5300wTpy"
      },
      "source": [
        "def review_encode(s):\n",
        "\tencoded = [1]\n",
        "\n",
        "\tfor word in s:\n",
        "\t\tif word.lower() in word_index:\n",
        "\t\t\tencoded.append(word_index[word.lower()])\n",
        "\t\telse:\n",
        "\t\t\tencoded.append(2)\n",
        "\n",
        "\treturn encoded"
      ],
      "execution_count": null,
      "outputs": []
    },
    {
      "cell_type": "code",
      "metadata": {
        "id": "ywlmyrSyzV_U",
        "outputId": "85f87f53-9006-448e-90ce-ac4d1ce605e5",
        "colab": {
          "base_uri": "https://localhost:8080/",
          "height": 428
        }
      },
      "source": [
        "with open(\"book.txt\", encoding=\"utf-8\") as f:\n",
        "\tfor line in f.readlines():\n",
        "\t\tnline = line.replace(\",\", \"\").replace(\".\", \"\").replace(\"(\", \"\").replace(\")\", \"\").replace(\":\", \"\").replace(\"\\\"\",\"\").strip().split(\" \")\n",
        "\t\tencode = review_encode(nline)\n",
        "\t\tencode = keras.preprocessing.sequence.pad_sequences([encode], value=word_index[\"<PAD>\"], padding=\"post\", maxlen=250) # make the data 250 words long\n",
        "\t\tpredict = model.predict(encode)\n",
        "\t\tprint(line)\n",
        "\t\tprint(encode)\n",
        "\t\tprint(predict[0])"
      ],
      "execution_count": null,
      "outputs": [
        {
          "output_type": "stream",
          "text": [
            "Of all the animation classics from the Walt Disney Company, there is perhaps none that is more celebrated than \"The Lion King.\" Its acclaim is understandable: this is quite simply a glorious work of art.\"The Lion King\" gets off to a fantastic start. The film's opening number, \"The Circle of Life,\" is outstanding. The song lasts for about four minutes, but from the first sound, the audience is floored. Not even National Geographic can capture something this beautiful and dramatic. Not only is this easily the greatest moment in film animation, this is one of the greatest sequences in film history. The story that follows is not as majestic, but the film has to tell a story. Actually, the rest of the film holds up quite well. The story takes place in Africa, where the lions rule. Their king, Mufasa (James Earl Jones) has just been blessed with a son, Simba (Jonathan Taylor Thomas), who goes in front of his uncle Scar (Jeremy Irons) as next in line for the throne. Scar is furious, and sets in motion plans to usurp the throne for himself. After a tragedy occurs and Mufasa is killed, Scar persuades Simba to flee, leaving himself as king. Simba grows up in exile, but he learns that while he can run away from his past, he can never escape it. When viewing the film, it is obvious that \"The Lion King\" is quite different from its predecessors (and successors). This is an epic story that contains more dramatic power than all the other Disney films combined. While there are definitely some light-hearted moments, there is no denying the dark drama that takes up the bulk of the story. While it could be argued that Disney is the champion of family entertainment, this film is not for the very young. Some of the sequences are very dark and violent, many bordering on frightening, even for the older crowd.The voice actors are terrific. Jonathan Taylor Thomas brings a large dose of innocence to Young Simba. He's mischievous, but also terribly naive. His older counterpart, voiced by Matthew Broderick, equals him. He's older, but no less mature. The voices are so similar that it's almost impossible not to believe that they are the same character at different ages. Perhaps no one could have been better suited for the role of Mufasa than James Earl Jones. His baritone voice gives the Mufasa a quality of great power and wisdom; there is no question that his role is king. As Scar, Jeremy Irons is pitch-perfect. The drawing of the character is villainous, but Irons' vocal work complements the animation to create one of the most memorable, and vicious, villains in Disney history. He's unquestionably evil, but he's also clever, which makes him all the more dangerous. Manipulation, not violence is his greatest weapon. Providing some much needed comic relief are Nathan Lane and Ernie Sabella as Timon and Pumbaa, two other outcasts (a meerkat and a warthog), and Rowan Atkinson as Zazu. While there is definite fun from these characters, neither the actors nor the filmmakers allow them to go over-the-top and destroy the mood of the film.Disney's animated features are known for their gorgeous artwork. Nowhere is this more apparent than in \"The Lion King.\" Every single frame is jaw-dropping. The colors are rich, and the drawings are sharp and beautiful. One of the pitfalls of animation (both computer and hand-drawn) is that there is sometimes a visible distance between the subject and the background, making it seem as if the figure animation was cut and pasted on the background (this is obviously what happens, but it is up to the artists to make sure that it isn't noticeable). There is none of that here.Throughout the Golden Age of Disney animation, the films have been musicals. \"The Lion King\" is no different, and the songs are brilliant. All of the numbers are standouts (\"Can You Feel the Love Tonight\" won the Oscar, but in my opinion, \"The Circle of Life\" was better). In the cases of Simba and Nala (Simba's girlfriend), both young and old, there is a noticeable difference between the speaking and singing parts (everyone else does their own singing and speaking), but never mind. It still works, and that's what's important.\"The Lion King\" is not flawless, but on first viewing, they aren't noticeable, and it is likely that the young won't ever notice them. \"Beauty and the Beast\" was the first animated film to get an Oscar nomination for Best Picture (it lost to \"The Silence of the Lambs\"), and is thus far the only animated film to receive such an honor. That being the case, it's hard to understand why \"The Lion King\" was not given the same distinction. The two films are more or less equal in quality, and the nominees for the honor that year were not strong. If you haven't already, see \"The Lion King.\" You won't be disappointed.\n",
            "[[    6  4687  3744   200     4   875     5     4   978   231    12   306\n",
            "     17    48     4   822   748    16   605     5 12625    23     4   978\n",
            "     14     9   540    51   571    21    12     9    56     8     4  2719\n",
            "      8    97   252    15    12   218  6456    50     9   600     7    15\n",
            "      2     4  2050   559     7   910   748     4   108    28    77  2769\n",
            "      4  3082   711     9    57   275     5     4   690    26   530    32\n",
            "      7     4  1396    26 16015    70    25   235     4   119  4487  1199\n",
            "      4   735    21    11    61   652     4  4246     7   113    16   128\n",
            "     11     4  2936     7 10539     5 35738 20403   980   199   185     5\n",
            "    154    50     9     6  6456  1474   200     4  1386     5  1118   531\n",
            "    316   334   127    68   205  1118     5  1386    21   115   330    12\n",
            "    131   495     5   198   803     2  3082   711     9    24  3562    21\n",
            "     23    86   829    36   713  6456     5    12     9  1329    15     4\n",
            "    185   528   126  1495    98   936     5     4  2773    16     4    86\n",
            "   1125    22     8    79    35   735  4372    18   118   431    12   416\n",
            "      8     4  3542     7     4 10721     5     9  1346   230     4    64\n",
            "   1125    22     8  3911   141    35  2898    15   112     4   420    45\n",
            "    254     8   391   138     4  3082   711    16    24   348     4   172\n",
            "   8076     4   107   108    26    53    42   329  3215    11   489     5\n",
            "      4 13341    18     4  2898    15   291    71    24   565    48    25\n",
            "    774   460    67     4  3082   711    25   528    30   685]]\n",
            "[0.94561476]\n"
          ],
          "name": "stdout"
        }
      ]
    },
    {
      "cell_type": "markdown",
      "metadata": {
        "id": "_Ve-fbG77aSq"
      },
      "source": [
        "### Ejemplo 2. CHAT BOT:\n"
      ]
    },
    {
      "cell_type": "markdown",
      "metadata": {
        "id": "PWyqTorYc3YO"
      },
      "source": [
        "## Practica 1:"
      ]
    },
    {
      "cell_type": "code",
      "metadata": {
        "id": "Im0Wtfwsc8dh"
      },
      "source": [
        ""
      ],
      "execution_count": null,
      "outputs": []
    }
  ]
}