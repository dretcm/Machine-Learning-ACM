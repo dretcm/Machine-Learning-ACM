{
  "nbformat": 4,
  "nbformat_minor": 0,
  "metadata": {
    "colab": {
      "name": "Platzy_ML_Intermediate.ipynb",
      "provenance": [],
      "collapsed_sections": [],
      "include_colab_link": true
    },
    "kernelspec": {
      "name": "python3",
      "display_name": "Python 3"
    }
  },
  "cells": [
    {
      "cell_type": "markdown",
      "metadata": {
        "id": "view-in-github",
        "colab_type": "text"
      },
      "source": [
        "<a href=\"https://colab.research.google.com/github/dretcm/Machine-Learning-ACM/blob/main/Platzy_ML_Intermediate.ipynb\" target=\"_parent\"><img src=\"https://colab.research.google.com/assets/colab-badge.svg\" alt=\"Open In Colab\"/></a>"
      ]
    },
    {
      "cell_type": "markdown",
      "metadata": {
        "id": "Xa8h5wyvtJm-"
      },
      "source": [
        "# **Curso de fundamentos matecaticos para Inteligencia Artificial**\n",
        "\n",
        "---\n",
        "\n"
      ]
    },
    {
      "cell_type": "markdown",
      "metadata": {
        "id": "Tunk6UyTtMRP"
      },
      "source": [
        "# Vectores\n",
        "\n",
        "**Producto Escalar**\n",
        "\n",
        "---\n",
        "\n",
        "\n",
        "\n",
        "convinacion linear (CL)\n",
        "\n",
        "v = [1, 1, 2], u = [0, 2, 1] => v.u = (1 * 0) + (1 * 2) + (2 * 1) = 4 ER\n",
        "\n",
        "**Para calcular la combinacion lineal en vectores:** [link text](https://www.youtube.com/watch?v=n6ZbDKquQoA)\n",
        "\n",
        "**Producto Vectorial**\n",
        "\n",
        "---\n",
        "\n",
        "\n",
        "\n",
        "![alt text](https://lh3.googleusercontent.com/proxy/8IM4PZYpc8M4A1vI-u8KICunMsP0RVozy4fAbE2jWGReqExt-r_Ml8ntRyzODUyXSIyRwveOk2zPu9s)\n",
        "\n",
        "\n",
        "![alt text](https://www.youphysics.education/wp-content/uploads/es/magnitudes-escalares-y-vectoriales/ejercicios-resueltos-de-producto-vectorial/Ejecicios-Vectores-Eq17.png)"
      ]
    },
    {
      "cell_type": "code",
      "metadata": {
        "id": "iSk0b-B3htBd",
        "colab": {
          "base_uri": "https://localhost:8080/",
          "height": 102
        },
        "outputId": "a5c6e798-d85d-4732-b39e-e9f78875cc7f"
      },
      "source": [
        "import numpy as np\n",
        "\n",
        "u = np.array([1,1,2])\n",
        "v = np.array([0,2,1])\n",
        "\n",
        "a = np.array([3,2,-1])\n",
        "b = np.array([5,5,0])\n",
        "\n",
        "# producto escalar\n",
        "def scalar_product(a,b):\n",
        "  return np.sum(a*b)  # tambien podriamos usar\n",
        "\n",
        "#producto vectorial\n",
        "def vector_product(a,b):\n",
        "  res = np.array([(a[1]*b[2]-a[2]*b[1]),-(a[0]*b[2]-a[2]*b[0]),(a[0]*b[1]-a[1]*b[0])])\n",
        "  return res\n",
        "\n",
        "def vector_product_with_cross(a,b):\n",
        "  return np.cross(a,b)  # np.cross nos permite realizar el producto vectoril\n",
        "\n",
        "print('1 version) u.v = ',scalar_product(u,v))\n",
        "print('2 version) u.v = ',np.dot(u,v))  # np.dot realiza productos escalares de un vector o multiplicacion de matrices.\n",
        "print('3 version) u.v = ',np.inner(u,v))  # np.inner tambien\n",
        "print('1 version) a X b = ',vector_product(a,b))\n",
        "print('2 version) a X b = ',vector_product_with_cross(a,b))"
      ],
      "execution_count": null,
      "outputs": [
        {
          "output_type": "stream",
          "text": [
            "1 version) u.v =  4\n",
            "2 version) u.v =  4\n",
            "3 version) u.v =  4\n",
            "1 version) a X b =  [ 5 -5  5]\n",
            "2 version) a X b =  [ 5 -5  5]\n"
          ],
          "name": "stdout"
        }
      ]
    },
    {
      "cell_type": "markdown",
      "metadata": {
        "id": "-XEr8bAZcw3Z"
      },
      "source": [
        "# Matrices\n",
        "\n",
        "**Matriz Identidad**\n",
        "\n",
        "---\n",
        "\n",
        "![alt text](https://encrypted-tbn0.gstatic.com/images?q=tbn%3AANd9GcTZnHZqbbFW63bdvl6unSJ6M_iNgMVgNtsc-A&usqp=CAU)\n",
        "\n",
        "\n",
        "\n",
        "**producto de matrices:**\n",
        "\n",
        "---\n",
        "\n",
        "\n",
        "\n",
        "![alt text](https://www.jc-mouse.net/wp-content/uploads/2018/07/matriz_kotlin.gif)\n",
        "\n",
        "![alt text](https://www.geogebra.org/resource/jyFms9hh/gWfr05GxoKt6c3JS/material-jyFms9hh.png)\n",
        "\n",
        "![alt text](https://sites.google.com/site/programacion1upds/_/rsrc/1469149815060/actividades/multiplicaciondematrices/multiplicacion-de-matrices2.gif)\n"
      ]
    },
    {
      "cell_type": "code",
      "metadata": {
        "id": "HONswV4WmZdH",
        "colab": {
          "base_uri": "https://localhost:8080/",
          "height": 68
        },
        "outputId": "7b743210-4b4e-4372-f697-f24d387745a7"
      },
      "source": [
        "def matriz_product(a,b):\n",
        "  return np.dot(a,b) # .dot nos permite multiplicar matrices\n",
        "\n",
        "a = np.matrix([[3,2,1],[1,1,3],[0,2,1]])\n",
        "b = np.matrix([[2,1],[1,0],[3,2]])\n",
        "\n",
        "print(matriz_product(a,b))"
      ],
      "execution_count": null,
      "outputs": [
        {
          "output_type": "stream",
          "text": [
            "[[11  5]\n",
            " [12  7]\n",
            " [ 5  2]]\n"
          ],
          "name": "stdout"
        }
      ]
    },
    {
      "cell_type": "markdown",
      "metadata": {
        "id": "bPeeSqThNPE5"
      },
      "source": [
        "# Algebra Lineal\n",
        "\n",
        "---\n",
        "\n",
        "\n",
        "*   sistema combatible determinado\n",
        "*   sistema combatible indeterminado\n",
        "*   sistema incombatible\n",
        "\n",
        "![alt text](https://slideplayer.es/slide/5478638/17/images/5/Sistema+compatible+determinado+Sistema+compatible+indeterminado.jpg)\n",
        "\n",
        "\n",
        "**Metodo de Gauss**\n",
        "\n",
        "---\n",
        "\n",
        "![alt text](https://static.platzi.com/media/user_upload/solucion-1e7ed8c6-c915-432d-81fb-21e647e911a3.jpg)\n",
        "\n",
        "**Zoo Funciones:**\n",
        "\n",
        "![alt text](https://sites.google.com/site/portafoliojesusantonio01/_/rsrc/1410233415725/home/temas-del-curso/graficas-de-funciones/tipos%20de%20graficas.jpg)"
      ]
    },
    {
      "cell_type": "code",
      "metadata": {
        "id": "1jw6uA0Y5dyg",
        "colab": {
          "base_uri": "https://localhost:8080/",
          "height": 541
        },
        "outputId": "c84ad151-100c-4ea3-abf5-b1909a29e127"
      },
      "source": [
        "import matplotlib.pyplot as plt\n",
        "import numpy as np\n",
        "\n",
        "x = np.array([1,2,3,4,5,6,7,8,9])\n",
        "\n",
        "def fun_expotencial_2(x):\n",
        "  return np.power(x,2)\n",
        "\n",
        "def fun_sqrt_2(x):\n",
        "  return np.sqrt(x)\n",
        "\n",
        "# fig = plt.figure(figsize=(15,15))\n",
        "# fig.tight_layout()\n",
        "\n",
        "y = np.array(fun_expotencial_2(x))\n",
        "plt.plot(x,y,label=\" 1 Funcion Lineal \")\n",
        "plt.legend()\n",
        "plt.xlabel(\" X \")\n",
        "plt.ylabel(\" f(X) = X^2 \")\n",
        "plt.show()\n",
        "\n",
        "\n",
        "y = np.array(fun_sqrt_2(x))\n",
        "plt.plot(x,y,label=\" 2 Funcion Lineal \")\n",
        "plt.legend()\n",
        "plt.xlabel(\" X \")\n",
        "plt.ylabel(\" f(X) = X^1/2 \")\n",
        "plt.show()"
      ],
      "execution_count": null,
      "outputs": [
        {
          "output_type": "display_data",
          "data": {
            "image/png": "[encoded data removed]",
            "text/plain": [
              "<Figure size 432x288 with 1 Axes>"
            ]
          },
          "metadata": {
            "tags": [],
            "needs_background": "light"
          }
        },
        {
          "output_type": "display_data",
          "data": {
            "image/png": "[encoded data removed]",
            "text/plain": [
              "<Figure size 432x288 with 1 Axes>"
            ]
          },
          "metadata": {
            "tags": [],
            "needs_background": "light"
          }
        }
      ]
    },
    {
      "cell_type": "markdown",
      "metadata": {
        "id": "ajSZAx6vS4Bx"
      },
      "source": [
        "# Límites, infinito, y asíntotas\n",
        "\n",
        "---\n",
        "\n",
        "\n",
        "\n",
        "![alt text](https://www.universoformulas.com/imagenes/matematicas/analisis/limites/ejemplo-1-limites-laterales-grafica.jpg)\n",
        "\n",
        "al aplicar \"lim x -> 1\" pues en la funcion nos retornaria \" 1 / 0 \" y eso nos devolveria error, para eso utilizaremos los limites laterales, donde tomaremos el limite del numero a la derecha o izquierda para asi aproximarnos a la funcion de la recta que es +- infinito.\n",
        "\n",
        "\n",
        "Donde en \"lim x -> 1^+\"  en la funcion seria \" (1.5)^3 / (1.5 - 1)^3 \" y ya no daria una division sobre cero, sino un numero muy pequeño al cubo y seria +infinito.\n",
        "\n",
        "\n",
        "en la segunda \"lim x -> 1^-\" es el mismo caso pero negativo \" (-1.5)^3 / (-1.5 - 1)^3 \" y tambien daria otro numero grande negativo al infinito.\n",
        "\n",
        "esa recta punteada es la \" asintoda vertical \" que es \" x = 1 \"\n",
        "\n",
        "![alt text](https://www.geogebra.org/resource/eKTsGjWC/8LszctuCX288xSyU/material-eKTsGjWC.png)\n",
        "\n",
        "![alt text](https://www.videosdematematicas.com/algebra/sites/default/files/styles/recortado/public/11%20Limite%20de%20una%20sucesion%20-%20sucesiones%20convergentes%20y%20divergentes.png?itok=dBAz0yna)"
      ]
    },
    {
      "cell_type": "markdown",
      "metadata": {
        "id": "MZIWhrk6Ca_7"
      },
      "source": [
        "# Derivadas\n",
        "\n",
        "---\n",
        "\n",
        "\n",
        "![alt text](https://image.slidesharecdn.com/algoritmos-derivada-131201154615-phpapp02/95/implementacin-de-derivada-de-fx-para-visual-studio-2012-3-638.jpg?cb=1385912985)\n",
        "\n",
        "![alt text](https://static.platzi.com/media/user_upload/derivadas-8645bdb8-aace-43d1-a76d-bdd960c6bb0f.jpg)\n",
        "\n",
        "**Regla de la cadena Derivadas**\n",
        "\n",
        "---\n",
        "\n",
        "\n",
        "\n",
        "![alt text](https://static.platzi.com/media/user_upload/deri2-851a73eb-e9ac-499e-8036-7bd5e37913a0.jpg)\n"
      ]
    },
    {
      "cell_type": "markdown",
      "metadata": {
        "id": "RoiUXmUIhiSP"
      },
      "source": [
        "# Gradiente (Derivadas Parciales)\n",
        "\n",
        "---\n",
        "\n",
        "\n",
        "\n",
        "![alt text](https://static.platzi.com/media/user_upload/deri3-419ed8f1-7fd0-4d03-b4ab-d4791f6c645d.jpg)\n",
        "\n",
        "Cuando toque ef / ex = todo lo que no sea \"x\" sera una constante y las constantes al derivar se vuelven 0, por eso \"2z^2\" se va , porque no es parte de la varible \"x\", y solo queda la derivada de \"x\" sobre la constante que esta dividiendo \"y\" que es este caso es un constante pero parte de \"x\".\n",
        "\n",
        "\n",
        "al igual pasas en \"ef/ey\" solo se deriva la \"y\" y lo demas queda como constante.\n",
        "\n",
        "y en la \"z\" tambien, se va la francion de constantes de \"x\" y \"y\", quedando la derivada de solo \"z\".\n",
        "\n",
        "\n",
        "Más sobre Gradientes bn explicado: https://es.khanacademy.org/math/multivariable-calculus/multivariable-derivatives/partial-derivative-and-gradient-articles/a/the-gradient\n"
      ]
    },
    {
      "cell_type": "markdown",
      "metadata": {
        "id": "q9HnwuhtFoAj"
      },
      "source": [
        "# Integrales\n",
        "\n",
        "---\n",
        "\n",
        "![alt text](https://slideplayer.es/slide/1126340/3/images/2/%C2%BFCu%C3%A1l+es+el+problema+que+motiva+el+concepto+de+integral.jpg)\n",
        "\n",
        "\n",
        "\n",
        "**Tabla De Integrales:**\n",
        "http://www.edu.xunta.gal/centros/iesescolasproval/system/files/integral.pdf\n",
        "\n",
        "**Teorema de Bolzano:**\n",
        "![alt text](https://static.platzi.com/media/user_upload/cod4-6c7d83a0-5db6-4ab1-b7a6-86b308c0edb1.jpg)\n",
        "https://www.lifeder.com/teorema-bolzano/"
      ]
    },
    {
      "cell_type": "markdown",
      "metadata": {
        "id": "If93dBI4O7VN"
      },
      "source": [
        "# Representacion Grafica de Funciones:\n",
        "\n",
        "f(x) = x^3 + 3x + 1\n",
        "\n",
        "DOMINIO: Todos los reales.\n",
        "\n",
        "PUNTOS DE CORTE:\n",
        "Y = 1\n",
        "X0 = -1.62 , X1 = 1 , X2 = 0.62 (^3 son tres soluciones)\n",
        "https://www.mathway.com/es/popular-problems/Algebra/267018\n",
        "\n",
        "ASINTOTAS: No tiene verticales ni horizontales.\n",
        "\n",
        "CRECIMIENTO: -Infinito a -1 CRECE , Entre -1 y 1 DECRECE , Entre 1 a +Infinito CRECE.\n",
        "\n",
        "MÁXIMOS: -Infinito a 0 MÁXIMO , 0 a +infinito MÍNIMO\n",
        "\n",
        "CONCAVIDAD: Primero concavidad negativa y luego positiva\n",
        "\n",
        "![alt text](https://static.platzi.com/media/user_upload/Opera%20Captura%20de%20pantalla_2020-02-06_200741_www.geogebra.org-8a8f906a-41b8-49a3-ac17-a65346cb3093.jpg)"
      ]
    },
    {
      "cell_type": "markdown",
      "metadata": {
        "id": "ffIQj5DeiaqQ"
      },
      "source": [
        "# OPTIMIZACIÓN 1\n",
        "\n",
        "---\n",
        "\n",
        "\n",
        "Dominio: \" 0<x<50\"\n",
        "\n",
        "Puntos De corte: x = 10, \"x = 33.33 \" en la segunda no cumple con el dominio.\n",
        "psdt: para hallar los puntos de corte de este ejercicios se uso la formula general o cuadratica.\n",
        "\n",
        "\n",
        "\n",
        "![alt text](https://static.platzi.com/media/user_upload/opti1-d54ff3b1-5ba2-4cfd-a537-57337f74c1d4.jpg)"
      ]
    },
    {
      "cell_type": "markdown",
      "metadata": {
        "id": "4tbF0gzsueEB"
      },
      "source": [
        "# Combinatoria\n",
        "\n",
        "---\n",
        "![alt text](https://static.platzi.com/media/user_upload/tabla_combinaciones-c7aa591c-21d5-4ada-8174-c56955fb1816.jpg)\n",
        "\n",
        "![conteo.png](data:image/png;base64,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)\n",
        "\n",
        "**Teorema de Fermat:**\n",
        "\n",
        "Cualquier \"P\" que sea primo sera divisible en \" a^P - a \".\n",
        "\n",
        "![alt text](https://static.platzi.com/media/user_upload/Anotaci%C3%B3n%202020-01-29%20175934-076d6c3c-0d68-4eb8-ba98-6dc846753af2.jpg)\n"
      ]
    },
    {
      "cell_type": "markdown",
      "metadata": {
        "id": "ZEJZPO2Xo8Iq"
      },
      "source": [
        "**Sin Repeticion**\n",
        "\n",
        "---\n",
        "\n",
        "\n",
        "\n",
        "**Ejemplos:**\n",
        "\n",
        "\n",
        "1.   Permutaciones: 4 numeros 1,2,3,4, cuantos numeros distintos se pueden escribir ? \n",
        "\n",
        "  n! = \" 4! \" = \" 24 \"  # porque 1234, 1324, 1342, etc ...\n",
        "\n",
        "2.   Variacion: en una carrera de 10 corredores, de cuantas maneras se pueden repartir las medalas de oro, plata y cobre ? \n",
        "\n",
        "  V(n,r) = V(10,3) = 10! /(10-3)! = 720    # importa el orden\n",
        "\n",
        "3.   Combinacion: en una reunion de 10 personas se debe nombrar una comicion de 3 personas, cuantas comiciones distintas se pueden formar ?\n",
        "\n",
        "  C(n,r) = C(10,3) = 10! / 3!(10-3)! = 120  # no importa el orden\n",
        "\n",
        "\n",
        "**Con Repeticion**\n",
        "\n",
        "---\n",
        "\n",
        "\n",
        "\n",
        "**Ejemplos:**\n",
        "\n",
        "\n",
        "1.   Permutaciones: Cúantos numeros distintos de 6 cifras se pueden formar con con 3 unos, 2 cincos, y 1 ocho?\n",
        "\n",
        "  P(n, a,b,c) = P(6, 3,2,1) = 6! / (3!*2!*1!) = 60  # 111558, 111585, 111855, etc.\n",
        "\n",
        "2.   Variacion: Cúantos número distintos de 6 cifras se pueden escribir usando solo el 1, 5, y 8. ?\n",
        "\n",
        "  VR(n,r) = VR(3, 6) = 3^6 = 729 # 111158, 111558, 115558, etc.\n",
        "\n",
        "3.   Combinacion: De cúantas maneras puedo elegir 3 regalos de 5 cuando no me importa repetir regalo?\n",
        "\n",
        "  C(n+r-1, r) = C(5+3-1, 3) = 7! / 3!(7-3)! = 35 # 2 panetones y 1 pollo, 3 pollos, 1 paneton 1 pollo 1 patin.\n",
        "\n",
        "\n"
      ]
    },
    {
      "cell_type": "code",
      "metadata": {
        "id": "0obYXylPrXnL",
        "colab": {
          "base_uri": "https://localhost:8080/",
          "height": 561
        },
        "outputId": "da09bb6f-f200-424c-b85e-b72874d4cb8c"
      },
      "source": [
        "import itertools\n",
        "\n",
        "def permutacion(num):\n",
        "  res = 1\n",
        "  for i in range(1,num+1):\n",
        "    res *=i\n",
        "  return res\n",
        "\n",
        "def variation(num,sub_num):\n",
        "  return (permutacion(num))/permutacion(num-sub_num)\n",
        "\n",
        "def combination(num,sub_num):\n",
        "  return (permutacion(num))/(permutacion(sub_num)*permutacion(num-sub_num))\n",
        "\n",
        "lista = ['ladrando','perro','ese','esta']\n",
        "print(\"Data: \",lista)\n",
        "  \n",
        "print(\"\\n Variations or Permutations With 4 elements: \")\n",
        "for reply in itertools.permutations(lista,4):       # importa la posicion.\n",
        "  print(reply)\n",
        "\n",
        "print(\"\\n Combinations With 4 elements: \")          # no importa la posicion\n",
        "for reply in itertools.combinations(lista,4):\n",
        "  print(reply)\n",
        "\n",
        "# Reto: de en una pasteleria hay 6 tipos distintos de pasteles, de cúantas formas se pueden elegir 4 pasteles ?\n",
        "n = 6\n",
        "r = 4\n",
        "# Combinations with repetitions:  CR = (n+r-1, r) \n",
        "\n",
        "new_n = n + r - 1\n",
        "\n",
        "print(\"\\n Challenge Reply: \",combination(new_n,r))"
      ],
      "execution_count": null,
      "outputs": [
        {
          "output_type": "stream",
          "text": [
            "Data:  ['ladrando', 'perro', 'ese', 'esta']\n",
            "\n",
            " Variations or Permutations With 4 elements: \n",
            "('ladrando', 'perro', 'ese', 'esta')\n",
            "('ladrando', 'perro', 'esta', 'ese')\n",
            "('ladrando', 'ese', 'perro', 'esta')\n",
            "('ladrando', 'ese', 'esta', 'perro')\n",
            "('ladrando', 'esta', 'perro', 'ese')\n",
            "('ladrando', 'esta', 'ese', 'perro')\n",
            "('perro', 'ladrando', 'ese', 'esta')\n",
            "('perro', 'ladrando', 'esta', 'ese')\n",
            "('perro', 'ese', 'ladrando', 'esta')\n",
            "('perro', 'ese', 'esta', 'ladrando')\n",
            "('perro', 'esta', 'ladrando', 'ese')\n",
            "('perro', 'esta', 'ese', 'ladrando')\n",
            "('ese', 'ladrando', 'perro', 'esta')\n",
            "('ese', 'ladrando', 'esta', 'perro')\n",
            "('ese', 'perro', 'ladrando', 'esta')\n",
            "('ese', 'perro', 'esta', 'ladrando')\n",
            "('ese', 'esta', 'ladrando', 'perro')\n",
            "('ese', 'esta', 'perro', 'ladrando')\n",
            "('esta', 'ladrando', 'perro', 'ese')\n",
            "('esta', 'ladrando', 'ese', 'perro')\n",
            "('esta', 'perro', 'ladrando', 'ese')\n",
            "('esta', 'perro', 'ese', 'ladrando')\n",
            "('esta', 'ese', 'ladrando', 'perro')\n",
            "('esta', 'ese', 'perro', 'ladrando')\n",
            "\n",
            " Combinations With 4 elements: \n",
            "('ladrando', 'perro', 'ese', 'esta')\n",
            "\n",
            " Challenge Reply:  126.0\n"
          ],
          "name": "stdout"
        }
      ]
    },
    {
      "cell_type": "markdown",
      "metadata": {
        "id": "UeL4ci-XX24-"
      },
      "source": [
        "# Conjuntos\n",
        "\n",
        "---\n",
        "\n",
        "\n",
        "\n",
        "*   ∈ (pertenece)\n",
        "*   ∉ (no pertenece)\n",
        "*   U (unio)\n",
        "*   ∩ (interseccion)\n",
        "*   ⊆ (esta conteniedo en ..., pero no es toto el conjunto)\n",
        "*   ⊂ (es un subconjunto de ...)\n",
        "*   Sea A un subconjunto de B tal que A ≠ B. Entonces se dice que A es un subconjunto propio de B, y se denota por A ⊊ B.\n",
        "(A su vez, se dice que B es un superconjunto propio de A, B ⊋ A)\n",
        "*   {} = ∅\n",
        "\n",
        "![alt text](https://static.platzi.com/media/user_upload/Venn_Diagram-102b3495-2870-461d-a9e8-e558fdfee0ea.jpg)\n",
        "\n",
        "**Nota:** \n",
        "Si quieres definir el espacio de Z en un conjunto universal que llamaremos S que esta constituido por A, R , Z.\n",
        "supongamos que los subconjuntos no comparten ningun elemento entre si.\n",
        "entonces para definir Z por ejemplo, restamos a S los elementos de A y R\n",
        "\" Z= S-(AuR) \".\n",
        "\n",
        "![alt text](https://static.platzi.com/media/user_upload/18-diagrama%20venn%20exito%20cool%20ruler-453e4599-a320-485b-81ee-ca890ac152cf.jpg)\n",
        "\n",
        "![alt text](https://fotos.subefotos.com/5ae49a36ce06098be00c2587cd0e9765o.jpg)"
      ]
    },
    {
      "cell_type": "markdown",
      "metadata": {
        "id": "FgjfS30ZlIga"
      },
      "source": [
        "# Grafos\n",
        "\n",
        "---\n",
        "\n",
        "![alt text](https://1.bp.blogspot.com/-gLPN4WksQrI/VdP2Q0SDPoI/AAAAAAAAACY/o0cSmF8K2Ck/s1600/444.jpg)\n",
        "\n",
        "\n",
        "*   Un grafo es completo si el numero de aristas es igual a el numero total de nodos. \" n(n-1)/2 \" n es el numero de nodos.\n",
        "*   Un grafo ponderado existe si hay una funcion peso que asigna un valor a cada arista o arco.\n",
        "\n",
        "\n",
        "\n",
        "![alt text](https://static.platzi.com/media/user_upload/M_adyacencia-56f7d007-0a8d-4186-8ebc-7aa92cf0fb34.jpg)\n",
        "\n",
        "![alt text](https://static.platzi.com/media/user_upload/G_bipartito-f82219fb-baf5-4c27-a5fb-bff92a54bb45.jpg)\n",
        "\n",
        "*   En el grafo bipartito no hay relacion entre los elementos del mismo subconjunto, solo la hay de un subconjunto a otro subconjunto.\n",
        "\n",
        "\n",
        "**Teorema de Hall**\n",
        "\n",
        "\n",
        "*   debe ser bipartido\n",
        "*   debe ser un grafo no dirigido\n",
        "*   Existe un emparejamiento que satura a todo X, si sólo si \" Vsubconjunto ⊆ X   Cardinal(subconjunto) <= Cardinal(Γ(subconjunto)) \"\n",
        "\n",
        "![alt text](https://static.platzi.com/media/user_upload/T_hall-f82645f7-4177-4a00-979a-d4d2a3bb9975.jpg)\n",
        "\n",
        "\n",
        "Mejor explicacion sobre teorema de Hall: https://www.youtube.com/watch?v=mSNzPWQwY0E"
      ]
    },
    {
      "cell_type": "markdown",
      "metadata": {
        "id": "WQdonD9frr1Y"
      },
      "source": [
        "# Arboles\n",
        "\n",
        "---\n",
        "\n",
        "![alt text](https://www.ecured.cu/images/7/73/Arbol_Elementos.gif)\n",
        "![alt text](https://image.slidesharecdn.com/arbolesconraiz-121029151709-phpapp02/95/arboles-con-raiz-13-638.jpg?cb=1351523902)"
      ]
    },
    {
      "cell_type": "markdown",
      "metadata": {
        "id": "qoD_lz5aj2N7"
      },
      "source": [
        "# Logica 1\n",
        "\n",
        "---\n",
        "\n",
        "La lógica es la ciencia formal que estudia la estructura o formas del pensamiento humano (como proposiciones, conceptos y razonamientos) para establecer leyes y principios válidos para obtener criterios de verdad. La lógica proposicional es la rama de la lógica que estudia las variables proposicionales (p, q, r…), las oraciones y los conectores. Para que lo entiendas con facilidad: tienes que aprender una sintaxis nueva. Consiste en una semántica de Verdadero o Falso y en una serie de conectivas lógicas:\n",
        "\n",
        "\n",
        "¬ negación NO\n",
        "\n",
        "∨ disyunción O\n",
        "\n",
        "^ conjunción Y\n",
        "\n",
        "→ implicancia IMPLICA\n",
        "\n",
        "↔ equivalencia EQUIVALE\n",
        "\n",
        "\n",
        "\n",
        "Por ejemplo: “El cáncer no logrará curarse a no ser que se logre determinar su causa y se consiga encontrar fármacos adecuados o bien para prevenirlo o para curarlo”.\n",
        "\n",
        "p = El cáncer logrará curarse.\n",
        "q = se logra determinar su causa.\n",
        "r = se consigue encontrar fármacos adecuados para prevenirlo.\n",
        "s = se consigue encontrar fármacos adecuados para curarlo.\n",
        "\n",
        "q r sp\n",
        "\n",
        "Las tablas de verdad se emplean en la lógica para determinar los posibles valores de verdad de una proposición:\n",
        "\n",
        "![alt text](https://static.platzi.com/media/user_upload/Logica1-c6c4bc34-4ebe-40fc-8eeb-3ce62334e746.jpg)\n",
        "\n",
        "CORRECCION EN LA DISYUNCION EXCLUSIVA, SERÍA (F,V,V,F)\n",
        "\n",
        "Negación: Consiste en cambiar el valor de verdad de una variable proposicional.\n",
        "\n",
        "Disyunción: La sentencia será verdadera cuando una o ambas variables proposicionales sean verdaderas.\n",
        "\n",
        "Conjunción: La sentencia será verdadera sólo cuando ambas variables proposicionales sean verdaderas.\n",
        "\n",
        "Condicional: La sentencia será falsa cuando el antecedente sea verdadero y el concecuente falso.\n",
        "\n",
        "Bicondicional: La sentencia será verdadera cuando ambas variables proposicionales sean iguales.\n",
        "\n",
        "Disyunción exclusiva: La sentencia será verdadera sólo cuando sólo una de las dos variables proposicionales sea verdadera, pero no las dos."
      ]
    },
    {
      "cell_type": "markdown",
      "metadata": {
        "id": "B1AHUgfmnaw0"
      },
      "source": [
        "# Logica 2\n",
        "\n",
        "---\n",
        "\n",
        "Las similitudes entre las matemáticas y la lógica son más que evidentes. Si te centras en la lógica proposicional, como estás haciendo en el presente curso, encontrarás que está constituida por un sistema formal cuyos elementos representan proposiciones (oraciones) y cuyas constantes (conectores) lógicas representan operaciones entre las proposiciones, combinándose para formar proposiciones más complejas. Ya conoces el alfabeto de la lógica y su forma de funcionar. Conoces los operadores lógicos. \n",
        "\n",
        "También conoces la sintaxis y las tablas de verdad. Ahora tienes la preparación necesaria para aprender sobre la teoría axiomática.\n",
        "\n",
        "Un sistema axiomático formal consta de los siguientes elementos:\n",
        "\n",
        "Un alfabeto S para que puedas construir expresiones formales, esto incluye:\n",
        "- Un conjunto de símbolos para conectivas lógicas, cuantificadores. Ya los conoces.\n",
        "- Un conjunto de símbolos para designar las variables. También los conoces.\n",
        "- Un conjunto de símbolos para constantes: esto dependera de cada modelo.\n",
        "- Un conjunto de símbolos que serán interpretados como funciones.\n",
        "- Un conjunto de símbolos que serán interpretados como relaciones.\n",
        "\n",
        "Una gramática formal que incluirá:\n",
        "\n",
        "- Reglas de buena formación, que reproducen la “morfología” del lenguaje formal: igual que el análisis morfológico de una frase.\n",
        "- Reglas de inferencia que permitirán deducir unas proposiciones de otras, estas reglas reproducen la “sintaxis” del lenguaje formal.\n",
        "- Un conjunto de axiomas inicial, o expresiones bien formadas son el punto de partida de cualquier deducción."
      ]
    },
    {
      "cell_type": "markdown",
      "metadata": {
        "id": "x7moKvYTGD7p"
      },
      "source": [
        "# Estadistica\n",
        "\n",
        "---\n",
        "\n",
        "![alt text](https://static.platzi.com/media/user_upload/Estadisticas-8801cfe6-3207-49b9-a428-5e3954414331.jpg)\n",
        "\n",
        "Para la Desviacion Estandar(std) solo despejamos \"S\", S^2 = varianza, así que \" S = sqrt(varianza)\"."
      ]
    },
    {
      "cell_type": "code",
      "metadata": {
        "id": "gEIUO1eGgF5w",
        "colab": {
          "base_uri": "https://localhost:8080/",
          "height": 136
        },
        "outputId": "9661d6bb-e817-4140-9c1d-71e0fce06897"
      },
      "source": [
        "#RETO: CALCULAR LA MODA, MEDIANA, MEDIA, Y VARIANZA DE LAS TEMPERATURAS DE X LUGAR:\n",
        "\n",
        "import numpy as np\n",
        "import math\n",
        "temperaturas = np.array([3,35,30,37,27,31,41,20,16,26,45,37,9,41,28,21,31,35,10,26,11,34,36,12,22,17,33,43,19,48,38,25,36,32,38,28,30,36,39,40])\n",
        "\n",
        "def moda(X):\n",
        "  max = 0\n",
        "  pos = 0\n",
        "  dic_moda = {}\n",
        "  for i in X:\n",
        "    if i in dic_moda:\n",
        "      dic_moda[i] += 1\n",
        "    else:\n",
        "      dic_moda[i] = 1\n",
        "\n",
        "  for i in dic_moda:\n",
        "    if dic_moda[i] > max:\n",
        "      max = dic_moda[i]\n",
        "      pos = i\n",
        "  return pos\n",
        "\n",
        "def my_variance(x,m_x,len):\n",
        "  res = 0\n",
        "  for i in x:\n",
        "    res += ((i-m_x)**2)*x[i]\n",
        "  return res/len         # SUMA((xi-X_media)^2 (frecuencia_xi))/len(X)\n",
        "\n",
        "def my_std(x):\n",
        "  return math.sqrt(x)       # sqrt(varianza de x)\n",
        "\n",
        "dic = {}\n",
        "for i in temperaturas:\n",
        "  if i in dic:\n",
        "    dic[i] += 1\n",
        "  else:\n",
        "    dic[i] = 1\n",
        "\n",
        "media = np.mean(temperaturas)\n",
        "varianza = np.var(temperaturas)\n",
        "\n",
        "print('fashion, moda, valor mas concurrente: ',moda(temperaturas))\n",
        "print('median, mediana, valor intermedio: ',np.median(temperaturas))\n",
        "print('mean, media, promedio: ',media)\n",
        "\n",
        "print('my variance: ',my_variance(dic,media,len(temperaturas)))\n",
        "print('numpy variance: ',varianza)\n",
        "\n",
        "print(\"my std: \",my_std(varianza))\n",
        "print('numpy std: ',np.std(temperaturas))"
      ],
      "execution_count": null,
      "outputs": [
        {
          "output_type": "stream",
          "text": [
            "fashion, moda, valor mas concurrente:  36\n",
            "median, mediana, valor intermedio:  31.0\n",
            "mean, media, promedio:  29.15\n",
            "my variance:  114.67750000000001\n",
            "numpy variance:  114.67749999999998\n",
            "my std:  10.70875809793087\n",
            "numpy std:  10.70875809793087\n"
          ],
          "name": "stdout"
        }
      ]
    },
    {
      "cell_type": "markdown",
      "metadata": {
        "id": "4uFwcxj-6ls8"
      },
      "source": [
        "# Probabilidad\n",
        "\n",
        "---\n",
        "![alt text](https://static.platzi.com/media/user_upload/bayes_ejemplo-4f39e6e8-72e4-4814-aeb8-9b8ea8947f5f.jpg)\n",
        "https://www.youtube.com/watch?v=Fi6G48j0IZ4\n"
      ]
    },
    {
      "cell_type": "markdown",
      "metadata": {
        "id": "W3AD74hqrSB-"
      },
      "source": [
        "![alt text](https://miro.medium.com/max/1080/1*YgXPZN3y0wJ6NnnfpaM1qA.png)\n",
        "# Calsificación\n",
        "\n",
        "---\n",
        "\n",
        "**Algoritmos de clasificación:**\n",
        "\n",
        "*   Logistic regresión (es una regresión pero te da la probabilidad de un resultado binario)\n",
        "*   K-nearest neighbors\n",
        "*   Suport vector machine\n",
        "*   Decision tree classification\n",
        "*   Ramdom forest classification (se basa en el anterior)\n",
        "\n",
        "Son algoritmos de clasificación que se utilizan en aprendizaje supervisado\n",
        "\n"
      ]
    },
    {
      "cell_type": "markdown",
      "metadata": {
        "id": "Ky4iPRF57lFU"
      },
      "source": [
        "# Regresion Logistica y Linear\n",
        "\n",
        "---\n",
        "**Diferencias entre Regresión Lineal y Regresión Logística**\n",
        "![alt text](https://i0.wp.com/live.staticflickr.com/65535/48043012668_f0b56bd7b8_c.jpg?resize=800%2C561&ssl=1)\n",
        "\n",
        "La Regresión Lineal proporciona una salida continua, pero la Regresión Logística proporciona una salida discreta. Un ejemplo de una salida continua es conocer el porcentaje de probabilidad de lluvia o el precio de una acción. Un ejemplo de una salida discreta, por su parte, es conocer si va a llover o no, o si el precio de una acción subirá o no.\n",
        "\n",
        "![alt text](http://imgfz.com/i/fDvtcP6.jpeg)\n",
        "Tipos de Regresión Logística\n",
        "\n",
        "Regresión Logística Binaria: la variable objetivo tiene solo dos resultados posible, Llueve o NO Llueve, Sube o Baja.\n",
        "\n",
        "Regresión Logística Multinomial: la variable objetivo tiene tres o más categorías nominales, como predecir el tipo de vino.\n",
        "\n",
        "Regresión Logística Ordinal: la variable objetivo tiene tres o más categorías ordinales, como clasificar un restaurante o un producto del 1 al 5.\n",
        "\n",
        "En conclusión, la Regresión Lineal es un algoritmo de regresión por lo que la utilizamos para predecir un valor numérico, mientras que la Regresión Logística es un algoritmo de clasificación por lo que la utilizamos para predecir entre dos opciones.\n",
        "\n",
        "**Formulas para linear Regression:**\n",
        "\n",
        "m = slope o pendiente\n",
        "\n",
        "b = intercepto o intercep\n",
        "\n",
        "Y = mx + b  \n",
        "\n",
        "m = Sum((xi - average_x)(yi - average_y)) / Sum(xi - average_x)^2\n",
        "\n",
        "b = average_y - m * average_x\n"
      ]
    },
    {
      "cell_type": "markdown",
      "metadata": {
        "id": "AR0qZbB4UNHQ"
      },
      "source": [
        "# Suport Vector Machine (SVM)\n",
        "\n",
        "---\n",
        "\n",
        "https://techwithtim.net/tutorials/machine-learning-python/svm-2/"
      ]
    },
    {
      "cell_type": "markdown",
      "metadata": {
        "id": "PaUXtQRccYMT"
      },
      "source": [
        "# Arboles II\n",
        "\n",
        "---\n",
        "\n",
        "![alt text](https://static.platzi.com/media/user_upload/trees_and_random_trees-e568f194-cd02-4c45-85f2-173a3e75f843.jpg)"
      ]
    },
    {
      "cell_type": "markdown",
      "metadata": {
        "id": "W1hDi4wxmrbU"
      },
      "source": [
        "# K-NN\n",
        "![alt text](https://machinelearningknowledge.ai/wp-content/uploads/2018/08/KNN-Classification.gif)"
      ]
    },
    {
      "cell_type": "markdown",
      "metadata": {
        "id": "bsIXOnrV3-mo"
      },
      "source": [
        "# Clustering\n",
        "\n",
        "---\n",
        "\n",
        "El Clustering es una técnica de aprendizaje no supervisado (es decir sólo se dispone de los datos de entrada sin conocerse la etiqueta de salida).\n",
        "\n",
        "El proceso consiste en agrupar un conjunto de objetos (no etiquetados) en subconjuntos de objetos llamados Clusters. Cada Cluster está formado por una colección de objetos que son similares (o se consideran similares) entre sí, pero que son distintos respecto a los objetos de otros Clusters.\n",
        "\n",
        "Ejemplo donde el algoritmo creo los cluster en función del color del cabello (https://jarroba.com/que-es-el-clustering/):\n",
        "\n",
        "![alt text](https://jarroba.com/wp-content/uploads/2016/03/Ejemplo_clustering.png)"
      ]
    },
    {
      "cell_type": "markdown",
      "metadata": {
        "id": "LAuFmtJh-bCl"
      },
      "source": [
        "# Aprendizaje de Dependencia\n",
        "\n",
        "---\n",
        "\n",
        "\n",
        "Las reglas de asociación permiten descubrir hechos que ocurren en común dentrode un conjunto grande de datos, y con esto definir “reglas” o patrones de interés, por ejemplo, como mencionaba Rafa que si una persona compra leche y pan es probable que compre también mantequilla. Para seleccionar una “regla” útil entre el conjunto que podamos definir, se tienen los conceptos de soporte y confianza.\n",
        "\n",
        "\n",
        "El soporte de un conjunto de elementos, por ejemplo, (Leche y pan) tiene que ver con el número de veces que aparece este conjunto en el total de transacciones. En el ejemplo, se tiene que en el supermercado se efectuaron 5 transacciones y entre esas, en 2 las personas incluyeron al menos la leche y el pan juntos.\n",
        "\n",
        "\n",
        "Soporte (Leche, pan)= Número de transacciones donde se compraron juntos leche y pan / total de transacciones. Indicando que en el 40% de las transacciones se compraron juntos la leche y el pan.\n",
        "\n",
        "\n",
        "La confianza de una regla, nos dice la probabilidad calculada a partir del conjunto de datos de que se compre la mantequilla dado que se compraron la leche y el pan, es decir, entre las transacciones que compraron leche y pan, cuantas también compraron la mantequilla.\n",
        "\n",
        "\n",
        "Confianza (regla): Número de transacciones que contienen al menos leche, pan y mantequilla / Número de transacciones que contienen al menos leche y pan. Interpretándose como que entre los consumidores que compraron leche y pan el 50% también compraron mantequilla.\n",
        "\n",
        "Saber más: https://www.coursera.org/lecture/mineria-de-datos-introduccion/soporte-confianza-y-lift-qMivx?utm_source=linkshare&siteID=a1LgFw09t88-.KajuPzIJ6XFS_K1TSSXhA&ranEAID=a1LgFw09t88&utm_content=10&ranMID=40328&ranSiteID=a1LgFw09t88-.KajuPzIJ6XFS_K1TSSXhA&utm_campaign=a1LgFw09t88&utm_medium=partners\n",
        "\n",
        "Todo: https://medium.com/iwannabedatadriven/data-mining-overview-i-c8546764d86f"
      ]
    },
    {
      "cell_type": "markdown",
      "metadata": {
        "id": "EOrV9UKkUmSU"
      },
      "source": [
        "# La Programacion Logica Inductiva\n",
        "\n",
        "---\n",
        "\n",
        "El objetivo de la programación lógica inductiva es construir un programa lógico que, junto al conocimiento que se tenga del dominio, tenga como consecuencia lógica el conjunto de entrenamiento del sistema.\n",
        "\n",
        "![alt text](https://static.platzi.com/media/user_upload/PLI-22277414-5d3e-48b5-a03e-b000d49b13bf.jpg)"
      ]
    },
    {
      "cell_type": "markdown",
      "metadata": {
        "id": "PoWC1HzBbwBT"
      },
      "source": [
        "# Optimización II\n",
        "\n",
        "\n",
        "---\n",
        "![alt text](http://imgfz.com/i/f13NIXs.jpeg)\n",
        "\n",
        "\n"
      ]
    },
    {
      "cell_type": "markdown",
      "metadata": {
        "id": "krQD07omiZYb"
      },
      "source": [
        "# Aprendizaje por Refuerzo, Q-Learning\n",
        "\n",
        "---\n",
        "Q-Learning es un método de Aprendizaje por Refuerzo que permite resolver problemas de decisión secuencial en los cuales la utilidad de una acción depende de una secuencia de decisiones y donde además existe incertidumbre en cuanto a las dinámicas del ambiente en que está situado el agente.\n",
        "\n",
        "Q-learning es un algoritmo de aprendizaje reforzado basado en el cambio de estados y la retroalimentación, comúnmente usados para la resolución de laberintos en su más básica implementación\n",
        "\n",
        "![alt text](https://rubenlopezg.files.wordpress.com/2015/05/reinforcement1.png)\n",
        "\n",
        "Un ejemplo sería como nuestro perro aprende a sentarce, fingir el muerto, etc. en general trucos; lo entrenamos y cada vez que lo haga bien es premiado. Donde nosotros le diremos a nuestro perro \"sientate\" (ESTADO), y el perro se sienta (ACCION), y como lo hizo bien lo premiaremos, caso contrario seguiremos entrenandolo.\n",
        "\n",
        "Para más sobre el 3 en raya: \n",
        "[link text](https://rubenlopezg.wordpress.com/2015/05/12/q-learning-aprendizaje-automatico-por-refuerzo/)\n",
        "\n",
        "VIDEO (Q-learning,  calidad de aprendizaje, Aprendizaje por Refuerzo): \n",
        "[link text](https://www.youtube.com/watch?v=vxytyW9HPBk)\n"
      ]
    },
    {
      "cell_type": "markdown",
      "metadata": {
        "id": "hzErHJ192IT0"
      },
      "source": [
        "# Redes Neuronales\n",
        "\n",
        "---\n",
        "\n",
        "![alt text](https://cdn-images-1.medium.com/max/1024/1*zjzWdMucBfRbkqMzgm2xKg.png)\n",
        "\n",
        "**En resumen:**\n",
        "\n",
        "La neurona tiene un Entorno donde la neurona obtiene datos, la transferencia de datos desde el entorno hasta el interior de la neurona, se le llama pesos sinópticos que se organizan en la función suma, la función suma es una combinación lineal.\n",
        "\n",
        "El peso sinóptico regula la cantidad de información que entra a la neurona, por medio de la función suma\n",
        "Mas adelante se transfiera a la función de activación, la cual puede ser cualquier función, puede clasificar, juntar etc. Es decir:\n",
        "\n",
        "Lo que hace es reunir toda la información y prepararla para la salida.\n",
        "\n",
        "Las neuronas forman redes, por ello redes neuronales que se dividen en capas\n",
        "\n",
        "Puede que la última neurona este conectada a la primera, esta es la arquitectura de Deep Learning\n",
        "\n",
        "Ahora el entorno estimula a todas las neuronas, las cuales aprenden, haciendo un balance de pesos sinópticos, establecen los valores importantes y emiten una Fase de prueba\n",
        "\n",
        "Fase de prueba porque ese aprendizaje puede ser supervisado o no\n",
        "\n",
        "**Video De Introduccion a Redes Neuronales:** [link text](https://www.youtube.com/watch?v=6vwfT3-mBBw)\n",
        "\n",
        "**Para calcular la combinacion lineal en vectores:** [link text](https://www.youtube.com/watch?v=n6ZbDKquQoA)\n"
      ]
    },
    {
      "cell_type": "markdown",
      "metadata": {
        "id": "Z3Jb4aPARBNq"
      },
      "source": [
        "# Regresion Logistica en Python\n",
        "\n",
        "---\n",
        "\n"
      ]
    },
    {
      "cell_type": "code",
      "metadata": {
        "id": "DW7Ix_ziRFoO",
        "colab": {
          "base_uri": "https://localhost:8080/",
          "height": 170
        },
        "outputId": "80f22049-2854-4262-920f-66b6720cca45"
      },
      "source": [
        "import numpy as np\n",
        "from sklearn.linear_model import LogisticRegression\n",
        "import pandas as pd\n",
        "\n",
        "# Aprendizaje supervisado, Logistic Regression: nos permite elegir entre si aprueba y no aprueba, gracias a la funcion sigmoide.\n",
        "\n",
        "x = np.array([0.5, 0.75, 1, 1.25, 1.5, 1.75, 1.75, 2, 2.25, 2.5, 2.75, 3, 3.25, 3.5, 4, 4.25, 4.5, 4.75, 5, 5.5]).reshape(-1,1) # horas de estudio.\n",
        "y = np.array([0, 0, 0, 0, 0, 0, 1, 0, 1, 0, 1, 0, 1, 0, 1, 1, 1, 1, 1, 1])    # aprueba o no.\n",
        "\n",
        "LR_Class = LogisticRegression()  # se crea un objeto de la clase LR.\n",
        "\n",
        "LR_Class.fit(x,y) # entrenamos nuestra data.\n",
        "\n",
        "new_x = np.arange(1,7).reshape(-1,1) # datos de prueba, osea nueva data a evaluar, no a entrenar.\n",
        "new_y = np.array([0,0,0,1,1,1])\n",
        "\n",
        "predict = LR_Class.predict(new_x) # predicciones de new_x, segun el modelo entrenado con x & y.\n",
        "print(predict)\n",
        "\n",
        "acc = LR_Class.score(new_x,new_y) # precicion del modelo, exactitud\n",
        "print(\"accuracy: \",acc)\n",
        "\n",
        "probabilitys_predict = LR_Class.predict_proba(new_x) # obtenemos una matriz con las probabilidades de 0 y 1.\n",
        "\n",
        "print(probabilitys_predict)\n",
        "print(probabilitys_predict[:,1]) # las probabilidades de que apruebe alguien que estudio 1,2,3,4,5,6 horas."
      ],
      "execution_count": null,
      "outputs": [
        {
          "output_type": "stream",
          "text": [
            "[0 0 1 1 1 1]\n",
            "accuracy:  0.8333333333333334\n",
            "[[0.87984046 0.12015954]\n",
            " [0.69895285 0.30104715]\n",
            " [0.42402118 0.57597882]\n",
            " [0.18924992 0.81075008]\n",
            " [0.06891381 0.93108619]\n",
            " [0.02293029 0.97706971]]\n",
            "[0.12015954 0.30104715 0.57597882 0.81075008 0.93108619 0.97706971]\n"
          ],
          "name": "stdout"
        }
      ]
    },
    {
      "cell_type": "markdown",
      "metadata": {
        "id": "SIBhScbq2Yt6"
      },
      "source": [
        "# Support Vector Machine in Python\n",
        "\n",
        "---\n",
        "\n"
      ]
    },
    {
      "cell_type": "code",
      "metadata": {
        "id": "lMuSudKe4NJ3",
        "colab": {
          "base_uri": "https://localhost:8080/",
          "height": 282
        },
        "outputId": "6c2e7cbc-35b0-4d17-bca1-d8ef9fd257b8"
      },
      "source": [
        "import numpy as np\n",
        "from sklearn import svm\n",
        "import matplotlib.pyplot as plt\n",
        "from sklearn.datasets import make_blobs\n",
        "\n",
        "# numero de elementos, numero de clusters, generacion de numeros aleatorios\n",
        "x, y = make_blobs(n_samples=100,centers=2,random_state=6)\n",
        "\n",
        "plt.scatter(x[:, 0], x[:, 1], c=y, s=30, cmap=plt.cm.Paired)"
      ],
      "execution_count": null,
      "outputs": [
        {
          "output_type": "execute_result",
          "data": {
            "text/plain": [
              "<matplotlib.collections.PathCollection at 0x7f1ebf7b5470>"
            ]
          },
          "metadata": {
            "tags": []
          },
          "execution_count": 65
        },
        {
          "output_type": "display_data",
          "data": {
            "image/png": "[encoded data removed]",
            "text/plain": [
              "<Figure size 432x288 with 1 Axes>"
            ]
          },
          "metadata": {
            "tags": [],
            "needs_background": "light"
          }
        }
      ]
    },
    {
      "cell_type": "code",
      "metadata": {
        "id": "iiL4OHoP5lZW",
        "colab": {
          "base_uri": "https://localhost:8080/",
          "height": 85
        },
        "outputId": "752605db-4294-4666-d1b4-d529ad568338"
      },
      "source": [
        "# kernel = modelo de funcion, linear, circular, poligonal, etc\n",
        "# c = la fuerza del margen, mientras más se acerca al cero sera mas suave caso contrario mas fuerte.\n",
        "\n",
        "clf = svm.SVC(kernel='linear',C=1000)\n",
        "\n",
        "clf.fit(x,y) # al entrenar un modelo hace que todos los datos esten dispersos"
      ],
      "execution_count": null,
      "outputs": [
        {
          "output_type": "execute_result",
          "data": {
            "text/plain": [
              "SVC(C=1000, break_ties=False, cache_size=200, class_weight=None, coef0=0.0,\n",
              "    decision_function_shape='ovr', degree=3, gamma='scale', kernel='linear',\n",
              "    max_iter=-1, probability=False, random_state=None, shrinking=True,\n",
              "    tol=0.001, verbose=False)"
            ]
          },
          "metadata": {
            "tags": []
          },
          "execution_count": 70
        }
      ]
    },
    {
      "cell_type": "code",
      "metadata": {
        "id": "c16taauq9b3X",
        "colab": {
          "base_uri": "https://localhost:8080/",
          "height": 265
        },
        "outputId": "b549fdc5-233d-42c5-f85d-c6385be482c3"
      },
      "source": [
        "#x, y: scalar or array-like, shape (n, )\n",
        "#   The dat a positions.\n",
        "\n",
        "# s: scalar or array-like, shape (n, ), optional\n",
        "#   The marker size in points**2. Default is rcParams['lines.markersize'] ** 2.\n",
        "\n",
        "# c: color, sequence, or sequence of colors, optional\n",
        "\n",
        "# cmap: Colormap, optional, default: None\n",
        "\n",
        "plt.scatter(x[:, 0], x[:, 1], c=y, s=30, cmap=plt.cm.Paired)\n",
        "# Definir formatos de la grafica\n",
        "# plot the decision function\n",
        "ax = plt.gca()\n",
        "xlim = ax.get_xlim()\n",
        "ylim = ax.get_ylim()\n",
        "\n",
        "# Define limites escala, reticula\n",
        "# create grid to evaluate model\n",
        "x_lim_points = np.linspace(xlim[0], xlim[1], 30) # genera numeros en secuencia desde xlim[0] hasta xlim[1], y el 30 es la cantidad de numeros a generar.\n",
        "y_lim_points = np.linspace(ylim[0], ylim[1], 30)\n",
        "\n",
        "Y, X = np.meshgrid(y_lim_points, x_lim_points)# devuelve numeros sin repeticion\n",
        "\n",
        "X_U_Y = np.vstack([X.ravel(), Y.ravel()]).T  # el \".ravel()\" retorna un array 1D de la matriz evaluada; el \".T\" hace que sea transpuesta; el \"vstack()\" hace que se junten los dos arrays\n",
        "\n",
        "Z = clf.decision_function(X_U_Y).reshape(X.shape)\n",
        "\n",
        "# plot decision boundary and margins\n",
        "ax.contour(X, Y, Z, colors='g', levels=[-1, 0, 1], alpha=0.5, linestyles=['-.', '-', '-.'])\n",
        "\n",
        "# plot support vectors\n",
        "ax.scatter(clf.support_vectors_[:,0], clf.support_vectors_[:, 1], s=100, linewidth=1, facecolors='none')\n",
        "plt.show()"
      ],
      "execution_count": null,
      "outputs": [
        {
          "output_type": "display_data",
          "data": {
            "image/png": "[encoded data removed]",
            "text/plain": [
              "<Figure size 432x288 with 1 Axes>"
            ]
          },
          "metadata": {
            "tags": [],
            "needs_background": "light"
          }
        }
      ]
    },
    {
      "cell_type": "markdown",
      "metadata": {
        "id": "v50YsC0or1tE"
      },
      "source": [
        "# Algoritmo Genético en Python\n",
        "\n",
        "---\n",
        "\n"
      ]
    },
    {
      "cell_type": "code",
      "metadata": {
        "id": "pmMRdal-YkeU",
        "colab": {
          "base_uri": "https://localhost:8080/",
          "height": 224
        },
        "outputId": "3f7772e9-5433-49ed-924f-1ee9808e06f4"
      },
      "source": [
        "import random\n",
        "\n",
        "modelo = [1,2,3,4,5,5,4,3,2,1]\n",
        "largo = 10\n",
        "num = 20\n",
        "pressure = 3\n",
        "mutation_chance = 0.2\n",
        "\n",
        "#Crea aleatoriamente las caracteristicas (ADN) de cada individuo\n",
        "def individual(min,max):\n",
        "    return[random.randint(min, max) for i in range(largo)]\n",
        "\n",
        "#Genera la poblacion deseada (num)\n",
        "def crearPoblacion(): \n",
        "    return[individual(1,9) for i in range(num)]\n",
        "    \n",
        "#Compara cada caracteristica del individuo con su contraparte del modelo y cuenta las coincidencias\n",
        "def calcularFitness(individual):\n",
        "    fitness = 0\n",
        "    for i in range(len(individual)):\n",
        "        if individual[i] == modelo[i]:\n",
        "            fitness += 1\n",
        "    return fitness\n",
        "\n",
        "\n",
        "def selection_and_reproduction(population):\n",
        "    #lista de tuplas (fitness, individuo)  de todos los individuos\n",
        "    puntuados = [ (calcularFitness(i), i) for i in population]\n",
        "    #print('Puntuados:\\n{}'.format(puntuados))\n",
        "\n",
        "    #Lista ordenada de menor a mayor fitness\n",
        "    puntuados = [i[1] for i in sorted(puntuados)]\n",
        "    #print('Puntuados2:\\n{}'.format(puntuados))\n",
        "    population = puntuados\n",
        "\n",
        "    #seleccion de individuos con mejor puntuacion (cantidad = pressure)\n",
        "    selected = puntuados[(len(puntuados)-pressure):]\n",
        "    #print('selected:\\n{}'.format(selected))\n",
        "    \n",
        "    #reproduccion: Por cada elemento restante (poblacion - selected) sucede:\n",
        "    #1. se seleccionan dos individuos aleatorios entre los seleccionados\n",
        "    #2. se escoge un numero aleatorio (punto) de caracteristicas del primer individuo (principio)\n",
        "    #3. se toman las caracteristicas restantes del segundo individuo (final)\n",
        "    #4. se reemplaza un elemento de la poblacion.\n",
        "    for i in range(len(population)-pressure):\n",
        "        punto = random.randint(1,largo-1)\n",
        "        padre = random.sample(selected, 2)\n",
        "        \n",
        "        population[i][:punto] = padre[0][:punto]\n",
        "        population[i][punto:] = padre[1][punto:]\n",
        "        \n",
        "        #print('Punto: {}\\nPadres:\\n{}\\nNuevo individuo:\\n{}'.format(punto, padre, population[i]))\n",
        "    return population\n",
        "    \n",
        "def mutation(population):\n",
        "    for i in range(len(population)-pressure):\n",
        "        # Se escoge aleatoriamente quien sufre una mutación.\n",
        "        if random.random() <= mutation_chance:\n",
        "            #se escoge una posicion aleatoria en la lista de caracteristicas\n",
        "            punto = random.randint(0,largo-1)\n",
        "            #se genera una caracteristica nueva de forma aleatoria\n",
        "            nuevo_valor = random.randint(1,9)\n",
        "\n",
        "            # Si el valor obtenido es igual al valor existente en el punto de\n",
        "            # mutacion se generan valores aleatorios hasta que cambie, luego se\n",
        "            #inserta el nuevo valor.\n",
        "            while nuevo_valor == population[i][punto]:\n",
        "                nuevo_valor = random.randint(1,9)\n",
        "            population[i][punto] = nuevo_valor\n",
        "        \n",
        "    return population\n",
        "    \n",
        "def main():\n",
        "    print(\"\\n\\Modelo: %s\\n\"%(modelo))\n",
        "    population = crearPoblacion()\n",
        "    print(\"Población Inicial:\\n%s\"%(population))\n",
        "\n",
        "    for i in range(100):\n",
        "        population = selection_and_reproduction(population)\n",
        "        population = mutation(population)\n",
        "        \n",
        "    print(\"\\nPoblación Final:\\n%s\"%(population))\n",
        "    print(\"\\n\\n\")\n",
        "\n",
        "if __name__ == '__main__':\n",
        "    main()\n"
      ],
      "execution_count": null,
      "outputs": [
        {
          "output_type": "stream",
          "text": [
            "\n",
            "\\Modelo: [1, 2, 3, 4, 5, 5, 4, 3, 2, 1]\n",
            "\n",
            "Población Inicial:\n",
            "[[7, 9, 8, 3, 4, 8, 3, 5, 8, 9], [1, 1, 6, 5, 6, 4, 1, 5, 3, 2], [3, 3, 6, 5, 5, 4, 1, 5, 3, 5], [7, 6, 8, 6, 6, 8, 2, 8, 5, 6], [4, 3, 2, 2, 7, 7, 2, 9, 6, 2], [2, 6, 4, 5, 6, 3, 5, 5, 8, 1], [4, 1, 4, 1, 2, 9, 8, 8, 1, 1], [6, 5, 8, 3, 4, 6, 3, 6, 6, 9], [8, 4, 4, 7, 2, 8, 9, 6, 6, 6], [8, 6, 7, 4, 6, 3, 1, 7, 4, 9], [1, 9, 9, 8, 2, 1, 3, 6, 8, 7], [5, 7, 4, 5, 9, 7, 1, 1, 4, 2], [9, 5, 8, 1, 6, 4, 2, 5, 9, 1], [6, 3, 5, 6, 3, 1, 2, 8, 9, 7], [6, 9, 2, 2, 4, 8, 5, 8, 2, 5], [4, 3, 8, 3, 2, 2, 7, 6, 8, 7], [7, 5, 8, 9, 4, 2, 8, 4, 3, 9], [2, 1, 2, 2, 5, 3, 6, 7, 9, 7], [6, 1, 9, 9, 1, 8, 2, 4, 7, 4], [9, 7, 1, 9, 3, 2, 4, 3, 4, 3]]\n",
            "\n",
            "Población Final:\n",
            "[[1, 2, 3, 4, 5, 5, 4, 3, 9, 1], [1, 2, 3, 4, 5, 5, 1, 3, 9, 1], [1, 2, 3, 4, 5, 5, 4, 3, 9, 1], [1, 2, 3, 4, 4, 5, 4, 3, 9, 1], [1, 2, 3, 1, 5, 5, 4, 3, 9, 1], [1, 2, 3, 4, 5, 5, 4, 3, 9, 1], [1, 2, 3, 4, 5, 5, 4, 3, 9, 1], [1, 2, 3, 4, 5, 5, 4, 3, 9, 1], [1, 2, 3, 4, 5, 5, 4, 3, 9, 1], [1, 2, 3, 4, 5, 5, 4, 3, 9, 1], [1, 2, 3, 4, 5, 5, 4, 3, 9, 1], [1, 2, 3, 4, 5, 5, 4, 3, 9, 1], [1, 2, 3, 4, 5, 5, 4, 3, 9, 1], [1, 2, 3, 4, 5, 5, 4, 3, 9, 1], [1, 2, 3, 4, 5, 5, 4, 3, 9, 1], [1, 2, 3, 4, 5, 5, 4, 3, 9, 1], [1, 2, 3, 4, 5, 5, 4, 3, 9, 1], [1, 2, 3, 4, 5, 5, 4, 3, 9, 1], [1, 2, 3, 4, 5, 5, 4, 3, 9, 1], [1, 2, 3, 4, 5, 5, 4, 3, 9, 1]]\n",
            "\n",
            "\n",
            "\n"
          ],
          "name": "stdout"
        }
      ]
    },
    {
      "cell_type": "markdown",
      "metadata": {
        "id": "RtER3Xg1T-2R"
      },
      "source": [
        "# **Curso de Fundamentos Practicos de Machine Learning**\n",
        "\n",
        "---\n",
        "\n"
      ]
    },
    {
      "cell_type": "markdown",
      "metadata": {
        "id": "C3x9MpjIUVvB"
      },
      "source": [
        "# Introducción al aprendizaje profundo\n",
        "\n",
        "---\n",
        "\n",
        "Herramientas: pyTorch y TensorFlow\n",
        "\n",
        "Subcategoría de ML que crea diferentes niveles, de abstracción que representa los datos.\n",
        "\n",
        "Se usan tensores para representar estructuras de datos más complejas.\n",
        "\n",
        "Neuronas: Capa de entrada, capas ocultas y capa de salida.\n",
        "\n",
        "Para poder aprender se necesita una función de activación: ReLU: Permite el paso de todos los valores positivos sin cambiarlos, pero asigna todos los valores negativos a 0.\n",
        "\n",
        "TensorFlow: Biblioteca de código abierto desarrollado por google, capaz de construir y entrenar redes neuronales."
      ]
    },
    {
      "cell_type": "markdown",
      "metadata": {
        "id": "t3Aq1H576jiE"
      },
      "source": [
        "# Conceptos basicos de TensorFlow\n",
        "\n",
        "---\n",
        "Tensor Flow es una biblioteca de software de código abierto que permite construir y entrenar redes neuronales, permite detectar y descifrar patrones en los datos. Es un desarrollo de Google y que debido a su flexibilidad y extensa comunidad de programadores ha crecido rápidamente y se ha posicionado como la herramienta líder en el estudio del aprendizaje profundo o también conocido como Deep Learning.\n",
        "\n",
        "Tensor Flow puede ser usado para ayudar al diagnóstico médico, detectar objetos, procesar imágenes, detección de emociones en el rostro, entre otras aplicaciones. En este curso usamos Tensor Flow para crear nuestra primera red neuronal y diseñar un clasificador de imágenes a partir de un conjunto de datos.\n",
        "\n",
        "**Importar la biblioteca:**\n",
        "import tensorflow as tf\n",
        "\n",
        "**Importar el modelo:**\n",
        "from tensorflow import keras\n",
        "\n",
        "Cargar conjunto de datos de Tensor Flow:\n",
        "fashion_mnist = keras.datasets.fashion_mnist\n",
        "(train_images, train_labels), (test_images, test_labels) = fashion_mnist.load_data()\n",
        "\n",
        "**Crear modelo secuencial:**\n",
        "model = keras.Sequential([keras.layers.Flatten(input_shape = (28, 28)), keras.layers.Dense(128, activation = tf.nn.relu), keras.layers.Dense(10, activation = tf.nn.softmax)])\n",
        "\n",
        "**Compilación del modelo:**\n",
        "model.compile(optimizer = tf.train.AdamOptimizer(), loss = ‘sparse_categorical_crossentropy’, metrics = [‘accuracy’])\n",
        "\n",
        "**Entrenamiento:**\n",
        "model.fit(train_images, train_labels, epochs = 5)\n",
        "\n",
        "**Evaluación del modelo:**\n",
        "test_loss, test_acc = model.evaluate( test_images, test_labels )\n",
        "\n",
        "**Predicción del modelo:**\n",
        "model.predict(test_images)\n"
      ]
    },
    {
      "cell_type": "code",
      "metadata": {
        "id": "nwyGkAl47izY",
        "colab": {
          "base_uri": "https://localhost:8080/",
          "height": 153
        },
        "outputId": "606d7acf-1687-4d5c-bf4c-715e1ea9e9f0"
      },
      "source": [
        "import tensorflow as tf\n",
        "from tensorflow import keras\n",
        "#Cargar conjunto de datos de Tensor Flow:\n",
        "fashion_mnist = keras.datasets.fashion_mnist\n",
        "(train_images, train_labels), (test_images, test_labels) = fashion_mnist.load_data()"
      ],
      "execution_count": null,
      "outputs": [
        {
          "output_type": "stream",
          "text": [
            "Downloading data from https://storage.googleapis.com/tensorflow/tf-keras-datasets/train-labels-idx1-ubyte.gz\n",
            "32768/29515 [=================================] - 0s 0us/step\n",
            "Downloading data from https://storage.googleapis.com/tensorflow/tf-keras-datasets/train-images-idx3-ubyte.gz\n",
            "26427392/26421880 [==============================] - 1s 0us/step\n",
            "Downloading data from https://storage.googleapis.com/tensorflow/tf-keras-datasets/t10k-labels-idx1-ubyte.gz\n",
            "8192/5148 [===============================================] - 0s 0us/step\n",
            "Downloading data from https://storage.googleapis.com/tensorflow/tf-keras-datasets/t10k-images-idx3-ubyte.gz\n",
            "4423680/4422102 [==============================] - 0s 0us/step\n"
          ],
          "name": "stdout"
        }
      ]
    },
    {
      "cell_type": "code",
      "metadata": {
        "id": "HP0Ar4xC7120",
        "colab": {
          "base_uri": "https://localhost:8080/",
          "height": 425
        },
        "outputId": "8c62029f-23c0-41d2-d3be-f5c9dc86d45e"
      },
      "source": [
        "#Crear modelo secuencial:\n",
        "model = keras.Sequential([keras.layers.Flatten(input_shape = (28, 28)), keras.layers.Dense(128, activation = tf.nn.relu), keras.layers.Dense(10, activation = tf.nn.softmax)])\n",
        "\n",
        "#Compilación del modelo:\n",
        "model.compile(optimizer = 'adam', loss = 'sparse_categorical_crossentropy', metrics = ['accuracy'])\n",
        "\n",
        "#Entrenamiento:\n",
        "model.fit(train_images, train_labels, epochs = 5)\n",
        "\n",
        "#Evaluación del modelo:\n",
        "test_loss, test_acc = model.evaluate( test_images, test_labels )\n",
        "\n",
        "#Predicción del modelo:\n",
        "predict = model.predict(test_images)"
      ],
      "execution_count": null,
      "outputs": [
        {
          "output_type": "stream",
          "text": [
            "Epoch 1/5\n",
            "1875/1875 [==============================] - 3s 2ms/step - loss: 2.7903 - accuracy: 0.7192\n",
            "Epoch 2/5\n",
            "1875/1875 [==============================] - 3s 2ms/step - loss: 0.6064 - accuracy: 0.7921\n",
            "Epoch 3/5\n",
            "1875/1875 [==============================] - 3s 2ms/step - loss: 0.5493 - accuracy: 0.8152\n",
            "Epoch 4/5\n",
            "1875/1875 [==============================] - 3s 2ms/step - loss: 0.5173 - accuracy: 0.8290\n",
            "Epoch 5/5\n",
            "1875/1875 [==============================] - 3s 2ms/step - loss: 0.4954 - accuracy: 0.8335\n",
            "313/313 [==============================] - 0s 1ms/step - loss: 0.5453 - accuracy: 0.8278\n",
            "[[1.8935999e-27 5.7669725e-10 3.3668891e-32 ... 3.1304058e-02\n",
            "  8.2983914e-10 8.9090639e-01]\n",
            " [9.4820134e-05 9.9334070e-09 9.8994011e-01 ... 0.0000000e+00\n",
            "  7.1837189e-11 0.0000000e+00]\n",
            " [1.0894158e-12 1.0000000e+00 4.3361958e-26 ... 2.7327512e-25\n",
            "  9.5285362e-16 0.0000000e+00]\n",
            " ...\n",
            " [2.7174619e-03 3.4261328e-21 9.6221826e-05 ... 5.8130122e-30\n",
            "  9.9564290e-01 7.5766315e-28]\n",
            " [9.3334895e-10 1.0000000e+00 2.7273623e-21 ... 1.0660445e-27\n",
            "  4.1145874e-13 0.0000000e+00]\n",
            " [1.7197520e-09 8.9200320e-18 7.9884759e-13 ... 2.4715546e-03\n",
            "  4.8087197e-03 6.2830441e-05]]\n"
          ],
          "name": "stdout"
        }
      ]
    },
    {
      "cell_type": "markdown",
      "metadata": {
        "id": "GrpnzyDI-XBJ"
      },
      "source": [
        "básicamente cada capa capta cierto atributos de la imagen, generalmente las primeras captan “bordes” , pero entre mas profunda la red capta caracteristicas mas complejas. En si aplicar una convolucion resulta en aplicar una matriz de numeros a la imagende input vista igualmente como una matriz de números. donde dichos numeros hacen referencia a los pixeles de la misma que van de 0 a 256. "
      ]
    },
    {
      "cell_type": "code",
      "metadata": {
        "id": "G3unDlNCB3Nl"
      },
      "source": [
        "import numpy as np\n",
        "import matplotlib.pyplot as plt"
      ],
      "execution_count": null,
      "outputs": []
    },
    {
      "cell_type": "code",
      "metadata": {
        "id": "PvUjdGqtB_W0"
      },
      "source": [
        "class_names = ['T-shirt/top', 'Trouser', 'Pullover', 'Dress', 'Coat', 'Sandal', 'Shirt', 'Sneaker', 'Bag', 'Ankle boot']"
      ],
      "execution_count": null,
      "outputs": []
    },
    {
      "cell_type": "code",
      "metadata": {
        "id": "xnRnMcvYCKRj",
        "colab": {
          "base_uri": "https://localhost:8080/",
          "height": 34
        },
        "outputId": "72495274-4edd-4b3d-aecb-04e7155db228"
      },
      "source": [
        "train_images.shape"
      ],
      "execution_count": null,
      "outputs": [
        {
          "output_type": "execute_result",
          "data": {
            "text/plain": [
              "(60000, 28, 28)"
            ]
          },
          "metadata": {
            "tags": []
          },
          "execution_count": 9
        }
      ]
    },
    {
      "cell_type": "code",
      "metadata": {
        "id": "NlIqkWDTCMhp",
        "colab": {
          "base_uri": "https://localhost:8080/",
          "height": 265
        },
        "outputId": "f916e222-2db6-4c98-876d-81e4c6f00c74"
      },
      "source": [
        "plt.figure()\n",
        "plt.imshow(train_images[100])\n",
        "plt.grid(True)"
      ],
      "execution_count": null,
      "outputs": [
        {
          "output_type": "display_data",
          "data": {
            "image/png": "[encoded data removed]",
            "text/plain": [
              "<Figure size 432x288 with 1 Axes>"
            ]
          },
          "metadata": {
            "tags": [],
            "needs_background": "light"
          }
        }
      ]
    },
    {
      "cell_type": "code",
      "metadata": {
        "id": "4NbpEFs5COL1"
      },
      "source": [
        "# lo dividimos entre 255 para normalizar los pixeles en el rango de 0 a 255, para tener un degradacion de colores y tener una escala en grises\n",
        "train_images = train_images / 255.0\n",
        "test_images = test_images / 255.0"
      ],
      "execution_count": null,
      "outputs": []
    },
    {
      "cell_type": "code",
      "metadata": {
        "id": "M99Qm1HAC48d",
        "colab": {
          "base_uri": "https://localhost:8080/",
          "height": 589
        },
        "outputId": "f1558419-f967-4988-8ade-a1d8f4f7c0e2"
      },
      "source": [
        "%matplotlib inline\n",
        "\n",
        "plt.figure(figsize = (10, 10))  # loteacion de la figura\n",
        "for i in range(25):\n",
        "  plt.subplot(5, 5, i + 1)\n",
        "  plt.xticks([])\n",
        "  plt.yticks([])\n",
        "  plt.grid('off')\n",
        "  plt.imshow(train_images[i], cmap = plt.cm.binary)\n",
        "  plt.xlabel(class_names[train_labels[i]])"
      ],
      "execution_count": null,
      "outputs": [
        {
          "output_type": "display_data",
          "data": {
            "image/png": "[encoded data removed]",
            "text/plain": [
              "<Figure size 720x720 with 25 Axes>"
            ]
          },
          "metadata": {
            "tags": []
          }
        }
      ]
    },
    {
      "cell_type": "code",
      "metadata": {
        "id": "WJ4as4LmDyD6"
      },
      "source": [
        "model = keras.Sequential([keras.layers.Flatten(input_shape = (28, 28)), keras.layers.Dense(128, activation = tf.nn.relu), keras.layers.Dense(10, activation = tf.nn.softmax)])"
      ],
      "execution_count": null,
      "outputs": []
    },
    {
      "cell_type": "code",
      "metadata": {
        "id": "N3sW8jONFww5"
      },
      "source": [
        "model.compile(optimizer = tf.keras.optimizers.Adam(), loss = 'sparse_categorical_crossentropy', metrics = ['accuracy'])"
      ],
      "execution_count": null,
      "outputs": []
    },
    {
      "cell_type": "code",
      "metadata": {
        "id": "0bt4_37vGGWL",
        "colab": {
          "base_uri": "https://localhost:8080/",
          "height": 374
        },
        "outputId": "8b988750-a3cf-4f2f-9cc2-037f3cef46f8"
      },
      "source": [
        "model.fit(train_images, train_labels, epochs = 10)"
      ],
      "execution_count": null,
      "outputs": [
        {
          "output_type": "stream",
          "text": [
            "Epoch 1/10\n",
            "1875/1875 [==============================] - 3s 2ms/step - loss: 0.2818 - accuracy: 0.8959\n",
            "Epoch 2/10\n",
            "1875/1875 [==============================] - 3s 2ms/step - loss: 0.2685 - accuracy: 0.9005\n",
            "Epoch 3/10\n",
            "1875/1875 [==============================] - 3s 2ms/step - loss: 0.2593 - accuracy: 0.9044\n",
            "Epoch 4/10\n",
            "1875/1875 [==============================] - 3s 2ms/step - loss: 0.2465 - accuracy: 0.9080\n",
            "Epoch 5/10\n",
            "1875/1875 [==============================] - 3s 2ms/step - loss: 0.2401 - accuracy: 0.9108\n",
            "Epoch 6/10\n",
            "1875/1875 [==============================] - 3s 2ms/step - loss: 0.2325 - accuracy: 0.9133\n",
            "Epoch 7/10\n",
            "1875/1875 [==============================] - 3s 2ms/step - loss: 0.2246 - accuracy: 0.9161\n",
            "Epoch 8/10\n",
            "1875/1875 [==============================] - 3s 2ms/step - loss: 0.2185 - accuracy: 0.9180\n",
            "Epoch 9/10\n",
            "1875/1875 [==============================] - 3s 2ms/step - loss: 0.2118 - accuracy: 0.9206\n",
            "Epoch 10/10\n",
            "1875/1875 [==============================] - 3s 2ms/step - loss: 0.2062 - accuracy: 0.9222\n"
          ],
          "name": "stdout"
        },
        {
          "output_type": "execute_result",
          "data": {
            "text/plain": [
              "<tensorflow.python.keras.callbacks.History at 0x7f6b2ec12f60>"
            ]
          },
          "metadata": {
            "tags": []
          },
          "execution_count": 21
        }
      ]
    },
    {
      "cell_type": "code",
      "metadata": {
        "id": "tKIcC-1uGPdP",
        "colab": {
          "base_uri": "https://localhost:8080/",
          "height": 68
        },
        "outputId": "92318625-1c2a-4a39-9ab5-da2935a11d2e"
      },
      "source": [
        "test_loss, test_acc = model.evaluate(test_images, test_labels)\n",
        "print('Accuracy: ', test_acc)\n",
        "print('Loss: ',test_loss)"
      ],
      "execution_count": null,
      "outputs": [
        {
          "output_type": "stream",
          "text": [
            "313/313 [==============================] - 0s 1ms/step - loss: 0.3279 - accuracy: 0.8904\n",
            "Accuracy:  0.8903999924659729\n",
            "Loss:  0.327945739030838\n"
          ],
          "name": "stdout"
        }
      ]
    },
    {
      "cell_type": "code",
      "metadata": {
        "id": "69tTuk-eHtXh",
        "colab": {
          "base_uri": "https://localhost:8080/",
          "height": 68
        },
        "outputId": "12e0b965-6eff-482c-bc67-26ff93809b41"
      },
      "source": [
        "predictions = model.predict(test_images)\n",
        "print(len(predictions[0])) # 10 elementos o los 10 articulos de vestir\n",
        "print(\"\\n predictions[0][\",np.argmax(predictions[0]),\"] = \",np.max(predictions[0])) # en la primera prediccion, se ve que el maximo valor es en la pos '9'\n",
        "# y que el valor es '0.99461347' entonces pertenece a 'Ankle boot'."
      ],
      "execution_count": null,
      "outputs": [
        {
          "output_type": "stream",
          "text": [
            "10\n",
            "\n",
            " predictions[0][ 9 ] =  0.99461347\n"
          ],
          "name": "stdout"
        }
      ]
    },
    {
      "cell_type": "code",
      "metadata": {
        "id": "OkoxmusjHxut",
        "colab": {
          "base_uri": "https://localhost:8080/",
          "height": 1000
        },
        "outputId": "73798697-f842-4450-b897-d417ccf8a5c7"
      },
      "source": [
        "plt.figure(figsize = (10, 10))\n",
        "for i in range(25):\n",
        "  plt.subplot(5, 5, i + 1)\n",
        "  plt.xticks([])\n",
        "  plt.yticks([])\n",
        "  plt.grid('off')\n",
        "  plt.imshow(test_images[i], cmap = plt.cm.binary)\n",
        "  predicted_label = np.argmax(predictions[i])\n",
        "  true_label = test_labels[i]\n",
        "  print(predicted_label,\" = or != \",true_label)\n",
        "  if predicted_label == true_label:\n",
        "    color = 'blue'\n",
        "  else: \n",
        "    color = 'red'\n",
        "    \n",
        "  plt.xlabel('{} ({})'.format(class_names[predicted_label], class_names[true_label]), color = color)"
      ],
      "execution_count": null,
      "outputs": [
        {
          "output_type": "stream",
          "text": [
            "9  = or !=  9\n",
            "2  = or !=  2\n",
            "1  = or !=  1\n",
            "1  = or !=  1\n",
            "6  = or !=  6\n",
            "1  = or !=  1\n",
            "4  = or !=  4\n",
            "6  = or !=  6\n",
            "5  = or !=  5\n",
            "7  = or !=  7\n",
            "4  = or !=  4\n",
            "5  = or !=  5\n",
            "5  = or !=  7\n",
            "3  = or !=  3\n",
            "4  = or !=  4\n",
            "1  = or !=  1\n",
            "2  = or !=  2\n",
            "2  = or !=  4\n",
            "8  = or !=  8\n",
            "0  = or !=  0\n",
            "2  = or !=  2\n",
            "5  = or !=  5\n",
            "7  = or !=  7\n",
            "5  = or !=  9\n",
            "1  = or !=  1\n"
          ],
          "name": "stdout"
        },
        {
          "output_type": "display_data",
          "data": {
            "image/png": "[encoded data removed]",
            "text/plain": [
              "<Figure size 720x720 with 25 Axes>"
            ]
          },
          "metadata": {
            "tags": []
          }
        }
      ]
    },
    {
      "cell_type": "markdown",
      "metadata": {
        "id": "FSfNYhpUP-8T"
      },
      "source": [
        "# Modelos adecuados para ML\n",
        "\n",
        "---\n",
        "\n",
        "Que se quiere lograr para poder elegir un modelo de ML adecuado.\n",
        "\n",
        "Netflix usa árboles de decisión para las recomendaciones. También es usado en tiendas en línea. También en redes sociales.\n",
        "\n",
        "k-means: encuentra grupos con características similares. En los libros. Ya se aplica en la industria. patrones en la conducta de compras. anti-fraude\n",
        "\n",
        "Redes neuronales: es lo que más se aplica en la industria, es lo que más se ve. aplicaciones en móviles, filtros, mood status. etc.\n",
        "\n"
      ]
    },
    {
      "cell_type": "markdown",
      "metadata": {
        "id": "E_kbz9Hgb3oT"
      },
      "source": [
        "![alt text](https://static.platzi.com/media/user_upload/Machine-Learning-Infografia-3-e5a9433a-b87a-49a2-a7e6-8194b7377ebc.jpg)"
      ]
    },
    {
      "cell_type": "code",
      "metadata": {
        "id": "ZffuCxIjlM_g",
        "colab": {
          "base_uri": "https://localhost:8080/",
          "height": 51
        },
        "outputId": "fbc87bf2-6e3a-4227-ed99-5a363f08818d"
      },
      "source": [
        "import numpy as np\n",
        "cabecera = [('nombre','S10'),('edad',int)]\n",
        "datos = [('juan',19),('felipe',23),('luis',16),('thiago',18)]\n",
        "\n",
        "users = np.array(datos, dtype=cabecera)\n",
        "\n",
        "np.sort(users, order = 'edad')\n"
      ],
      "execution_count": null,
      "outputs": [
        {
          "output_type": "execute_result",
          "data": {
            "text/plain": [
              "array([(b'luis', 16), (b'thiago', 18), (b'juan', 19), (b'felipe', 23)],\n",
              "      dtype=[('nombre', 'S10'), ('edad', '<i8')])"
            ]
          },
          "metadata": {
            "tags": []
          },
          "execution_count": 6
        }
      ]
    },
    {
      "cell_type": "markdown",
      "metadata": {
        "id": "8T2rArepvjQx"
      },
      "source": [
        "# PANDAS\n",
        "\n",
        "---\n",
        "\n"
      ]
    },
    {
      "cell_type": "code",
      "metadata": {
        "id": "PaXqox09vnQ7",
        "colab": {
          "base_uri": "https://localhost:8080/",
          "height": 173
        },
        "outputId": "1e6e0cb0-2a4d-4227-9aa1-a057a21ee5c3"
      },
      "source": [
        "import pandas as pd\n",
        "\n",
        "df = pd.DataFrame(['hola','gente','muy','bien'])\n",
        "df"
      ],
      "execution_count": null,
      "outputs": [
        {
          "output_type": "execute_result",
          "data": {
            "text/html": [
              "<div>\n",
              "<style scoped>\n",
              "    .dataframe tbody tr th:only-of-type {\n",
              "        vertical-align: middle;\n",
              "    }\n",
              "\n",
              "    .dataframe tbody tr th {\n",
              "        vertical-align: top;\n",
              "    }\n",
              "\n",
              "    .dataframe thead th {\n",
              "        text-align: right;\n",
              "    }\n",
              "</style>\n",
              "<table border=\"1\" class=\"dataframe\">\n",
              "  <thead>\n",
              "    <tr style=\"text-align: right;\">\n",
              "      <th></th>\n",
              "      <th>0</th>\n",
              "    </tr>\n",
              "  </thead>\n",
              "  <tbody>\n",
              "    <tr>\n",
              "      <th>0</th>\n",
              "      <td>hola</td>\n",
              "    </tr>\n",
              "    <tr>\n",
              "      <th>1</th>\n",
              "      <td>gente</td>\n",
              "    </tr>\n",
              "    <tr>\n",
              "      <th>2</th>\n",
              "      <td>muy</td>\n",
              "    </tr>\n",
              "    <tr>\n",
              "      <th>3</th>\n",
              "      <td>bien</td>\n",
              "    </tr>\n",
              "  </tbody>\n",
              "</table>\n",
              "</div>"
            ],
            "text/plain": [
              "       0\n",
              "0   hola\n",
              "1  gente\n",
              "2    muy\n",
              "3   bien"
            ]
          },
          "metadata": {
            "tags": []
          },
          "execution_count": 7
        }
      ]
    },
    {
      "cell_type": "code",
      "metadata": {
        "id": "M4eUTrnpx5Ja",
        "colab": {
          "base_uri": "https://localhost:8080/",
          "height": 173
        },
        "outputId": "413f0588-042a-446a-b99a-8992f3cf366f"
      },
      "source": [
        "data = { 'name':['pepe','luis','pedro','lisandra'],\n",
        "        'edad':[14,64,23,19],\n",
        "        'pais':['peru','mexico','ecuador','chile']\n",
        "        }\n",
        "\n",
        "data_f = pd.DataFrame(data,index=[1,2,3,4])\n",
        "data_f"
      ],
      "execution_count": null,
      "outputs": [
        {
          "output_type": "execute_result",
          "data": {
            "text/html": [
              "<div>\n",
              "<style scoped>\n",
              "    .dataframe tbody tr th:only-of-type {\n",
              "        vertical-align: middle;\n",
              "    }\n",
              "\n",
              "    .dataframe tbody tr th {\n",
              "        vertical-align: top;\n",
              "    }\n",
              "\n",
              "    .dataframe thead th {\n",
              "        text-align: right;\n",
              "    }\n",
              "</style>\n",
              "<table border=\"1\" class=\"dataframe\">\n",
              "  <thead>\n",
              "    <tr style=\"text-align: right;\">\n",
              "      <th></th>\n",
              "      <th>name</th>\n",
              "      <th>edad</th>\n",
              "      <th>pais</th>\n",
              "    </tr>\n",
              "  </thead>\n",
              "  <tbody>\n",
              "    <tr>\n",
              "      <th>1</th>\n",
              "      <td>pepe</td>\n",
              "      <td>14</td>\n",
              "      <td>peru</td>\n",
              "    </tr>\n",
              "    <tr>\n",
              "      <th>2</th>\n",
              "      <td>luis</td>\n",
              "      <td>64</td>\n",
              "      <td>mexico</td>\n",
              "    </tr>\n",
              "    <tr>\n",
              "      <th>3</th>\n",
              "      <td>pedro</td>\n",
              "      <td>23</td>\n",
              "      <td>ecuador</td>\n",
              "    </tr>\n",
              "    <tr>\n",
              "      <th>4</th>\n",
              "      <td>lisandra</td>\n",
              "      <td>19</td>\n",
              "      <td>chile</td>\n",
              "    </tr>\n",
              "  </tbody>\n",
              "</table>\n",
              "</div>"
            ],
            "text/plain": [
              "       name  edad     pais\n",
              "1      pepe    14     peru\n",
              "2      luis    64   mexico\n",
              "3     pedro    23  ecuador\n",
              "4  lisandra    19    chile"
            ]
          },
          "metadata": {
            "tags": []
          },
          "execution_count": 9
        }
      ]
    },
    {
      "cell_type": "code",
      "metadata": {
        "id": "EVsx0Szsy-9Y",
        "colab": {
          "base_uri": "https://localhost:8080/",
          "height": 102
        },
        "outputId": "520f4b9c-3322-4e77-ce65-e8d3b4aaf055"
      },
      "source": [
        "print(data_f[['pais','name']])"
      ],
      "execution_count": null,
      "outputs": [
        {
          "output_type": "stream",
          "text": [
            "      pais      name\n",
            "1     peru      pepe\n",
            "2   mexico      luis\n",
            "3  ecuador     pedro\n",
            "4    chile  lisandra\n"
          ],
          "name": "stdout"
        }
      ]
    },
    {
      "cell_type": "code",
      "metadata": {
        "id": "itXMjVjF0zFP",
        "colab": {
          "base_uri": "https://localhost:8080/",
          "height": 34
        },
        "outputId": "65d79ad0-43e4-46f8-db01-1a31694cf90a"
      },
      "source": [
        "data_f.columns"
      ],
      "execution_count": null,
      "outputs": [
        {
          "output_type": "execute_result",
          "data": {
            "text/plain": [
              "Index(['name', 'edad', 'pais'], dtype='object')"
            ]
          },
          "metadata": {
            "tags": []
          },
          "execution_count": 16
        }
      ]
    },
    {
      "cell_type": "code",
      "metadata": {
        "id": "ZEC8vQ6O067p",
        "colab": {
          "base_uri": "https://localhost:8080/",
          "height": 170
        },
        "outputId": "32471d4b-e099-4237-dde9-1d4c0e3a77d2"
      },
      "source": [
        "data_f['edad'].describe()"
      ],
      "execution_count": null,
      "outputs": [
        {
          "output_type": "execute_result",
          "data": {
            "text/plain": [
              "count     4.00000\n",
              "mean     30.00000\n",
              "std      22.96374\n",
              "min      14.00000\n",
              "25%      17.75000\n",
              "50%      21.00000\n",
              "75%      33.25000\n",
              "max      64.00000\n",
              "Name: edad, dtype: float64"
            ]
          },
          "metadata": {
            "tags": []
          },
          "execution_count": 20
        }
      ]
    },
    {
      "cell_type": "code",
      "metadata": {
        "id": "D0dfE1lj1Rrh",
        "colab": {
          "base_uri": "https://localhost:8080/",
          "height": 173
        },
        "outputId": "58266f0f-05ce-4bc2-9db9-b3b9cc1b3e49"
      },
      "source": [
        "data_f.sort_index(axis=0, ascending= False)"
      ],
      "execution_count": null,
      "outputs": [
        {
          "output_type": "execute_result",
          "data": {
            "text/html": [
              "<div>\n",
              "<style scoped>\n",
              "    .dataframe tbody tr th:only-of-type {\n",
              "        vertical-align: middle;\n",
              "    }\n",
              "\n",
              "    .dataframe tbody tr th {\n",
              "        vertical-align: top;\n",
              "    }\n",
              "\n",
              "    .dataframe thead th {\n",
              "        text-align: right;\n",
              "    }\n",
              "</style>\n",
              "<table border=\"1\" class=\"dataframe\">\n",
              "  <thead>\n",
              "    <tr style=\"text-align: right;\">\n",
              "      <th></th>\n",
              "      <th>name</th>\n",
              "      <th>edad</th>\n",
              "      <th>pais</th>\n",
              "    </tr>\n",
              "  </thead>\n",
              "  <tbody>\n",
              "    <tr>\n",
              "      <th>4</th>\n",
              "      <td>lisandra</td>\n",
              "      <td>19</td>\n",
              "      <td>chile</td>\n",
              "    </tr>\n",
              "    <tr>\n",
              "      <th>3</th>\n",
              "      <td>pedro</td>\n",
              "      <td>23</td>\n",
              "      <td>ecuador</td>\n",
              "    </tr>\n",
              "    <tr>\n",
              "      <th>2</th>\n",
              "      <td>luis</td>\n",
              "      <td>64</td>\n",
              "      <td>mexico</td>\n",
              "    </tr>\n",
              "    <tr>\n",
              "      <th>1</th>\n",
              "      <td>pepe</td>\n",
              "      <td>14</td>\n",
              "      <td>peru</td>\n",
              "    </tr>\n",
              "  </tbody>\n",
              "</table>\n",
              "</div>"
            ],
            "text/plain": [
              "       name  edad     pais\n",
              "4  lisandra    19    chile\n",
              "3     pedro    23  ecuador\n",
              "2      luis    64   mexico\n",
              "1      pepe    14     peru"
            ]
          },
          "metadata": {
            "tags": []
          },
          "execution_count": 22
        }
      ]
    },
    {
      "cell_type": "markdown",
      "metadata": {
        "id": "7en0ySNx-oAw"
      },
      "source": [
        "# Scikit Learn\n",
        "\n",
        "---\n",
        "\n",
        "\n",
        "\n",
        "Scikit Learn es una biblioteca de Python que está conformada por algoritmos de clasificación, regresión, reducción de la dimensionalidad y clustering. Es una biblioteca clave en la aplicación de algoritmos de Machine Learning, tiene los métodos básicos para llamar un algoritmo, dividir los datos en entrenamiento y prueba, entrenarlo, predecir y ponerlo a prueba.\n",
        "\n",
        "**Importar biblioteca:**\n",
        "\n",
        "from sklearn import [modulo]\n",
        "\n",
        "**División del conjunto de datos para entrenamiento y pruebas:**\n",
        "\n",
        "X_train, X_test, y_train, y_test = train_test_split(X, y, test_size = 0.25, random_state = 0)\n",
        "\n",
        "**Entrenar modelo:**\n",
        "\n",
        "[modelo].fit(X_train, y_train)\n",
        "\n",
        "**Predicción del modelo:**\n",
        "\n",
        "Y_pred = [modelo].predict(X_test)\n",
        "\n",
        "**Matriz de confusión:**\n",
        "\n",
        "metrics.confusion_matrix(y_test, y_pred)\n",
        "\n",
        "**Calcular la exactitud:**\n",
        "\n",
        "metrics.accuracy_score(y_test, y_pred)"
      ]
    },
    {
      "cell_type": "markdown",
      "metadata": {
        "id": "Ic_Si3IAStL5"
      },
      "source": [
        "# OVERFITTING & UNDERFITTING\n",
        "\n",
        "---\n",
        "LINK PART 1: [link text](https://www.youtube.com/watch?v=7-6X3DTt3R8)\n",
        "\n",
        "LINK PART 2: [link text](https://www.youtube.com/watch?v=ZmLKqZYlYUI)\n"
      ]
    },
    {
      "cell_type": "markdown",
      "metadata": {
        "id": "Um6CO82oa-4W"
      },
      "source": [
        "# Regresion Linear Multiple\n",
        "\n",
        "---\n",
        "TEORIA: \n",
        "[link text](https://www.cienciadedatos.net/documentos/25_regresion_lineal_multiple)\n",
        "\n",
        "PRACTICA:\n",
        "[link text](https://www.ellaberintodefalken.com/2019/12/regresion-polinomica-polinomial.html)\n",
        "\n",
        "**1 ejemplo: L. regression with degree or 'grado'**\n"
      ]
    },
    {
      "cell_type": "code",
      "metadata": {
        "id": "-FzuC4k6bCU0"
      },
      "source": [
        "import pandas as pd\n",
        "import numpy as np\n",
        "import matplotlib.pyplot as plt\n",
        "from sklearn.model_selection import train_test_split\n",
        "from sklearn.linear_model import LinearRegression\n",
        "from sklearn.preprocessing import LabelEncoder\n",
        "from sklearn import linear_model"
      ],
      "execution_count": null,
      "outputs": []
    },
    {
      "cell_type": "code",
      "metadata": {
        "id": "MZm_SWZbb1yW",
        "colab": {
          "base_uri": "https://localhost:8080/",
          "height": 204
        },
        "outputId": "25cfa25c-5338-493a-8578-f0e518c2ed9f"
      },
      "source": [
        "data = pd.read_csv('/content/salarios.csv')\n",
        "\n",
        "data.head()"
      ],
      "execution_count": null,
      "outputs": [
        {
          "output_type": "execute_result",
          "data": {
            "text/html": [
              "<div>\n",
              "<style scoped>\n",
              "    .dataframe tbody tr th:only-of-type {\n",
              "        vertical-align: middle;\n",
              "    }\n",
              "\n",
              "    .dataframe tbody tr th {\n",
              "        vertical-align: top;\n",
              "    }\n",
              "\n",
              "    .dataframe thead th {\n",
              "        text-align: right;\n",
              "    }\n",
              "</style>\n",
              "<table border=\"1\" class=\"dataframe\">\n",
              "  <thead>\n",
              "    <tr style=\"text-align: right;\">\n",
              "      <th></th>\n",
              "      <th>Aexperiencia</th>\n",
              "      <th>Salario</th>\n",
              "    </tr>\n",
              "  </thead>\n",
              "  <tbody>\n",
              "    <tr>\n",
              "      <th>0</th>\n",
              "      <td>10.0</td>\n",
              "      <td>42500</td>\n",
              "    </tr>\n",
              "    <tr>\n",
              "      <th>1</th>\n",
              "      <td>8.0</td>\n",
              "      <td>36302</td>\n",
              "    </tr>\n",
              "    <tr>\n",
              "      <th>2</th>\n",
              "      <td>5.4</td>\n",
              "      <td>35000</td>\n",
              "    </tr>\n",
              "    <tr>\n",
              "      <th>3</th>\n",
              "      <td>2.5</td>\n",
              "      <td>18103</td>\n",
              "    </tr>\n",
              "    <tr>\n",
              "      <th>4</th>\n",
              "      <td>1.0</td>\n",
              "      <td>15000</td>\n",
              "    </tr>\n",
              "  </tbody>\n",
              "</table>\n",
              "</div>"
            ],
            "text/plain": [
              "   Aexperiencia  Salario\n",
              "0          10.0    42500\n",
              "1           8.0    36302\n",
              "2           5.4    35000\n",
              "3           2.5    18103\n",
              "4           1.0    15000"
            ]
          },
          "metadata": {
            "tags": []
          },
          "execution_count": 152
        }
      ]
    },
    {
      "cell_type": "code",
      "metadata": {
        "id": "_OvGGCF1cCxw"
      },
      "source": [
        "# x = np.array(data['Salario']).reshape(-1,1)\n",
        "# y = data['Salario']\n",
        "\n",
        "x = data.drop(['Salario'],axis=1) # devuelve todos los valores de data excepto 'Salario'.\n",
        "y = data.iloc[:, 1].values # primero [:] filas, segundo [,1] columnas.\n",
        "\n",
        "x_train, x_test, y_train, y_test = train_test_split(x,y, test_size = 0.2) # aleatoriza la data y la reparte."
      ],
      "execution_count": null,
      "outputs": []
    },
    {
      "cell_type": "code",
      "metadata": {
        "id": "cEEuLexbcd98"
      },
      "source": [
        "from sklearn.preprocessing import PolynomialFeatures\n",
        "poly = PolynomialFeatures(degree=4,include_bias=False)  # degree es el grado\n",
        "# recordar que cuando mas se suba el grado y el accuracy sea mas preciso, puede que el modelo haga OVERFITTING, ya que no generaliza.\n",
        "LR = LinearRegression()"
      ],
      "execution_count": null,
      "outputs": []
    },
    {
      "cell_type": "code",
      "metadata": {
        "id": "pjgXTpQhctrH",
        "colab": {
          "base_uri": "https://localhost:8080/",
          "height": 34
        },
        "outputId": "da9f059b-0564-4b6c-f7f9-7be18309548b"
      },
      "source": [
        "poly_train = poly.fit_transform(x_train)\n",
        "LR.fit(poly_train,y_train)\n",
        "\n",
        "poly_test = poly.fit_transform(x_test)\n",
        "acc = LR.score(poly_test,y_test)\n",
        "\n",
        "print('accuracy: ',acc)"
      ],
      "execution_count": null,
      "outputs": [
        {
          "output_type": "stream",
          "text": [
            "accuracy:  0.9521061463192263\n"
          ],
          "name": "stdout"
        }
      ]
    },
    {
      "cell_type": "code",
      "metadata": {
        "id": "OOZh4GGtJ_Iu",
        "colab": {
          "base_uri": "https://localhost:8080/",
          "height": 295
        },
        "outputId": "9afa6dee-4020-41f2-e4c1-6eff852af65b"
      },
      "source": [
        "plt.scatter(x_train,y_train,color='blue')\n",
        "plt.plot(x_train, LR.predict(poly_train),color='black')\n",
        "plt.title('Linear Regression Simple (Train)')\n",
        "plt.xlabel('Yexperience')\n",
        "plt.ylabel('salary')\n",
        "\n",
        "plt.show()"
      ],
      "execution_count": null,
      "outputs": [
        {
          "output_type": "display_data",
          "data": {
            "image/png": "[encoded data removed]",
            "text/plain": [
              "<Figure size 432x288 with 1 Axes>"
            ]
          },
          "metadata": {
            "tags": [],
            "needs_background": "light"
          }
        }
      ]
    },
    {
      "cell_type": "code",
      "metadata": {
        "id": "yE22Sj0bMJQ2",
        "colab": {
          "base_uri": "https://localhost:8080/",
          "height": 295
        },
        "outputId": "95ea4939-9d3a-4a25-cf4a-da4edf9716ef"
      },
      "source": [
        "plt.scatter(x_test,y_test,color='blue')\n",
        "plt.plot(x_train, LR.predict(poly_train),color='black')\n",
        "plt.title('Linear Regression Simple (Train)')\n",
        "plt.xlabel('Yexperience')\n",
        "plt.ylabel('salary')\n",
        "\n",
        "plt.show()"
      ],
      "execution_count": null,
      "outputs": [
        {
          "output_type": "display_data",
          "data": {
            "image/png": "[encoded data removed]",
            "text/plain": [
              "<Figure size 432x288 with 1 Axes>"
            ]
          },
          "metadata": {
            "tags": [],
            "needs_background": "light"
          }
        }
      ]
    },
    {
      "cell_type": "markdown",
      "metadata": {
        "id": "Egcjr5IKbcPP"
      },
      "source": [
        "**Multiple**:\n",
        "\n",
        "---\n",
        "\n"
      ]
    },
    {
      "cell_type": "code",
      "metadata": {
        "id": "-piNIUybyS-7"
      },
      "source": [
        "import pandas as pd\n",
        "import numpy as np\n",
        "import random\n",
        "import matplotlib.pyplot as plt\n",
        "from mpl_toolkits.mplot3d import Axes3D\n",
        "from sklearn.model_selection import train_test_split\n",
        "from sklearn.linear_model import LinearRegression \n",
        "from sklearn import preprocessing\n",
        "\n",
        "dataset = pd.read_csv('/content/salarios.csv')\n",
        "\n",
        "# defino los paises en list paises\n",
        "paises = ['CO','BR','PE','MX']\n",
        "\n",
        "# llevo cada elemento de paises a que sea convertido a un numero\n",
        "le1 = preprocessing.LabelEncoder()\n",
        "paises_encoded = le1.fit_transform(paises)\n",
        "\n",
        "# de forma aleatoria creo 30 elementos para dataset\n",
        "paises_dataset = [random.choice(paises_encoded) for i in range(len(dataset))]\n",
        "\n",
        "# paises codificados y en lista pasados al dataset\n",
        "dataset['pais'] = paises_dataset\n"
      ],
      "execution_count": null,
      "outputs": []
    },
    {
      "cell_type": "code",
      "metadata": {
        "id": "U7PINJfqbO1L",
        "colab": {
          "base_uri": "https://localhost:8080/",
          "height": 34
        },
        "outputId": "11b33084-ff31-466f-cebd-555393ca481d"
      },
      "source": [
        "# Dividiendo las columnas en x y y\n",
        "x = dataset.drop('Salario', axis=1)\n",
        "y = dataset.iloc[:,1].values\n",
        "\n",
        "# dividimos nuestro dataset\n",
        "X_train, X_test, Y_train, Y_test = train_test_split(x, y, test_size = 0.2, random_state = 0)\n",
        "\n",
        "# Invocamos el modelo y creamos el modelo con .fit\n",
        "regressor = LinearRegression()\n",
        "regressor.fit(X_train, Y_train)\n",
        "\n",
        "# Evaluamos performance\n",
        "print(regressor.score(X_test, Y_test))"
      ],
      "execution_count": null,
      "outputs": [
        {
          "output_type": "stream",
          "text": [
            "0.793246155152405\n"
          ],
          "name": "stdout"
        }
      ]
    },
    {
      "cell_type": "code",
      "metadata": {
        "id": "7ekh4vyVbSfr",
        "colab": {
          "base_uri": "https://localhost:8080/",
          "height": 248
        },
        "outputId": "e377cf5c-d8e2-47d2-a52a-ac838c2e2468"
      },
      "source": [
        "# ploteamos datos de entrenamiento para ver si realmente el \n",
        "# modelo lo hizo bien, se entreno como se debe\n",
        "fig = plt.figure()\n",
        "viz_train = fig.add_subplot(111, projection='3d')\n",
        "viz_train.scatter(X_train['Aexperiencia'],X_train['pais'], Y_train, color = 'blue')\n",
        "viz_train.plot_trisurf(X_train['Aexperiencia'],X_train['pais'], regressor.predict(X_train),color = 'black', alpha = 0.5)\n",
        "viz_train.set_title('Salario Experiencia y pais')\n",
        "viz_train.set_xlabel('Experiencia')\n",
        "viz_train.set_ylabel('Pais')\n",
        "viz_train.set_zlabel('Salario')\n",
        "viz_train.set_yticks(range(len(paises_encoded)))\n",
        "viz_train.set_yticklabels(le1.inverse_transform(paises_encoded))\n",
        "viz_train.azim=-10\n",
        "fig.show()"
      ],
      "execution_count": null,
      "outputs": [
        {
          "output_type": "display_data",
          "data": {
            "image/png": "[encoded data removed]",
            "text/plain": [
              "<Figure size 432x288 with 1 Axes>"
            ]
          },
          "metadata": {
            "tags": [],
            "needs_background": "light"
          }
        }
      ]
    },
    {
      "cell_type": "code",
      "metadata": {
        "id": "3P09CrlObVOu",
        "colab": {
          "base_uri": "https://localhost:8080/",
          "height": 248
        },
        "outputId": "1bac20a1-f51d-4907-a381-246ce0790c2d"
      },
      "source": [
        "# probamos con datos de test\n",
        "fig = plt.figure()\n",
        "viz_train = fig.add_subplot(111, projection='3d')\n",
        "viz_train.scatter(X_test['Aexperiencia'],X_test['pais'], Y_test, color = 'red')\n",
        "viz_train.plot_trisurf(X_train['Aexperiencia'], X_train['pais'], regressor.predict(X_train),color = 'black', alpha = 0.5)\n",
        "viz_train.set_title('Salario Experiencia y pais')\n",
        "viz_train.set_xlabel('Experiencia')\n",
        "viz_train.set_ylabel('Pais')\n",
        "viz_train.set_zlabel('Salario')\n",
        "viz_train.set_yticks(range(len(paises_encoded)))\n",
        "viz_train.set_yticklabels(le1.inverse_transform(paises_encoded))\n",
        "viz_train.azim=-10\n",
        "fig.show()"
      ],
      "execution_count": null,
      "outputs": [
        {
          "output_type": "display_data",
          "data": {
            "image/png": "[encoded data removed]",
            "text/plain": [
              "<Figure size 432x288 with 1 Axes>"
            ]
          },
          "metadata": {
            "tags": [],
            "needs_background": "light"
          }
        }
      ]
    }
  ]
}