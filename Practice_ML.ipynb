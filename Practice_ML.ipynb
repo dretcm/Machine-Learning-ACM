{
  "nbformat": 4,
  "nbformat_minor": 0,
  "metadata": {
    "colab": {
      "name": "Practice ML.ipynb",
      "provenance": [],
      "collapsed_sections": [
        "nSC6LnkbkwPc",
        "fLhbiM--loGb",
        "h7_4-vFOlxnW",
        "B3EVIjBLl35X",
        "keXUpyFbrEDV",
        "hIVNLOCGJXc0",
        "H1iSa59ejfYF",
        "gg6NStMoF5Uz",
        "nbtx-S8_-Lub",
        "fjPaTSfvnh1h",
        "5YlmvZMyAJgf",
        "QpHS76loJIuo",
        "_ntqP9gsQQgb"
      ],
      "authorship_tag": "ABX9TyOJwn7OuTRdEpe/qbdbJYd4",
      "include_colab_link": true
    },
    "kernelspec": {
      "name": "python3",
      "display_name": "Python 3"
    },
    "widgets": {
      "application/vnd.jupyter.widget-state+json": {
        "bc9c0db60a37421caca9d59cf9e2eae6": {
          "model_module": "@jupyter-widgets/controls",
          "model_name": "HBoxModel",
          "state": {
            "_view_name": "HBoxView",
            "_dom_classes": [],
            "_model_name": "HBoxModel",
            "_view_module": "@jupyter-widgets/controls",
            "_model_module_version": "1.5.0",
            "_view_count": null,
            "_view_module_version": "1.5.0",
            "box_style": "",
            "layout": "IPY_MODEL_04b63854da4644cf99cb2c817ccc9dbb",
            "_model_module": "@jupyter-widgets/controls",
            "children": [
              "IPY_MODEL_6177e08c790f40e5b724795ec7038648",
              "IPY_MODEL_037a5aedf20c43d38e1724adb59ab7c8"
            ]
          }
        },
        "04b63854da4644cf99cb2c817ccc9dbb": {
          "model_module": "@jupyter-widgets/base",
          "model_name": "LayoutModel",
          "state": {
            "_view_name": "LayoutView",
            "grid_template_rows": null,
            "right": null,
            "justify_content": null,
            "_view_module": "@jupyter-widgets/base",
            "overflow": null,
            "_model_module_version": "1.2.0",
            "_view_count": null,
            "flex_flow": null,
            "width": null,
            "min_width": null,
            "border": null,
            "align_items": null,
            "bottom": null,
            "_model_module": "@jupyter-widgets/base",
            "top": null,
            "grid_column": null,
            "overflow_y": null,
            "overflow_x": null,
            "grid_auto_flow": null,
            "grid_area": null,
            "grid_template_columns": null,
            "flex": null,
            "_model_name": "LayoutModel",
            "justify_items": null,
            "grid_row": null,
            "max_height": null,
            "align_content": null,
            "visibility": null,
            "align_self": null,
            "height": null,
            "min_height": null,
            "padding": null,
            "grid_auto_rows": null,
            "grid_gap": null,
            "max_width": null,
            "order": null,
            "_view_module_version": "1.2.0",
            "grid_template_areas": null,
            "object_position": null,
            "object_fit": null,
            "grid_auto_columns": null,
            "margin": null,
            "display": null,
            "left": null
          }
        },
        "6177e08c790f40e5b724795ec7038648": {
          "model_module": "@jupyter-widgets/controls",
          "model_name": "FloatProgressModel",
          "state": {
            "_view_name": "ProgressView",
            "style": "IPY_MODEL_0dd2e2ff60834fe1af44c4e86038249a",
            "_dom_classes": [],
            "description": "100%",
            "_model_name": "FloatProgressModel",
            "bar_style": "success",
            "max": 108857766,
            "_view_module": "@jupyter-widgets/controls",
            "_model_module_version": "1.5.0",
            "value": 108857766,
            "_view_count": null,
            "_view_module_version": "1.5.0",
            "orientation": "horizontal",
            "min": 0,
            "description_tooltip": null,
            "_model_module": "@jupyter-widgets/controls",
            "layout": "IPY_MODEL_d7b5b976fcd0403498d451eea0b13fa2"
          }
        },
        "037a5aedf20c43d38e1724adb59ab7c8": {
          "model_module": "@jupyter-widgets/controls",
          "model_name": "HTMLModel",
          "state": {
            "_view_name": "HTMLView",
            "style": "IPY_MODEL_24c51b14adc04c46bedbc3892abbcb2a",
            "_dom_classes": [],
            "description": "",
            "_model_name": "HTMLModel",
            "placeholder": "​",
            "_view_module": "@jupyter-widgets/controls",
            "_model_module_version": "1.5.0",
            "value": " 104M/104M [00:01&lt;00:00, 102MB/s]",
            "_view_count": null,
            "_view_module_version": "1.5.0",
            "description_tooltip": null,
            "_model_module": "@jupyter-widgets/controls",
            "layout": "IPY_MODEL_5b4f1c8ce2b644eebe21155bb9c8186d"
          }
        },
        "0dd2e2ff60834fe1af44c4e86038249a": {
          "model_module": "@jupyter-widgets/controls",
          "model_name": "ProgressStyleModel",
          "state": {
            "_view_name": "StyleView",
            "_model_name": "ProgressStyleModel",
            "description_width": "initial",
            "_view_module": "@jupyter-widgets/base",
            "_model_module_version": "1.5.0",
            "_view_count": null,
            "_view_module_version": "1.2.0",
            "bar_color": null,
            "_model_module": "@jupyter-widgets/controls"
          }
        },
        "d7b5b976fcd0403498d451eea0b13fa2": {
          "model_module": "@jupyter-widgets/base",
          "model_name": "LayoutModel",
          "state": {
            "_view_name": "LayoutView",
            "grid_template_rows": null,
            "right": null,
            "justify_content": null,
            "_view_module": "@jupyter-widgets/base",
            "overflow": null,
            "_model_module_version": "1.2.0",
            "_view_count": null,
            "flex_flow": null,
            "width": null,
            "min_width": null,
            "border": null,
            "align_items": null,
            "bottom": null,
            "_model_module": "@jupyter-widgets/base",
            "top": null,
            "grid_column": null,
            "overflow_y": null,
            "overflow_x": null,
            "grid_auto_flow": null,
            "grid_area": null,
            "grid_template_columns": null,
            "flex": null,
            "_model_name": "LayoutModel",
            "justify_items": null,
            "grid_row": null,
            "max_height": null,
            "align_content": null,
            "visibility": null,
            "align_self": null,
            "height": null,
            "min_height": null,
            "padding": null,
            "grid_auto_rows": null,
            "grid_gap": null,
            "max_width": null,
            "order": null,
            "_view_module_version": "1.2.0",
            "grid_template_areas": null,
            "object_position": null,
            "object_fit": null,
            "grid_auto_columns": null,
            "margin": null,
            "display": null,
            "left": null
          }
        },
        "24c51b14adc04c46bedbc3892abbcb2a": {
          "model_module": "@jupyter-widgets/controls",
          "model_name": "DescriptionStyleModel",
          "state": {
            "_view_name": "StyleView",
            "_model_name": "DescriptionStyleModel",
            "description_width": "",
            "_view_module": "@jupyter-widgets/base",
            "_model_module_version": "1.5.0",
            "_view_count": null,
            "_view_module_version": "1.2.0",
            "_model_module": "@jupyter-widgets/controls"
          }
        },
        "5b4f1c8ce2b644eebe21155bb9c8186d": {
          "model_module": "@jupyter-widgets/base",
          "model_name": "LayoutModel",
          "state": {
            "_view_name": "LayoutView",
            "grid_template_rows": null,
            "right": null,
            "justify_content": null,
            "_view_module": "@jupyter-widgets/base",
            "overflow": null,
            "_model_module_version": "1.2.0",
            "_view_count": null,
            "flex_flow": null,
            "width": null,
            "min_width": null,
            "border": null,
            "align_items": null,
            "bottom": null,
            "_model_module": "@jupyter-widgets/base",
            "top": null,
            "grid_column": null,
            "overflow_y": null,
            "overflow_x": null,
            "grid_auto_flow": null,
            "grid_area": null,
            "grid_template_columns": null,
            "flex": null,
            "_model_name": "LayoutModel",
            "justify_items": null,
            "grid_row": null,
            "max_height": null,
            "align_content": null,
            "visibility": null,
            "align_self": null,
            "height": null,
            "min_height": null,
            "padding": null,
            "grid_auto_rows": null,
            "grid_gap": null,
            "max_width": null,
            "order": null,
            "_view_module_version": "1.2.0",
            "grid_template_areas": null,
            "object_position": null,
            "object_fit": null,
            "grid_auto_columns": null,
            "margin": null,
            "display": null,
            "left": null
          }
        }
      }
    }
  },
  "cells": [
    {
      "cell_type": "markdown",
      "metadata": {
        "id": "view-in-github",
        "colab_type": "text"
      },
      "source": [
        "<a href=\"https://colab.research.google.com/github/dretcm/Machine-Learning-ACM/blob/main/Practice_ML.ipynb\" target=\"_parent\"><img src=\"https://colab.research.google.com/assets/colab-badge.svg\" alt=\"Open In Colab\"/></a>"
      ]
    },
    {
      "cell_type": "code",
      "metadata": {
        "id": "C7kdYkE9rNBy"
      },
      "source": [
        "import torch\n",
        "import numpy as np\n",
        "import pandas as pd"
      ],
      "execution_count": null,
      "outputs": []
    },
    {
      "cell_type": "markdown",
      "metadata": {
        "id": "nSC6LnkbkwPc"
      },
      "source": [
        "# Linear Regression Course\n",
        "\n",
        "---\n",
        "\n"
      ]
    },
    {
      "cell_type": "markdown",
      "metadata": {
        "id": "fLhbiM--loGb"
      },
      "source": [
        "## 1. Introducción a ML y Los Algoritmos"
      ]
    },
    {
      "cell_type": "markdown",
      "metadata": {
        "id": "af0DwyalwarU"
      },
      "source": [
        "![link text](https://static.platzi.com/media/user_upload/Captura%20de%20pantalla%20de%202020-08-31%2019-40-00-636bc7d4-b657-458a-8e2b-f61559d5e032.jpg)"
      ]
    },
    {
      "cell_type": "markdown",
      "metadata": {
        "id": "lry3N7F-28bG"
      },
      "source": [
        "* **Regresion:** nos permitiran predecir o estimar valores estadisticos, reales, un rango de fenomenos, etc. La regresion tiene como tipo de variable objetivo el **valor numerico**. Ejemplo: que tan probable es que llueva, cuanto costara esta casa, que tanto podran cobrar mis empleados.\n",
        "\n",
        "* **Clasificación:** nos permitiran clasificar elementos. La clasificacion tiene como tipo de variable objetivo el **valor categorico**. Ejemplo: predecir si va a llover o no, predecir si es un gato o perro, si nuestros empleados renunciaran o no."
      ]
    },
    {
      "cell_type": "markdown",
      "metadata": {
        "id": "ukDkzUeW78tK"
      },
      "source": [
        "* **Si una linea recta no fuera suficiente? Como usar modelos polinomiales?**\n",
        "\n",
        "Existe un metodo de scikit learn en donde puedes hacer eso:\n",
        "Lo que haces es esto, digamos que tienes este feature:\n",
        "feature = [4,3], e indicas el grado del polinomio que quieres usar, digamos de grado 2:\n",
        "\n",
        "Tus labels toman esta forma en sklearn:\n",
        "y = w0 + w1x1 + w2x2 + x1^2 + x1x2 + x2^2\n",
        "Entonces tu transformacion quedaria asi:\n",
        "x = [1,4,3, 16,12,9]\n",
        "\n",
        "En codigo:\n",
        "\n",
        "\n",
        "\n",
        "```\n",
        "from sklearn.preprocessing import PolynomialFeatures as PF\n",
        "x = PF(degree = 2).fit_transform(feature)\n",
        "\n",
        "```\n",
        "Ahora para implementarlo en un modelo de ML, lo que se hace es introducir tus polinomios como features en una regresion, ya sea lineal, lasso, ridge, o incluso en funciones como la funcion sigmoide, si es que es un problema de clasificacion.\n",
        "\n",
        "Si ves que hay overfitting, lo cual es algo comun en las regresiones polinomiales,lo mas optimo es usar Ridge Regression o Lasso Regression.\n"
      ]
    },
    {
      "cell_type": "markdown",
      "metadata": {
        "id": "h7_4-vFOlxnW"
      },
      "source": [
        "## 2. Entendiendo el algoritmo de regresión lineal"
      ]
    },
    {
      "cell_type": "markdown",
      "metadata": {
        "id": "ZlI4wCVYSDOE"
      },
      "source": [
        "\n",
        "\n",
        "---\n",
        "\n",
        "\n",
        "**1.STEP:** \n",
        "\n",
        "---\n",
        "\n",
        "\n",
        "* calcular la media de los valores de X y valores de Y.\n",
        "\n",
        "**$X_m$**\n",
        "\n",
        "**$Y_m$**\n",
        "\n",
        "\n",
        "---\n",
        "\n",
        "\n",
        "**2.STEP**\n",
        "\n",
        "---\n",
        "\n",
        "\n",
        "\n",
        "* Calcular la pendiente de la recta.\n",
        "* Dato importante: esta es la ecuación de **\"Mínimos Cruadrados\"**.\n",
        "\n",
        "**M = $\\frac {\\sum_{i=1}^{n}(x_i - X_m)(y_i - Y_m)} {\\sum_{i=1}^{n}(x_i - X_m)^2}$**\n",
        "\n",
        "\n",
        "---\n",
        "\n",
        "\n",
        "**3.STEP**\n",
        "\n",
        "---\n",
        "\n",
        "\n",
        "* calcular el intercepto en y de la recta.\n",
        "\n",
        "**B = $Y_m$ - M$X_m$**\n",
        "\n",
        "---\n",
        "\n",
        "**4.STEP**\n",
        "\n",
        "---\n",
        "\n",
        "\n",
        "\n",
        "* finalmente calculamos nuestrra predicción o la ecuacion de la recta.\n",
        "\n",
        "**Y = MX + B**"
      ]
    },
    {
      "cell_type": "markdown",
      "metadata": {
        "id": "lSKM63oxzRDY"
      },
      "source": [
        "**Calcular el Error:**\n",
        "\n",
        "Hacer esto hace que nosotros o nuestro modelo eliga una mejor pendiente para nuestro modelo según el error que obtengamos, obvio lo ideal es tener un modelo con muy bajo error.\n",
        "\n",
        "* Mediante Minimos Cuadrados Ordinarios **($ M = (X^TX)^{-1} X^TY$)**, que consume demasiado tiempo.\n",
        "* O más eficiente para consumir menos tiempo \"El desenzo del Gradiente\", que esta reducira el error según valla entrenando o interando varias veces."
      ]
    },
    {
      "cell_type": "markdown",
      "metadata": {
        "id": "B3EVIjBLl35X"
      },
      "source": [
        "## 3. Proyecto del curso"
      ]
    },
    {
      "cell_type": "code",
      "metadata": {
        "id": "XRms5OVRUFwV"
      },
      "source": [
        "import numpy as np\n",
        "import matplotlib.pyplot as plt "
      ],
      "execution_count": null,
      "outputs": []
    },
    {
      "cell_type": "code",
      "metadata": {
        "id": "oc7uRRs_UGiT"
      },
      "source": [
        "#Llevando nuestro algoritmo a python\n",
        "\n",
        "def estimate_b0_b1(x, y):\n",
        "    n = np.size(x)\n",
        "    #obtenemos los promedios de X y de Y\n",
        "    m_x, m_y = np.mean(x), np.mean(y)\n",
        "\n",
        "    #Calcular sumatoria de XY y mi sumatoria de XX\n",
        "    Sumatoria_xy = np.sum((x-m_x)*(y-m_y))\n",
        "    Sumatoria_xx = np.sum(x*(x-m_x))\n",
        "\n",
        "    #coeficientes de regresion\n",
        "    b_1 = Sumatoria_xy / Sumatoria_xx\n",
        "    b_0 = m_y - b_1*m_x\n",
        "\n",
        "    return(b_0, b_1)\n"
      ],
      "execution_count": null,
      "outputs": []
    },
    {
      "cell_type": "markdown",
      "metadata": {
        "id": "_OHb5pRAa8el"
      },
      "source": [
        "**EXPLICACION:**\n",
        "\n",
        "sum( (x - m_x$)^2$ )\n",
        "\n",
        "sum($x^2$ - 2x$*$m_x + (m_x$)^2$ )\n",
        "\n",
        "sum($x^2$) - sum(2x $*$ m_x) + sum ( (m_x$)^2$ )\n",
        "\n",
        "* **Donde:**\n",
        "\n",
        "sum(m_$x^2$)  \n",
        "\n",
        "n $*$ m_x $*$ m_x\n",
        "\n",
        "m_x = $sum(x) / n$\n",
        "\n",
        "sum(x) $*$ m_x\n",
        "\n",
        "sum(x $*$ m_x)\n",
        "\n",
        "* **Continuamos:**\n",
        "\n",
        "sum($x^2$) - sum(2x $*$ m_x) + sum ( x $*$ m_x)\n",
        "\n",
        "sum($x^2$) - sum(x $*$ m_x)\n",
        "\n",
        "sum($x^2$ - (x $*$ m_x) )\n",
        "\n",
        "sum( x $*$ (x - m_x) )\n",
        "\n",
        "confirmo que si es igual 😃\n"
      ]
    },
    {
      "cell_type": "code",
      "metadata": {
        "id": "Gn8B0TFxULFe"
      },
      "source": [
        "#Funcion de graficado \n",
        "def plot_regression(x, y, b):\n",
        "    plt.scatter(x, y, color = \"g\", marker = \"o\", s=30)\n",
        "\n",
        "    y_pred = b[0] + b[1]*x\n",
        "    plt.plot(x, y_pred, color = \"b\")\n",
        "    plt.axvline(x=0,c='grey')\n",
        "    plt.axhline(y=0,c='grey')\n",
        "    #etiquetado\n",
        "    plt.xlabel('x-Independiente')\n",
        "    plt.ylabel('y-Dependiente')\n",
        "\n",
        "    plt.show()"
      ],
      "execution_count": null,
      "outputs": []
    },
    {
      "cell_type": "code",
      "metadata": {
        "id": "_xUnSPrOUWXF",
        "outputId": "40a25668-c6d3-4b17-f93a-c07c73d69185",
        "colab": {
          "base_uri": "https://localhost:8080/",
          "height": 296
        }
      },
      "source": [
        "#Codigo MAIN\n",
        "def main():\n",
        "    #DATASET\n",
        "    x = np.array([1,2,3,4,5])\n",
        "    y = np.array([2,3,5,6,5])\n",
        "\n",
        "    #Obtenemos b1 y b2\n",
        "    b = estimate_b0_b1(x, y)\n",
        "    print(\"Los valores b0 = {}, b1 ={}\".format(b[0], b[1]))\n",
        "\n",
        "    #Graficamos nuestra linea de regresion\n",
        "    plot_regression(x, y, b)\n",
        "\n",
        "if __name__== \"__main__\":\n",
        "    main()"
      ],
      "execution_count": null,
      "outputs": [
        {
          "output_type": "stream",
          "text": [
            "Los valores b0 = 1.5, b1 =0.9\n"
          ],
          "name": "stdout"
        },
        {
          "output_type": "display_data",
          "data": {
            "image/png": "[encoded data removed]",
            "text/plain": [
              "<Figure size 432x288 with 1 Axes>"
            ]
          },
          "metadata": {
            "tags": [],
            "needs_background": "light"
          }
        }
      ]
    },
    {
      "cell_type": "code",
      "metadata": {
        "id": "44Nr-9vXgM4G",
        "outputId": "2ec3fcc2-41ab-403f-870f-80f17b64800e",
        "colab": {
          "base_uri": "https://localhost:8080/",
          "height": 34
        }
      },
      "source": [
        "m = 0.9\n",
        "b = 1.5\n",
        "\n",
        "print(\"predict: \",(b + m * 4.5))"
      ],
      "execution_count": null,
      "outputs": [
        {
          "output_type": "stream",
          "text": [
            "predict 5.55\n"
          ],
          "name": "stdout"
        }
      ]
    },
    {
      "cell_type": "markdown",
      "metadata": {
        "id": "keXUpyFbrEDV"
      },
      "source": [
        "# Bonus\n",
        "\n",
        "---\n",
        "\n"
      ]
    },
    {
      "cell_type": "markdown",
      "metadata": {
        "id": "V_wgQzSkErQS"
      },
      "source": [
        "Introduccion a Machine Learning\n",
        "\n",
        "---\n",
        "\n",
        "La regresión lineal nos va a dar justo lo que queremos como resolución de un problema de ML. Partimos de una ecuación, la Y será nuestro label o variable que estamos prediciendo, la X que será nuestra variable de entrada y le llamaremos feature.\n",
        "\n",
        "Modelo: Una vez construyamos nuestro modelo con los datos históricos, vamos a predecir el futuro y que la máquina pueda tomar esas decisiones con lo ya aprendido.\n",
        "\n",
        "Training: Para lograr predecir el futuro, tendremos una etapa de entrenamiento. En esta etapa aprenderá cómo se relacionan las variables\n",
        "\n",
        "Inference: Usamos nuestro modelo para realizar predicciones\n",
        "\n",
        "Para construir un modelo usamos las variables de entrada siendo necesario normalizar una para tener una representación numérica y construimos una ecuación.\n",
        "\n",
        "La diferencia que puede haber entre el resultado y el valor real debemos tratar de que no exista para que la predicción sea lo más cercana posible al valor real, no será al 100%, pero la diferencia o pérdida debe ser baja. Para llegar a eso debemos escoger el peso correcto."
      ]
    },
    {
      "cell_type": "markdown",
      "metadata": {
        "id": "Q-0OlAA_rKi_"
      },
      "source": [
        "**Ruido:**\n",
        "\n",
        "son datos que no deberian estar en nuestra evaluación, y el ruido cuesta dinero, desvian nuestro datos, no son importantes, por eso debemos saber separar la data, entendiendo el problema, etc.\n",
        "\n",
        "**normalización:**\n",
        "\n",
        "normalización, lo que se busca con esto es que todos los datos tengan importancia, no solo 1 o 2 etc, sino todos. un ejemplo sería cuando tenemos edades (0-100) y sueldos (1 000 - 15 000), el modelo le tomara más importancia a los sueldos que a las edades, para eso se utuliza la normalizacion de datos, lo que se quiere es que los datos varien entre 0 y 1 para que todos los datos sean importantes, ojo depende del problema.\n",
        "\n",
        "**missing values:**\n",
        "\n",
        "cuando se trata de los valores faltantes o nan, normalente si son pocos se rellenan con valores más frecuentes (string), con la media (float, double), o la mediana (int), ojo hay otras formas trambien de rellenar esos valores faltantes. cuando la columna de la data tiene más de la mitad faltante es ruido y debe ser filtrada para no afectar a los demas datos."
      ]
    },
    {
      "cell_type": "markdown",
      "metadata": {
        "id": "hIVNLOCGJXc0"
      },
      "source": [
        "# Trabajando con tensores\n",
        "\n",
        "---\n",
        "\n"
      ]
    },
    {
      "cell_type": "code",
      "metadata": {
        "id": "fVxT1wL6JZ5C",
        "outputId": "0607a154-9b21-4fc9-ace0-3454c0f0491e",
        "colab": {
          "base_uri": "https://localhost:8080/",
          "height": 35
        }
      },
      "source": [
        "import torch\n",
        "torch.__version__"
      ],
      "execution_count": null,
      "outputs": [
        {
          "output_type": "execute_result",
          "data": {
            "application/vnd.google.colaboratory.intrinsic+json": {
              "type": "string"
            },
            "text/plain": [
              "'1.6.0+cu101'"
            ]
          },
          "metadata": {
            "tags": []
          },
          "execution_count": 3
        }
      ]
    },
    {
      "cell_type": "code",
      "metadata": {
        "id": "hZtE2F8OLUTU",
        "outputId": "77636604-bb3e-4ad9-8189-dda83b95d5b6",
        "colab": {
          "base_uri": "https://localhost:8080/",
          "height": 51
        }
      },
      "source": [
        "tensor_a = torch.ones(2,2)\n",
        "tensor_a"
      ],
      "execution_count": null,
      "outputs": [
        {
          "output_type": "execute_result",
          "data": {
            "text/plain": [
              "tensor([[1., 1.],\n",
              "        [1., 1.]])"
            ]
          },
          "metadata": {
            "tags": []
          },
          "execution_count": 4
        }
      ]
    },
    {
      "cell_type": "code",
      "metadata": {
        "id": "yNH7O-XdLdMx",
        "outputId": "04a17d98-1e64-4ef5-84fe-1a26eb25897b",
        "colab": {
          "base_uri": "https://localhost:8080/",
          "height": 85
        }
      },
      "source": [
        "tensor_b = torch.Tensor(2,2)\n",
        "print(tensor_b)\n",
        "tensor_b.uniform_(0,1) # modifico los valores entre 0 a 1\n",
        "print(tensor_b)"
      ],
      "execution_count": null,
      "outputs": [
        {
          "output_type": "stream",
          "text": [
            "tensor([[1.4715e-36, 0.0000e+00],\n",
            "        [3.3631e-44, 0.0000e+00]])\n",
            "tensor([[0.3179, 0.1785],\n",
            "        [0.4608, 0.2261]])\n"
          ],
          "name": "stdout"
        }
      ]
    },
    {
      "cell_type": "code",
      "metadata": {
        "id": "l6HzzrYYL0z0",
        "outputId": "5abe915a-5e56-46be-aab4-882bf8d56b99",
        "colab": {
          "base_uri": "https://localhost:8080/",
          "height": 51
        }
      },
      "source": [
        "tensor_c = torch.rand(2,2)\n",
        "tensor_c"
      ],
      "execution_count": null,
      "outputs": [
        {
          "output_type": "execute_result",
          "data": {
            "text/plain": [
              "tensor([[0.4289, 0.2739],\n",
              "        [0.5622, 0.5901]])"
            ]
          },
          "metadata": {
            "tags": []
          },
          "execution_count": 8
        }
      ]
    },
    {
      "cell_type": "code",
      "metadata": {
        "id": "GtUzUgDrMAXI",
        "outputId": "43afbed1-bbcb-4b37-f190-9c2348f46f9d",
        "colab": {
          "base_uri": "https://localhost:8080/",
          "height": 51
        }
      },
      "source": [
        "reply = tensor_b + tensor_c\n",
        "reply"
      ],
      "execution_count": null,
      "outputs": [
        {
          "output_type": "execute_result",
          "data": {
            "text/plain": [
              "tensor([[0.7467, 0.4524],\n",
              "        [1.0230, 0.8162]])"
            ]
          },
          "metadata": {
            "tags": []
          },
          "execution_count": 9
        }
      ]
    },
    {
      "cell_type": "code",
      "metadata": {
        "id": "TXpcu24GMGof",
        "outputId": "370bd4cd-67c3-4cd3-f66e-b219f1677cc1",
        "colab": {
          "base_uri": "https://localhost:8080/",
          "height": 34
        }
      },
      "source": [
        "reply.shape"
      ],
      "execution_count": null,
      "outputs": [
        {
          "output_type": "execute_result",
          "data": {
            "text/plain": [
              "torch.Size([2, 2])"
            ]
          },
          "metadata": {
            "tags": []
          },
          "execution_count": 10
        }
      ]
    },
    {
      "cell_type": "code",
      "metadata": {
        "id": "oEdrXQEvMJwI",
        "outputId": "b75cc3a4-b291-440e-9321-1083e9bd102c",
        "colab": {
          "base_uri": "https://localhost:8080/",
          "height": 136
        }
      },
      "source": [
        "reshape = reply.view(1,4)\n",
        "print(reshape)\n",
        "reshape = reply.view(4,1)\n",
        "print(reshape)\n",
        "reshape = reply.view(2,2)\n",
        "print(reshape)"
      ],
      "execution_count": null,
      "outputs": [
        {
          "output_type": "stream",
          "text": [
            "tensor([[0.7467, 0.4524, 1.0230, 0.8162]])\n",
            "tensor([[0.7467],\n",
            "        [0.4524],\n",
            "        [1.0230],\n",
            "        [0.8162]])\n",
            "tensor([[0.7467, 0.4524],\n",
            "        [1.0230, 0.8162]])\n"
          ],
          "name": "stdout"
        }
      ]
    },
    {
      "cell_type": "code",
      "metadata": {
        "id": "le3FTO1MMfsR",
        "outputId": "393b5937-f124-4c70-c56c-f0833e23f652",
        "colab": {
          "base_uri": "https://localhost:8080/",
          "height": 119
        }
      },
      "source": [
        "points = torch.tensor([[1.0,2.0],[3.0,4.0],[5.0,6.0]])\n",
        "print(points)\n",
        "points[0][1] = 2.5\n",
        "print(points)"
      ],
      "execution_count": null,
      "outputs": [
        {
          "output_type": "stream",
          "text": [
            "tensor([[1., 2.],\n",
            "        [3., 4.],\n",
            "        [5., 6.]])\n",
            "tensor([[1.0000, 2.5000],\n",
            "        [3.0000, 4.0000],\n",
            "        [5.0000, 6.0000]])\n"
          ],
          "name": "stdout"
        }
      ]
    },
    {
      "cell_type": "code",
      "metadata": {
        "id": "EyELb2nGNI8j",
        "outputId": "6ffa8c56-7a05-44e4-9455-dc24126100cd",
        "colab": {
          "base_uri": "https://localhost:8080/",
          "height": 136
        }
      },
      "source": [
        "points.storage() #de que forma se esta guardado, o almacenando"
      ],
      "execution_count": null,
      "outputs": [
        {
          "output_type": "execute_result",
          "data": {
            "text/plain": [
              " 1.0\n",
              " 2.5\n",
              " 3.0\n",
              " 4.0\n",
              " 5.0\n",
              " 6.0\n",
              "[torch.FloatStorage of size 6]"
            ]
          },
          "metadata": {
            "tags": []
          },
          "execution_count": 28
        }
      ]
    },
    {
      "cell_type": "code",
      "metadata": {
        "id": "KPNwGyy_NjhK",
        "outputId": "f92127f2-9ef7-45aa-c5cb-bade59e1cdf9",
        "colab": {
          "base_uri": "https://localhost:8080/",
          "height": 68
        }
      },
      "source": [
        "points, points.stride() #(paso horizontal, paso vertical)\n",
        "# paso horizontal: para llegar al 3 necesitamos 2 pasos, vetical: 1 paso."
      ],
      "execution_count": null,
      "outputs": [
        {
          "output_type": "execute_result",
          "data": {
            "text/plain": [
              "(tensor([[1.0000, 2.5000],\n",
              "         [3.0000, 4.0000],\n",
              "         [5.0000, 6.0000]]), (2, 1))"
            ]
          },
          "metadata": {
            "tags": []
          },
          "execution_count": 29
        }
      ]
    },
    {
      "cell_type": "code",
      "metadata": {
        "id": "gWBvzX65OlzZ",
        "outputId": "2fafde2f-42a4-438a-ea8b-a810c33954eb",
        "colab": {
          "base_uri": "https://localhost:8080/",
          "height": 153
        }
      },
      "source": [
        "p_t = points.t() # matriz transpuesta\n",
        "p_t, p_t.storage(), p_t.stride() # lo mismo que la anterior\n",
        "# paso horizontal: para llegar al 3 necesitamos 1 paso, vetical: y 2 pasos verticalmente."
      ],
      "execution_count": null,
      "outputs": [
        {
          "output_type": "execute_result",
          "data": {
            "text/plain": [
              "(tensor([[1.0000, 3.0000, 5.0000],\n",
              "         [2.5000, 4.0000, 6.0000]]),  1.0\n",
              "  2.5\n",
              "  3.0\n",
              "  4.0\n",
              "  5.0\n",
              "  6.0\n",
              " [torch.FloatStorage of size 6], (1, 2))"
            ]
          },
          "metadata": {
            "tags": []
          },
          "execution_count": 45
        }
      ]
    },
    {
      "cell_type": "code",
      "metadata": {
        "id": "HuNoGY9_Pa6l",
        "outputId": "d77b5a2a-2c7d-4705-e6cd-7eb2e090ee82",
        "colab": {
          "base_uri": "https://localhost:8080/",
          "height": 85
        }
      },
      "source": [
        "tensor_x = torch.tensor([1,2,3,4])\n",
        "tensor_x, torch.unsqueeze(tensor_x,0), torch.unsqueeze(tensor_x,1) #exprime, encapcula mas a los elementos"
      ],
      "execution_count": null,
      "outputs": [
        {
          "output_type": "execute_result",
          "data": {
            "text/plain": [
              "(tensor([1, 2, 3, 4]), tensor([[1, 2, 3, 4]]), tensor([[1],\n",
              "         [2],\n",
              "         [3],\n",
              "         [4]]))"
            ]
          },
          "metadata": {
            "tags": []
          },
          "execution_count": 39
        }
      ]
    },
    {
      "cell_type": "code",
      "metadata": {
        "id": "VM4H-NczQJUS",
        "outputId": "8f9d21d7-bba6-43d5-942b-0d0b74003e0d",
        "colab": {
          "base_uri": "https://localhost:8080/",
          "height": 68
        }
      },
      "source": [
        "import numpy as np\n",
        "Array_np = np.random.rand(2,2)\n",
        "Array_torch = torch.from_numpy(Array_np)\n",
        "Array_np, '\\n', Array_torch"
      ],
      "execution_count": null,
      "outputs": [
        {
          "output_type": "execute_result",
          "data": {
            "text/plain": [
              "(array([[0.19635973, 0.47030977],\n",
              "        [0.87992607, 0.42576284]]), '\\n', tensor([[0.1964, 0.4703],\n",
              "         [0.8799, 0.4258]], dtype=torch.float64))"
            ]
          },
          "metadata": {
            "tags": []
          },
          "execution_count": 46
        }
      ]
    },
    {
      "cell_type": "markdown",
      "metadata": {
        "id": "H1iSa59ejfYF"
      },
      "source": [
        "# Representando datasets con tensores\n",
        "\n",
        "---\n",
        "\n"
      ]
    },
    {
      "cell_type": "code",
      "metadata": {
        "id": "S1c9gXsljgeu",
        "outputId": "452c047f-b44c-4037-f936-1737ca17d22d",
        "colab": {
          "base_uri": "https://localhost:8080/",
          "height": 102
        }
      },
      "source": [
        "print(Array_torch)\n",
        "print(torch.mean(Array_torch))\n",
        "print(torch.mean(Array_torch, dim=0)) # con filas ejem: [1,2][3,4] => [(1+3)/2, (2+4)/2]\n",
        "print(torch.mean(Array_torch, dim=1)) # con colmnas ejem: [1,2][3,4] => [(1+2)/2, (3,4)/2]"
      ],
      "execution_count": null,
      "outputs": [
        {
          "output_type": "stream",
          "text": [
            "tensor([[0.1964, 0.4703],\n",
            "        [0.8799, 0.4258]], dtype=torch.float64)\n",
            "tensor(0.4931, dtype=torch.float64)\n",
            "tensor([0.5381, 0.4480], dtype=torch.float64)\n",
            "tensor([0.3333, 0.6528], dtype=torch.float64)\n"
          ],
          "name": "stdout"
        }
      ]
    },
    {
      "cell_type": "code",
      "metadata": {
        "id": "ZLc8mb1zoZSw",
        "outputId": "f8eeb85a-bf18-4d70-c5cf-b4998a03e161",
        "colab": {
          "base_uri": "https://localhost:8080/",
          "height": 102
        }
      },
      "source": [
        "print(Array_torch)\n",
        "print(torch.std(Array_torch))\n",
        "print(torch.std(Array_torch, dim=0))\n",
        "print(torch.std(Array_torch, dim=1)) "
      ],
      "execution_count": null,
      "outputs": [
        {
          "output_type": "stream",
          "text": [
            "tensor([[0.1964, 0.4703],\n",
            "        [0.8799, 0.4258]], dtype=torch.float64)\n",
            "tensor(0.2845, dtype=torch.float64)\n",
            "tensor([0.4834, 0.0315], dtype=torch.float64)\n",
            "tensor([0.1937, 0.3211], dtype=torch.float64)\n"
          ],
          "name": "stdout"
        }
      ]
    },
    {
      "cell_type": "code",
      "metadata": {
        "id": "JDYeXx13pm89"
      },
      "source": [
        "torch.save(Array_torch, 'tensor.t') # se crea un archivo de tipo .t"
      ],
      "execution_count": null,
      "outputs": []
    },
    {
      "cell_type": "code",
      "metadata": {
        "id": "dYlmwiJ1p64P",
        "outputId": "512b0482-e137-439b-e0b2-c1e41e58b3c5",
        "colab": {
          "base_uri": "https://localhost:8080/"
        }
      },
      "source": [
        "A = torch.load('tensor.t') # carga el doc tipo tensor\n",
        "A"
      ],
      "execution_count": null,
      "outputs": [
        {
          "output_type": "execute_result",
          "data": {
            "text/plain": [
              "tensor([[0.1964, 0.4703],\n",
              "        [0.8799, 0.4258]], dtype=torch.float64)"
            ]
          },
          "metadata": {
            "tags": []
          },
          "execution_count": 55
        }
      ]
    },
    {
      "cell_type": "code",
      "metadata": {
        "id": "7jeqVvJFqhDH",
        "outputId": "e75af5c6-7f99-4494-e118-1a8b040f44e7",
        "colab": {
          "base_uri": "https://localhost:8080/"
        }
      },
      "source": [
        "url = 'https://raw.githubusercontent.com/amanthedorkknight/fifa18-all-player-statistics/master/2019/data.csv'\n",
        "data = pd.read_csv(url)\n",
        "data.head()"
      ],
      "execution_count": null,
      "outputs": [
        {
          "output_type": "execute_result",
          "data": {
            "text/html": [
              "<div>\n",
              "<style scoped>\n",
              "    .dataframe tbody tr th:only-of-type {\n",
              "        vertical-align: middle;\n",
              "    }\n",
              "\n",
              "    .dataframe tbody tr th {\n",
              "        vertical-align: top;\n",
              "    }\n",
              "\n",
              "    .dataframe thead th {\n",
              "        text-align: right;\n",
              "    }\n",
              "</style>\n",
              "<table border=\"1\" class=\"dataframe\">\n",
              "  <thead>\n",
              "    <tr style=\"text-align: right;\">\n",
              "      <th></th>\n",
              "      <th>Unnamed: 0</th>\n",
              "      <th>ID</th>\n",
              "      <th>Name</th>\n",
              "      <th>Age</th>\n",
              "      <th>Photo</th>\n",
              "      <th>Nationality</th>\n",
              "      <th>Flag</th>\n",
              "      <th>Overall</th>\n",
              "      <th>Potential</th>\n",
              "      <th>Club</th>\n",
              "      <th>Club Logo</th>\n",
              "      <th>Value</th>\n",
              "      <th>Wage</th>\n",
              "      <th>Special</th>\n",
              "      <th>Preferred Foot</th>\n",
              "      <th>International Reputation</th>\n",
              "      <th>Weak Foot</th>\n",
              "      <th>Skill Moves</th>\n",
              "      <th>Work Rate</th>\n",
              "      <th>Body Type</th>\n",
              "      <th>Real Face</th>\n",
              "      <th>Position</th>\n",
              "      <th>Jersey Number</th>\n",
              "      <th>Joined</th>\n",
              "      <th>Loaned From</th>\n",
              "      <th>Contract Valid Until</th>\n",
              "      <th>Height</th>\n",
              "      <th>Weight</th>\n",
              "      <th>LS</th>\n",
              "      <th>ST</th>\n",
              "      <th>RS</th>\n",
              "      <th>LW</th>\n",
              "      <th>LF</th>\n",
              "      <th>CF</th>\n",
              "      <th>RF</th>\n",
              "      <th>RW</th>\n",
              "      <th>LAM</th>\n",
              "      <th>CAM</th>\n",
              "      <th>RAM</th>\n",
              "      <th>LM</th>\n",
              "      <th>...</th>\n",
              "      <th>LB</th>\n",
              "      <th>LCB</th>\n",
              "      <th>CB</th>\n",
              "      <th>RCB</th>\n",
              "      <th>RB</th>\n",
              "      <th>Crossing</th>\n",
              "      <th>Finishing</th>\n",
              "      <th>HeadingAccuracy</th>\n",
              "      <th>ShortPassing</th>\n",
              "      <th>Volleys</th>\n",
              "      <th>Dribbling</th>\n",
              "      <th>Curve</th>\n",
              "      <th>FKAccuracy</th>\n",
              "      <th>LongPassing</th>\n",
              "      <th>BallControl</th>\n",
              "      <th>Acceleration</th>\n",
              "      <th>SprintSpeed</th>\n",
              "      <th>Agility</th>\n",
              "      <th>Reactions</th>\n",
              "      <th>Balance</th>\n",
              "      <th>ShotPower</th>\n",
              "      <th>Jumping</th>\n",
              "      <th>Stamina</th>\n",
              "      <th>Strength</th>\n",
              "      <th>LongShots</th>\n",
              "      <th>Aggression</th>\n",
              "      <th>Interceptions</th>\n",
              "      <th>Positioning</th>\n",
              "      <th>Vision</th>\n",
              "      <th>Penalties</th>\n",
              "      <th>Composure</th>\n",
              "      <th>Marking</th>\n",
              "      <th>StandingTackle</th>\n",
              "      <th>SlidingTackle</th>\n",
              "      <th>GKDiving</th>\n",
              "      <th>GKHandling</th>\n",
              "      <th>GKKicking</th>\n",
              "      <th>GKPositioning</th>\n",
              "      <th>GKReflexes</th>\n",
              "      <th>Release Clause</th>\n",
              "    </tr>\n",
              "  </thead>\n",
              "  <tbody>\n",
              "    <tr>\n",
              "      <th>0</th>\n",
              "      <td>0</td>\n",
              "      <td>158023</td>\n",
              "      <td>L. Messi</td>\n",
              "      <td>31</td>\n",
              "      <td>https://cdn.sofifa.org/players/4/19/158023.png</td>\n",
              "      <td>Argentina</td>\n",
              "      <td>https://cdn.sofifa.org/flags/52.png</td>\n",
              "      <td>94</td>\n",
              "      <td>94</td>\n",
              "      <td>FC Barcelona</td>\n",
              "      <td>https://cdn.sofifa.org/teams/2/light/241.png</td>\n",
              "      <td>€110.5M</td>\n",
              "      <td>€565K</td>\n",
              "      <td>2202</td>\n",
              "      <td>Left</td>\n",
              "      <td>5.0</td>\n",
              "      <td>4.0</td>\n",
              "      <td>4.0</td>\n",
              "      <td>Medium/ Medium</td>\n",
              "      <td>Messi</td>\n",
              "      <td>Yes</td>\n",
              "      <td>RF</td>\n",
              "      <td>10.0</td>\n",
              "      <td>Jul 1, 2004</td>\n",
              "      <td>NaN</td>\n",
              "      <td>2021</td>\n",
              "      <td>5'7</td>\n",
              "      <td>159lbs</td>\n",
              "      <td>88+2</td>\n",
              "      <td>88+2</td>\n",
              "      <td>88+2</td>\n",
              "      <td>92+2</td>\n",
              "      <td>93+2</td>\n",
              "      <td>93+2</td>\n",
              "      <td>93+2</td>\n",
              "      <td>92+2</td>\n",
              "      <td>93+2</td>\n",
              "      <td>93+2</td>\n",
              "      <td>93+2</td>\n",
              "      <td>91+2</td>\n",
              "      <td>...</td>\n",
              "      <td>59+2</td>\n",
              "      <td>47+2</td>\n",
              "      <td>47+2</td>\n",
              "      <td>47+2</td>\n",
              "      <td>59+2</td>\n",
              "      <td>84.0</td>\n",
              "      <td>95.0</td>\n",
              "      <td>70.0</td>\n",
              "      <td>90.0</td>\n",
              "      <td>86.0</td>\n",
              "      <td>97.0</td>\n",
              "      <td>93.0</td>\n",
              "      <td>94.0</td>\n",
              "      <td>87.0</td>\n",
              "      <td>96.0</td>\n",
              "      <td>91.0</td>\n",
              "      <td>86.0</td>\n",
              "      <td>91.0</td>\n",
              "      <td>95.0</td>\n",
              "      <td>95.0</td>\n",
              "      <td>85.0</td>\n",
              "      <td>68.0</td>\n",
              "      <td>72.0</td>\n",
              "      <td>59.0</td>\n",
              "      <td>94.0</td>\n",
              "      <td>48.0</td>\n",
              "      <td>22.0</td>\n",
              "      <td>94.0</td>\n",
              "      <td>94.0</td>\n",
              "      <td>75.0</td>\n",
              "      <td>96.0</td>\n",
              "      <td>33.0</td>\n",
              "      <td>28.0</td>\n",
              "      <td>26.0</td>\n",
              "      <td>6.0</td>\n",
              "      <td>11.0</td>\n",
              "      <td>15.0</td>\n",
              "      <td>14.0</td>\n",
              "      <td>8.0</td>\n",
              "      <td>€226.5M</td>\n",
              "    </tr>\n",
              "    <tr>\n",
              "      <th>1</th>\n",
              "      <td>1</td>\n",
              "      <td>20801</td>\n",
              "      <td>Cristiano Ronaldo</td>\n",
              "      <td>33</td>\n",
              "      <td>https://cdn.sofifa.org/players/4/19/20801.png</td>\n",
              "      <td>Portugal</td>\n",
              "      <td>https://cdn.sofifa.org/flags/38.png</td>\n",
              "      <td>94</td>\n",
              "      <td>94</td>\n",
              "      <td>Juventus</td>\n",
              "      <td>https://cdn.sofifa.org/teams/2/light/45.png</td>\n",
              "      <td>€77M</td>\n",
              "      <td>€405K</td>\n",
              "      <td>2228</td>\n",
              "      <td>Right</td>\n",
              "      <td>5.0</td>\n",
              "      <td>4.0</td>\n",
              "      <td>5.0</td>\n",
              "      <td>High/ Low</td>\n",
              "      <td>C. Ronaldo</td>\n",
              "      <td>Yes</td>\n",
              "      <td>ST</td>\n",
              "      <td>7.0</td>\n",
              "      <td>Jul 10, 2018</td>\n",
              "      <td>NaN</td>\n",
              "      <td>2022</td>\n",
              "      <td>6'2</td>\n",
              "      <td>183lbs</td>\n",
              "      <td>91+3</td>\n",
              "      <td>91+3</td>\n",
              "      <td>91+3</td>\n",
              "      <td>89+3</td>\n",
              "      <td>90+3</td>\n",
              "      <td>90+3</td>\n",
              "      <td>90+3</td>\n",
              "      <td>89+3</td>\n",
              "      <td>88+3</td>\n",
              "      <td>88+3</td>\n",
              "      <td>88+3</td>\n",
              "      <td>88+3</td>\n",
              "      <td>...</td>\n",
              "      <td>61+3</td>\n",
              "      <td>53+3</td>\n",
              "      <td>53+3</td>\n",
              "      <td>53+3</td>\n",
              "      <td>61+3</td>\n",
              "      <td>84.0</td>\n",
              "      <td>94.0</td>\n",
              "      <td>89.0</td>\n",
              "      <td>81.0</td>\n",
              "      <td>87.0</td>\n",
              "      <td>88.0</td>\n",
              "      <td>81.0</td>\n",
              "      <td>76.0</td>\n",
              "      <td>77.0</td>\n",
              "      <td>94.0</td>\n",
              "      <td>89.0</td>\n",
              "      <td>91.0</td>\n",
              "      <td>87.0</td>\n",
              "      <td>96.0</td>\n",
              "      <td>70.0</td>\n",
              "      <td>95.0</td>\n",
              "      <td>95.0</td>\n",
              "      <td>88.0</td>\n",
              "      <td>79.0</td>\n",
              "      <td>93.0</td>\n",
              "      <td>63.0</td>\n",
              "      <td>29.0</td>\n",
              "      <td>95.0</td>\n",
              "      <td>82.0</td>\n",
              "      <td>85.0</td>\n",
              "      <td>95.0</td>\n",
              "      <td>28.0</td>\n",
              "      <td>31.0</td>\n",
              "      <td>23.0</td>\n",
              "      <td>7.0</td>\n",
              "      <td>11.0</td>\n",
              "      <td>15.0</td>\n",
              "      <td>14.0</td>\n",
              "      <td>11.0</td>\n",
              "      <td>€127.1M</td>\n",
              "    </tr>\n",
              "    <tr>\n",
              "      <th>2</th>\n",
              "      <td>2</td>\n",
              "      <td>190871</td>\n",
              "      <td>Neymar Jr</td>\n",
              "      <td>26</td>\n",
              "      <td>https://cdn.sofifa.org/players/4/19/190871.png</td>\n",
              "      <td>Brazil</td>\n",
              "      <td>https://cdn.sofifa.org/flags/54.png</td>\n",
              "      <td>92</td>\n",
              "      <td>93</td>\n",
              "      <td>Paris Saint-Germain</td>\n",
              "      <td>https://cdn.sofifa.org/teams/2/light/73.png</td>\n",
              "      <td>€118.5M</td>\n",
              "      <td>€290K</td>\n",
              "      <td>2143</td>\n",
              "      <td>Right</td>\n",
              "      <td>5.0</td>\n",
              "      <td>5.0</td>\n",
              "      <td>5.0</td>\n",
              "      <td>High/ Medium</td>\n",
              "      <td>Neymar</td>\n",
              "      <td>Yes</td>\n",
              "      <td>LW</td>\n",
              "      <td>10.0</td>\n",
              "      <td>Aug 3, 2017</td>\n",
              "      <td>NaN</td>\n",
              "      <td>2022</td>\n",
              "      <td>5'9</td>\n",
              "      <td>150lbs</td>\n",
              "      <td>84+3</td>\n",
              "      <td>84+3</td>\n",
              "      <td>84+3</td>\n",
              "      <td>89+3</td>\n",
              "      <td>89+3</td>\n",
              "      <td>89+3</td>\n",
              "      <td>89+3</td>\n",
              "      <td>89+3</td>\n",
              "      <td>89+3</td>\n",
              "      <td>89+3</td>\n",
              "      <td>89+3</td>\n",
              "      <td>88+3</td>\n",
              "      <td>...</td>\n",
              "      <td>60+3</td>\n",
              "      <td>47+3</td>\n",
              "      <td>47+3</td>\n",
              "      <td>47+3</td>\n",
              "      <td>60+3</td>\n",
              "      <td>79.0</td>\n",
              "      <td>87.0</td>\n",
              "      <td>62.0</td>\n",
              "      <td>84.0</td>\n",
              "      <td>84.0</td>\n",
              "      <td>96.0</td>\n",
              "      <td>88.0</td>\n",
              "      <td>87.0</td>\n",
              "      <td>78.0</td>\n",
              "      <td>95.0</td>\n",
              "      <td>94.0</td>\n",
              "      <td>90.0</td>\n",
              "      <td>96.0</td>\n",
              "      <td>94.0</td>\n",
              "      <td>84.0</td>\n",
              "      <td>80.0</td>\n",
              "      <td>61.0</td>\n",
              "      <td>81.0</td>\n",
              "      <td>49.0</td>\n",
              "      <td>82.0</td>\n",
              "      <td>56.0</td>\n",
              "      <td>36.0</td>\n",
              "      <td>89.0</td>\n",
              "      <td>87.0</td>\n",
              "      <td>81.0</td>\n",
              "      <td>94.0</td>\n",
              "      <td>27.0</td>\n",
              "      <td>24.0</td>\n",
              "      <td>33.0</td>\n",
              "      <td>9.0</td>\n",
              "      <td>9.0</td>\n",
              "      <td>15.0</td>\n",
              "      <td>15.0</td>\n",
              "      <td>11.0</td>\n",
              "      <td>€228.1M</td>\n",
              "    </tr>\n",
              "    <tr>\n",
              "      <th>3</th>\n",
              "      <td>3</td>\n",
              "      <td>193080</td>\n",
              "      <td>De Gea</td>\n",
              "      <td>27</td>\n",
              "      <td>https://cdn.sofifa.org/players/4/19/193080.png</td>\n",
              "      <td>Spain</td>\n",
              "      <td>https://cdn.sofifa.org/flags/45.png</td>\n",
              "      <td>91</td>\n",
              "      <td>93</td>\n",
              "      <td>Manchester United</td>\n",
              "      <td>https://cdn.sofifa.org/teams/2/light/11.png</td>\n",
              "      <td>€72M</td>\n",
              "      <td>€260K</td>\n",
              "      <td>1471</td>\n",
              "      <td>Right</td>\n",
              "      <td>4.0</td>\n",
              "      <td>3.0</td>\n",
              "      <td>1.0</td>\n",
              "      <td>Medium/ Medium</td>\n",
              "      <td>Lean</td>\n",
              "      <td>Yes</td>\n",
              "      <td>GK</td>\n",
              "      <td>1.0</td>\n",
              "      <td>Jul 1, 2011</td>\n",
              "      <td>NaN</td>\n",
              "      <td>2020</td>\n",
              "      <td>6'4</td>\n",
              "      <td>168lbs</td>\n",
              "      <td>NaN</td>\n",
              "      <td>NaN</td>\n",
              "      <td>NaN</td>\n",
              "      <td>NaN</td>\n",
              "      <td>NaN</td>\n",
              "      <td>NaN</td>\n",
              "      <td>NaN</td>\n",
              "      <td>NaN</td>\n",
              "      <td>NaN</td>\n",
              "      <td>NaN</td>\n",
              "      <td>NaN</td>\n",
              "      <td>NaN</td>\n",
              "      <td>...</td>\n",
              "      <td>NaN</td>\n",
              "      <td>NaN</td>\n",
              "      <td>NaN</td>\n",
              "      <td>NaN</td>\n",
              "      <td>NaN</td>\n",
              "      <td>17.0</td>\n",
              "      <td>13.0</td>\n",
              "      <td>21.0</td>\n",
              "      <td>50.0</td>\n",
              "      <td>13.0</td>\n",
              "      <td>18.0</td>\n",
              "      <td>21.0</td>\n",
              "      <td>19.0</td>\n",
              "      <td>51.0</td>\n",
              "      <td>42.0</td>\n",
              "      <td>57.0</td>\n",
              "      <td>58.0</td>\n",
              "      <td>60.0</td>\n",
              "      <td>90.0</td>\n",
              "      <td>43.0</td>\n",
              "      <td>31.0</td>\n",
              "      <td>67.0</td>\n",
              "      <td>43.0</td>\n",
              "      <td>64.0</td>\n",
              "      <td>12.0</td>\n",
              "      <td>38.0</td>\n",
              "      <td>30.0</td>\n",
              "      <td>12.0</td>\n",
              "      <td>68.0</td>\n",
              "      <td>40.0</td>\n",
              "      <td>68.0</td>\n",
              "      <td>15.0</td>\n",
              "      <td>21.0</td>\n",
              "      <td>13.0</td>\n",
              "      <td>90.0</td>\n",
              "      <td>85.0</td>\n",
              "      <td>87.0</td>\n",
              "      <td>88.0</td>\n",
              "      <td>94.0</td>\n",
              "      <td>€138.6M</td>\n",
              "    </tr>\n",
              "    <tr>\n",
              "      <th>4</th>\n",
              "      <td>4</td>\n",
              "      <td>192985</td>\n",
              "      <td>K. De Bruyne</td>\n",
              "      <td>27</td>\n",
              "      <td>https://cdn.sofifa.org/players/4/19/192985.png</td>\n",
              "      <td>Belgium</td>\n",
              "      <td>https://cdn.sofifa.org/flags/7.png</td>\n",
              "      <td>91</td>\n",
              "      <td>92</td>\n",
              "      <td>Manchester City</td>\n",
              "      <td>https://cdn.sofifa.org/teams/2/light/10.png</td>\n",
              "      <td>€102M</td>\n",
              "      <td>€355K</td>\n",
              "      <td>2281</td>\n",
              "      <td>Right</td>\n",
              "      <td>4.0</td>\n",
              "      <td>5.0</td>\n",
              "      <td>4.0</td>\n",
              "      <td>High/ High</td>\n",
              "      <td>Normal</td>\n",
              "      <td>Yes</td>\n",
              "      <td>RCM</td>\n",
              "      <td>7.0</td>\n",
              "      <td>Aug 30, 2015</td>\n",
              "      <td>NaN</td>\n",
              "      <td>2023</td>\n",
              "      <td>5'11</td>\n",
              "      <td>154lbs</td>\n",
              "      <td>82+3</td>\n",
              "      <td>82+3</td>\n",
              "      <td>82+3</td>\n",
              "      <td>87+3</td>\n",
              "      <td>87+3</td>\n",
              "      <td>87+3</td>\n",
              "      <td>87+3</td>\n",
              "      <td>87+3</td>\n",
              "      <td>88+3</td>\n",
              "      <td>88+3</td>\n",
              "      <td>88+3</td>\n",
              "      <td>88+3</td>\n",
              "      <td>...</td>\n",
              "      <td>73+3</td>\n",
              "      <td>66+3</td>\n",
              "      <td>66+3</td>\n",
              "      <td>66+3</td>\n",
              "      <td>73+3</td>\n",
              "      <td>93.0</td>\n",
              "      <td>82.0</td>\n",
              "      <td>55.0</td>\n",
              "      <td>92.0</td>\n",
              "      <td>82.0</td>\n",
              "      <td>86.0</td>\n",
              "      <td>85.0</td>\n",
              "      <td>83.0</td>\n",
              "      <td>91.0</td>\n",
              "      <td>91.0</td>\n",
              "      <td>78.0</td>\n",
              "      <td>76.0</td>\n",
              "      <td>79.0</td>\n",
              "      <td>91.0</td>\n",
              "      <td>77.0</td>\n",
              "      <td>91.0</td>\n",
              "      <td>63.0</td>\n",
              "      <td>90.0</td>\n",
              "      <td>75.0</td>\n",
              "      <td>91.0</td>\n",
              "      <td>76.0</td>\n",
              "      <td>61.0</td>\n",
              "      <td>87.0</td>\n",
              "      <td>94.0</td>\n",
              "      <td>79.0</td>\n",
              "      <td>88.0</td>\n",
              "      <td>68.0</td>\n",
              "      <td>58.0</td>\n",
              "      <td>51.0</td>\n",
              "      <td>15.0</td>\n",
              "      <td>13.0</td>\n",
              "      <td>5.0</td>\n",
              "      <td>10.0</td>\n",
              "      <td>13.0</td>\n",
              "      <td>€196.4M</td>\n",
              "    </tr>\n",
              "  </tbody>\n",
              "</table>\n",
              "<p>5 rows × 89 columns</p>\n",
              "</div>"
            ],
            "text/plain": [
              "   Unnamed: 0      ID  ... GKReflexes  Release Clause\n",
              "0           0  158023  ...        8.0         €226.5M\n",
              "1           1   20801  ...       11.0         €127.1M\n",
              "2           2  190871  ...       11.0         €228.1M\n",
              "3           3  193080  ...       94.0         €138.6M\n",
              "4           4  192985  ...       13.0         €196.4M\n",
              "\n",
              "[5 rows x 89 columns]"
            ]
          },
          "metadata": {
            "tags": []
          },
          "execution_count": 78
        }
      ]
    },
    {
      "cell_type": "code",
      "metadata": {
        "id": "y1xXulMWsCZv",
        "outputId": "5a321f50-b805-447e-f1cb-45803c474de5",
        "colab": {
          "base_uri": "https://localhost:8080/"
        }
      },
      "source": [
        "data.columns"
      ],
      "execution_count": null,
      "outputs": [
        {
          "output_type": "execute_result",
          "data": {
            "text/plain": [
              "Index(['Unnamed: 0', 'ID', 'Name', 'Age', 'Photo', 'Nationality', 'Flag',\n",
              "       'Overall', 'Potential', 'Club', 'Club Logo', 'Value', 'Wage', 'Special',\n",
              "       'Preferred Foot', 'International Reputation', 'Weak Foot',\n",
              "       'Skill Moves', 'Work Rate', 'Body Type', 'Real Face', 'Position',\n",
              "       'Jersey Number', 'Joined', 'Loaned From', 'Contract Valid Until',\n",
              "       'Height', 'Weight', 'LS', 'ST', 'RS', 'LW', 'LF', 'CF', 'RF', 'RW',\n",
              "       'LAM', 'CAM', 'RAM', 'LM', 'LCM', 'CM', 'RCM', 'RM', 'LWB', 'LDM',\n",
              "       'CDM', 'RDM', 'RWB', 'LB', 'LCB', 'CB', 'RCB', 'RB', 'Crossing',\n",
              "       'Finishing', 'HeadingAccuracy', 'ShortPassing', 'Volleys', 'Dribbling',\n",
              "       'Curve', 'FKAccuracy', 'LongPassing', 'BallControl', 'Acceleration',\n",
              "       'SprintSpeed', 'Agility', 'Reactions', 'Balance', 'ShotPower',\n",
              "       'Jumping', 'Stamina', 'Strength', 'LongShots', 'Aggression',\n",
              "       'Interceptions', 'Positioning', 'Vision', 'Penalties', 'Composure',\n",
              "       'Marking', 'StandingTackle', 'SlidingTackle', 'GKDiving', 'GKHandling',\n",
              "       'GKKicking', 'GKPositioning', 'GKReflexes', 'Release Clause'],\n",
              "      dtype='object')"
            ]
          },
          "metadata": {
            "tags": []
          },
          "execution_count": 79
        }
      ]
    },
    {
      "cell_type": "code",
      "metadata": {
        "id": "RQSbx_OtsE2L",
        "outputId": "83d62924-191d-4b5b-96d5-74c8ed54446e",
        "colab": {
          "base_uri": "https://localhost:8080/"
        }
      },
      "source": [
        "subset = data[['Overall','Age','International Reputation', 'Weak Foot','Skill Moves']].dropna(axis=0,how='any') \n",
        "# dropna: solo nos retornara los valores q no esten vacios, axis: eje filas o columnas, how: any cualquiera kick, o all si todos son nan kick.\n",
        "columns = subset.columns[1:]\n",
        "players = torch.tensor(subset.values).float()\n",
        "players.shape, players.type()"
      ],
      "execution_count": null,
      "outputs": [
        {
          "output_type": "execute_result",
          "data": {
            "text/plain": [
              "(torch.Size([18159, 5]), 'torch.FloatTensor')"
            ]
          },
          "metadata": {
            "tags": []
          },
          "execution_count": 80
        }
      ]
    },
    {
      "cell_type": "code",
      "metadata": {
        "id": "NDFhsY9MuQ8J",
        "outputId": "6d2c9429-964e-40b2-9a00-14f834fd9ef6",
        "colab": {
          "base_uri": "https://localhost:8080/"
        }
      },
      "source": [
        "data = players[:,1:]\n",
        "data, data.shape"
      ],
      "execution_count": null,
      "outputs": [
        {
          "output_type": "execute_result",
          "data": {
            "text/plain": [
              "(tensor([[31.,  5.,  4.,  4.],\n",
              "         [33.,  5.,  4.,  5.],\n",
              "         [26.,  5.,  5.,  5.],\n",
              "         ...,\n",
              "         [16.,  1.,  3.,  2.],\n",
              "         [17.,  1.,  3.,  2.],\n",
              "         [16.,  1.,  3.,  2.]]), torch.Size([18159, 4]))"
            ]
          },
          "metadata": {
            "tags": []
          },
          "execution_count": 81
        }
      ]
    },
    {
      "cell_type": "code",
      "metadata": {
        "id": "j3q7xc_JvDLO",
        "outputId": "c6073337-711b-4f52-de80-54ce466a5770",
        "colab": {
          "base_uri": "https://localhost:8080/"
        }
      },
      "source": [
        "target = players[:,0]\n",
        "target, target.shape"
      ],
      "execution_count": null,
      "outputs": [
        {
          "output_type": "execute_result",
          "data": {
            "text/plain": [
              "(tensor([94., 94., 92.,  ..., 47., 47., 46.]), torch.Size([18159]))"
            ]
          },
          "metadata": {
            "tags": []
          },
          "execution_count": 82
        }
      ]
    },
    {
      "cell_type": "code",
      "metadata": {
        "id": "MC4jFZC7vo_F",
        "outputId": "0166a289-7841-4d9b-869c-e71a87e5a132",
        "colab": {
          "base_uri": "https://localhost:8080/"
        }
      },
      "source": [
        "mean = torch.mean(data,dim=0)\n",
        "columns, mean"
      ],
      "execution_count": null,
      "outputs": [
        {
          "output_type": "execute_result",
          "data": {
            "text/plain": [
              "(Index(['Age', 'International Reputation', 'Weak Foot', 'Skill Moves'], dtype='object'),\n",
              " tensor([25.1225,  1.1132,  2.9473,  2.3613]))"
            ]
          },
          "metadata": {
            "tags": []
          },
          "execution_count": 83
        }
      ]
    },
    {
      "cell_type": "code",
      "metadata": {
        "id": "eCv4ncvkxQLO",
        "outputId": "9f160dbf-4a78-4f32-95d6-6d20cad1c055",
        "colab": {
          "base_uri": "https://localhost:8080/"
        }
      },
      "source": [
        "std = torch.std(data,dim=0)\n",
        "columns, std"
      ],
      "execution_count": null,
      "outputs": [
        {
          "output_type": "execute_result",
          "data": {
            "text/plain": [
              "(Index(['Age', 'International Reputation', 'Weak Foot', 'Skill Moves'], dtype='object'),\n",
              " tensor([4.6706, 0.3940, 0.6605, 0.7562]))"
            ]
          },
          "metadata": {
            "tags": []
          },
          "execution_count": 84
        }
      ]
    },
    {
      "cell_type": "code",
      "metadata": {
        "id": "S5Q3XH_E0hRc",
        "outputId": "6b4d5bc0-44f3-41b0-bf59-6f2e4585136e",
        "colab": {
          "base_uri": "https://localhost:8080/"
        }
      },
      "source": [
        "norm = (data - mean) / std\n",
        "norm"
      ],
      "execution_count": null,
      "outputs": [
        {
          "output_type": "execute_result",
          "data": {
            "text/plain": [
              "tensor([[ 1.2584,  9.8641,  1.5939,  2.1671],\n",
              "        [ 1.6866,  9.8641,  1.5939,  3.4896],\n",
              "        [ 0.1879,  9.8641,  3.1080,  3.4896],\n",
              "        ...,\n",
              "        [-1.9532, -0.2873,  0.0798, -0.4778],\n",
              "        [-1.7391, -0.2873,  0.0798, -0.4778],\n",
              "        [-1.9532, -0.2873,  0.0798, -0.4778]])"
            ]
          },
          "metadata": {
            "tags": []
          },
          "execution_count": 145
        }
      ]
    },
    {
      "cell_type": "code",
      "metadata": {
        "id": "qEZ9eGSp2yN0",
        "outputId": "6f0e1327-ca02-4db9-e82d-7c581772fb68",
        "colab": {
          "base_uri": "https://localhost:8080/",
          "height": 102
        }
      },
      "source": [
        "Good = data[torch.ge(target,85)]\n",
        "Average = data[torch.gt(target, 70) & torch.lt(target,85)]\n",
        "NotSoGood = data[torch.lt(target,70)]\n",
        "\n",
        "mean_G = torch.mean(Good,dim=0)\n",
        "mean_A = torch.mean(Average,dim=0)\n",
        "mean_N = torch.mean(NotSoGood,dim=0)\n",
        "\n",
        "aea = ['good','average','NotSoGood']\n",
        "title = ['data']\n",
        "\n",
        "print(' | {:25} | {:8} {:8} {:8} |'.format('data','good','average','NotSoGood'))\n",
        "\n",
        "for i,args in enumerate(zip(colums,mean_G,mean_A,mean_N)):\n",
        "  print(' | {:25} | {:8.2f} {:8.2f} {:8.2f} |'.format(*args))"
      ],
      "execution_count": null,
      "outputs": [
        {
          "output_type": "stream",
          "text": [
            " | data                      | good     average  NotSoGood |\n",
            " | Age                       |    28.35    27.23    24.19 |\n",
            " | International Reputation  |     3.38     1.36     1.01 |\n",
            " | Weak Foot                 |     3.45     3.11     2.88 |\n",
            " | Skill Moves               |     3.04     2.75     2.20 |\n"
          ],
          "name": "stdout"
        }
      ]
    },
    {
      "cell_type": "markdown",
      "metadata": {
        "id": "gg6NStMoF5Uz"
      },
      "source": [
        "# Implementación de regresión lineal en Pytorch, Regresión logística, Implementación de regresión logística en Pytorch\n",
        "\n",
        "---\n",
        "\n"
      ]
    },
    {
      "cell_type": "code",
      "metadata": {
        "id": "rn1t4HvdL7b1"
      },
      "source": [
        "import torch \n",
        "import numpy as np\n",
        "import torch.nn as nn\n",
        "import torch.optim as optim\n",
        "import matplotlib.pyplot as plt"
      ],
      "execution_count": null,
      "outputs": []
    },
    {
      "cell_type": "code",
      "metadata": {
        "id": "87xXAqCcTTn0",
        "outputId": "fb6cc9ec-dde7-47ac-95ba-c3d1a9c640a2",
        "colab": {
          "base_uri": "https://localhost:8080/",
          "height": 265
        }
      },
      "source": [
        "car_prices = torch.tensor([5,6,7,8,9,10])\n",
        "units_sold = torch.tensor([8.5,8,7.5,7.0,6.5,6.0])\n",
        "\n",
        "plt.scatter(car_prices,units_sold)\n",
        "plt.show()"
      ],
      "execution_count": null,
      "outputs": [
        {
          "output_type": "display_data",
          "data": {
            "image/png": "[encoded data removed]",
            "text/plain": [
              "<Figure size 432x288 with 1 Axes>"
            ]
          },
          "metadata": {
            "tags": [],
            "needs_background": "light"
          }
        }
      ]
    },
    {
      "cell_type": "code",
      "metadata": {
        "id": "JnucTjQB3Mtx",
        "outputId": "acefd668-f1d7-4c07-b542-d2803929563a",
        "colab": {
          "base_uri": "https://localhost:8080/",
          "height": 204
        }
      },
      "source": [
        "prices_array = np.array(car_prices).reshape(-1,1)\n",
        "units_array = np.array(units_sold).reshape(-1,1)\n",
        "prices_array, units_array"
      ],
      "execution_count": null,
      "outputs": [
        {
          "output_type": "execute_result",
          "data": {
            "text/plain": [
              "(array([[ 5],\n",
              "        [ 6],\n",
              "        [ 7],\n",
              "        [ 8],\n",
              "        [ 9],\n",
              "        [10]]), array([[8.5],\n",
              "        [8. ],\n",
              "        [7.5],\n",
              "        [7. ],\n",
              "        [6.5],\n",
              "        [6. ]], dtype=float32))"
            ]
          },
          "metadata": {
            "tags": []
          },
          "execution_count": 29
        }
      ]
    },
    {
      "cell_type": "code",
      "metadata": {
        "id": "PV70AitV3nv6",
        "outputId": "e564b017-9021-4920-e516-d44bfbbdacd8",
        "colab": {
          "base_uri": "https://localhost:8080/",
          "height": 204
        }
      },
      "source": [
        "prices = torch.from_numpy(prices_array).float().requires_grad_(True) # los features\n",
        "units = torch.from_numpy(units_array).float().requires_grad_(True) # las etiquetas\n",
        "prices,units"
      ],
      "execution_count": null,
      "outputs": [
        {
          "output_type": "execute_result",
          "data": {
            "text/plain": [
              "(tensor([[ 5.],\n",
              "         [ 6.],\n",
              "         [ 7.],\n",
              "         [ 8.],\n",
              "         [ 9.],\n",
              "         [10.]], requires_grad=True), tensor([[8.5000],\n",
              "         [8.0000],\n",
              "         [7.5000],\n",
              "         [7.0000],\n",
              "         [6.5000],\n",
              "         [6.0000]], requires_grad=True))"
            ]
          },
          "metadata": {
            "tags": []
          },
          "execution_count": 30
        }
      ]
    },
    {
      "cell_type": "code",
      "metadata": {
        "id": "Ae3mneix4qfr",
        "outputId": "4064deda-edbd-49e5-8ca1-ff3647e8d61a",
        "colab": {
          "base_uri": "https://localhost:8080/",
          "height": 282
        }
      },
      "source": [
        "model = nn.Linear(1,1) # modelo de regresion linear, de entrrada 1 y salida 1\n",
        "\n",
        "loss_function = nn.MSELoss() # funcion de perdida suma de los cuadrados segun el error\n",
        "\n",
        "optimizer = optim.SGD(model.parameters(), lr= 0.015) # stocastick gradient descent, de como puede hallar la ruta con menos error\n",
        "\n",
        "losses = []\n",
        "iterations = 2000\n",
        "\n",
        "for i in range(iterations):\n",
        "  pred = model(prices) # retorna las predicciones\n",
        "  loss = loss_function(pred, units)  # calculas las predicciones con los datos verdaderos y saca su error\n",
        "  losses.append(loss.data)\n",
        "\n",
        "  optimizer.zero_grad() # esto hace que las gradientes no se acumulen, para que cada iteracion se reinicie y pueda hacer backpropagation\n",
        "  loss.backward() # hace que pueda ver los errores anteriores\n",
        "  optimizer.step() # avanza hacia la direccion de la gradiente segun el minimo.\n",
        "\n",
        "print('error: ',float(loss))\n",
        "plt.plot(range(iterations), losses)\n",
        "plt.show()"
      ],
      "execution_count": null,
      "outputs": [
        {
          "output_type": "stream",
          "text": [
            "error:  0.020091021433472633\n"
          ],
          "name": "stdout"
        },
        {
          "output_type": "display_data",
          "data": {
            "image/png": "[encoded data removed]",
            "text/plain": [
              "<Figure size 432x288 with 1 Axes>"
            ]
          },
          "metadata": {
            "tags": [],
            "needs_background": "light"
          }
        }
      ]
    },
    {
      "cell_type": "code",
      "metadata": {
        "id": "mCp1tv6dBoWv",
        "outputId": "2f2a72c9-2cd1-482d-9fb7-3ceba238d4ac",
        "colab": {
          "base_uri": "https://localhost:8080/",
          "height": 34
        }
      },
      "source": [
        "# Hora de la prueba:\n",
        "x = torch.tensor([[19.3]]) # precio de mi producto\n",
        "p = model(x) # prediccion\n",
        "p # estadistica de unidades vendidas"
      ],
      "execution_count": null,
      "outputs": [
        {
          "output_type": "execute_result",
          "data": {
            "text/plain": [
              "tensor([[2.2734]], grad_fn=<AddmmBackward>)"
            ]
          },
          "metadata": {
            "tags": []
          },
          "execution_count": 43
        }
      ]
    },
    {
      "cell_type": "markdown",
      "metadata": {
        "id": "aZJsjWRbZvG_"
      },
      "source": [
        "**Regresión logística**\n",
        "\n",
        "---\n",
        "En resumen la Regresión Logística consiste en:\n",
        "\n",
        "1. Cuando el problema es de clasificación, donde el resultado es una categoría binaria o más, su salida es clasificada como probabilidad y esta se soluciona con regresión logística.\n",
        "\n",
        "2. Por lo tanto, siendo probabilidad, se debe garantizar un valor de salida entre 0 y 1. Para lograr dicho resultado se utiliza la la función “Sigmoide”(muy buena en categorías binarias). Si la clasificación tiene un numero mayor de parámetros se utilizara la función softmax.\n",
        "\n",
        "3. Perdida (Loss): Binary Cross Entropy / Log Loss (Función logaritmo). El error loss nos basamos en la entropía."
      ]
    },
    {
      "cell_type": "code",
      "metadata": {
        "id": "N7ultkvAiMvl"
      },
      "source": [
        "import numpy as np\n",
        "import matplotlib.pyplot as plt\n",
        "import torch\n",
        "import torch.nn as nn\n",
        "import torch.optim as optim"
      ],
      "execution_count": null,
      "outputs": []
    },
    {
      "cell_type": "code",
      "metadata": {
        "id": "fl0uKgVonU_S"
      },
      "source": [
        "n = 100\n",
        "h = n//2\n",
        "dimen = 2\n",
        "\n",
        "data = np.random.randn(n,dimen)*3\n",
        "data"
      ],
      "execution_count": null,
      "outputs": []
    },
    {
      "cell_type": "code",
      "metadata": {
        "id": "aulflHU5nnQq",
        "outputId": "7489ec10-97ac-4573-9a89-a989b4e11440",
        "colab": {
          "base_uri": "https://localhost:8080/",
          "height": 265
        }
      },
      "source": [
        "plt.scatter(data[:,0],data[:,1])\n",
        "plt.show()"
      ],
      "execution_count": null,
      "outputs": [
        {
          "output_type": "display_data",
          "data": {
            "image/png": "[encoded data removed]",
            "text/plain": [
              "<Figure size 432x288 with 1 Axes>"
            ]
          },
          "metadata": {
            "tags": [],
            "needs_background": "light"
          }
        }
      ]
    },
    {
      "cell_type": "code",
      "metadata": {
        "id": "CwX-couCn3j2"
      },
      "source": [
        "data[:h, :] = data[:h, :] - 3*np.ones((h,dimen))\n",
        "data[h:, :] = data[h:, :] + 3*np.ones((h,dimen))"
      ],
      "execution_count": null,
      "outputs": []
    },
    {
      "cell_type": "code",
      "metadata": {
        "id": "3GLGq0WIpP4e",
        "outputId": "7b131614-c72f-4d59-b42e-d38811555593",
        "colab": {
          "base_uri": "https://localhost:8080/",
          "height": 265
        }
      },
      "source": [
        "colors = ['blue','red']\n",
        "color =np.array([colors[0]]*h + [colors[1]]*h)\n",
        "plt.scatter(data[:,0],data[:,1],c=color,s=75,alpha=0.6) #s =tamaño de los puntos, alpha=difuminacion\n",
        "plt.show()"
      ],
      "execution_count": null,
      "outputs": [
        {
          "output_type": "display_data",
          "data": {
            "image/png": "[encoded data removed]",
            "text/plain": [
              "<Figure size 432x288 with 1 Axes>"
            ]
          },
          "metadata": {
            "tags": [],
            "needs_background": "light"
          }
        }
      ]
    },
    {
      "cell_type": "code",
      "metadata": {
        "id": "HZJHZQoLrE7J",
        "outputId": "fe83c0d7-d0d1-42aa-d381-76c0dd3abdc6",
        "colab": {
          "base_uri": "https://localhost:8080/",
          "height": 34
        }
      },
      "source": [
        "target =np.array([[0]]*h + [[1]]*h)\n",
        "\n",
        "x = torch.from_numpy(data).float().requires_grad_(True) # features\n",
        " \n",
        "y = torch.from_numpy(target).float() # labels\n",
        "\n",
        "x.shape, y.shape"
      ],
      "execution_count": null,
      "outputs": [
        {
          "output_type": "execute_result",
          "data": {
            "text/plain": [
              "(torch.Size([100, 2]), torch.Size([100, 1]))"
            ]
          },
          "metadata": {
            "tags": []
          },
          "execution_count": 47
        }
      ]
    },
    {
      "cell_type": "code",
      "metadata": {
        "id": "MDtf47m70E86",
        "outputId": "a9d932f2-cf93-40a3-baf7-ab113bdfe765",
        "colab": {
          "base_uri": "https://localhost:8080/",
          "height": 265
        }
      },
      "source": [
        "model = nn.Sequential(nn.Linear(2,1), nn.Sigmoid()) #Sequential nos permiten combinar multiples funciones de este modulo.\n",
        "\n",
        "loss_function = nn.BCELoss() #para funciones con la sigmoide se calcula el error con la entropia, para esto usaremos binary cross entropy\n",
        "\n",
        "optimizer = optim.SGD(model.parameters(), lr=0.01) # los parametros son los pesos del modelo, y el learning rate es la distancia de paso o velocidad que se mueve el modelo al minimo de la grafica.\n",
        "\n",
        "losses = []\n",
        "iterations = 2000\n",
        "\n",
        "for i in range(iterations):\n",
        "  reply = model(x)\n",
        "  loss = loss_function(reply, y)\n",
        "  losses.append(loss.data)\n",
        "\n",
        "  optimizer.zero_grad() # reiniciamos los gradientes, los igualamos a cero\n",
        "  loss.backward() #aplicamos castigo\n",
        "\n",
        "  optimizer.step() #seguimos el min del gradiente\n",
        "\n",
        "plt.plot(range(iterations), losses)  \n",
        "plt.show()"
      ],
      "execution_count": null,
      "outputs": [
        {
          "output_type": "display_data",
          "data": {
            "image/png": "[encoded data removed]",
            "text/plain": [
              "<Figure size 432x288 with 1 Axes>"
            ]
          },
          "metadata": {
            "tags": [],
            "needs_background": "light"
          }
        }
      ]
    },
    {
      "cell_type": "code",
      "metadata": {
        "id": "h-_OxEEu32QY",
        "outputId": "ad21a29d-238d-4162-a7d6-2560f14f16fb",
        "colab": {
          "base_uri": "https://localhost:8080/",
          "height": 51
        }
      },
      "source": [
        "blue = torch.Tensor([[-5,-6]])\n",
        "p_blue = model(blue).data[0][0] > 0.5 # si es mayor a 0.5 es rojo por las pos q ocupa el 1 en colors, caso contrario 0 que es azul en colors\n",
        "\n",
        "print(colors[p_blue])\n",
        "\n",
        "red = torch.Tensor([[2.5,4]])\n",
        "p_red = model(red).data[0][0] > 0.5\n",
        "\n",
        "print(colors[p_red])"
      ],
      "execution_count": null,
      "outputs": [
        {
          "output_type": "stream",
          "text": [
            "blue\n",
            "red\n"
          ],
          "name": "stdout"
        }
      ]
    },
    {
      "cell_type": "code",
      "metadata": {
        "id": "WoZvjmee67Qu",
        "outputId": "a2dcc568-26a9-4899-8012-f577d060b708",
        "colab": {
          "base_uri": "https://localhost:8080/",
          "height": 265
        }
      },
      "source": [
        "w = list(model.parameters())\n",
        "w0 = w[0].data.numpy()\n",
        "w1 = w[1].data.numpy()\n",
        "\n",
        "plt.scatter(data[:,0],data[:,1],c=color,s=75,alpha=0.6)\n",
        "\n",
        "x_axis = np.linspace(-10,10,n)\n",
        "y_axis = -(w1[0] + x_axis*w0[0][0])/w0[0][1]\n",
        "\n",
        "plt.plot(x_axis, y_axis, 'g--')\n",
        "\n",
        "plt.show()"
      ],
      "execution_count": null,
      "outputs": [
        {
          "output_type": "display_data",
          "data": {
            "image/png": "[encoded data removed]",
            "text/plain": [
              "<Figure size 432x288 with 1 Axes>"
            ]
          },
          "metadata": {
            "tags": [],
            "needs_background": "light"
          }
        }
      ]
    },
    {
      "cell_type": "markdown",
      "metadata": {
        "id": "nbtx-S8_-Lub"
      },
      "source": [
        "# Neuronas y función de activación, Usando un modelo pre entrenado para reconocimiento de imágenes, Trabajando un dataset\n",
        "\n",
        "---\n"
      ]
    },
    {
      "cell_type": "markdown",
      "metadata": {
        "id": "7kSqBp9s7qj3"
      },
      "source": [
        "En la vida real la mayoría de problemas que vamos a resolver no serán lineales, afortunadamente tenemos varias herramientas que nos permiten modelarlo. Para esto necesitamos a las redes neuronales artificiales.\n",
        "\n",
        "Con una capa oculta se agregan nodos y existirá una conexión entre ellos, estas pueden variar siendo de una o múltiples vías. También se pueden moderar de varias formas y cada una de estas capas puede variar dependiendo de la cantidad de capas ocultas que tengamos.\n",
        "\n",
        "Cada neurona tiene una función de activación y nos va a permitir conectar las múltiples capas para realizar la transformación de lineal a red neuronal.\n",
        "\n",
        "**Perceptrón:** Neurona básica. Tendrá la entrada, salida y una función en medio. Normalmente trabaja con la función escalón de Heaviside. A esto se le puede agregar complejidad y funciones de activación como Sigmoid, Tanh, ReLUs y otras más.\n",
        "\n",
        "**Tanh:** Se puede modelar como un caso específico del Sigmoid, nos ayuda porque esta escalado. La curva es diferente y puede saturarse en algunos casos.\n",
        "\n",
        "**ReLU:** Evita el problema de vanishing gradient(que es cuando los valores del gradiente son muy bajitos) pero solo puede utilizarse en las hidden layers de una NN. Existen variantes para evitar algunos de los problemas más comunes como neuronas muertas.\n",
        "\n",
        "\n",
        "* Cada nodo agregado en la capa oculta es llamada neurona.\n",
        "* Cada neurona va a tener una función de activación.\n",
        "* El problema es no lineal, pero con múltiples nodos se vuelve lineal.\n",
        "* Perceptrón: Neurona básica: tienen una entrada, se le aplica la función de activación (normalmente escalón de Heaviside) y entrega una salida.\n",
        "* Funciones de activación populares: Sigmoid, Tanh(tangente hiperbólica), ReLUs(rectificadores lineales.)"
      ]
    },
    {
      "cell_type": "code",
      "metadata": {
        "id": "N37hiI2W3pqx"
      },
      "source": [
        "import torch\n",
        "from torchvision import utils\n",
        "from torchvision import models\n",
        "from torchvision import datasets\n",
        "from torchvision import transforms\n",
        "\n",
        "from PIL import Image\n",
        "import urllib.request as request\n",
        "from matplotlib import pyplot as plt"
      ],
      "execution_count": null,
      "outputs": []
    },
    {
      "cell_type": "code",
      "metadata": {
        "id": "Pa0nD7HpiNQI",
        "outputId": "ae4d03ca-7614-485d-d609-738150386c0f",
        "colab": {
          "base_uri": "https://localhost:8080/",
          "height": 83,
          "referenced_widgets": [
            "bc9c0db60a37421caca9d59cf9e2eae6",
            "04b63854da4644cf99cb2c817ccc9dbb",
            "6177e08c790f40e5b724795ec7038648",
            "037a5aedf20c43d38e1724adb59ab7c8",
            "0dd2e2ff60834fe1af44c4e86038249a",
            "d7b5b976fcd0403498d451eea0b13fa2",
            "24c51b14adc04c46bedbc3892abbcb2a",
            "5b4f1c8ce2b644eebe21155bb9c8186d"
          ]
        }
      },
      "source": [
        "# MODELO PRE-ENTRENADO\n",
        "\n",
        "inception = models.inception_v3(pretrained=True)"
      ],
      "execution_count": null,
      "outputs": [
        {
          "output_type": "stream",
          "text": [
            "Downloading: \"https://download.pytorch.org/models/inception_v3_google-1a9a5a14.pth\" to /root/.cache/torch/hub/checkpoints/inception_v3_google-1a9a5a14.pth\n"
          ],
          "name": "stderr"
        },
        {
          "output_type": "display_data",
          "data": {
            "application/vnd.jupyter.widget-view+json": {
              "model_id": "bc9c0db60a37421caca9d59cf9e2eae6",
              "version_minor": 0,
              "version_major": 2
            },
            "text/plain": [
              "HBox(children=(FloatProgress(value=0.0, max=108857766.0), HTML(value='')))"
            ]
          },
          "metadata": {
            "tags": []
          }
        },
        {
          "output_type": "stream",
          "text": [
            "\n"
          ],
          "name": "stdout"
        }
      ]
    },
    {
      "cell_type": "code",
      "metadata": {
        "id": "wwkr1cIxiYZ1",
        "outputId": "82ba1a00-3a81-4bc5-b038-099f77a1a973",
        "colab": {
          "base_uri": "https://localhost:8080/",
          "height": 214
        }
      },
      "source": [
        "url = 'https://lh3.googleusercontent.com/proxy/zYVDm1Wo0wMvnmH8ceh-sXQLDnJOcNaTWl05uiSGEqZKoddg-mXKPeSI6PLEccSd7dBChQzFEcPo4eO15Nahbz4l_W7eCi_yrmekANZC9Z0Xa0uIgGhhsE0rZzbQiDVvzE-gJtyHCGUUStfN2_pFfdKO6m2O3ag3ymR2r2Sd'\n",
        "image = request.urlretrieve(url,'loro.jpg')\n",
        "img = Image.open(image[0])\n",
        "img"
      ],
      "execution_count": null,
      "outputs": [
        {
          "output_type": "error",
          "ename": "NameError",
          "evalue": "ignored",
          "traceback": [
            "\u001b[0;31m---------------------------------------------------------------------------\u001b[0m",
            "\u001b[0;31mNameError\u001b[0m                                 Traceback (most recent call last)",
            "\u001b[0;32m<ipython-input-1-ddc61e80d0ef>\u001b[0m in \u001b[0;36m<module>\u001b[0;34m()\u001b[0m\n\u001b[1;32m      1\u001b[0m \u001b[0murl\u001b[0m \u001b[0;34m=\u001b[0m \u001b[0;34m'https://www.catalunyaplants.com/wp-content/uploads/2015/01/golden-retriever.jpg'\u001b[0m\u001b[0;34m\u001b[0m\u001b[0;34m\u001b[0m\u001b[0m\n\u001b[0;32m----> 2\u001b[0;31m \u001b[0mimage\u001b[0m \u001b[0;34m=\u001b[0m \u001b[0mrequest\u001b[0m\u001b[0;34m.\u001b[0m\u001b[0murlretrieve\u001b[0m\u001b[0;34m(\u001b[0m\u001b[0murl\u001b[0m\u001b[0;34m,\u001b[0m\u001b[0;34m'dog.jpg'\u001b[0m\u001b[0;34m)\u001b[0m\u001b[0;34m\u001b[0m\u001b[0;34m\u001b[0m\u001b[0m\n\u001b[0m\u001b[1;32m      3\u001b[0m \u001b[0mimg\u001b[0m \u001b[0;34m=\u001b[0m \u001b[0mImage\u001b[0m\u001b[0;34m.\u001b[0m\u001b[0mopen\u001b[0m\u001b[0;34m(\u001b[0m\u001b[0mimage\u001b[0m\u001b[0;34m[\u001b[0m\u001b[0;36m0\u001b[0m\u001b[0;34m]\u001b[0m\u001b[0;34m)\u001b[0m\u001b[0;34m\u001b[0m\u001b[0;34m\u001b[0m\u001b[0m\n\u001b[1;32m      4\u001b[0m \u001b[0mimg\u001b[0m\u001b[0;34m\u001b[0m\u001b[0;34m\u001b[0m\u001b[0m\n",
            "\u001b[0;31mNameError\u001b[0m: name 'request' is not defined"
          ]
        }
      ]
    },
    {
      "cell_type": "markdown",
      "metadata": {
        "id": "f1e7pONHrffa"
      },
      "source": [
        "Se realiza el preprocesamiento del modelo, componiendo la transformación de este en un redimencionamiento de la imagen, centrado de imagen, llevando la imagen a tensor y normalizando la imagen, empleando los valores de la media y desviación estándar del modelo:"
      ]
    },
    {
      "cell_type": "code",
      "metadata": {
        "id": "Ey8ydpzdrhmg"
      },
      "source": [
        "preprocess = transforms.Compose([\n",
        "    transforms.Resize(128),\n",
        "    transforms.CenterCrop(128),\n",
        "    transforms.ToTensor(),\n",
        "    transforms.Normalize(\n",
        "        mean=[0.485, 0.456, 0.406], # en base de la media y std, esos valores nos permitiran normalizar cualquier imagen\n",
        "        std=[0.229, 0.224, 0.225]\n",
        "    )\n",
        "])"
      ],
      "execution_count": null,
      "outputs": []
    },
    {
      "cell_type": "markdown",
      "metadata": {
        "id": "iZtXunzMrp_y"
      },
      "source": [
        "Se transpone la imagen preprocesada y se grafica esta permutandola:"
      ]
    },
    {
      "cell_type": "code",
      "metadata": {
        "id": "F4NQrtkzrrk5",
        "outputId": "045bce1e-f240-4d24-c276-0293bcd296eb",
        "colab": {
          "base_uri": "https://localhost:8080/",
          "height": 302
        }
      },
      "source": [
        "img_t = preprocess(img)\n",
        "batch = torch.unsqueeze(img_t, 0)\n",
        "plt.imshow(img_t.permute(1, 2, 0))"
      ],
      "execution_count": null,
      "outputs": [
        {
          "output_type": "stream",
          "text": [
            "Clipping input data to the valid range for imshow with RGB data ([0..1] for floats or [0..255] for integers).\n"
          ],
          "name": "stderr"
        },
        {
          "output_type": "execute_result",
          "data": {
            "text/plain": [
              "<matplotlib.image.AxesImage at 0x7f9da24642e8>"
            ]
          },
          "metadata": {
            "tags": []
          },
          "execution_count": 14
        },
        {
          "output_type": "display_data",
          "data": {
            "image/png": "[encoded data removed]",
            "text/plain": [
              "<Figure size 432x288 with 1 Axes>"
            ]
          },
          "metadata": {
            "tags": [],
            "needs_background": "light"
          }
        }
      ]
    },
    {
      "cell_type": "code",
      "metadata": {
        "id": "FTN6yshO8dNc",
        "outputId": "883438e4-5610-46a4-905d-7d85b9db3871",
        "colab": {
          "base_uri": "https://localhost:8080/",
          "height": 1000
        }
      },
      "source": [
        "# se visializan los valores del modelo:\n",
        "inception.eval()"
      ],
      "execution_count": null,
      "outputs": [
        {
          "output_type": "execute_result",
          "data": {
            "text/plain": [
              "Inception3(\n",
              "  (Conv2d_1a_3x3): BasicConv2d(\n",
              "    (conv): Conv2d(3, 32, kernel_size=(3, 3), stride=(2, 2), bias=False)\n",
              "    (bn): BatchNorm2d(32, eps=0.001, momentum=0.1, affine=True, track_running_stats=True)\n",
              "  )\n",
              "  (Conv2d_2a_3x3): BasicConv2d(\n",
              "    (conv): Conv2d(32, 32, kernel_size=(3, 3), stride=(1, 1), bias=False)\n",
              "    (bn): BatchNorm2d(32, eps=0.001, momentum=0.1, affine=True, track_running_stats=True)\n",
              "  )\n",
              "  (Conv2d_2b_3x3): BasicConv2d(\n",
              "    (conv): Conv2d(32, 64, kernel_size=(3, 3), stride=(1, 1), padding=(1, 1), bias=False)\n",
              "    (bn): BatchNorm2d(64, eps=0.001, momentum=0.1, affine=True, track_running_stats=True)\n",
              "  )\n",
              "  (maxpool1): MaxPool2d(kernel_size=3, stride=2, padding=0, dilation=1, ceil_mode=False)\n",
              "  (Conv2d_3b_1x1): BasicConv2d(\n",
              "    (conv): Conv2d(64, 80, kernel_size=(1, 1), stride=(1, 1), bias=False)\n",
              "    (bn): BatchNorm2d(80, eps=0.001, momentum=0.1, affine=True, track_running_stats=True)\n",
              "  )\n",
              "  (Conv2d_4a_3x3): BasicConv2d(\n",
              "    (conv): Conv2d(80, 192, kernel_size=(3, 3), stride=(1, 1), bias=False)\n",
              "    (bn): BatchNorm2d(192, eps=0.001, momentum=0.1, affine=True, track_running_stats=True)\n",
              "  )\n",
              "  (maxpool2): MaxPool2d(kernel_size=3, stride=2, padding=0, dilation=1, ceil_mode=False)\n",
              "  (Mixed_5b): InceptionA(\n",
              "    (branch1x1): BasicConv2d(\n",
              "      (conv): Conv2d(192, 64, kernel_size=(1, 1), stride=(1, 1), bias=False)\n",
              "      (bn): BatchNorm2d(64, eps=0.001, momentum=0.1, affine=True, track_running_stats=True)\n",
              "    )\n",
              "    (branch5x5_1): BasicConv2d(\n",
              "      (conv): Conv2d(192, 48, kernel_size=(1, 1), stride=(1, 1), bias=False)\n",
              "      (bn): BatchNorm2d(48, eps=0.001, momentum=0.1, affine=True, track_running_stats=True)\n",
              "    )\n",
              "    (branch5x5_2): BasicConv2d(\n",
              "      (conv): Conv2d(48, 64, kernel_size=(5, 5), stride=(1, 1), padding=(2, 2), bias=False)\n",
              "      (bn): BatchNorm2d(64, eps=0.001, momentum=0.1, affine=True, track_running_stats=True)\n",
              "    )\n",
              "    (branch3x3dbl_1): BasicConv2d(\n",
              "      (conv): Conv2d(192, 64, kernel_size=(1, 1), stride=(1, 1), bias=False)\n",
              "      (bn): BatchNorm2d(64, eps=0.001, momentum=0.1, affine=True, track_running_stats=True)\n",
              "    )\n",
              "    (branch3x3dbl_2): BasicConv2d(\n",
              "      (conv): Conv2d(64, 96, kernel_size=(3, 3), stride=(1, 1), padding=(1, 1), bias=False)\n",
              "      (bn): BatchNorm2d(96, eps=0.001, momentum=0.1, affine=True, track_running_stats=True)\n",
              "    )\n",
              "    (branch3x3dbl_3): BasicConv2d(\n",
              "      (conv): Conv2d(96, 96, kernel_size=(3, 3), stride=(1, 1), padding=(1, 1), bias=False)\n",
              "      (bn): BatchNorm2d(96, eps=0.001, momentum=0.1, affine=True, track_running_stats=True)\n",
              "    )\n",
              "    (branch_pool): BasicConv2d(\n",
              "      (conv): Conv2d(192, 32, kernel_size=(1, 1), stride=(1, 1), bias=False)\n",
              "      (bn): BatchNorm2d(32, eps=0.001, momentum=0.1, affine=True, track_running_stats=True)\n",
              "    )\n",
              "  )\n",
              "  (Mixed_5c): InceptionA(\n",
              "    (branch1x1): BasicConv2d(\n",
              "      (conv): Conv2d(256, 64, kernel_size=(1, 1), stride=(1, 1), bias=False)\n",
              "      (bn): BatchNorm2d(64, eps=0.001, momentum=0.1, affine=True, track_running_stats=True)\n",
              "    )\n",
              "    (branch5x5_1): BasicConv2d(\n",
              "      (conv): Conv2d(256, 48, kernel_size=(1, 1), stride=(1, 1), bias=False)\n",
              "      (bn): BatchNorm2d(48, eps=0.001, momentum=0.1, affine=True, track_running_stats=True)\n",
              "    )\n",
              "    (branch5x5_2): BasicConv2d(\n",
              "      (conv): Conv2d(48, 64, kernel_size=(5, 5), stride=(1, 1), padding=(2, 2), bias=False)\n",
              "      (bn): BatchNorm2d(64, eps=0.001, momentum=0.1, affine=True, track_running_stats=True)\n",
              "    )\n",
              "    (branch3x3dbl_1): BasicConv2d(\n",
              "      (conv): Conv2d(256, 64, kernel_size=(1, 1), stride=(1, 1), bias=False)\n",
              "      (bn): BatchNorm2d(64, eps=0.001, momentum=0.1, affine=True, track_running_stats=True)\n",
              "    )\n",
              "    (branch3x3dbl_2): BasicConv2d(\n",
              "      (conv): Conv2d(64, 96, kernel_size=(3, 3), stride=(1, 1), padding=(1, 1), bias=False)\n",
              "      (bn): BatchNorm2d(96, eps=0.001, momentum=0.1, affine=True, track_running_stats=True)\n",
              "    )\n",
              "    (branch3x3dbl_3): BasicConv2d(\n",
              "      (conv): Conv2d(96, 96, kernel_size=(3, 3), stride=(1, 1), padding=(1, 1), bias=False)\n",
              "      (bn): BatchNorm2d(96, eps=0.001, momentum=0.1, affine=True, track_running_stats=True)\n",
              "    )\n",
              "    (branch_pool): BasicConv2d(\n",
              "      (conv): Conv2d(256, 64, kernel_size=(1, 1), stride=(1, 1), bias=False)\n",
              "      (bn): BatchNorm2d(64, eps=0.001, momentum=0.1, affine=True, track_running_stats=True)\n",
              "    )\n",
              "  )\n",
              "  (Mixed_5d): InceptionA(\n",
              "    (branch1x1): BasicConv2d(\n",
              "      (conv): Conv2d(288, 64, kernel_size=(1, 1), stride=(1, 1), bias=False)\n",
              "      (bn): BatchNorm2d(64, eps=0.001, momentum=0.1, affine=True, track_running_stats=True)\n",
              "    )\n",
              "    (branch5x5_1): BasicConv2d(\n",
              "      (conv): Conv2d(288, 48, kernel_size=(1, 1), stride=(1, 1), bias=False)\n",
              "      (bn): BatchNorm2d(48, eps=0.001, momentum=0.1, affine=True, track_running_stats=True)\n",
              "    )\n",
              "    (branch5x5_2): BasicConv2d(\n",
              "      (conv): Conv2d(48, 64, kernel_size=(5, 5), stride=(1, 1), padding=(2, 2), bias=False)\n",
              "      (bn): BatchNorm2d(64, eps=0.001, momentum=0.1, affine=True, track_running_stats=True)\n",
              "    )\n",
              "    (branch3x3dbl_1): BasicConv2d(\n",
              "      (conv): Conv2d(288, 64, kernel_size=(1, 1), stride=(1, 1), bias=False)\n",
              "      (bn): BatchNorm2d(64, eps=0.001, momentum=0.1, affine=True, track_running_stats=True)\n",
              "    )\n",
              "    (branch3x3dbl_2): BasicConv2d(\n",
              "      (conv): Conv2d(64, 96, kernel_size=(3, 3), stride=(1, 1), padding=(1, 1), bias=False)\n",
              "      (bn): BatchNorm2d(96, eps=0.001, momentum=0.1, affine=True, track_running_stats=True)\n",
              "    )\n",
              "    (branch3x3dbl_3): BasicConv2d(\n",
              "      (conv): Conv2d(96, 96, kernel_size=(3, 3), stride=(1, 1), padding=(1, 1), bias=False)\n",
              "      (bn): BatchNorm2d(96, eps=0.001, momentum=0.1, affine=True, track_running_stats=True)\n",
              "    )\n",
              "    (branch_pool): BasicConv2d(\n",
              "      (conv): Conv2d(288, 64, kernel_size=(1, 1), stride=(1, 1), bias=False)\n",
              "      (bn): BatchNorm2d(64, eps=0.001, momentum=0.1, affine=True, track_running_stats=True)\n",
              "    )\n",
              "  )\n",
              "  (Mixed_6a): InceptionB(\n",
              "    (branch3x3): BasicConv2d(\n",
              "      (conv): Conv2d(288, 384, kernel_size=(3, 3), stride=(2, 2), bias=False)\n",
              "      (bn): BatchNorm2d(384, eps=0.001, momentum=0.1, affine=True, track_running_stats=True)\n",
              "    )\n",
              "    (branch3x3dbl_1): BasicConv2d(\n",
              "      (conv): Conv2d(288, 64, kernel_size=(1, 1), stride=(1, 1), bias=False)\n",
              "      (bn): BatchNorm2d(64, eps=0.001, momentum=0.1, affine=True, track_running_stats=True)\n",
              "    )\n",
              "    (branch3x3dbl_2): BasicConv2d(\n",
              "      (conv): Conv2d(64, 96, kernel_size=(3, 3), stride=(1, 1), padding=(1, 1), bias=False)\n",
              "      (bn): BatchNorm2d(96, eps=0.001, momentum=0.1, affine=True, track_running_stats=True)\n",
              "    )\n",
              "    (branch3x3dbl_3): BasicConv2d(\n",
              "      (conv): Conv2d(96, 96, kernel_size=(3, 3), stride=(2, 2), bias=False)\n",
              "      (bn): BatchNorm2d(96, eps=0.001, momentum=0.1, affine=True, track_running_stats=True)\n",
              "    )\n",
              "  )\n",
              "  (Mixed_6b): InceptionC(\n",
              "    (branch1x1): BasicConv2d(\n",
              "      (conv): Conv2d(768, 192, kernel_size=(1, 1), stride=(1, 1), bias=False)\n",
              "      (bn): BatchNorm2d(192, eps=0.001, momentum=0.1, affine=True, track_running_stats=True)\n",
              "    )\n",
              "    (branch7x7_1): BasicConv2d(\n",
              "      (conv): Conv2d(768, 128, kernel_size=(1, 1), stride=(1, 1), bias=False)\n",
              "      (bn): BatchNorm2d(128, eps=0.001, momentum=0.1, affine=True, track_running_stats=True)\n",
              "    )\n",
              "    (branch7x7_2): BasicConv2d(\n",
              "      (conv): Conv2d(128, 128, kernel_size=(1, 7), stride=(1, 1), padding=(0, 3), bias=False)\n",
              "      (bn): BatchNorm2d(128, eps=0.001, momentum=0.1, affine=True, track_running_stats=True)\n",
              "    )\n",
              "    (branch7x7_3): BasicConv2d(\n",
              "      (conv): Conv2d(128, 192, kernel_size=(7, 1), stride=(1, 1), padding=(3, 0), bias=False)\n",
              "      (bn): BatchNorm2d(192, eps=0.001, momentum=0.1, affine=True, track_running_stats=True)\n",
              "    )\n",
              "    (branch7x7dbl_1): BasicConv2d(\n",
              "      (conv): Conv2d(768, 128, kernel_size=(1, 1), stride=(1, 1), bias=False)\n",
              "      (bn): BatchNorm2d(128, eps=0.001, momentum=0.1, affine=True, track_running_stats=True)\n",
              "    )\n",
              "    (branch7x7dbl_2): BasicConv2d(\n",
              "      (conv): Conv2d(128, 128, kernel_size=(7, 1), stride=(1, 1), padding=(3, 0), bias=False)\n",
              "      (bn): BatchNorm2d(128, eps=0.001, momentum=0.1, affine=True, track_running_stats=True)\n",
              "    )\n",
              "    (branch7x7dbl_3): BasicConv2d(\n",
              "      (conv): Conv2d(128, 128, kernel_size=(1, 7), stride=(1, 1), padding=(0, 3), bias=False)\n",
              "      (bn): BatchNorm2d(128, eps=0.001, momentum=0.1, affine=True, track_running_stats=True)\n",
              "    )\n",
              "    (branch7x7dbl_4): BasicConv2d(\n",
              "      (conv): Conv2d(128, 128, kernel_size=(7, 1), stride=(1, 1), padding=(3, 0), bias=False)\n",
              "      (bn): BatchNorm2d(128, eps=0.001, momentum=0.1, affine=True, track_running_stats=True)\n",
              "    )\n",
              "    (branch7x7dbl_5): BasicConv2d(\n",
              "      (conv): Conv2d(128, 192, kernel_size=(1, 7), stride=(1, 1), padding=(0, 3), bias=False)\n",
              "      (bn): BatchNorm2d(192, eps=0.001, momentum=0.1, affine=True, track_running_stats=True)\n",
              "    )\n",
              "    (branch_pool): BasicConv2d(\n",
              "      (conv): Conv2d(768, 192, kernel_size=(1, 1), stride=(1, 1), bias=False)\n",
              "      (bn): BatchNorm2d(192, eps=0.001, momentum=0.1, affine=True, track_running_stats=True)\n",
              "    )\n",
              "  )\n",
              "  (Mixed_6c): InceptionC(\n",
              "    (branch1x1): BasicConv2d(\n",
              "      (conv): Conv2d(768, 192, kernel_size=(1, 1), stride=(1, 1), bias=False)\n",
              "      (bn): BatchNorm2d(192, eps=0.001, momentum=0.1, affine=True, track_running_stats=True)\n",
              "    )\n",
              "    (branch7x7_1): BasicConv2d(\n",
              "      (conv): Conv2d(768, 160, kernel_size=(1, 1), stride=(1, 1), bias=False)\n",
              "      (bn): BatchNorm2d(160, eps=0.001, momentum=0.1, affine=True, track_running_stats=True)\n",
              "    )\n",
              "    (branch7x7_2): BasicConv2d(\n",
              "      (conv): Conv2d(160, 160, kernel_size=(1, 7), stride=(1, 1), padding=(0, 3), bias=False)\n",
              "      (bn): BatchNorm2d(160, eps=0.001, momentum=0.1, affine=True, track_running_stats=True)\n",
              "    )\n",
              "    (branch7x7_3): BasicConv2d(\n",
              "      (conv): Conv2d(160, 192, kernel_size=(7, 1), stride=(1, 1), padding=(3, 0), bias=False)\n",
              "      (bn): BatchNorm2d(192, eps=0.001, momentum=0.1, affine=True, track_running_stats=True)\n",
              "    )\n",
              "    (branch7x7dbl_1): BasicConv2d(\n",
              "      (conv): Conv2d(768, 160, kernel_size=(1, 1), stride=(1, 1), bias=False)\n",
              "      (bn): BatchNorm2d(160, eps=0.001, momentum=0.1, affine=True, track_running_stats=True)\n",
              "    )\n",
              "    (branch7x7dbl_2): BasicConv2d(\n",
              "      (conv): Conv2d(160, 160, kernel_size=(7, 1), stride=(1, 1), padding=(3, 0), bias=False)\n",
              "      (bn): BatchNorm2d(160, eps=0.001, momentum=0.1, affine=True, track_running_stats=True)\n",
              "    )\n",
              "    (branch7x7dbl_3): BasicConv2d(\n",
              "      (conv): Conv2d(160, 160, kernel_size=(1, 7), stride=(1, 1), padding=(0, 3), bias=False)\n",
              "      (bn): BatchNorm2d(160, eps=0.001, momentum=0.1, affine=True, track_running_stats=True)\n",
              "    )\n",
              "    (branch7x7dbl_4): BasicConv2d(\n",
              "      (conv): Conv2d(160, 160, kernel_size=(7, 1), stride=(1, 1), padding=(3, 0), bias=False)\n",
              "      (bn): BatchNorm2d(160, eps=0.001, momentum=0.1, affine=True, track_running_stats=True)\n",
              "    )\n",
              "    (branch7x7dbl_5): BasicConv2d(\n",
              "      (conv): Conv2d(160, 192, kernel_size=(1, 7), stride=(1, 1), padding=(0, 3), bias=False)\n",
              "      (bn): BatchNorm2d(192, eps=0.001, momentum=0.1, affine=True, track_running_stats=True)\n",
              "    )\n",
              "    (branch_pool): BasicConv2d(\n",
              "      (conv): Conv2d(768, 192, kernel_size=(1, 1), stride=(1, 1), bias=False)\n",
              "      (bn): BatchNorm2d(192, eps=0.001, momentum=0.1, affine=True, track_running_stats=True)\n",
              "    )\n",
              "  )\n",
              "  (Mixed_6d): InceptionC(\n",
              "    (branch1x1): BasicConv2d(\n",
              "      (conv): Conv2d(768, 192, kernel_size=(1, 1), stride=(1, 1), bias=False)\n",
              "      (bn): BatchNorm2d(192, eps=0.001, momentum=0.1, affine=True, track_running_stats=True)\n",
              "    )\n",
              "    (branch7x7_1): BasicConv2d(\n",
              "      (conv): Conv2d(768, 160, kernel_size=(1, 1), stride=(1, 1), bias=False)\n",
              "      (bn): BatchNorm2d(160, eps=0.001, momentum=0.1, affine=True, track_running_stats=True)\n",
              "    )\n",
              "    (branch7x7_2): BasicConv2d(\n",
              "      (conv): Conv2d(160, 160, kernel_size=(1, 7), stride=(1, 1), padding=(0, 3), bias=False)\n",
              "      (bn): BatchNorm2d(160, eps=0.001, momentum=0.1, affine=True, track_running_stats=True)\n",
              "    )\n",
              "    (branch7x7_3): BasicConv2d(\n",
              "      (conv): Conv2d(160, 192, kernel_size=(7, 1), stride=(1, 1), padding=(3, 0), bias=False)\n",
              "      (bn): BatchNorm2d(192, eps=0.001, momentum=0.1, affine=True, track_running_stats=True)\n",
              "    )\n",
              "    (branch7x7dbl_1): BasicConv2d(\n",
              "      (conv): Conv2d(768, 160, kernel_size=(1, 1), stride=(1, 1), bias=False)\n",
              "      (bn): BatchNorm2d(160, eps=0.001, momentum=0.1, affine=True, track_running_stats=True)\n",
              "    )\n",
              "    (branch7x7dbl_2): BasicConv2d(\n",
              "      (conv): Conv2d(160, 160, kernel_size=(7, 1), stride=(1, 1), padding=(3, 0), bias=False)\n",
              "      (bn): BatchNorm2d(160, eps=0.001, momentum=0.1, affine=True, track_running_stats=True)\n",
              "    )\n",
              "    (branch7x7dbl_3): BasicConv2d(\n",
              "      (conv): Conv2d(160, 160, kernel_size=(1, 7), stride=(1, 1), padding=(0, 3), bias=False)\n",
              "      (bn): BatchNorm2d(160, eps=0.001, momentum=0.1, affine=True, track_running_stats=True)\n",
              "    )\n",
              "    (branch7x7dbl_4): BasicConv2d(\n",
              "      (conv): Conv2d(160, 160, kernel_size=(7, 1), stride=(1, 1), padding=(3, 0), bias=False)\n",
              "      (bn): BatchNorm2d(160, eps=0.001, momentum=0.1, affine=True, track_running_stats=True)\n",
              "    )\n",
              "    (branch7x7dbl_5): BasicConv2d(\n",
              "      (conv): Conv2d(160, 192, kernel_size=(1, 7), stride=(1, 1), padding=(0, 3), bias=False)\n",
              "      (bn): BatchNorm2d(192, eps=0.001, momentum=0.1, affine=True, track_running_stats=True)\n",
              "    )\n",
              "    (branch_pool): BasicConv2d(\n",
              "      (conv): Conv2d(768, 192, kernel_size=(1, 1), stride=(1, 1), bias=False)\n",
              "      (bn): BatchNorm2d(192, eps=0.001, momentum=0.1, affine=True, track_running_stats=True)\n",
              "    )\n",
              "  )\n",
              "  (Mixed_6e): InceptionC(\n",
              "    (branch1x1): BasicConv2d(\n",
              "      (conv): Conv2d(768, 192, kernel_size=(1, 1), stride=(1, 1), bias=False)\n",
              "      (bn): BatchNorm2d(192, eps=0.001, momentum=0.1, affine=True, track_running_stats=True)\n",
              "    )\n",
              "    (branch7x7_1): BasicConv2d(\n",
              "      (conv): Conv2d(768, 192, kernel_size=(1, 1), stride=(1, 1), bias=False)\n",
              "      (bn): BatchNorm2d(192, eps=0.001, momentum=0.1, affine=True, track_running_stats=True)\n",
              "    )\n",
              "    (branch7x7_2): BasicConv2d(\n",
              "      (conv): Conv2d(192, 192, kernel_size=(1, 7), stride=(1, 1), padding=(0, 3), bias=False)\n",
              "      (bn): BatchNorm2d(192, eps=0.001, momentum=0.1, affine=True, track_running_stats=True)\n",
              "    )\n",
              "    (branch7x7_3): BasicConv2d(\n",
              "      (conv): Conv2d(192, 192, kernel_size=(7, 1), stride=(1, 1), padding=(3, 0), bias=False)\n",
              "      (bn): BatchNorm2d(192, eps=0.001, momentum=0.1, affine=True, track_running_stats=True)\n",
              "    )\n",
              "    (branch7x7dbl_1): BasicConv2d(\n",
              "      (conv): Conv2d(768, 192, kernel_size=(1, 1), stride=(1, 1), bias=False)\n",
              "      (bn): BatchNorm2d(192, eps=0.001, momentum=0.1, affine=True, track_running_stats=True)\n",
              "    )\n",
              "    (branch7x7dbl_2): BasicConv2d(\n",
              "      (conv): Conv2d(192, 192, kernel_size=(7, 1), stride=(1, 1), padding=(3, 0), bias=False)\n",
              "      (bn): BatchNorm2d(192, eps=0.001, momentum=0.1, affine=True, track_running_stats=True)\n",
              "    )\n",
              "    (branch7x7dbl_3): BasicConv2d(\n",
              "      (conv): Conv2d(192, 192, kernel_size=(1, 7), stride=(1, 1), padding=(0, 3), bias=False)\n",
              "      (bn): BatchNorm2d(192, eps=0.001, momentum=0.1, affine=True, track_running_stats=True)\n",
              "    )\n",
              "    (branch7x7dbl_4): BasicConv2d(\n",
              "      (conv): Conv2d(192, 192, kernel_size=(7, 1), stride=(1, 1), padding=(3, 0), bias=False)\n",
              "      (bn): BatchNorm2d(192, eps=0.001, momentum=0.1, affine=True, track_running_stats=True)\n",
              "    )\n",
              "    (branch7x7dbl_5): BasicConv2d(\n",
              "      (conv): Conv2d(192, 192, kernel_size=(1, 7), stride=(1, 1), padding=(0, 3), bias=False)\n",
              "      (bn): BatchNorm2d(192, eps=0.001, momentum=0.1, affine=True, track_running_stats=True)\n",
              "    )\n",
              "    (branch_pool): BasicConv2d(\n",
              "      (conv): Conv2d(768, 192, kernel_size=(1, 1), stride=(1, 1), bias=False)\n",
              "      (bn): BatchNorm2d(192, eps=0.001, momentum=0.1, affine=True, track_running_stats=True)\n",
              "    )\n",
              "  )\n",
              "  (AuxLogits): InceptionAux(\n",
              "    (conv0): BasicConv2d(\n",
              "      (conv): Conv2d(768, 128, kernel_size=(1, 1), stride=(1, 1), bias=False)\n",
              "      (bn): BatchNorm2d(128, eps=0.001, momentum=0.1, affine=True, track_running_stats=True)\n",
              "    )\n",
              "    (conv1): BasicConv2d(\n",
              "      (conv): Conv2d(128, 768, kernel_size=(5, 5), stride=(1, 1), bias=False)\n",
              "      (bn): BatchNorm2d(768, eps=0.001, momentum=0.1, affine=True, track_running_stats=True)\n",
              "    )\n",
              "    (fc): Linear(in_features=768, out_features=1000, bias=True)\n",
              "  )\n",
              "  (Mixed_7a): InceptionD(\n",
              "    (branch3x3_1): BasicConv2d(\n",
              "      (conv): Conv2d(768, 192, kernel_size=(1, 1), stride=(1, 1), bias=False)\n",
              "      (bn): BatchNorm2d(192, eps=0.001, momentum=0.1, affine=True, track_running_stats=True)\n",
              "    )\n",
              "    (branch3x3_2): BasicConv2d(\n",
              "      (conv): Conv2d(192, 320, kernel_size=(3, 3), stride=(2, 2), bias=False)\n",
              "      (bn): BatchNorm2d(320, eps=0.001, momentum=0.1, affine=True, track_running_stats=True)\n",
              "    )\n",
              "    (branch7x7x3_1): BasicConv2d(\n",
              "      (conv): Conv2d(768, 192, kernel_size=(1, 1), stride=(1, 1), bias=False)\n",
              "      (bn): BatchNorm2d(192, eps=0.001, momentum=0.1, affine=True, track_running_stats=True)\n",
              "    )\n",
              "    (branch7x7x3_2): BasicConv2d(\n",
              "      (conv): Conv2d(192, 192, kernel_size=(1, 7), stride=(1, 1), padding=(0, 3), bias=False)\n",
              "      (bn): BatchNorm2d(192, eps=0.001, momentum=0.1, affine=True, track_running_stats=True)\n",
              "    )\n",
              "    (branch7x7x3_3): BasicConv2d(\n",
              "      (conv): Conv2d(192, 192, kernel_size=(7, 1), stride=(1, 1), padding=(3, 0), bias=False)\n",
              "      (bn): BatchNorm2d(192, eps=0.001, momentum=0.1, affine=True, track_running_stats=True)\n",
              "    )\n",
              "    (branch7x7x3_4): BasicConv2d(\n",
              "      (conv): Conv2d(192, 192, kernel_size=(3, 3), stride=(2, 2), bias=False)\n",
              "      (bn): BatchNorm2d(192, eps=0.001, momentum=0.1, affine=True, track_running_stats=True)\n",
              "    )\n",
              "  )\n",
              "  (Mixed_7b): InceptionE(\n",
              "    (branch1x1): BasicConv2d(\n",
              "      (conv): Conv2d(1280, 320, kernel_size=(1, 1), stride=(1, 1), bias=False)\n",
              "      (bn): BatchNorm2d(320, eps=0.001, momentum=0.1, affine=True, track_running_stats=True)\n",
              "    )\n",
              "    (branch3x3_1): BasicConv2d(\n",
              "      (conv): Conv2d(1280, 384, kernel_size=(1, 1), stride=(1, 1), bias=False)\n",
              "      (bn): BatchNorm2d(384, eps=0.001, momentum=0.1, affine=True, track_running_stats=True)\n",
              "    )\n",
              "    (branch3x3_2a): BasicConv2d(\n",
              "      (conv): Conv2d(384, 384, kernel_size=(1, 3), stride=(1, 1), padding=(0, 1), bias=False)\n",
              "      (bn): BatchNorm2d(384, eps=0.001, momentum=0.1, affine=True, track_running_stats=True)\n",
              "    )\n",
              "    (branch3x3_2b): BasicConv2d(\n",
              "      (conv): Conv2d(384, 384, kernel_size=(3, 1), stride=(1, 1), padding=(1, 0), bias=False)\n",
              "      (bn): BatchNorm2d(384, eps=0.001, momentum=0.1, affine=True, track_running_stats=True)\n",
              "    )\n",
              "    (branch3x3dbl_1): BasicConv2d(\n",
              "      (conv): Conv2d(1280, 448, kernel_size=(1, 1), stride=(1, 1), bias=False)\n",
              "      (bn): BatchNorm2d(448, eps=0.001, momentum=0.1, affine=True, track_running_stats=True)\n",
              "    )\n",
              "    (branch3x3dbl_2): BasicConv2d(\n",
              "      (conv): Conv2d(448, 384, kernel_size=(3, 3), stride=(1, 1), padding=(1, 1), bias=False)\n",
              "      (bn): BatchNorm2d(384, eps=0.001, momentum=0.1, affine=True, track_running_stats=True)\n",
              "    )\n",
              "    (branch3x3dbl_3a): BasicConv2d(\n",
              "      (conv): Conv2d(384, 384, kernel_size=(1, 3), stride=(1, 1), padding=(0, 1), bias=False)\n",
              "      (bn): BatchNorm2d(384, eps=0.001, momentum=0.1, affine=True, track_running_stats=True)\n",
              "    )\n",
              "    (branch3x3dbl_3b): BasicConv2d(\n",
              "      (conv): Conv2d(384, 384, kernel_size=(3, 1), stride=(1, 1), padding=(1, 0), bias=False)\n",
              "      (bn): BatchNorm2d(384, eps=0.001, momentum=0.1, affine=True, track_running_stats=True)\n",
              "    )\n",
              "    (branch_pool): BasicConv2d(\n",
              "      (conv): Conv2d(1280, 192, kernel_size=(1, 1), stride=(1, 1), bias=False)\n",
              "      (bn): BatchNorm2d(192, eps=0.001, momentum=0.1, affine=True, track_running_stats=True)\n",
              "    )\n",
              "  )\n",
              "  (Mixed_7c): InceptionE(\n",
              "    (branch1x1): BasicConv2d(\n",
              "      (conv): Conv2d(2048, 320, kernel_size=(1, 1), stride=(1, 1), bias=False)\n",
              "      (bn): BatchNorm2d(320, eps=0.001, momentum=0.1, affine=True, track_running_stats=True)\n",
              "    )\n",
              "    (branch3x3_1): BasicConv2d(\n",
              "      (conv): Conv2d(2048, 384, kernel_size=(1, 1), stride=(1, 1), bias=False)\n",
              "      (bn): BatchNorm2d(384, eps=0.001, momentum=0.1, affine=True, track_running_stats=True)\n",
              "    )\n",
              "    (branch3x3_2a): BasicConv2d(\n",
              "      (conv): Conv2d(384, 384, kernel_size=(1, 3), stride=(1, 1), padding=(0, 1), bias=False)\n",
              "      (bn): BatchNorm2d(384, eps=0.001, momentum=0.1, affine=True, track_running_stats=True)\n",
              "    )\n",
              "    (branch3x3_2b): BasicConv2d(\n",
              "      (conv): Conv2d(384, 384, kernel_size=(3, 1), stride=(1, 1), padding=(1, 0), bias=False)\n",
              "      (bn): BatchNorm2d(384, eps=0.001, momentum=0.1, affine=True, track_running_stats=True)\n",
              "    )\n",
              "    (branch3x3dbl_1): BasicConv2d(\n",
              "      (conv): Conv2d(2048, 448, kernel_size=(1, 1), stride=(1, 1), bias=False)\n",
              "      (bn): BatchNorm2d(448, eps=0.001, momentum=0.1, affine=True, track_running_stats=True)\n",
              "    )\n",
              "    (branch3x3dbl_2): BasicConv2d(\n",
              "      (conv): Conv2d(448, 384, kernel_size=(3, 3), stride=(1, 1), padding=(1, 1), bias=False)\n",
              "      (bn): BatchNorm2d(384, eps=0.001, momentum=0.1, affine=True, track_running_stats=True)\n",
              "    )\n",
              "    (branch3x3dbl_3a): BasicConv2d(\n",
              "      (conv): Conv2d(384, 384, kernel_size=(1, 3), stride=(1, 1), padding=(0, 1), bias=False)\n",
              "      (bn): BatchNorm2d(384, eps=0.001, momentum=0.1, affine=True, track_running_stats=True)\n",
              "    )\n",
              "    (branch3x3dbl_3b): BasicConv2d(\n",
              "      (conv): Conv2d(384, 384, kernel_size=(3, 1), stride=(1, 1), padding=(1, 0), bias=False)\n",
              "      (bn): BatchNorm2d(384, eps=0.001, momentum=0.1, affine=True, track_running_stats=True)\n",
              "    )\n",
              "    (branch_pool): BasicConv2d(\n",
              "      (conv): Conv2d(2048, 192, kernel_size=(1, 1), stride=(1, 1), bias=False)\n",
              "      (bn): BatchNorm2d(192, eps=0.001, momentum=0.1, affine=True, track_running_stats=True)\n",
              "    )\n",
              "  )\n",
              "  (avgpool): AdaptiveAvgPool2d(output_size=(1, 1))\n",
              "  (dropout): Dropout(p=0.5, inplace=False)\n",
              "  (fc): Linear(in_features=2048, out_features=1000, bias=True)\n",
              ")"
            ]
          },
          "metadata": {
            "tags": []
          },
          "execution_count": 15
        }
      ]
    },
    {
      "cell_type": "code",
      "metadata": {
        "id": "WeG89AiU8kpR",
        "outputId": "ad99c548-9820-40ca-a649-d53d39a14fdd",
        "colab": {
          "base_uri": "https://localhost:8080/",
          "height": 1000
        }
      },
      "source": [
        "out = inception(batch)\n",
        "out"
      ],
      "execution_count": null,
      "outputs": [
        {
          "output_type": "execute_result",
          "data": {
            "text/plain": [
              "tensor([[-2.1722e+00,  4.6683e+00,  1.2221e+00,  8.4359e-01, -5.0714e+00,\n",
              "         -1.9895e+00, -3.3802e+00,  6.7874e+00, -3.7411e-02, -2.3918e+00,\n",
              "         -2.1637e+00,  4.9204e+00,  3.8964e+00, -1.0868e+01,  9.9527e+00,\n",
              "          9.0989e-01, -1.1696e+00,  4.3142e+00,  6.1402e-01, -5.2982e+00,\n",
              "         -3.6039e+00,  6.9213e+00, -3.5792e+00,  1.5146e+01, -1.9589e+00,\n",
              "          2.5990e+00,  1.4656e+00,  5.0665e-01, -2.2556e+00, -2.6531e+00,\n",
              "         -2.0092e+00,  1.0780e+00, -4.5120e-01, -2.2028e+00, -4.1192e-01,\n",
              "          3.1428e-01,  8.4724e+00,  1.3234e-01,  1.3575e+00,  2.7499e+00,\n",
              "          2.8335e+00,  1.7336e+00,  5.6806e+00, -1.9722e+00, -7.3763e-01,\n",
              "         -3.0401e+00,  3.8699e-01,  3.3632e-01, -3.9049e-01,  4.1336e+00,\n",
              "         -4.4403e+00,  3.9903e+00, -5.7267e+00,  1.0567e+00, -5.6724e+00,\n",
              "         -1.3699e+00,  3.8062e+00, -4.8314e+00, -1.9954e+00, -6.2321e-01,\n",
              "         -4.9008e+00, -7.8057e-01, -5.6432e+00,  2.0699e+00,  7.0181e-01,\n",
              "         -7.7678e+00, -2.7641e+00, -5.6963e+00, -1.3304e-01,  4.6223e+00,\n",
              "         -5.5563e+00,  4.5348e+00, -3.2175e+00, -5.7860e-01, -2.0941e+00,\n",
              "         -3.1514e+00, -2.4035e+00, -2.5165e+00, -7.3806e+00, -1.5481e+00,\n",
              "          2.7885e+00, -1.1902e+00, -6.6215e-01,  4.9059e+00,  7.5670e+00,\n",
              "          6.3021e+00,  9.3357e+00,  2.5790e+01,  6.0106e+01,  1.4390e+01,\n",
              "          2.5890e+01,  2.7391e+00,  1.8953e+01,  7.4944e+00,  4.9202e-01,\n",
              "          8.3797e+00,  1.3072e+01,  4.8590e+00, -1.5389e-01, -2.6068e-01,\n",
              "         -1.4916e+00,  6.8064e-01, -2.0994e+00, -1.1344e+00, -8.6812e+00,\n",
              "          3.4706e+00, -5.3012e+00,  1.1390e+00, -2.0196e+00,  2.2732e+00,\n",
              "          8.4017e-01, -3.5772e+00,  2.3708e+00, -1.4705e+00, -1.2512e+00,\n",
              "          3.9116e+00, -4.5739e+00,  3.2310e+00,  3.0209e+00,  1.5197e+00,\n",
              "          2.9632e+00,  1.3600e+00,  7.8317e-01, -1.5536e+00, -1.2400e+00,\n",
              "          1.9905e+00, -2.9859e+00,  2.9209e+00,  5.3370e+00,  7.9862e+00,\n",
              "          7.7436e+00,  6.3973e+00, -1.1239e+00, -5.0327e+00,  1.3088e+01,\n",
              "         -2.5207e+00,  1.2653e+01,  9.9210e-01, -2.9710e+00, -1.7435e+00,\n",
              "         -9.5633e-01,  2.2073e-01, -1.0292e+00, -8.0197e+00,  4.3557e+00,\n",
              "          5.8277e+00, -4.4591e+00, -1.5659e+00,  6.1755e-01, -5.0974e-01,\n",
              "          1.6077e+00, -2.2759e+00, -4.2276e-01, -2.6985e+00,  3.5486e-01,\n",
              "          4.9641e+00,  7.4809e+00,  5.2491e+00, -3.6781e+00,  3.1958e+00,\n",
              "         -2.8680e-01, -6.1920e-01, -4.4546e+00, -3.8346e+00,  2.1054e-01,\n",
              "          3.4775e+00,  1.6680e+00, -7.9053e-01,  5.6654e+00, -4.3938e-01,\n",
              "         -5.8188e+00,  4.7289e-01,  1.2487e+00, -3.2609e+00, -1.3238e+00,\n",
              "         -4.6289e+00, -2.2217e+00, -1.7978e+00, -1.5843e+00, -5.6878e+00,\n",
              "          4.5007e-01,  2.7682e-01, -6.1483e+00, -5.7526e-02,  1.2207e+00,\n",
              "         -3.3036e+00, -6.4312e-01, -2.8722e+00, -2.0561e+00, -1.8323e+00,\n",
              "          2.5630e-01,  6.4174e-01, -4.6033e+00, -5.6323e-01, -6.3632e-01,\n",
              "          7.3642e-01, -2.6495e+00, -3.0646e+00, -2.1200e+00,  1.8978e-01,\n",
              "          4.1737e+00,  1.0589e+00,  4.1907e+00, -8.4285e-01, -7.8312e-01,\n",
              "         -3.8412e+00, -2.2121e+00, -3.2120e+00, -5.7064e+00, -1.8310e+00,\n",
              "         -6.0904e+00, -6.5196e-01, -2.8611e+00,  4.9428e+00,  4.2607e+00,\n",
              "         -2.1032e+00, -1.4092e+00, -4.8330e+00,  4.1066e+00, -4.3687e+00,\n",
              "         -1.3493e+00, -9.2762e-01, -3.6878e-01, -2.4334e+00, -4.2532e+00,\n",
              "         -3.0195e+00, -7.2303e+00, -7.9862e+00, -1.0214e+00, -1.9418e+00,\n",
              "          1.7354e+00, -4.2556e+00, -6.6839e+00, -2.3899e+00,  3.2493e+00,\n",
              "         -3.2847e+00,  4.3812e+00,  5.4189e-01, -5.5641e+00,  5.7017e-01,\n",
              "          1.0984e+00, -5.6830e+00,  4.8025e+00,  2.1911e+00,  4.9198e+00,\n",
              "         -1.5418e+00, -2.6326e+00,  2.5858e+00, -7.5472e+00,  5.5648e+00,\n",
              "         -4.7398e+00, -1.3971e-01, -3.1969e+00,  4.7079e+00,  4.0621e+00,\n",
              "         -1.1909e+00, -6.7234e+00,  2.0951e+00,  1.8564e-01, -1.1106e+00,\n",
              "          8.0534e+00, -1.6137e+00,  6.3083e+00,  3.3265e+00,  2.5946e+00,\n",
              "          4.3359e-01, -1.2159e+00, -2.6797e+00,  4.4241e+00, -2.4335e+00,\n",
              "         -3.7363e+00,  7.2504e-01, -5.3610e+00, -1.7639e+00, -6.2379e+00,\n",
              "         -3.6630e+00,  1.1969e+00,  3.3151e+00, -2.0245e+00, -9.5961e+00,\n",
              "         -5.0574e+00, -5.9500e-01,  3.2016e+00, -1.2148e+00, -4.1106e+00,\n",
              "         -1.5924e+00,  1.4980e+00, -5.8296e+00,  1.7549e+00, -9.1235e-01,\n",
              "          2.9700e+00,  4.2258e+00,  4.3968e+00,  2.5892e+00, -7.5675e-01,\n",
              "         -7.1437e+00,  9.2520e-02, -4.2581e+00, -1.5441e+00, -2.2112e-01,\n",
              "         -3.9485e+00,  6.7019e+00, -3.5815e+00, -5.9931e+00, -1.7339e+00,\n",
              "         -1.5908e+00,  9.6939e-01, -4.0217e+00, -3.7294e+00,  2.3840e+00,\n",
              "         -2.2212e+00, -1.7057e+00, -2.7089e+00, -1.7202e+00, -2.7555e+00,\n",
              "         -2.9614e+00,  3.0963e+00, -5.3758e-01, -1.6401e+00,  8.3468e-02,\n",
              "         -1.4081e+00, -4.5691e-01, -2.4810e+00,  2.5712e+00,  3.6781e-01,\n",
              "         -1.9753e-01,  3.8697e+00,  7.3199e-01, -3.3642e+00,  3.6694e-01,\n",
              "         -7.3068e+00, -5.3132e+00, -3.2610e+00, -1.1333e+00, -3.6780e+00,\n",
              "         -3.7268e+00, -5.3363e+00, -8.8498e+00,  3.6073e+00,  3.5377e+00,\n",
              "          4.3208e+00, -2.1972e+00, -7.2918e+00, -1.7264e+00,  9.3643e-01,\n",
              "         -4.6152e-02,  1.0191e+00, -1.2528e-01,  3.6628e+00,  2.0700e+00,\n",
              "         -2.6379e+00, -1.5624e+00, -3.2099e+00, -6.1995e+00,  1.8403e+00,\n",
              "          2.0020e+00, -2.1088e+00, -3.9533e+00, -2.9304e+00, -7.8497e-01,\n",
              "         -8.4144e+00, -4.6182e+00, -2.7083e+00,  1.1191e-01, -2.0933e-01,\n",
              "          5.4709e+00, -2.2704e+00, -4.5108e-01,  2.4033e-01,  1.8467e+00,\n",
              "          4.6136e+00,  6.5748e+00, -1.5223e+00,  2.4475e+00,  7.8724e-01,\n",
              "          2.6580e+00,  4.5266e+00,  4.0243e+00,  1.8274e-01, -2.8853e+00,\n",
              "          1.5867e+01, -5.7070e+00,  8.5556e+00,  1.5316e+00,  2.2318e+00,\n",
              "          1.7876e+00, -2.6383e-01,  8.0867e+00, -1.9981e+00, -6.6030e+00,\n",
              "          5.2306e+00,  3.7405e+00,  1.8385e+00,  7.0784e+00,  3.3060e+00,\n",
              "         -2.8217e+00,  1.6910e+00,  4.4756e+00,  3.1187e+00, -5.2620e+00,\n",
              "          2.2661e+00,  6.6493e-01, -2.5163e+00,  2.3656e+00, -6.6803e-01,\n",
              "         -4.5200e+00,  2.2523e+00,  2.0992e-01,  2.1240e+00, -8.6410e+00,\n",
              "         -1.2262e+00,  3.4940e+00,  6.3368e-01, -4.6111e-01,  3.4601e-01,\n",
              "         -3.6757e+00, -5.2913e+00,  6.7369e+00, -2.0930e+00, -4.5913e+00,\n",
              "         -2.1516e+00, -5.3630e-01, -4.3769e-01,  1.0136e+00, -2.8715e+00,\n",
              "         -1.0508e+00, -2.2236e+00, -5.7115e+00,  1.8565e-01,  2.4450e+00,\n",
              "         -4.2083e-01,  4.3169e+00, -1.2169e+00,  3.6722e+00,  9.7658e-01,\n",
              "         -2.4566e+00, -8.7684e-01, -2.6152e+00, -1.5471e+00, -3.2565e-01,\n",
              "         -1.7118e+00,  4.0992e+00, -2.4794e-01,  3.5204e+00,  1.1365e+00,\n",
              "          7.7241e-01,  3.0646e+00,  6.8954e-01,  3.7304e+00,  4.3668e+00,\n",
              "          3.3393e+00,  3.1192e+00,  2.0354e+00, -2.3653e+00, -3.8201e+00,\n",
              "         -1.3693e+00,  2.5005e+00, -3.8077e+00,  4.8505e-01, -1.8286e+00,\n",
              "         -5.5828e+00, -1.9486e+00, -2.2818e+00,  2.0223e+00,  5.2589e+00,\n",
              "          2.8888e-01, -3.0513e+00, -3.1728e+00, -2.4719e-01,  3.2585e+00,\n",
              "         -8.2370e-01,  2.6968e+00,  1.7278e+00,  2.4973e+00,  3.9328e-03,\n",
              "          1.7433e+00,  2.9275e+00,  1.9909e+00, -7.7188e-01, -6.2032e+00,\n",
              "         -3.2380e+00, -1.3477e+00, -3.6707e+00, -2.5944e+00, -2.0671e+00,\n",
              "         -5.1704e+00, -2.3154e-01,  6.2546e-01,  8.7198e-01, -7.3178e-02,\n",
              "          4.8104e+00,  3.3383e+00,  5.2415e-01, -1.6862e+00,  1.3125e+00,\n",
              "         -2.5839e-01,  3.4700e+00, -2.3960e+00, -2.3874e+00,  1.4368e+00,\n",
              "          3.0826e+00,  1.6122e+00, -3.1880e+00,  3.5015e+00,  1.5393e+00,\n",
              "         -3.0454e+00, -2.9597e+00, -1.2085e+00,  1.3373e+00, -5.4592e+00,\n",
              "          2.6358e+00, -5.3928e+00, -3.7796e+00,  2.3927e+00, -9.9096e-02,\n",
              "         -2.9238e+00,  2.4192e+00,  5.7738e+00,  1.0141e+01, -3.3894e+00,\n",
              "         -2.6031e+00, -1.4810e+00,  1.1231e+01,  5.5764e-01,  5.3489e+00,\n",
              "          1.5804e+00, -3.3004e+00,  1.6154e+00,  2.8420e+00, -1.7586e+00,\n",
              "         -2.0614e+00, -1.9106e+00, -4.3881e+00,  5.0577e-01, -5.3208e+00,\n",
              "          3.7587e-01, -1.6401e+00,  1.8353e+00, -4.2110e+00, -5.4282e+00,\n",
              "          3.1189e+00, -1.0567e-01, -8.8880e+00,  2.6142e+00,  3.0185e+00,\n",
              "          2.0992e+00,  1.2163e+00,  1.2040e+00, -9.0055e-01, -1.9001e+00,\n",
              "         -2.6804e+00,  2.6008e+00,  6.4360e+00, -2.3879e-01, -1.5400e+00,\n",
              "          5.6525e+00,  5.8723e-01,  6.1502e-01,  1.1512e+00, -7.0969e+00,\n",
              "          6.7143e+00,  1.5419e+00, -3.4813e+00, -3.3238e+00,  1.3907e+00,\n",
              "          7.7865e-01,  1.8521e+00, -9.8885e-01, -2.1485e-01,  2.5061e+00,\n",
              "          7.9568e+00,  3.0988e+00,  1.3222e+00,  1.8181e+00, -3.0202e+00,\n",
              "         -9.6729e-01,  4.2378e+00,  7.6862e+00, -1.4072e+00,  4.4813e-01,\n",
              "         -3.9531e+00, -2.8145e+00, -1.4061e+01,  3.5978e+00, -1.5491e+00,\n",
              "         -4.2893e+00,  2.3165e+00,  1.0295e+00, -5.7925e+00, -2.0519e+00,\n",
              "         -2.6300e+00,  6.3438e+00, -6.4609e-01, -1.3531e+00,  1.4761e+00,\n",
              "          3.8557e-01, -2.3128e+00,  5.6779e+00,  2.8055e-02, -1.5557e+00,\n",
              "          3.3469e+00, -1.2255e+00, -9.2809e-01,  5.4126e-01, -2.3713e+00,\n",
              "         -1.4742e+00, -1.0366e+00,  3.5829e+00, -2.7279e+00,  1.1602e+00,\n",
              "         -2.5806e+00, -5.4069e-01,  3.6156e+00,  3.4952e+00, -8.7590e-01,\n",
              "         -5.3723e-01,  3.1623e+00, -1.7535e+00,  7.8122e+00, -3.1361e-01,\n",
              "         -4.6609e+00,  1.9399e+00, -7.4049e+00, -4.5867e+00, -8.4385e-01,\n",
              "          2.2868e+00,  2.1533e-01, -1.1858e+00, -9.7947e-01, -3.9635e+00,\n",
              "         -1.6363e+00, -4.4520e+00,  3.6136e-01, -2.7638e+00,  2.3586e+00,\n",
              "         -1.5072e+00, -5.4559e+00, -3.1956e+00, -7.8176e-01,  2.0002e+00,\n",
              "          1.5550e+00,  9.2671e+00,  1.4340e+01,  7.3866e+00,  6.6078e-01,\n",
              "          2.5720e+00, -2.0623e+00, -3.1471e+00,  1.4696e+00, -2.7131e+00,\n",
              "          1.5386e+00, -6.8568e+00, -2.2478e+00, -8.9589e-01,  1.2412e-01,\n",
              "         -4.3025e+00, -3.0669e-02, -1.5197e+00,  3.3932e+00, -3.1876e+00,\n",
              "          3.2411e+00, -1.9980e+00, -2.0344e+00,  2.6821e+00,  1.8039e-01,\n",
              "          2.8114e+00, -5.7156e-01,  5.3905e-01,  3.1033e-01, -1.0777e+00,\n",
              "          1.1952e+00,  3.2501e+00,  4.5386e+00,  2.9268e+00, -7.9269e-01,\n",
              "          2.5271e+00,  4.6193e+00, -1.1418e+00,  1.8552e+00,  3.4855e+00,\n",
              "         -3.5134e+00, -4.3968e+00, -4.0501e+00, -2.7885e+00,  2.3770e-01,\n",
              "         -1.0067e+00, -3.7431e+00, -4.5607e-01,  1.7711e+00, -1.5247e+00,\n",
              "          1.3051e+00,  1.4260e+00, -6.0370e+00, -1.8020e+00,  1.2854e+00,\n",
              "          3.7407e+00,  9.9499e-01, -1.1584e+00, -1.4433e+00,  1.3212e+00,\n",
              "          1.6352e+00, -4.6780e-01, -3.3498e+00, -2.1915e+00,  4.3008e-01,\n",
              "          2.6708e+00, -5.0261e+00,  4.2330e+00, -4.3775e+00,  8.3425e+00,\n",
              "          6.4338e+00, -5.0648e+00,  2.0631e+00, -3.3459e+00,  1.7749e+00,\n",
              "          1.9061e+00,  1.2313e+00,  2.9897e+00,  1.7786e+00,  5.1672e+00,\n",
              "          8.3955e-02, -1.6826e+00,  8.9833e-02,  8.6747e-01, -2.2082e+00,\n",
              "          2.7625e+00,  3.1558e+00, -9.0204e-01, -1.9086e+00, -2.0811e+00,\n",
              "          1.6588e+00,  4.9451e+00,  2.9793e+00,  4.1003e-01, -4.3079e+00,\n",
              "          6.6674e-01,  3.4706e+00, -2.2883e+00, -3.2450e+00,  1.8369e+00,\n",
              "          3.2594e-01, -8.0552e-01,  1.1542e+00,  1.0668e+00, -2.6485e+00,\n",
              "         -4.2555e+00, -3.6685e+00,  8.7051e+00,  1.3678e+00, -4.5398e+00,\n",
              "         -1.6768e+00,  7.2143e-01, -1.7642e+00,  3.2999e+00, -3.9111e+00,\n",
              "          9.0253e-01,  7.4107e-01, -2.2600e+00, -5.4582e+00, -1.9876e+00,\n",
              "         -2.4199e+00, -3.3609e+00, -3.1308e+00, -5.6085e+00,  3.1193e-02,\n",
              "         -4.0994e+00, -4.7098e+00,  8.4225e+00, -5.1824e+00,  9.3451e-01,\n",
              "          1.0338e+00,  5.4932e+00, -5.4034e-01, -5.2587e+00, -2.3455e+00,\n",
              "          6.6197e+00, -7.0865e-01,  2.2889e+00, -2.3157e+00, -1.8309e+00,\n",
              "          1.6174e-01, -3.3044e+00,  1.8019e-01, -8.2155e-01, -3.9610e+00,\n",
              "         -2.2039e+00, -8.3405e-01,  1.1568e+01, -4.0402e+00, -1.8531e+00,\n",
              "          1.8948e-01, -7.1662e-01, -4.7936e-01,  1.0602e+00, -4.9250e+00,\n",
              "          6.3547e+00,  1.2299e+00,  5.4012e+00,  1.7506e+00, -1.9949e+00,\n",
              "          1.9374e+00, -2.1098e+00,  4.4072e+00,  4.2692e-01, -6.3715e+00,\n",
              "         -1.6437e+00, -2.0849e+00,  3.4546e-01,  1.6002e-01,  2.0349e+00,\n",
              "         -3.4193e-01, -1.0303e+00, -5.5220e-01, -3.5431e+00,  5.3642e-01,\n",
              "         -2.1361e+00, -4.2154e-01,  1.7829e+00, -1.6531e-01, -6.6957e+00,\n",
              "          1.4220e+00,  1.9090e-03,  4.8604e+00,  1.4111e+00,  6.0115e+00,\n",
              "         -3.6557e+00, -8.7988e+00, -1.7151e+00, -4.8696e+00,  1.8595e+00,\n",
              "          4.4862e+00,  1.1780e+00,  3.1979e+00,  1.7890e+00, -3.3714e+00,\n",
              "         -3.5327e+00, -2.2276e+00,  3.1661e-01, -5.1534e+00, -2.6708e-01,\n",
              "          1.0358e+01, -1.2522e+00, -3.8958e+00,  2.2196e+00, -1.5413e+00,\n",
              "         -3.5103e+00, -2.4305e+00, -1.1988e+00, -4.2597e+00, -2.4741e-01,\n",
              "          1.9551e+00,  4.6383e+00, -3.2087e+00,  2.4885e+00, -7.2329e-01,\n",
              "          6.4972e+00,  7.3661e-01, -9.2824e-01, -8.2532e-01, -5.2780e+00,\n",
              "         -2.7921e+00, -5.1910e+00, -2.1978e+00, -4.8670e-02, -1.3365e+00,\n",
              "          4.8568e-01, -3.2554e-01, -7.1071e+00,  5.2741e-01, -7.1289e+00,\n",
              "         -2.6289e+00, -1.1013e+00, -8.1224e+00,  2.7188e-01, -1.8701e-01,\n",
              "         -2.0773e-01, -5.8456e+00,  4.4975e+00,  1.7919e+00, -5.2471e-01,\n",
              "          2.0209e+00, -1.4544e-01, -3.0335e-01,  4.2223e+00, -2.7138e+00,\n",
              "         -4.3498e+00,  2.4037e+00, -1.7577e+00, -3.5958e+00, -2.9548e+00,\n",
              "          8.7059e-01,  4.9348e-02, -7.8926e+00, -1.3931e+00, -1.8759e-01,\n",
              "         -1.4606e+00, -5.5265e+00, -6.4512e+00, -2.6334e+00, -1.4006e+00,\n",
              "         -2.5094e+00, -4.1447e+00, -1.7121e+00, -2.7982e-02, -4.9769e+00,\n",
              "         -7.3956e+00, -1.9721e-01, -3.1329e-01, -4.6840e+00,  3.7475e+00,\n",
              "         -4.5752e+00, -5.2063e+00, -1.9770e+00,  1.6873e+00, -9.7106e-01,\n",
              "          8.8576e-01, -1.4794e+00,  2.7964e+00, -2.4239e+00, -2.3067e-01,\n",
              "         -4.6330e-01,  4.1341e-01, -6.6186e+00, -1.0366e+00,  3.0867e+00,\n",
              "          5.6453e-01, -2.3032e+00,  3.4864e+00, -4.5570e-01, -6.1337e+00,\n",
              "         -3.4957e+00, -1.4634e+00, -1.0047e+00,  2.6117e-01,  9.2835e-01,\n",
              "         -1.6318e+00,  1.4832e+00, -3.7936e+00,  3.8242e+00,  7.0466e-01,\n",
              "          6.6513e-01,  6.2155e+00, -5.2986e+00,  2.2275e+00,  2.8098e+00,\n",
              "          4.3731e+00, -1.7959e+00,  1.3572e+00, -4.7347e-01,  3.6389e+00,\n",
              "          1.0053e+00, -3.5432e+00,  4.3884e+00, -1.5783e+00,  2.2168e+00,\n",
              "          3.2164e+00,  4.9382e+00,  5.6845e+00, -1.2533e+00, -3.6919e+00,\n",
              "         -4.0738e+00, -1.1665e+00,  1.1391e+00,  1.6499e+00,  2.6861e+00,\n",
              "          2.8342e+00, -1.7736e+00, -7.5535e+00, -6.2691e+00, -2.2545e+00,\n",
              "         -2.9194e+00,  1.0422e-01,  2.8535e+00, -2.0737e+00, -2.7233e+00,\n",
              "         -5.7277e+00, -4.6392e+00, -3.2002e+00, -5.8090e+00, -2.7685e+00,\n",
              "         -5.7016e-02, -4.6178e+00, -5.1632e+00, -2.0160e+00, -4.5322e+00,\n",
              "         -1.6676e+00, -5.0498e-01, -2.2330e+00,  2.9785e+00,  7.5991e+00,\n",
              "          1.7877e+00,  1.5490e+00,  7.9822e+00,  1.8588e+00,  2.2050e+00,\n",
              "         -4.8536e-01, -1.2160e+00,  3.9699e+00, -1.8037e+00,  3.0245e+00]],\n",
              "       grad_fn=<AddmmBackward>)"
            ]
          },
          "metadata": {
            "tags": []
          },
          "execution_count": 16
        }
      ]
    },
    {
      "cell_type": "markdown",
      "metadata": {
        "id": "Oxf6ED048ylB"
      },
      "source": [
        "Se descargan y almacenan en una lista las etiquetas o labels de comparación para la imagen procesada en el modelo:"
      ]
    },
    {
      "cell_type": "code",
      "metadata": {
        "id": "DuYx-Zbv8y5z"
      },
      "source": [
        "request.urlretrieve('https://gist.githubusercontent.com/ykro/acb00a36f737c12013f6e0f8a0d2cb61/raw/a2bb113b83e274048992f6550050a437fa4db76d/imagenet_classes.txt', 'labels.txt')\n",
        "with open('labels.txt') as f:\n",
        "    labels = [line.strip() for line in f.readlines()]"
      ],
      "execution_count": null,
      "outputs": []
    },
    {
      "cell_type": "code",
      "metadata": {
        "id": "yTZkJzRF9CCm",
        "outputId": "37ded4c2-ee30-4cc1-a41a-f01ce32abbcb",
        "colab": {
          "base_uri": "https://localhost:8080/",
          "height": 1000
        }
      },
      "source": [
        "#se observa la salida del modelo\n",
        "out"
      ],
      "execution_count": null,
      "outputs": [
        {
          "output_type": "execute_result",
          "data": {
            "text/plain": [
              "tensor([[-2.1722e+00,  4.6683e+00,  1.2221e+00,  8.4359e-01, -5.0714e+00,\n",
              "         -1.9895e+00, -3.3802e+00,  6.7874e+00, -3.7411e-02, -2.3918e+00,\n",
              "         -2.1637e+00,  4.9204e+00,  3.8964e+00, -1.0868e+01,  9.9527e+00,\n",
              "          9.0989e-01, -1.1696e+00,  4.3142e+00,  6.1402e-01, -5.2982e+00,\n",
              "         -3.6039e+00,  6.9213e+00, -3.5792e+00,  1.5146e+01, -1.9589e+00,\n",
              "          2.5990e+00,  1.4656e+00,  5.0665e-01, -2.2556e+00, -2.6531e+00,\n",
              "         -2.0092e+00,  1.0780e+00, -4.5120e-01, -2.2028e+00, -4.1192e-01,\n",
              "          3.1428e-01,  8.4724e+00,  1.3234e-01,  1.3575e+00,  2.7499e+00,\n",
              "          2.8335e+00,  1.7336e+00,  5.6806e+00, -1.9722e+00, -7.3763e-01,\n",
              "         -3.0401e+00,  3.8699e-01,  3.3632e-01, -3.9049e-01,  4.1336e+00,\n",
              "         -4.4403e+00,  3.9903e+00, -5.7267e+00,  1.0567e+00, -5.6724e+00,\n",
              "         -1.3699e+00,  3.8062e+00, -4.8314e+00, -1.9954e+00, -6.2321e-01,\n",
              "         -4.9008e+00, -7.8057e-01, -5.6432e+00,  2.0699e+00,  7.0181e-01,\n",
              "         -7.7678e+00, -2.7641e+00, -5.6963e+00, -1.3304e-01,  4.6223e+00,\n",
              "         -5.5563e+00,  4.5348e+00, -3.2175e+00, -5.7860e-01, -2.0941e+00,\n",
              "         -3.1514e+00, -2.4035e+00, -2.5165e+00, -7.3806e+00, -1.5481e+00,\n",
              "          2.7885e+00, -1.1902e+00, -6.6215e-01,  4.9059e+00,  7.5670e+00,\n",
              "          6.3021e+00,  9.3357e+00,  2.5790e+01,  6.0106e+01,  1.4390e+01,\n",
              "          2.5890e+01,  2.7391e+00,  1.8953e+01,  7.4944e+00,  4.9202e-01,\n",
              "          8.3797e+00,  1.3072e+01,  4.8590e+00, -1.5389e-01, -2.6068e-01,\n",
              "         -1.4916e+00,  6.8064e-01, -2.0994e+00, -1.1344e+00, -8.6812e+00,\n",
              "          3.4706e+00, -5.3012e+00,  1.1390e+00, -2.0196e+00,  2.2732e+00,\n",
              "          8.4017e-01, -3.5772e+00,  2.3708e+00, -1.4705e+00, -1.2512e+00,\n",
              "          3.9116e+00, -4.5739e+00,  3.2310e+00,  3.0209e+00,  1.5197e+00,\n",
              "          2.9632e+00,  1.3600e+00,  7.8317e-01, -1.5536e+00, -1.2400e+00,\n",
              "          1.9905e+00, -2.9859e+00,  2.9209e+00,  5.3370e+00,  7.9862e+00,\n",
              "          7.7436e+00,  6.3973e+00, -1.1239e+00, -5.0327e+00,  1.3088e+01,\n",
              "         -2.5207e+00,  1.2653e+01,  9.9210e-01, -2.9710e+00, -1.7435e+00,\n",
              "         -9.5633e-01,  2.2073e-01, -1.0292e+00, -8.0197e+00,  4.3557e+00,\n",
              "          5.8277e+00, -4.4591e+00, -1.5659e+00,  6.1755e-01, -5.0974e-01,\n",
              "          1.6077e+00, -2.2759e+00, -4.2276e-01, -2.6985e+00,  3.5486e-01,\n",
              "          4.9641e+00,  7.4809e+00,  5.2491e+00, -3.6781e+00,  3.1958e+00,\n",
              "         -2.8680e-01, -6.1920e-01, -4.4546e+00, -3.8346e+00,  2.1054e-01,\n",
              "          3.4775e+00,  1.6680e+00, -7.9053e-01,  5.6654e+00, -4.3938e-01,\n",
              "         -5.8188e+00,  4.7289e-01,  1.2487e+00, -3.2609e+00, -1.3238e+00,\n",
              "         -4.6289e+00, -2.2217e+00, -1.7978e+00, -1.5843e+00, -5.6878e+00,\n",
              "          4.5007e-01,  2.7682e-01, -6.1483e+00, -5.7526e-02,  1.2207e+00,\n",
              "         -3.3036e+00, -6.4312e-01, -2.8722e+00, -2.0561e+00, -1.8323e+00,\n",
              "          2.5630e-01,  6.4174e-01, -4.6033e+00, -5.6323e-01, -6.3632e-01,\n",
              "          7.3642e-01, -2.6495e+00, -3.0646e+00, -2.1200e+00,  1.8978e-01,\n",
              "          4.1737e+00,  1.0589e+00,  4.1907e+00, -8.4285e-01, -7.8312e-01,\n",
              "         -3.8412e+00, -2.2121e+00, -3.2120e+00, -5.7064e+00, -1.8310e+00,\n",
              "         -6.0904e+00, -6.5196e-01, -2.8611e+00,  4.9428e+00,  4.2607e+00,\n",
              "         -2.1032e+00, -1.4092e+00, -4.8330e+00,  4.1066e+00, -4.3687e+00,\n",
              "         -1.3493e+00, -9.2762e-01, -3.6878e-01, -2.4334e+00, -4.2532e+00,\n",
              "         -3.0195e+00, -7.2303e+00, -7.9862e+00, -1.0214e+00, -1.9418e+00,\n",
              "          1.7354e+00, -4.2556e+00, -6.6839e+00, -2.3899e+00,  3.2493e+00,\n",
              "         -3.2847e+00,  4.3812e+00,  5.4189e-01, -5.5641e+00,  5.7017e-01,\n",
              "          1.0984e+00, -5.6830e+00,  4.8025e+00,  2.1911e+00,  4.9198e+00,\n",
              "         -1.5418e+00, -2.6326e+00,  2.5858e+00, -7.5472e+00,  5.5648e+00,\n",
              "         -4.7398e+00, -1.3971e-01, -3.1969e+00,  4.7079e+00,  4.0621e+00,\n",
              "         -1.1909e+00, -6.7234e+00,  2.0951e+00,  1.8564e-01, -1.1106e+00,\n",
              "          8.0534e+00, -1.6137e+00,  6.3083e+00,  3.3265e+00,  2.5946e+00,\n",
              "          4.3359e-01, -1.2159e+00, -2.6797e+00,  4.4241e+00, -2.4335e+00,\n",
              "         -3.7363e+00,  7.2504e-01, -5.3610e+00, -1.7639e+00, -6.2379e+00,\n",
              "         -3.6630e+00,  1.1969e+00,  3.3151e+00, -2.0245e+00, -9.5961e+00,\n",
              "         -5.0574e+00, -5.9500e-01,  3.2016e+00, -1.2148e+00, -4.1106e+00,\n",
              "         -1.5924e+00,  1.4980e+00, -5.8296e+00,  1.7549e+00, -9.1235e-01,\n",
              "          2.9700e+00,  4.2258e+00,  4.3968e+00,  2.5892e+00, -7.5675e-01,\n",
              "         -7.1437e+00,  9.2520e-02, -4.2581e+00, -1.5441e+00, -2.2112e-01,\n",
              "         -3.9485e+00,  6.7019e+00, -3.5815e+00, -5.9931e+00, -1.7339e+00,\n",
              "         -1.5908e+00,  9.6939e-01, -4.0217e+00, -3.7294e+00,  2.3840e+00,\n",
              "         -2.2212e+00, -1.7057e+00, -2.7089e+00, -1.7202e+00, -2.7555e+00,\n",
              "         -2.9614e+00,  3.0963e+00, -5.3758e-01, -1.6401e+00,  8.3468e-02,\n",
              "         -1.4081e+00, -4.5691e-01, -2.4810e+00,  2.5712e+00,  3.6781e-01,\n",
              "         -1.9753e-01,  3.8697e+00,  7.3199e-01, -3.3642e+00,  3.6694e-01,\n",
              "         -7.3068e+00, -5.3132e+00, -3.2610e+00, -1.1333e+00, -3.6780e+00,\n",
              "         -3.7268e+00, -5.3363e+00, -8.8498e+00,  3.6073e+00,  3.5377e+00,\n",
              "          4.3208e+00, -2.1972e+00, -7.2918e+00, -1.7264e+00,  9.3643e-01,\n",
              "         -4.6152e-02,  1.0191e+00, -1.2528e-01,  3.6628e+00,  2.0700e+00,\n",
              "         -2.6379e+00, -1.5624e+00, -3.2099e+00, -6.1995e+00,  1.8403e+00,\n",
              "          2.0020e+00, -2.1088e+00, -3.9533e+00, -2.9304e+00, -7.8497e-01,\n",
              "         -8.4144e+00, -4.6182e+00, -2.7083e+00,  1.1191e-01, -2.0933e-01,\n",
              "          5.4709e+00, -2.2704e+00, -4.5108e-01,  2.4033e-01,  1.8467e+00,\n",
              "          4.6136e+00,  6.5748e+00, -1.5223e+00,  2.4475e+00,  7.8724e-01,\n",
              "          2.6580e+00,  4.5266e+00,  4.0243e+00,  1.8274e-01, -2.8853e+00,\n",
              "          1.5867e+01, -5.7070e+00,  8.5556e+00,  1.5316e+00,  2.2318e+00,\n",
              "          1.7876e+00, -2.6383e-01,  8.0867e+00, -1.9981e+00, -6.6030e+00,\n",
              "          5.2306e+00,  3.7405e+00,  1.8385e+00,  7.0784e+00,  3.3060e+00,\n",
              "         -2.8217e+00,  1.6910e+00,  4.4756e+00,  3.1187e+00, -5.2620e+00,\n",
              "          2.2661e+00,  6.6493e-01, -2.5163e+00,  2.3656e+00, -6.6803e-01,\n",
              "         -4.5200e+00,  2.2523e+00,  2.0992e-01,  2.1240e+00, -8.6410e+00,\n",
              "         -1.2262e+00,  3.4940e+00,  6.3368e-01, -4.6111e-01,  3.4601e-01,\n",
              "         -3.6757e+00, -5.2913e+00,  6.7369e+00, -2.0930e+00, -4.5913e+00,\n",
              "         -2.1516e+00, -5.3630e-01, -4.3769e-01,  1.0136e+00, -2.8715e+00,\n",
              "         -1.0508e+00, -2.2236e+00, -5.7115e+00,  1.8565e-01,  2.4450e+00,\n",
              "         -4.2083e-01,  4.3169e+00, -1.2169e+00,  3.6722e+00,  9.7658e-01,\n",
              "         -2.4566e+00, -8.7684e-01, -2.6152e+00, -1.5471e+00, -3.2565e-01,\n",
              "         -1.7118e+00,  4.0992e+00, -2.4794e-01,  3.5204e+00,  1.1365e+00,\n",
              "          7.7241e-01,  3.0646e+00,  6.8954e-01,  3.7304e+00,  4.3668e+00,\n",
              "          3.3393e+00,  3.1192e+00,  2.0354e+00, -2.3653e+00, -3.8201e+00,\n",
              "         -1.3693e+00,  2.5005e+00, -3.8077e+00,  4.8505e-01, -1.8286e+00,\n",
              "         -5.5828e+00, -1.9486e+00, -2.2818e+00,  2.0223e+00,  5.2589e+00,\n",
              "          2.8888e-01, -3.0513e+00, -3.1728e+00, -2.4719e-01,  3.2585e+00,\n",
              "         -8.2370e-01,  2.6968e+00,  1.7278e+00,  2.4973e+00,  3.9328e-03,\n",
              "          1.7433e+00,  2.9275e+00,  1.9909e+00, -7.7188e-01, -6.2032e+00,\n",
              "         -3.2380e+00, -1.3477e+00, -3.6707e+00, -2.5944e+00, -2.0671e+00,\n",
              "         -5.1704e+00, -2.3154e-01,  6.2546e-01,  8.7198e-01, -7.3178e-02,\n",
              "          4.8104e+00,  3.3383e+00,  5.2415e-01, -1.6862e+00,  1.3125e+00,\n",
              "         -2.5839e-01,  3.4700e+00, -2.3960e+00, -2.3874e+00,  1.4368e+00,\n",
              "          3.0826e+00,  1.6122e+00, -3.1880e+00,  3.5015e+00,  1.5393e+00,\n",
              "         -3.0454e+00, -2.9597e+00, -1.2085e+00,  1.3373e+00, -5.4592e+00,\n",
              "          2.6358e+00, -5.3928e+00, -3.7796e+00,  2.3927e+00, -9.9096e-02,\n",
              "         -2.9238e+00,  2.4192e+00,  5.7738e+00,  1.0141e+01, -3.3894e+00,\n",
              "         -2.6031e+00, -1.4810e+00,  1.1231e+01,  5.5764e-01,  5.3489e+00,\n",
              "          1.5804e+00, -3.3004e+00,  1.6154e+00,  2.8420e+00, -1.7586e+00,\n",
              "         -2.0614e+00, -1.9106e+00, -4.3881e+00,  5.0577e-01, -5.3208e+00,\n",
              "          3.7587e-01, -1.6401e+00,  1.8353e+00, -4.2110e+00, -5.4282e+00,\n",
              "          3.1189e+00, -1.0567e-01, -8.8880e+00,  2.6142e+00,  3.0185e+00,\n",
              "          2.0992e+00,  1.2163e+00,  1.2040e+00, -9.0055e-01, -1.9001e+00,\n",
              "         -2.6804e+00,  2.6008e+00,  6.4360e+00, -2.3879e-01, -1.5400e+00,\n",
              "          5.6525e+00,  5.8723e-01,  6.1502e-01,  1.1512e+00, -7.0969e+00,\n",
              "          6.7143e+00,  1.5419e+00, -3.4813e+00, -3.3238e+00,  1.3907e+00,\n",
              "          7.7865e-01,  1.8521e+00, -9.8885e-01, -2.1485e-01,  2.5061e+00,\n",
              "          7.9568e+00,  3.0988e+00,  1.3222e+00,  1.8181e+00, -3.0202e+00,\n",
              "         -9.6729e-01,  4.2378e+00,  7.6862e+00, -1.4072e+00,  4.4813e-01,\n",
              "         -3.9531e+00, -2.8145e+00, -1.4061e+01,  3.5978e+00, -1.5491e+00,\n",
              "         -4.2893e+00,  2.3165e+00,  1.0295e+00, -5.7925e+00, -2.0519e+00,\n",
              "         -2.6300e+00,  6.3438e+00, -6.4609e-01, -1.3531e+00,  1.4761e+00,\n",
              "          3.8557e-01, -2.3128e+00,  5.6779e+00,  2.8055e-02, -1.5557e+00,\n",
              "          3.3469e+00, -1.2255e+00, -9.2809e-01,  5.4126e-01, -2.3713e+00,\n",
              "         -1.4742e+00, -1.0366e+00,  3.5829e+00, -2.7279e+00,  1.1602e+00,\n",
              "         -2.5806e+00, -5.4069e-01,  3.6156e+00,  3.4952e+00, -8.7590e-01,\n",
              "         -5.3723e-01,  3.1623e+00, -1.7535e+00,  7.8122e+00, -3.1361e-01,\n",
              "         -4.6609e+00,  1.9399e+00, -7.4049e+00, -4.5867e+00, -8.4385e-01,\n",
              "          2.2868e+00,  2.1533e-01, -1.1858e+00, -9.7947e-01, -3.9635e+00,\n",
              "         -1.6363e+00, -4.4520e+00,  3.6136e-01, -2.7638e+00,  2.3586e+00,\n",
              "         -1.5072e+00, -5.4559e+00, -3.1956e+00, -7.8176e-01,  2.0002e+00,\n",
              "          1.5550e+00,  9.2671e+00,  1.4340e+01,  7.3866e+00,  6.6078e-01,\n",
              "          2.5720e+00, -2.0623e+00, -3.1471e+00,  1.4696e+00, -2.7131e+00,\n",
              "          1.5386e+00, -6.8568e+00, -2.2478e+00, -8.9589e-01,  1.2412e-01,\n",
              "         -4.3025e+00, -3.0669e-02, -1.5197e+00,  3.3932e+00, -3.1876e+00,\n",
              "          3.2411e+00, -1.9980e+00, -2.0344e+00,  2.6821e+00,  1.8039e-01,\n",
              "          2.8114e+00, -5.7156e-01,  5.3905e-01,  3.1033e-01, -1.0777e+00,\n",
              "          1.1952e+00,  3.2501e+00,  4.5386e+00,  2.9268e+00, -7.9269e-01,\n",
              "          2.5271e+00,  4.6193e+00, -1.1418e+00,  1.8552e+00,  3.4855e+00,\n",
              "         -3.5134e+00, -4.3968e+00, -4.0501e+00, -2.7885e+00,  2.3770e-01,\n",
              "         -1.0067e+00, -3.7431e+00, -4.5607e-01,  1.7711e+00, -1.5247e+00,\n",
              "          1.3051e+00,  1.4260e+00, -6.0370e+00, -1.8020e+00,  1.2854e+00,\n",
              "          3.7407e+00,  9.9499e-01, -1.1584e+00, -1.4433e+00,  1.3212e+00,\n",
              "          1.6352e+00, -4.6780e-01, -3.3498e+00, -2.1915e+00,  4.3008e-01,\n",
              "          2.6708e+00, -5.0261e+00,  4.2330e+00, -4.3775e+00,  8.3425e+00,\n",
              "          6.4338e+00, -5.0648e+00,  2.0631e+00, -3.3459e+00,  1.7749e+00,\n",
              "          1.9061e+00,  1.2313e+00,  2.9897e+00,  1.7786e+00,  5.1672e+00,\n",
              "          8.3955e-02, -1.6826e+00,  8.9833e-02,  8.6747e-01, -2.2082e+00,\n",
              "          2.7625e+00,  3.1558e+00, -9.0204e-01, -1.9086e+00, -2.0811e+00,\n",
              "          1.6588e+00,  4.9451e+00,  2.9793e+00,  4.1003e-01, -4.3079e+00,\n",
              "          6.6674e-01,  3.4706e+00, -2.2883e+00, -3.2450e+00,  1.8369e+00,\n",
              "          3.2594e-01, -8.0552e-01,  1.1542e+00,  1.0668e+00, -2.6485e+00,\n",
              "         -4.2555e+00, -3.6685e+00,  8.7051e+00,  1.3678e+00, -4.5398e+00,\n",
              "         -1.6768e+00,  7.2143e-01, -1.7642e+00,  3.2999e+00, -3.9111e+00,\n",
              "          9.0253e-01,  7.4107e-01, -2.2600e+00, -5.4582e+00, -1.9876e+00,\n",
              "         -2.4199e+00, -3.3609e+00, -3.1308e+00, -5.6085e+00,  3.1193e-02,\n",
              "         -4.0994e+00, -4.7098e+00,  8.4225e+00, -5.1824e+00,  9.3451e-01,\n",
              "          1.0338e+00,  5.4932e+00, -5.4034e-01, -5.2587e+00, -2.3455e+00,\n",
              "          6.6197e+00, -7.0865e-01,  2.2889e+00, -2.3157e+00, -1.8309e+00,\n",
              "          1.6174e-01, -3.3044e+00,  1.8019e-01, -8.2155e-01, -3.9610e+00,\n",
              "         -2.2039e+00, -8.3405e-01,  1.1568e+01, -4.0402e+00, -1.8531e+00,\n",
              "          1.8948e-01, -7.1662e-01, -4.7936e-01,  1.0602e+00, -4.9250e+00,\n",
              "          6.3547e+00,  1.2299e+00,  5.4012e+00,  1.7506e+00, -1.9949e+00,\n",
              "          1.9374e+00, -2.1098e+00,  4.4072e+00,  4.2692e-01, -6.3715e+00,\n",
              "         -1.6437e+00, -2.0849e+00,  3.4546e-01,  1.6002e-01,  2.0349e+00,\n",
              "         -3.4193e-01, -1.0303e+00, -5.5220e-01, -3.5431e+00,  5.3642e-01,\n",
              "         -2.1361e+00, -4.2154e-01,  1.7829e+00, -1.6531e-01, -6.6957e+00,\n",
              "          1.4220e+00,  1.9090e-03,  4.8604e+00,  1.4111e+00,  6.0115e+00,\n",
              "         -3.6557e+00, -8.7988e+00, -1.7151e+00, -4.8696e+00,  1.8595e+00,\n",
              "          4.4862e+00,  1.1780e+00,  3.1979e+00,  1.7890e+00, -3.3714e+00,\n",
              "         -3.5327e+00, -2.2276e+00,  3.1661e-01, -5.1534e+00, -2.6708e-01,\n",
              "          1.0358e+01, -1.2522e+00, -3.8958e+00,  2.2196e+00, -1.5413e+00,\n",
              "         -3.5103e+00, -2.4305e+00, -1.1988e+00, -4.2597e+00, -2.4741e-01,\n",
              "          1.9551e+00,  4.6383e+00, -3.2087e+00,  2.4885e+00, -7.2329e-01,\n",
              "          6.4972e+00,  7.3661e-01, -9.2824e-01, -8.2532e-01, -5.2780e+00,\n",
              "         -2.7921e+00, -5.1910e+00, -2.1978e+00, -4.8670e-02, -1.3365e+00,\n",
              "          4.8568e-01, -3.2554e-01, -7.1071e+00,  5.2741e-01, -7.1289e+00,\n",
              "         -2.6289e+00, -1.1013e+00, -8.1224e+00,  2.7188e-01, -1.8701e-01,\n",
              "         -2.0773e-01, -5.8456e+00,  4.4975e+00,  1.7919e+00, -5.2471e-01,\n",
              "          2.0209e+00, -1.4544e-01, -3.0335e-01,  4.2223e+00, -2.7138e+00,\n",
              "         -4.3498e+00,  2.4037e+00, -1.7577e+00, -3.5958e+00, -2.9548e+00,\n",
              "          8.7059e-01,  4.9348e-02, -7.8926e+00, -1.3931e+00, -1.8759e-01,\n",
              "         -1.4606e+00, -5.5265e+00, -6.4512e+00, -2.6334e+00, -1.4006e+00,\n",
              "         -2.5094e+00, -4.1447e+00, -1.7121e+00, -2.7982e-02, -4.9769e+00,\n",
              "         -7.3956e+00, -1.9721e-01, -3.1329e-01, -4.6840e+00,  3.7475e+00,\n",
              "         -4.5752e+00, -5.2063e+00, -1.9770e+00,  1.6873e+00, -9.7106e-01,\n",
              "          8.8576e-01, -1.4794e+00,  2.7964e+00, -2.4239e+00, -2.3067e-01,\n",
              "         -4.6330e-01,  4.1341e-01, -6.6186e+00, -1.0366e+00,  3.0867e+00,\n",
              "          5.6453e-01, -2.3032e+00,  3.4864e+00, -4.5570e-01, -6.1337e+00,\n",
              "         -3.4957e+00, -1.4634e+00, -1.0047e+00,  2.6117e-01,  9.2835e-01,\n",
              "         -1.6318e+00,  1.4832e+00, -3.7936e+00,  3.8242e+00,  7.0466e-01,\n",
              "          6.6513e-01,  6.2155e+00, -5.2986e+00,  2.2275e+00,  2.8098e+00,\n",
              "          4.3731e+00, -1.7959e+00,  1.3572e+00, -4.7347e-01,  3.6389e+00,\n",
              "          1.0053e+00, -3.5432e+00,  4.3884e+00, -1.5783e+00,  2.2168e+00,\n",
              "          3.2164e+00,  4.9382e+00,  5.6845e+00, -1.2533e+00, -3.6919e+00,\n",
              "         -4.0738e+00, -1.1665e+00,  1.1391e+00,  1.6499e+00,  2.6861e+00,\n",
              "          2.8342e+00, -1.7736e+00, -7.5535e+00, -6.2691e+00, -2.2545e+00,\n",
              "         -2.9194e+00,  1.0422e-01,  2.8535e+00, -2.0737e+00, -2.7233e+00,\n",
              "         -5.7277e+00, -4.6392e+00, -3.2002e+00, -5.8090e+00, -2.7685e+00,\n",
              "         -5.7016e-02, -4.6178e+00, -5.1632e+00, -2.0160e+00, -4.5322e+00,\n",
              "         -1.6676e+00, -5.0498e-01, -2.2330e+00,  2.9785e+00,  7.5991e+00,\n",
              "          1.7877e+00,  1.5490e+00,  7.9822e+00,  1.8588e+00,  2.2050e+00,\n",
              "         -4.8536e-01, -1.2160e+00,  3.9699e+00, -1.8037e+00,  3.0245e+00]],\n",
              "       grad_fn=<AddmmBackward>)"
            ]
          },
          "metadata": {
            "tags": []
          },
          "execution_count": 21
        }
      ]
    },
    {
      "cell_type": "code",
      "metadata": {
        "id": "3lqf4wjG9Gpz"
      },
      "source": [
        "#Se indexa el máximo valor de la salida:\n",
        "_, index = torch.max(out, 1)"
      ],
      "execution_count": null,
      "outputs": []
    },
    {
      "cell_type": "code",
      "metadata": {
        "id": "dWSD3sfN9L3s",
        "outputId": "6b6793af-cef6-47fe-eb59-02405ce158cb",
        "colab": {
          "base_uri": "https://localhost:8080/",
          "height": 34
        }
      },
      "source": [
        "# Se obtiene el porcentaje del valor máximo de aproximación en las coincidencias de identificación de la imagen:\n",
        "percentage = torch.nn.functional.softmax(out, dim=1)[0] * 100\n",
        "labels[index[0]], percentage[index[0]].item()"
      ],
      "execution_count": null,
      "outputs": [
        {
          "output_type": "execute_result",
          "data": {
            "text/plain": [
              "('macaw', 100.0)"
            ]
          },
          "metadata": {
            "tags": []
          },
          "execution_count": 23
        }
      ]
    },
    {
      "cell_type": "code",
      "metadata": {
        "id": "bYbj_cs19jyA",
        "outputId": "14d1be13-1170-4929-e9da-abae088c22a2",
        "colab": {
          "base_uri": "https://localhost:8080/",
          "height": 102
        }
      },
      "source": [
        "# Se indexa nuevamente para obtener otras posibles coincidencias y se visualizan las demás coincidencias identificadas con sus respectivos porcentajes:\n",
        "_, indices = torch.sort(out, descending=True)\n",
        "\n",
        "top_five = indices[0][:5]\n",
        "for i in top_five:\n",
        "  print(labels[i], percentage[i].item())"
      ],
      "execution_count": null,
      "outputs": [
        {
          "output_type": "stream",
          "text": [
            "macaw 100.0\n",
            "lorikeet 1.3797512123710914e-13\n",
            "African grey, African gray, Psittacus erithacus 1.249043186588028e-13\n",
            "bee eater 1.3402250276336092e-16\n",
            "titi, titi monkey 6.125773707406377e-18\n"
          ],
          "name": "stdout"
        }
      ]
    },
    {
      "cell_type": "markdown",
      "metadata": {
        "id": "fjPaTSfvnh1h"
      },
      "source": [
        "# Regresión logística con Scikit-Learn: definición y división de datos\n",
        "\n",
        "---\n",
        "\n"
      ]
    },
    {
      "cell_type": "code",
      "metadata": {
        "id": "_VIVXjf_pOd5",
        "outputId": "0f0c3d6b-45c8-436f-fb55-6de7396092ee",
        "colab": {
          "base_uri": "https://localhost:8080/",
          "height": 71
        }
      },
      "source": [
        "import pandas as pd\n",
        "from sklearn import metrics\n",
        "from sklearn.model_selection import train_test_split\n",
        "from sklearn.linear_model import LogisticRegression\n",
        "import matplotlib.pyplot as plt\n",
        "import seaborn as sns\n",
        "%matplotlib inline"
      ],
      "execution_count": null,
      "outputs": [
        {
          "output_type": "stream",
          "text": [
            "/usr/local/lib/python3.6/dist-packages/statsmodels/tools/_testing.py:19: FutureWarning: pandas.util.testing is deprecated. Use the functions in the public API at pandas.testing instead.\n",
            "  import pandas.util.testing as tm\n"
          ],
          "name": "stderr"
        }
      ]
    },
    {
      "cell_type": "code",
      "metadata": {
        "id": "xxwEhPoeqXmK",
        "outputId": "a2896c76-320c-4b06-8296-a4c83bcfe28b",
        "colab": {
          "base_uri": "https://localhost:8080/",
          "height": 204
        }
      },
      "source": [
        "diabetes = pd.read_csv('/content/diabetes.csv') #abrimos la data\n",
        "diabetes.head()"
      ],
      "execution_count": null,
      "outputs": [
        {
          "output_type": "execute_result",
          "data": {
            "text/html": [
              "<div>\n",
              "<style scoped>\n",
              "    .dataframe tbody tr th:only-of-type {\n",
              "        vertical-align: middle;\n",
              "    }\n",
              "\n",
              "    .dataframe tbody tr th {\n",
              "        vertical-align: top;\n",
              "    }\n",
              "\n",
              "    .dataframe thead th {\n",
              "        text-align: right;\n",
              "    }\n",
              "</style>\n",
              "<table border=\"1\" class=\"dataframe\">\n",
              "  <thead>\n",
              "    <tr style=\"text-align: right;\">\n",
              "      <th></th>\n",
              "      <th>Pregnancies</th>\n",
              "      <th>Glucose</th>\n",
              "      <th>BloodPressure</th>\n",
              "      <th>SkinThickness</th>\n",
              "      <th>Insulin</th>\n",
              "      <th>BMI</th>\n",
              "      <th>DiabetesPedigreeFunction</th>\n",
              "      <th>Age</th>\n",
              "      <th>Outcome</th>\n",
              "    </tr>\n",
              "  </thead>\n",
              "  <tbody>\n",
              "    <tr>\n",
              "      <th>0</th>\n",
              "      <td>6</td>\n",
              "      <td>148</td>\n",
              "      <td>72</td>\n",
              "      <td>35</td>\n",
              "      <td>0</td>\n",
              "      <td>33.6</td>\n",
              "      <td>0.627</td>\n",
              "      <td>50</td>\n",
              "      <td>1</td>\n",
              "    </tr>\n",
              "    <tr>\n",
              "      <th>1</th>\n",
              "      <td>1</td>\n",
              "      <td>85</td>\n",
              "      <td>66</td>\n",
              "      <td>29</td>\n",
              "      <td>0</td>\n",
              "      <td>26.6</td>\n",
              "      <td>0.351</td>\n",
              "      <td>31</td>\n",
              "      <td>0</td>\n",
              "    </tr>\n",
              "    <tr>\n",
              "      <th>2</th>\n",
              "      <td>8</td>\n",
              "      <td>183</td>\n",
              "      <td>64</td>\n",
              "      <td>0</td>\n",
              "      <td>0</td>\n",
              "      <td>23.3</td>\n",
              "      <td>0.672</td>\n",
              "      <td>32</td>\n",
              "      <td>1</td>\n",
              "    </tr>\n",
              "    <tr>\n",
              "      <th>3</th>\n",
              "      <td>1</td>\n",
              "      <td>89</td>\n",
              "      <td>66</td>\n",
              "      <td>23</td>\n",
              "      <td>94</td>\n",
              "      <td>28.1</td>\n",
              "      <td>0.167</td>\n",
              "      <td>21</td>\n",
              "      <td>0</td>\n",
              "    </tr>\n",
              "    <tr>\n",
              "      <th>4</th>\n",
              "      <td>0</td>\n",
              "      <td>137</td>\n",
              "      <td>40</td>\n",
              "      <td>35</td>\n",
              "      <td>168</td>\n",
              "      <td>43.1</td>\n",
              "      <td>2.288</td>\n",
              "      <td>33</td>\n",
              "      <td>1</td>\n",
              "    </tr>\n",
              "  </tbody>\n",
              "</table>\n",
              "</div>"
            ],
            "text/plain": [
              "   Pregnancies  Glucose  BloodPressure  ...  DiabetesPedigreeFunction  Age  Outcome\n",
              "0            6      148             72  ...                     0.627   50        1\n",
              "1            1       85             66  ...                     0.351   31        0\n",
              "2            8      183             64  ...                     0.672   32        1\n",
              "3            1       89             66  ...                     0.167   21        0\n",
              "4            0      137             40  ...                     2.288   33        1\n",
              "\n",
              "[5 rows x 9 columns]"
            ]
          },
          "metadata": {
            "tags": []
          },
          "execution_count": 8
        }
      ]
    },
    {
      "cell_type": "code",
      "metadata": {
        "id": "0LPmipUtsZf8",
        "outputId": "ae7caaa7-f1b6-444c-8ca3-731beedd645f",
        "colab": {
          "base_uri": "https://localhost:8080/",
          "height": 34
        }
      },
      "source": [
        "diabetes.shape"
      ],
      "execution_count": null,
      "outputs": [
        {
          "output_type": "execute_result",
          "data": {
            "text/plain": [
              "(768, 9)"
            ]
          },
          "metadata": {
            "tags": []
          },
          "execution_count": 9
        }
      ]
    },
    {
      "cell_type": "code",
      "metadata": {
        "id": "nxrMfxV5scav",
        "outputId": "c03c6508-cfdd-40ab-ff05-4b6b06e410f4",
        "colab": {
          "base_uri": "https://localhost:8080/",
          "height": 221
        }
      },
      "source": [
        "feature_cols = ['Pregnancies', 'Insulin', 'BMI', 'Age', 'Glucose', 'BloodPressure', 'DiabetesPedigreeFunction']\n",
        "labels = 'Outcome'\n",
        "x = diabetes[feature_cols]\n",
        "# y = diabetes.Outcome\n",
        "y = diabetes[labels]\n",
        "y"
      ],
      "execution_count": null,
      "outputs": [
        {
          "output_type": "execute_result",
          "data": {
            "text/plain": [
              "0      1\n",
              "1      0\n",
              "2      1\n",
              "3      0\n",
              "4      1\n",
              "      ..\n",
              "763    0\n",
              "764    0\n",
              "765    0\n",
              "766    1\n",
              "767    0\n",
              "Name: Outcome, Length: 768, dtype: int64"
            ]
          },
          "metadata": {
            "tags": []
          },
          "execution_count": 14
        }
      ]
    },
    {
      "cell_type": "code",
      "metadata": {
        "id": "ulJZH7LwtVSj",
        "outputId": "48af08bb-b80b-40bb-9c1c-d06db3d6fff0",
        "colab": {
          "base_uri": "https://localhost:8080/",
          "height": 34
        }
      },
      "source": [
        "X_train, X_test, y_train, y_test = train_test_split(x,y, train_size = 0.8,random_state=0)\n",
        "X_train.size, X_train.shape, len(X_train)"
      ],
      "execution_count": null,
      "outputs": [
        {
          "output_type": "execute_result",
          "data": {
            "text/plain": [
              "(4298, (614, 7), 614)"
            ]
          },
          "metadata": {
            "tags": []
          },
          "execution_count": 41
        }
      ]
    },
    {
      "cell_type": "code",
      "metadata": {
        "id": "WRjxcTuVtykt"
      },
      "source": [
        "LogR = LogisticRegression(max_iter=1000) \n",
        "LogR.fit(X_train,y_train)\n",
        "y_pred = LogR.predict(X_test)"
      ],
      "execution_count": null,
      "outputs": []
    },
    {
      "cell_type": "code",
      "metadata": {
        "id": "xNkLFJ4vuP8w",
        "outputId": "eef722c3-c1f8-49e5-e4ba-ad7861df1212",
        "colab": {
          "base_uri": "https://localhost:8080/",
          "height": 119
        }
      },
      "source": [
        "print(y_pred)\n",
        "acc = LogR.score(X_test,y_test) \n",
        "acc"
      ],
      "execution_count": null,
      "outputs": [
        {
          "output_type": "stream",
          "text": [
            "[1 0 0 1 0 0 1 1 0 0 1 1 0 0 0 0 1 0 0 0 1 0 0 0 0 0 0 1 0 0 0 0 0 0 0 1 0\n",
            " 0 0 1 0 0 0 1 1 0 0 0 0 0 0 0 1 0 0 0 0 1 0 0 1 0 0 1 1 1 1 0 0 0 0 0 0 1\n",
            " 1 0 0 1 0 0 0 0 0 0 0 0 0 0 1 0 0 0 0 0 1 0 0 1 1 0 0 0 0 0 1 0 0 0 0 1 0\n",
            " 0 1 0 1 1 0 1 0 1 0 0 0 0 0 0 0 0 0 0 0 0 0 1 0 0 0 0 1 0 0 1 0 0 0 0 0 0\n",
            " 0 0 0 1 0 0]\n"
          ],
          "name": "stdout"
        },
        {
          "output_type": "execute_result",
          "data": {
            "text/plain": [
              "0.8246753246753247"
            ]
          },
          "metadata": {
            "tags": []
          },
          "execution_count": 44
        }
      ]
    },
    {
      "cell_type": "markdown",
      "metadata": {
        "id": "5YlmvZMyAJgf"
      },
      "source": [
        "# Regresión logística con Scikit-Learn: evaluación del modelo\n",
        "\n",
        "---\n",
        "\n"
      ]
    },
    {
      "cell_type": "code",
      "metadata": {
        "id": "8GZoqG8k2vsa",
        "outputId": "847c5354-b63f-4948-b78d-25cd160d903b",
        "colab": {
          "base_uri": "https://localhost:8080/",
          "height": 51
        }
      },
      "source": [
        "cnf_matrix = metrics.confusion_matrix(y_test,y_pred)\n",
        "cnf_matrix"
      ],
      "execution_count": null,
      "outputs": [
        {
          "output_type": "execute_result",
          "data": {
            "text/plain": [
              "array([[98,  9],\n",
              "       [18, 29]])"
            ]
          },
          "metadata": {
            "tags": []
          },
          "execution_count": 45
        }
      ]
    },
    {
      "cell_type": "code",
      "metadata": {
        "id": "MbX-AXqR3HWb",
        "outputId": "5e7be905-d2a5-47b5-f017-4a3309c4667e",
        "colab": {
          "base_uri": "https://localhost:8080/",
          "height": 325
        }
      },
      "source": [
        "import numpy as np\n",
        "class_name = [0,1]\n",
        "fig, ax = plt.subplots()\n",
        "\n",
        "ticks_marks = np.arange(len(class_name))\n",
        "plt.xticks(ticks_marks, class_name)\n",
        "plt.yticks(ticks_marks, class_name)\n",
        "\n",
        "sns.heatmap(pd.DataFrame(cnf_matrix), annot= True, cmap='Blues_r', fmt = 'g')\n",
        "ax.xaxis.set_label_position('top')\n",
        "plt.tight_layout()\n",
        "plt.title(' Confusion Matrix ', y = 1.1)\n",
        "plt.ylabel('Etiqueta original')\n",
        "plt.xlabel('Etiqueta de prediccion')\n",
        "plt.show()"
      ],
      "execution_count": null,
      "outputs": [
        {
          "output_type": "display_data",
          "data": {
            "image/png": "[encoded data removed]",
            "text/plain": [
              "<Figure size 432x288 with 2 Axes>"
            ]
          },
          "metadata": {
            "tags": [],
            "needs_background": "light"
          }
        }
      ]
    },
    {
      "cell_type": "code",
      "metadata": {
        "id": "-G3IBTuT_FM5",
        "outputId": "4108bd6d-ad00-4379-ae4d-a497cef42469",
        "colab": {
          "base_uri": "https://localhost:8080/",
          "height": 34
        }
      },
      "source": [
        "print(' Accuracy: ',metrics.accuracy_score(y_test,y_pred))"
      ],
      "execution_count": null,
      "outputs": [
        {
          "output_type": "stream",
          "text": [
            " Accuracy:  0.8246753246753247\n"
          ],
          "name": "stdout"
        }
      ]
    },
    {
      "cell_type": "markdown",
      "metadata": {
        "id": "EuCBKGcqAOlE"
      },
      "source": [
        "Matriz de **confusión**\n",
        "\n",
        "---\n",
        "\n",
        "Los modelos de clasificación son capaces de predecir cuál es la etiqueta correspondiente a cada ejemplo o instancia basado en aquello que ha aprendido del conjunto de datos de entrenamiento. Estos modelos necesitan ser evaluados de alguna manera y posteriormente comparar los resultados obtenidos con aquellos que fueron entrenados.\n",
        "\n",
        "Una manera de hacerlo es mediante la matriz de confusión la cual nos permite evaluar el desempeño de un algoritmo de clasificación a partir del conteo de los aciertos y errores en cada una de las clases del algoritmo.\n",
        "\n",
        "Como su nombre lo dice tenemos una matriz que nos ayuda a evaluar la predicción mediante positivos y negativos como se muestra en la figura.\n",
        "\n",
        "![link text](https://static.platzi.com/media/user_upload/Prediccio%CC%81n-e3df59fc-ba05-4fa3-a8a7-f75289d3cd31.jpg)\n",
        "\n",
        "**Los verdaderos positivos (VP)** son aquellos que fueron clasificados correctamente como positivos como el modelo.\n",
        "\n",
        "**Los verdaderos negativos (VN)** corresponden a la cantidad de negativos que fueron clasificados correctamente como negativos por el modelo.\n",
        "\n",
        "**Los falsos negativos (FN)** es la cantidad de positivos que fueron clasificados incorrectamente como negativos.\n",
        "\n",
        "**Los falsos positivos (FP)** indican la cantidad de negativos que fueron clasificados incorrectamente como negativos.\n",
        "\n",
        "Para que lo anterior quede más claro consideremos el siguiente ejemplo.\n",
        "\n",
        "Un médico tiene cuatro pacientes y a cada uno se les solicitó un examen de sangre y por error el laboratorio realizó también un estudio de embarazo, cuando los pacientes llegan el médico les da los resultado.\n",
        "\n",
        "A la primera paciente le da la noticia que está embarazada y ella ya lo sabía dado que tiene 3 meses de embarazo, es decir, un verdadero positivo.\n",
        "\n",
        "El siguiente paciente llega y le dice que no está embarazada y es una clasificación evidente dado que es hombre (Verdadero negativo).\n",
        "\n",
        "El tercer paciente llega y los resultados le indican que no está embarazada sin embargo tiene cuatro meses de embarazo, es decir, que la ha clasificado como falso negativo.\n",
        "\n",
        "Y por último el cuarto paciente sus resultados han indicado que está embarazado sin embargo es hombre por lo cual es imposible, dando como resultado un falso positivo.\n",
        "\n",
        "Lo anterior es un proceso que se realiza por cada instancia a clasificar y nos permite calcular la exactitud y su tasa de error con las siguientes fórmulas.\n",
        "\n",
        "![link text](https://static.platzi.com/media/user_upload/Exactitud-eae19c8b-1b7a-43e9-8c30-e3038ba8e515.jpg)\n",
        "![link text](https://static.platzi.com/media/user_upload/Tasa%20de%20error-af5b74e8-c155-4fc1-9102-491556bdcce9.jpg)"
      ]
    },
    {
      "cell_type": "markdown",
      "metadata": {
        "id": "QpHS76loJIuo"
      },
      "source": [
        "# ¿Qué es un árbol de decisión y cómo se divide?\n",
        "\n",
        "---\n"
      ]
    },
    {
      "cell_type": "markdown",
      "metadata": {
        "id": "G51gY0v7U62v"
      },
      "source": [
        "**Ventajas:**\n",
        "\n",
        "* Claridad en los datos\n",
        "\n",
        "* Tolerantes al ruido y datos faltantes\n",
        "\n",
        "* Las reglas extraídas permiten hacer extracciones\n",
        "\n",
        "**Desventajas:**\n",
        "\n",
        "* Criterio de división es deficiente\n",
        "\n",
        "* Sobreajuste-overfitting\n",
        "\n",
        "* Ramas poco significativas\n",
        "\n",
        "**Optimización del modelo:**\n",
        "\n",
        "* Evitar sobreajuste\n",
        "\n",
        "* Selección efectiva de los atributos\n",
        "\n",
        "* evitar los Campos nulos"
      ]
    },
    {
      "cell_type": "code",
      "metadata": {
        "id": "i_pdL3vB9gnW",
        "outputId": "016b3f0e-6c73-41f9-80e8-b40c58ede547",
        "colab": {
          "base_uri": "https://localhost:8080/",
          "height": 71
        }
      },
      "source": [
        "import pandas as pd\n",
        "import numpy as np\n",
        "import matplotlib.pyplot as plt\n",
        "from sklearn import tree\n",
        "from sklearn.model_selection import train_test_split\n",
        "import seaborn as sns\n",
        "\n",
        "%matplotlib inline\n",
        "sns.set()"
      ],
      "execution_count": null,
      "outputs": [
        {
          "output_type": "stream",
          "text": [
            "/usr/local/lib/python3.6/dist-packages/statsmodels/tools/_testing.py:19: FutureWarning: pandas.util.testing is deprecated. Use the functions in the public API at pandas.testing instead.\n",
            "  import pandas.util.testing as tm\n"
          ],
          "name": "stderr"
        }
      ]
    },
    {
      "cell_type": "code",
      "metadata": {
        "id": "V4PJaoiC-c4j",
        "outputId": "91f046c9-dd93-4582-decd-4457a1bc4d56",
        "colab": {
          "base_uri": "https://localhost:8080/",
          "height": 204
        }
      },
      "source": [
        "train_df = pd.read_csv('/content/titanic-train_4adcc656-193c-46d5-a978-f254fe4f0c22_e73b185d-1cb9-4af4-a668-da1ed47b97f2.csv')\n",
        "test_df = pd.read_csv('/content/titanic-test_b6547a1c-55fe-4409-8e04-67b6678214a4.csv')\n",
        "\n",
        "train_df.head()"
      ],
      "execution_count": null,
      "outputs": [
        {
          "output_type": "execute_result",
          "data": {
            "text/html": [
              "<div>\n",
              "<style scoped>\n",
              "    .dataframe tbody tr th:only-of-type {\n",
              "        vertical-align: middle;\n",
              "    }\n",
              "\n",
              "    .dataframe tbody tr th {\n",
              "        vertical-align: top;\n",
              "    }\n",
              "\n",
              "    .dataframe thead th {\n",
              "        text-align: right;\n",
              "    }\n",
              "</style>\n",
              "<table border=\"1\" class=\"dataframe\">\n",
              "  <thead>\n",
              "    <tr style=\"text-align: right;\">\n",
              "      <th></th>\n",
              "      <th>PassengerId</th>\n",
              "      <th>Survived</th>\n",
              "      <th>Pclass</th>\n",
              "      <th>Name</th>\n",
              "      <th>Sex</th>\n",
              "      <th>Age</th>\n",
              "      <th>SibSp</th>\n",
              "      <th>Parch</th>\n",
              "      <th>Ticket</th>\n",
              "      <th>Fare</th>\n",
              "      <th>Cabin</th>\n",
              "      <th>Embarked</th>\n",
              "    </tr>\n",
              "  </thead>\n",
              "  <tbody>\n",
              "    <tr>\n",
              "      <th>0</th>\n",
              "      <td>1</td>\n",
              "      <td>0</td>\n",
              "      <td>3</td>\n",
              "      <td>Braund, Mr. Owen Harris</td>\n",
              "      <td>male</td>\n",
              "      <td>22.0</td>\n",
              "      <td>1</td>\n",
              "      <td>0</td>\n",
              "      <td>A/5 21171</td>\n",
              "      <td>7.2500</td>\n",
              "      <td>NaN</td>\n",
              "      <td>S</td>\n",
              "    </tr>\n",
              "    <tr>\n",
              "      <th>1</th>\n",
              "      <td>2</td>\n",
              "      <td>1</td>\n",
              "      <td>1</td>\n",
              "      <td>Cumings, Mrs. John Bradley (Florence Briggs Th...</td>\n",
              "      <td>female</td>\n",
              "      <td>38.0</td>\n",
              "      <td>1</td>\n",
              "      <td>0</td>\n",
              "      <td>PC 17599</td>\n",
              "      <td>71.2833</td>\n",
              "      <td>C85</td>\n",
              "      <td>C</td>\n",
              "    </tr>\n",
              "    <tr>\n",
              "      <th>2</th>\n",
              "      <td>3</td>\n",
              "      <td>1</td>\n",
              "      <td>3</td>\n",
              "      <td>Heikkinen, Miss. Laina</td>\n",
              "      <td>female</td>\n",
              "      <td>26.0</td>\n",
              "      <td>0</td>\n",
              "      <td>0</td>\n",
              "      <td>STON/O2. 3101282</td>\n",
              "      <td>7.9250</td>\n",
              "      <td>NaN</td>\n",
              "      <td>S</td>\n",
              "    </tr>\n",
              "    <tr>\n",
              "      <th>3</th>\n",
              "      <td>4</td>\n",
              "      <td>1</td>\n",
              "      <td>1</td>\n",
              "      <td>Futrelle, Mrs. Jacques Heath (Lily May Peel)</td>\n",
              "      <td>female</td>\n",
              "      <td>35.0</td>\n",
              "      <td>1</td>\n",
              "      <td>0</td>\n",
              "      <td>113803</td>\n",
              "      <td>53.1000</td>\n",
              "      <td>C123</td>\n",
              "      <td>S</td>\n",
              "    </tr>\n",
              "    <tr>\n",
              "      <th>4</th>\n",
              "      <td>5</td>\n",
              "      <td>0</td>\n",
              "      <td>3</td>\n",
              "      <td>Allen, Mr. William Henry</td>\n",
              "      <td>male</td>\n",
              "      <td>35.0</td>\n",
              "      <td>0</td>\n",
              "      <td>0</td>\n",
              "      <td>373450</td>\n",
              "      <td>8.0500</td>\n",
              "      <td>NaN</td>\n",
              "      <td>S</td>\n",
              "    </tr>\n",
              "  </tbody>\n",
              "</table>\n",
              "</div>"
            ],
            "text/plain": [
              "   PassengerId  Survived  Pclass  ...     Fare Cabin  Embarked\n",
              "0            1         0       3  ...   7.2500   NaN         S\n",
              "1            2         1       1  ...  71.2833   C85         C\n",
              "2            3         1       3  ...   7.9250   NaN         S\n",
              "3            4         1       1  ...  53.1000  C123         S\n",
              "4            5         0       3  ...   8.0500   NaN         S\n",
              "\n",
              "[5 rows x 12 columns]"
            ]
          },
          "metadata": {
            "tags": []
          },
          "execution_count": 11
        }
      ]
    },
    {
      "cell_type": "code",
      "metadata": {
        "id": "1LKYICmuDRk-",
        "outputId": "2ccf43f7-adda-4842-dab6-ef0a36d977f8",
        "colab": {
          "base_uri": "https://localhost:8080/",
          "height": 340
        }
      },
      "source": [
        "train_df.info()"
      ],
      "execution_count": null,
      "outputs": [
        {
          "output_type": "stream",
          "text": [
            "<class 'pandas.core.frame.DataFrame'>\n",
            "RangeIndex: 891 entries, 0 to 890\n",
            "Data columns (total 12 columns):\n",
            " #   Column       Non-Null Count  Dtype  \n",
            "---  ------       --------------  -----  \n",
            " 0   PassengerId  891 non-null    int64  \n",
            " 1   Survived     891 non-null    int64  \n",
            " 2   Pclass       891 non-null    int64  \n",
            " 3   Name         891 non-null    object \n",
            " 4   Sex          891 non-null    object \n",
            " 5   Age          714 non-null    float64\n",
            " 6   SibSp        891 non-null    int64  \n",
            " 7   Parch        891 non-null    int64  \n",
            " 8   Ticket       891 non-null    object \n",
            " 9   Fare         891 non-null    float64\n",
            " 10  Cabin        204 non-null    object \n",
            " 11  Embarked     889 non-null    object \n",
            "dtypes: float64(2), int64(5), object(5)\n",
            "memory usage: 83.7+ KB\n"
          ],
          "name": "stdout"
        }
      ]
    },
    {
      "cell_type": "code",
      "metadata": {
        "id": "260YUzhbDXNO",
        "outputId": "c0e883e4-c064-4fd6-b036-bac5dd8653af",
        "colab": {
          "base_uri": "https://localhost:8080/",
          "height": 68
        }
      },
      "source": [
        "train_df.Sex.value_counts()"
      ],
      "execution_count": null,
      "outputs": [
        {
          "output_type": "execute_result",
          "data": {
            "text/plain": [
              "male      577\n",
              "female    314\n",
              "Name: Sex, dtype: int64"
            ]
          },
          "metadata": {
            "tags": []
          },
          "execution_count": 13
        }
      ]
    },
    {
      "cell_type": "code",
      "metadata": {
        "id": "mvQsjX20Dp5Y",
        "outputId": "81a4eea4-aa2d-494e-aeb1-fcca880b879a",
        "colab": {
          "base_uri": "https://localhost:8080/",
          "height": 312
        }
      },
      "source": [
        "train_df.Sex.value_counts().plot(kind='bar', color=['b','r'])\n",
        "plt.title('Distribucion de sobrevivientes')\n",
        "plt.show()"
      ],
      "execution_count": null,
      "outputs": [
        {
          "output_type": "display_data",
          "data": {
            "image/png": "[encoded data removed]",
            "text/plain": [
              "<Figure size 432x288 with 1 Axes>"
            ]
          },
          "metadata": {
            "tags": [],
            "needs_background": "light"
          }
        }
      ]
    },
    {
      "cell_type": "code",
      "metadata": {
        "id": "pZkWGzFeE1kW",
        "outputId": "af1867ce-2d42-4a0f-f85b-04c95ad6ef79",
        "colab": {
          "base_uri": "https://localhost:8080/",
          "height": 714
        }
      },
      "source": [
        "from sklearn import preprocessing\n",
        "label_encoder = preprocessing.LabelEncoder()\n",
        "\n",
        "encoder_sex = label_encoder.fit_transform(train_df['Sex'])\n",
        "encoder_sex"
      ],
      "execution_count": null,
      "outputs": [
        {
          "output_type": "execute_result",
          "data": {
            "text/plain": [
              "array([1, 0, 0, 0, 1, 1, 1, 1, 0, 0, 0, 0, 1, 1, 0, 0, 1, 1, 0, 0, 1, 1,\n",
              "       0, 1, 0, 0, 1, 1, 0, 1, 1, 0, 0, 1, 1, 1, 1, 1, 0, 0, 0, 0, 1, 0,\n",
              "       0, 1, 1, 0, 1, 0, 1, 1, 0, 0, 1, 1, 0, 1, 0, 1, 1, 0, 1, 1, 1, 1,\n",
              "       0, 1, 0, 1, 1, 0, 1, 1, 1, 1, 1, 1, 1, 0, 1, 1, 0, 1, 0, 0, 1, 1,\n",
              "       0, 1, 1, 1, 1, 1, 1, 1, 1, 1, 0, 1, 0, 1, 1, 1, 1, 1, 0, 1, 1, 0,\n",
              "       1, 0, 1, 0, 0, 1, 1, 1, 1, 0, 1, 1, 1, 0, 1, 1, 1, 1, 0, 1, 1, 1,\n",
              "       0, 0, 1, 1, 0, 1, 1, 1, 0, 0, 0, 1, 1, 1, 1, 0, 1, 1, 1, 0, 1, 1,\n",
              "       1, 1, 0, 1, 1, 1, 1, 0, 1, 1, 1, 1, 0, 0, 1, 1, 1, 1, 0, 1, 1, 1,\n",
              "       1, 0, 1, 1, 0, 1, 1, 1, 0, 1, 0, 1, 1, 1, 0, 1, 0, 1, 0, 0, 1, 1,\n",
              "       0, 0, 1, 1, 1, 1, 1, 0, 1, 1, 0, 1, 1, 0, 1, 1, 1, 0, 0, 1, 0, 1,\n",
              "       1, 1, 1, 1, 1, 1, 1, 1, 1, 0, 0, 1, 1, 0, 1, 0, 1, 0, 1, 1, 0, 0,\n",
              "       1, 1, 1, 1, 0, 0, 1, 1, 1, 0, 1, 1, 0, 0, 0, 0, 0, 0, 1, 1, 1, 1,\n",
              "       0, 1, 1, 1, 0, 0, 1, 1, 0, 1, 0, 0, 0, 1, 1, 0, 1, 1, 1, 1, 1, 1,\n",
              "       1, 1, 1, 0, 0, 0, 1, 0, 1, 1, 1, 0, 1, 0, 0, 1, 1, 0, 1, 1, 0, 0,\n",
              "       1, 0, 0, 0, 0, 1, 1, 0, 0, 1, 0, 0, 1, 1, 0, 0, 1, 0, 1, 0, 0, 0,\n",
              "       0, 1, 1, 1, 0, 1, 1, 0, 1, 1, 1, 0, 1, 1, 1, 0, 0, 0, 1, 1, 1, 1,\n",
              "       1, 1, 1, 1, 0, 0, 0, 0, 1, 1, 0, 1, 1, 1, 0, 0, 0, 0, 1, 1, 1, 1,\n",
              "       0, 0, 0, 1, 1, 1, 0, 0, 1, 0, 1, 1, 1, 0, 1, 0, 1, 1, 1, 0, 0, 1,\n",
              "       0, 1, 1, 0, 1, 1, 0, 1, 0, 1, 1, 1, 1, 0, 1, 1, 0, 1, 1, 0, 0, 0,\n",
              "       1, 0, 1, 1, 1, 0, 1, 1, 0, 0, 1, 1, 1, 0, 0, 1, 1, 0, 0, 0, 1, 1,\n",
              "       0, 1, 1, 0, 1, 1, 0, 1, 0, 1, 1, 1, 1, 1, 1, 1, 1, 0, 0, 1, 1, 1,\n",
              "       1, 1, 1, 1, 1, 1, 1, 0, 1, 1, 0, 0, 0, 1, 1, 1, 1, 0, 1, 1, 1, 0,\n",
              "       1, 0, 0, 1, 1, 1, 1, 1, 1, 1, 1, 1, 0, 1, 0, 1, 1, 0, 0, 0, 0, 1,\n",
              "       0, 1, 1, 1, 1, 1, 1, 0, 1, 1, 0, 1, 0, 1, 0, 1, 1, 0, 1, 1, 0, 1,\n",
              "       1, 1, 0, 1, 1, 0, 0, 0, 1, 0, 1, 0, 0, 0, 0, 1, 1, 1, 0, 1, 1, 1,\n",
              "       1, 1, 1, 1, 0, 1, 0, 1, 0, 0, 1, 1, 1, 1, 0, 1, 1, 0, 1, 1, 1, 0,\n",
              "       1, 0, 1, 1, 0, 0, 0, 1, 0, 0, 1, 1, 1, 0, 1, 1, 1, 1, 1, 0, 1, 0,\n",
              "       1, 1, 0, 1, 1, 1, 0, 1, 1, 1, 1, 1, 1, 1, 0, 0, 0, 1, 0, 1, 1, 0,\n",
              "       1, 0, 0, 1, 1, 1, 1, 1, 1, 1, 1, 0, 1, 1, 1, 1, 1, 1, 0, 0, 1, 1,\n",
              "       0, 1, 1, 0, 0, 1, 0, 1, 1, 1, 1, 0, 1, 0, 1, 0, 0, 1, 1, 0, 1, 1,\n",
              "       1, 1, 1, 1, 1, 1, 1, 1, 1, 0, 0, 1, 1, 1, 1, 1, 1, 0, 0, 1, 0, 1,\n",
              "       1, 1, 1, 1, 1, 1, 1, 0, 1, 0, 1, 1, 1, 1, 1, 0, 1, 1, 0, 1, 0, 1,\n",
              "       1, 1, 0, 1, 0, 1, 0, 1, 1, 1, 1, 1, 0, 0, 1, 1, 0, 1, 1, 1, 1, 1,\n",
              "       0, 0, 1, 0, 0, 1, 1, 1, 1, 1, 0, 1, 1, 1, 1, 1, 0, 1, 1, 1, 1, 0,\n",
              "       1, 1, 0, 1, 1, 1, 0, 1, 1, 1, 1, 0, 1, 1, 1, 0, 1, 0, 1, 0, 1, 1,\n",
              "       1, 1, 0, 1, 0, 1, 1, 0, 1, 0, 0, 0, 1, 1, 1, 1, 0, 1, 1, 1, 1, 1,\n",
              "       0, 1, 1, 1, 0, 0, 1, 0, 1, 0, 1, 1, 1, 1, 1, 0, 1, 0, 1, 1, 1, 0,\n",
              "       1, 1, 0, 1, 1, 1, 0, 1, 1, 0, 1, 1, 1, 1, 1, 0, 0, 1, 1, 1, 1, 0,\n",
              "       1, 1, 1, 1, 1, 1, 0, 1, 1, 1, 1, 1, 1, 0, 1, 1, 0, 0, 0, 0, 0, 1,\n",
              "       0, 1, 1, 1, 0, 0, 1, 0, 0, 1, 1, 1, 1, 0, 1, 1, 0, 0, 1, 1, 1, 0,\n",
              "       0, 1, 0, 1, 1, 0, 1, 0, 0, 1, 1])"
            ]
          },
          "metadata": {
            "tags": []
          },
          "execution_count": 15
        }
      ]
    },
    {
      "cell_type": "code",
      "metadata": {
        "id": "rpJ8fF-WK8hd"
      },
      "source": [
        "train_df['Age'] = train_df['Age'].fillna(train_df['Age'].median())\n",
        "train_df['Embarked'] = train_df['Embarked'].fillna('S') # 'S' porque: \n",
        "\n",
        "# cuando se llenan los espacios con vacíos (fillna), para el caso de datos numéricos se utiliza la mediana porque es una de las medidas de tendencia central que menos se afecta por los datos atípicos.\n",
        "\n",
        "# Para el caso de los datos categóricos relacionados con el embarque, se utiliza la letra S porque representa el embarque en la ciudad de South Hampton, en donde más personas se unieron al viaje.\n",
        "# Estos datos se obtienen de un análisis previo a los datos trabajados."
      ],
      "execution_count": null,
      "outputs": []
    },
    {
      "cell_type": "code",
      "metadata": {
        "id": "kDAsh9nZN8GZ",
        "outputId": "17935e35-87c3-4a31-8b0e-0e8456eaf06d",
        "colab": {
          "base_uri": "https://localhost:8080/",
          "height": 34
        }
      },
      "source": [
        "train_predictors = train_df.drop(['PassengerId', 'Survived', 'Name', 'Ticket', 'Cabin'],axis=1)\n",
        "categorical_cols = [cname for cname in train_predictors.columns if\n",
        "                    train_predictors[cname].nunique() < 10 and \n",
        "                    train_predictors[cname].dtype == 'object'\n",
        "                    ]\n",
        "              \n",
        "numerical_cols = train_predictors.select_dtypes(include=['int64','float64']).columns\n",
        "numerical_cols = list(numerical_cols)\n",
        "categorical_cols, numerical_cols"
      ],
      "execution_count": null,
      "outputs": [
        {
          "output_type": "execute_result",
          "data": {
            "text/plain": [
              "(['Sex', 'Embarked'], ['Pclass', 'Age', 'SibSp', 'Parch', 'Fare'])"
            ]
          },
          "metadata": {
            "tags": []
          },
          "execution_count": 17
        }
      ]
    },
    {
      "cell_type": "code",
      "metadata": {
        "id": "bCngzhVGPGnm",
        "outputId": "7bcb02de-31bb-40e9-fff3-3718f87c7049",
        "colab": {
          "base_uri": "https://localhost:8080/",
          "height": 419
        }
      },
      "source": [
        "my_columns = categorical_cols + numerical_cols\n",
        "train_predictors = train_predictors[my_columns]\n",
        "train_predictors"
      ],
      "execution_count": null,
      "outputs": [
        {
          "output_type": "execute_result",
          "data": {
            "text/html": [
              "<div>\n",
              "<style scoped>\n",
              "    .dataframe tbody tr th:only-of-type {\n",
              "        vertical-align: middle;\n",
              "    }\n",
              "\n",
              "    .dataframe tbody tr th {\n",
              "        vertical-align: top;\n",
              "    }\n",
              "\n",
              "    .dataframe thead th {\n",
              "        text-align: right;\n",
              "    }\n",
              "</style>\n",
              "<table border=\"1\" class=\"dataframe\">\n",
              "  <thead>\n",
              "    <tr style=\"text-align: right;\">\n",
              "      <th></th>\n",
              "      <th>Sex</th>\n",
              "      <th>Embarked</th>\n",
              "      <th>Pclass</th>\n",
              "      <th>Age</th>\n",
              "      <th>SibSp</th>\n",
              "      <th>Parch</th>\n",
              "      <th>Fare</th>\n",
              "    </tr>\n",
              "  </thead>\n",
              "  <tbody>\n",
              "    <tr>\n",
              "      <th>0</th>\n",
              "      <td>male</td>\n",
              "      <td>S</td>\n",
              "      <td>3</td>\n",
              "      <td>22.0</td>\n",
              "      <td>1</td>\n",
              "      <td>0</td>\n",
              "      <td>7.2500</td>\n",
              "    </tr>\n",
              "    <tr>\n",
              "      <th>1</th>\n",
              "      <td>female</td>\n",
              "      <td>C</td>\n",
              "      <td>1</td>\n",
              "      <td>38.0</td>\n",
              "      <td>1</td>\n",
              "      <td>0</td>\n",
              "      <td>71.2833</td>\n",
              "    </tr>\n",
              "    <tr>\n",
              "      <th>2</th>\n",
              "      <td>female</td>\n",
              "      <td>S</td>\n",
              "      <td>3</td>\n",
              "      <td>26.0</td>\n",
              "      <td>0</td>\n",
              "      <td>0</td>\n",
              "      <td>7.9250</td>\n",
              "    </tr>\n",
              "    <tr>\n",
              "      <th>3</th>\n",
              "      <td>female</td>\n",
              "      <td>S</td>\n",
              "      <td>1</td>\n",
              "      <td>35.0</td>\n",
              "      <td>1</td>\n",
              "      <td>0</td>\n",
              "      <td>53.1000</td>\n",
              "    </tr>\n",
              "    <tr>\n",
              "      <th>4</th>\n",
              "      <td>male</td>\n",
              "      <td>S</td>\n",
              "      <td>3</td>\n",
              "      <td>35.0</td>\n",
              "      <td>0</td>\n",
              "      <td>0</td>\n",
              "      <td>8.0500</td>\n",
              "    </tr>\n",
              "    <tr>\n",
              "      <th>...</th>\n",
              "      <td>...</td>\n",
              "      <td>...</td>\n",
              "      <td>...</td>\n",
              "      <td>...</td>\n",
              "      <td>...</td>\n",
              "      <td>...</td>\n",
              "      <td>...</td>\n",
              "    </tr>\n",
              "    <tr>\n",
              "      <th>886</th>\n",
              "      <td>male</td>\n",
              "      <td>S</td>\n",
              "      <td>2</td>\n",
              "      <td>27.0</td>\n",
              "      <td>0</td>\n",
              "      <td>0</td>\n",
              "      <td>13.0000</td>\n",
              "    </tr>\n",
              "    <tr>\n",
              "      <th>887</th>\n",
              "      <td>female</td>\n",
              "      <td>S</td>\n",
              "      <td>1</td>\n",
              "      <td>19.0</td>\n",
              "      <td>0</td>\n",
              "      <td>0</td>\n",
              "      <td>30.0000</td>\n",
              "    </tr>\n",
              "    <tr>\n",
              "      <th>888</th>\n",
              "      <td>female</td>\n",
              "      <td>S</td>\n",
              "      <td>3</td>\n",
              "      <td>28.0</td>\n",
              "      <td>1</td>\n",
              "      <td>2</td>\n",
              "      <td>23.4500</td>\n",
              "    </tr>\n",
              "    <tr>\n",
              "      <th>889</th>\n",
              "      <td>male</td>\n",
              "      <td>C</td>\n",
              "      <td>1</td>\n",
              "      <td>26.0</td>\n",
              "      <td>0</td>\n",
              "      <td>0</td>\n",
              "      <td>30.0000</td>\n",
              "    </tr>\n",
              "    <tr>\n",
              "      <th>890</th>\n",
              "      <td>male</td>\n",
              "      <td>Q</td>\n",
              "      <td>3</td>\n",
              "      <td>32.0</td>\n",
              "      <td>0</td>\n",
              "      <td>0</td>\n",
              "      <td>7.7500</td>\n",
              "    </tr>\n",
              "  </tbody>\n",
              "</table>\n",
              "<p>891 rows × 7 columns</p>\n",
              "</div>"
            ],
            "text/plain": [
              "        Sex Embarked  Pclass   Age  SibSp  Parch     Fare\n",
              "0      male        S       3  22.0      1      0   7.2500\n",
              "1    female        C       1  38.0      1      0  71.2833\n",
              "2    female        S       3  26.0      0      0   7.9250\n",
              "3    female        S       1  35.0      1      0  53.1000\n",
              "4      male        S       3  35.0      0      0   8.0500\n",
              "..      ...      ...     ...   ...    ...    ...      ...\n",
              "886    male        S       2  27.0      0      0  13.0000\n",
              "887  female        S       1  19.0      0      0  30.0000\n",
              "888  female        S       3  28.0      1      2  23.4500\n",
              "889    male        C       1  26.0      0      0  30.0000\n",
              "890    male        Q       3  32.0      0      0   7.7500\n",
              "\n",
              "[891 rows x 7 columns]"
            ]
          },
          "metadata": {
            "tags": []
          },
          "execution_count": 18
        }
      ]
    },
    {
      "cell_type": "code",
      "metadata": {
        "id": "a09z0XiUTPbO",
        "outputId": "373f1563-4692-405d-af7a-37af49731d62",
        "colab": {
          "base_uri": "https://localhost:8080/",
          "height": 419
        }
      },
      "source": [
        "dummy_encoded_train_predictors = pd.get_dummies(train_predictors) #convierte varibles categoricas\n",
        "dummy_encoded_train_predictors"
      ],
      "execution_count": null,
      "outputs": [
        {
          "output_type": "execute_result",
          "data": {
            "text/html": [
              "<div>\n",
              "<style scoped>\n",
              "    .dataframe tbody tr th:only-of-type {\n",
              "        vertical-align: middle;\n",
              "    }\n",
              "\n",
              "    .dataframe tbody tr th {\n",
              "        vertical-align: top;\n",
              "    }\n",
              "\n",
              "    .dataframe thead th {\n",
              "        text-align: right;\n",
              "    }\n",
              "</style>\n",
              "<table border=\"1\" class=\"dataframe\">\n",
              "  <thead>\n",
              "    <tr style=\"text-align: right;\">\n",
              "      <th></th>\n",
              "      <th>Pclass</th>\n",
              "      <th>Age</th>\n",
              "      <th>SibSp</th>\n",
              "      <th>Parch</th>\n",
              "      <th>Fare</th>\n",
              "      <th>Sex_female</th>\n",
              "      <th>Sex_male</th>\n",
              "      <th>Embarked_C</th>\n",
              "      <th>Embarked_Q</th>\n",
              "      <th>Embarked_S</th>\n",
              "    </tr>\n",
              "  </thead>\n",
              "  <tbody>\n",
              "    <tr>\n",
              "      <th>0</th>\n",
              "      <td>3</td>\n",
              "      <td>22.0</td>\n",
              "      <td>1</td>\n",
              "      <td>0</td>\n",
              "      <td>7.2500</td>\n",
              "      <td>0</td>\n",
              "      <td>1</td>\n",
              "      <td>0</td>\n",
              "      <td>0</td>\n",
              "      <td>1</td>\n",
              "    </tr>\n",
              "    <tr>\n",
              "      <th>1</th>\n",
              "      <td>1</td>\n",
              "      <td>38.0</td>\n",
              "      <td>1</td>\n",
              "      <td>0</td>\n",
              "      <td>71.2833</td>\n",
              "      <td>1</td>\n",
              "      <td>0</td>\n",
              "      <td>1</td>\n",
              "      <td>0</td>\n",
              "      <td>0</td>\n",
              "    </tr>\n",
              "    <tr>\n",
              "      <th>2</th>\n",
              "      <td>3</td>\n",
              "      <td>26.0</td>\n",
              "      <td>0</td>\n",
              "      <td>0</td>\n",
              "      <td>7.9250</td>\n",
              "      <td>1</td>\n",
              "      <td>0</td>\n",
              "      <td>0</td>\n",
              "      <td>0</td>\n",
              "      <td>1</td>\n",
              "    </tr>\n",
              "    <tr>\n",
              "      <th>3</th>\n",
              "      <td>1</td>\n",
              "      <td>35.0</td>\n",
              "      <td>1</td>\n",
              "      <td>0</td>\n",
              "      <td>53.1000</td>\n",
              "      <td>1</td>\n",
              "      <td>0</td>\n",
              "      <td>0</td>\n",
              "      <td>0</td>\n",
              "      <td>1</td>\n",
              "    </tr>\n",
              "    <tr>\n",
              "      <th>4</th>\n",
              "      <td>3</td>\n",
              "      <td>35.0</td>\n",
              "      <td>0</td>\n",
              "      <td>0</td>\n",
              "      <td>8.0500</td>\n",
              "      <td>0</td>\n",
              "      <td>1</td>\n",
              "      <td>0</td>\n",
              "      <td>0</td>\n",
              "      <td>1</td>\n",
              "    </tr>\n",
              "    <tr>\n",
              "      <th>...</th>\n",
              "      <td>...</td>\n",
              "      <td>...</td>\n",
              "      <td>...</td>\n",
              "      <td>...</td>\n",
              "      <td>...</td>\n",
              "      <td>...</td>\n",
              "      <td>...</td>\n",
              "      <td>...</td>\n",
              "      <td>...</td>\n",
              "      <td>...</td>\n",
              "    </tr>\n",
              "    <tr>\n",
              "      <th>886</th>\n",
              "      <td>2</td>\n",
              "      <td>27.0</td>\n",
              "      <td>0</td>\n",
              "      <td>0</td>\n",
              "      <td>13.0000</td>\n",
              "      <td>0</td>\n",
              "      <td>1</td>\n",
              "      <td>0</td>\n",
              "      <td>0</td>\n",
              "      <td>1</td>\n",
              "    </tr>\n",
              "    <tr>\n",
              "      <th>887</th>\n",
              "      <td>1</td>\n",
              "      <td>19.0</td>\n",
              "      <td>0</td>\n",
              "      <td>0</td>\n",
              "      <td>30.0000</td>\n",
              "      <td>1</td>\n",
              "      <td>0</td>\n",
              "      <td>0</td>\n",
              "      <td>0</td>\n",
              "      <td>1</td>\n",
              "    </tr>\n",
              "    <tr>\n",
              "      <th>888</th>\n",
              "      <td>3</td>\n",
              "      <td>28.0</td>\n",
              "      <td>1</td>\n",
              "      <td>2</td>\n",
              "      <td>23.4500</td>\n",
              "      <td>1</td>\n",
              "      <td>0</td>\n",
              "      <td>0</td>\n",
              "      <td>0</td>\n",
              "      <td>1</td>\n",
              "    </tr>\n",
              "    <tr>\n",
              "      <th>889</th>\n",
              "      <td>1</td>\n",
              "      <td>26.0</td>\n",
              "      <td>0</td>\n",
              "      <td>0</td>\n",
              "      <td>30.0000</td>\n",
              "      <td>0</td>\n",
              "      <td>1</td>\n",
              "      <td>1</td>\n",
              "      <td>0</td>\n",
              "      <td>0</td>\n",
              "    </tr>\n",
              "    <tr>\n",
              "      <th>890</th>\n",
              "      <td>3</td>\n",
              "      <td>32.0</td>\n",
              "      <td>0</td>\n",
              "      <td>0</td>\n",
              "      <td>7.7500</td>\n",
              "      <td>0</td>\n",
              "      <td>1</td>\n",
              "      <td>0</td>\n",
              "      <td>1</td>\n",
              "      <td>0</td>\n",
              "    </tr>\n",
              "  </tbody>\n",
              "</table>\n",
              "<p>891 rows × 10 columns</p>\n",
              "</div>"
            ],
            "text/plain": [
              "     Pclass   Age  SibSp  Parch  ...  Sex_male  Embarked_C  Embarked_Q  Embarked_S\n",
              "0         3  22.0      1      0  ...         1           0           0           1\n",
              "1         1  38.0      1      0  ...         0           1           0           0\n",
              "2         3  26.0      0      0  ...         0           0           0           1\n",
              "3         1  35.0      1      0  ...         0           0           0           1\n",
              "4         3  35.0      0      0  ...         1           0           0           1\n",
              "..      ...   ...    ...    ...  ...       ...         ...         ...         ...\n",
              "886       2  27.0      0      0  ...         1           0           0           1\n",
              "887       1  19.0      0      0  ...         0           0           0           1\n",
              "888       3  28.0      1      2  ...         0           0           0           1\n",
              "889       1  26.0      0      0  ...         1           1           0           0\n",
              "890       3  32.0      0      0  ...         1           0           1           0\n",
              "\n",
              "[891 rows x 10 columns]"
            ]
          },
          "metadata": {
            "tags": []
          },
          "execution_count": 19
        }
      ]
    },
    {
      "cell_type": "code",
      "metadata": {
        "id": "yTd7gDuUTin_",
        "outputId": "18a33e34-311f-457c-e26d-9a7ab39373d3",
        "colab": {
          "base_uri": "https://localhost:8080/",
          "height": 85
        }
      },
      "source": [
        "train_df['Pclass'].value_counts()"
      ],
      "execution_count": null,
      "outputs": [
        {
          "output_type": "execute_result",
          "data": {
            "text/plain": [
              "3    491\n",
              "1    216\n",
              "2    184\n",
              "Name: Pclass, dtype: int64"
            ]
          },
          "metadata": {
            "tags": []
          },
          "execution_count": 20
        }
      ]
    },
    {
      "cell_type": "code",
      "metadata": {
        "id": "ClW_OanDD4QB"
      },
      "source": [
        "y_target = train_df['Survived'].values\n",
        "x_features_one = dummy_encoded_train_predictors.values"
      ],
      "execution_count": null,
      "outputs": []
    },
    {
      "cell_type": "code",
      "metadata": {
        "id": "7uwCnLzMEMIt"
      },
      "source": [
        "x_train, x_test, y_train, y_test = train_test_split(x_features_one, y_target, test_size = 0.25, random_state = 1)"
      ],
      "execution_count": null,
      "outputs": []
    },
    {
      "cell_type": "code",
      "metadata": {
        "id": "JFsVSih4E6iG"
      },
      "source": [
        "tree_one = tree.DecisionTreeClassifier()\n",
        "tree_one = tree_one.fit(x_train,y_train)"
      ],
      "execution_count": null,
      "outputs": []
    },
    {
      "cell_type": "code",
      "metadata": {
        "id": "uOoCRX-JFcWs",
        "outputId": "e37600fe-c921-45d5-9f6f-2c139de359b7",
        "colab": {
          "base_uri": "https://localhost:8080/",
          "height": 34
        }
      },
      "source": [
        "acc = tree_one.score(x_test,y_test)\n",
        "acc"
      ],
      "execution_count": null,
      "outputs": [
        {
          "output_type": "execute_result",
          "data": {
            "text/plain": [
              "0.7533632286995515"
            ]
          },
          "metadata": {
            "tags": []
          },
          "execution_count": 32
        }
      ]
    },
    {
      "cell_type": "code",
      "metadata": {
        "id": "bD-Bgmh2NWKy",
        "outputId": "5bdf3d17-5985-4f3c-ae76-c341715c46e3",
        "colab": {
          "base_uri": "https://localhost:8080/",
          "height": 35
        }
      },
      "source": [
        "import graphviz \n",
        "dot_data = tree.export_graphviz(tree_one, out_file=None) \n",
        "graph = graphviz.Source(dot_data) # los datos entrenados se guardan en un archivo de tipo titanic.pdf\n",
        "graph.render(\"titanic\") "
      ],
      "execution_count": null,
      "outputs": [
        {
          "output_type": "execute_result",
          "data": {
            "application/vnd.google.colaboratory.intrinsic+json": {
              "type": "string"
            },
            "text/plain": [
              "'titanic.pdf'"
            ]
          },
          "metadata": {
            "tags": []
          },
          "execution_count": 38
        }
      ]
    },
    {
      "cell_type": "markdown",
      "metadata": {
        "id": "_ntqP9gsQQgb"
      },
      "source": [
        "# ¿Qué es K-Means?\n",
        "\n",
        "---\n",
        "\n"
      ]
    },
    {
      "cell_type": "markdown",
      "metadata": {
        "id": "7e3UM2B5Q_Qa"
      },
      "source": [
        "Algoritmo no supervisado.\n",
        "\n",
        "* Crea K grupos a partir de observaciones de un set de datos.\n",
        "\n",
        "* Trata información que no tiene etiquetas asignadas.\n",
        "\n",
        "* Agrupa información basada en sus características.\n",
        "\n",
        "* K = centroides, Los centroides (también llamados K) son los puntos donde se concentran los datos y que podemos, por tanto, agruparlos en la misma categoría.\n",
        "\n",
        "* Aproximación a K: método del codo\n",
        "\n",
        "**Aplicaciones:**\n",
        "\n",
        "Segmentación por comportamiento:\n",
        "\n",
        "* por historial de compras\n",
        "\n",
        "* actividad en una aplicación móvil, web\n",
        "\n",
        "* Definir personas basadas en sus intereses.\n",
        "\n",
        "* Crear perfiles basado en el monitoreo de actividad.\n",
        "\n",
        "Ordenando medidas de sensores:\n",
        "\n",
        "* Detecta tipos de actividades en sensores de movimiento.\n",
        "\n",
        "* Grupos de imágenes.\n",
        "\n",
        "* Separar audio.\n",
        "\n",
        "* Identificar grupos en monitoreo de salud.\n",
        "\n",
        "**Método del codo (Elbow Method)**\n",
        "\n",
        "El punto en el que se observa ese cambio brusco en la inercia nos dirá el número óptimo de Clusters a seleccionar para ese data set; o dicho de otra manera: el punto que representaría al codo del brazo será el número óptimo de Clusters para ese data set.\n",
        "\n",
        "\n",
        "**Como se generan los centroides:**\n",
        "\n",
        "se posicionan aleatoriamente, se saca un promedio de los puntos a su alrededor, y se vuelve a posicionar, ese proceso se repetira hasta que los cambios sean los mismos o den el mismo resultado."
      ]
    },
    {
      "cell_type": "code",
      "metadata": {
        "id": "7wjf1T-2r-yF"
      },
      "source": [
        "from sklearn.cluster import KMeans\n",
        "from sklearn import datasets\n",
        "import pandas as pd"
      ],
      "execution_count": null,
      "outputs": []
    },
    {
      "cell_type": "code",
      "metadata": {
        "id": "5xJDlOvTsAf7",
        "outputId": "335b2c2c-5fc4-4844-b03e-3bd14a22c03c",
        "colab": {
          "base_uri": "https://localhost:8080/",
          "height": 34
        }
      },
      "source": [
        "import matplotlib.pyplot as plt\n",
        "\n",
        "iris = datasets.load_iris() # cargamos el data set de iris\n",
        "\n",
        "X_iris = iris.data # features (150,4)\n",
        "Y_iris = iris.target # labels (150,)\n",
        "X_iris.shape, Y_iris.shape"
      ],
      "execution_count": null,
      "outputs": [
        {
          "output_type": "execute_result",
          "data": {
            "text/plain": [
              "((150, 4), (150,))"
            ]
          },
          "metadata": {
            "tags": []
          },
          "execution_count": 111
        }
      ]
    },
    {
      "cell_type": "code",
      "metadata": {
        "id": "-T30iGzxsrAX",
        "outputId": "8a32c531-63a6-4f5a-8c58-53f9f57b2403",
        "colab": {
          "base_uri": "https://localhost:8080/",
          "height": 204
        }
      },
      "source": [
        "x = pd.DataFrame(iris.data, columns = iris.feature_names)\n",
        "y = pd.DataFrame(iris.target, columns = ['Target'])\n",
        "x.head(5)"
      ],
      "execution_count": null,
      "outputs": [
        {
          "output_type": "execute_result",
          "data": {
            "text/html": [
              "<div>\n",
              "<style scoped>\n",
              "    .dataframe tbody tr th:only-of-type {\n",
              "        vertical-align: middle;\n",
              "    }\n",
              "\n",
              "    .dataframe tbody tr th {\n",
              "        vertical-align: top;\n",
              "    }\n",
              "\n",
              "    .dataframe thead th {\n",
              "        text-align: right;\n",
              "    }\n",
              "</style>\n",
              "<table border=\"1\" class=\"dataframe\">\n",
              "  <thead>\n",
              "    <tr style=\"text-align: right;\">\n",
              "      <th></th>\n",
              "      <th>sepal length (cm)</th>\n",
              "      <th>sepal width (cm)</th>\n",
              "      <th>petal length (cm)</th>\n",
              "      <th>petal width (cm)</th>\n",
              "    </tr>\n",
              "  </thead>\n",
              "  <tbody>\n",
              "    <tr>\n",
              "      <th>0</th>\n",
              "      <td>5.1</td>\n",
              "      <td>3.5</td>\n",
              "      <td>1.4</td>\n",
              "      <td>0.2</td>\n",
              "    </tr>\n",
              "    <tr>\n",
              "      <th>1</th>\n",
              "      <td>4.9</td>\n",
              "      <td>3.0</td>\n",
              "      <td>1.4</td>\n",
              "      <td>0.2</td>\n",
              "    </tr>\n",
              "    <tr>\n",
              "      <th>2</th>\n",
              "      <td>4.7</td>\n",
              "      <td>3.2</td>\n",
              "      <td>1.3</td>\n",
              "      <td>0.2</td>\n",
              "    </tr>\n",
              "    <tr>\n",
              "      <th>3</th>\n",
              "      <td>4.6</td>\n",
              "      <td>3.1</td>\n",
              "      <td>1.5</td>\n",
              "      <td>0.2</td>\n",
              "    </tr>\n",
              "    <tr>\n",
              "      <th>4</th>\n",
              "      <td>5.0</td>\n",
              "      <td>3.6</td>\n",
              "      <td>1.4</td>\n",
              "      <td>0.2</td>\n",
              "    </tr>\n",
              "  </tbody>\n",
              "</table>\n",
              "</div>"
            ],
            "text/plain": [
              "   sepal length (cm)  sepal width (cm)  petal length (cm)  petal width (cm)\n",
              "0                5.1               3.5                1.4               0.2\n",
              "1                4.9               3.0                1.4               0.2\n",
              "2                4.7               3.2                1.3               0.2\n",
              "3                4.6               3.1                1.5               0.2\n",
              "4                5.0               3.6                1.4               0.2"
            ]
          },
          "metadata": {
            "tags": []
          },
          "execution_count": 112
        }
      ]
    },
    {
      "cell_type": "code",
      "metadata": {
        "id": "osHdc_k7tEbY",
        "outputId": "c0fd78d7-b52d-41b4-e305-3adb64835a16",
        "colab": {
          "base_uri": "https://localhost:8080/",
          "height": 282
        }
      },
      "source": [
        "plt.scatter(x['petal length (cm)'], x['petal width (cm)'], c = 'blue')\n",
        "plt.xlabel('Petal Length(cm)', fontsize = 10)\n",
        "plt.ylabel('Petal Width(cm)', fontsize = 10)\n",
        "plt.show()"
      ],
      "execution_count": null,
      "outputs": [
        {
          "output_type": "display_data",
          "data": {
            "image/png": "[encoded data removed]",
            "text/plain": [
              "<Figure size 432x288 with 1 Axes>"
            ]
          },
          "metadata": {
            "tags": [],
            "needs_background": "light"
          }
        }
      ]
    },
    {
      "cell_type": "code",
      "metadata": {
        "id": "J2HzhPPuz4Qk"
      },
      "source": [
        "from sklearn import metrics"
      ],
      "execution_count": null,
      "outputs": []
    },
    {
      "cell_type": "code",
      "metadata": {
        "id": "gNmCxpPkz-oS",
        "outputId": "e5dc0204-958d-4d9a-f2d6-8af626d6ffde",
        "colab": {
          "base_uri": "https://localhost:8080/",
          "height": 285
        }
      },
      "source": [
        "import pickle\n",
        "dic_acc = {}\n",
        "best = 0\n",
        "\n",
        "for i in range(1,11):\n",
        "  model = KMeans(n_clusters = i, max_iter=1000)\n",
        "  model.fit(x)\n",
        "\n",
        "  y_pred = model.predict(x)\n",
        "\n",
        "  acc = metrics.adjusted_rand_score(Y_iris,y_pred)\n",
        "  if acc > best:\n",
        "    best = acc\n",
        "    with open(\"model_kmeans.pickle\",'wb') as f:\n",
        "      pickle.dump(model,f)\n",
        "\n",
        "  dic_acc[i] = 1.0 - acc\n",
        "\n",
        "fig = plt.figure()\n",
        "ax = fig.add_subplot(1,1,1)\n",
        "ax.plot(list(dic_acc.keys()), list(dic_acc.values()))\n",
        "ax.set_xlabel('K´s Numerb')\n",
        "ax.set_ylabel('Error')\n",
        "\n",
        "fig.savefig('Kmeans_petal.png')\n",
        "plt.show()"
      ],
      "execution_count": null,
      "outputs": [
        {
          "output_type": "display_data",
          "data": {
            "image/png": "[encoded data removed]",
            "text/plain": [
              "<Figure size 432x288 with 1 Axes>"
            ]
          },
          "metadata": {
            "tags": [],
            "needs_background": "light"
          }
        }
      ]
    },
    {
      "cell_type": "code",
      "metadata": {
        "id": "U-NUY1qu9LTN"
      },
      "source": [
        "with open(\"model_kmeans.pickle\",'rb') as f:\n",
        "  model = pickle.load(f)\n",
        "y_pred = model.predict(x)"
      ],
      "execution_count": null,
      "outputs": []
    },
    {
      "cell_type": "code",
      "metadata": {
        "id": "Rk8tBTR587dP",
        "outputId": "f0a80b64-dd00-4c28-ce89-0fdaba9bff04",
        "colab": {
          "base_uri": "https://localhost:8080/",
          "height": 282
        }
      },
      "source": [
        "colors = ['b','g','r']\n",
        "color = [colors[c] for c in y_pred]\n",
        "plt.scatter(x['petal length (cm)'], x['petal width (cm)'], c = color, s= 30)\n",
        "plt.xlabel('Petal Length(cm)', fontsize = 10)\n",
        "plt.ylabel('Petal Width(cm)', fontsize = 10)\n",
        "plt.show()"
      ],
      "execution_count": null,
      "outputs": [
        {
          "output_type": "display_data",
          "data": {
            "image/png": "[encoded data removed]",
            "text/plain": [
              "<Figure size 432x288 with 1 Axes>"
            ]
          },
          "metadata": {
            "tags": [],
            "needs_background": "light"
          }
        }
      ]
    },
    {
      "cell_type": "markdown",
      "metadata": {
        "id": "J83xTqurSduY"
      },
      "source": [
        "**Reto de vinos:**"
      ]
    },
    {
      "cell_type": "code",
      "metadata": {
        "id": "QNEoTra8Sh3e"
      },
      "source": [
        "from sklearn.cluster import KMeans\n",
        "from sklearn import datasets\n",
        "import pandas as pd\n",
        "import matplotlib.pyplot as plt\n",
        "from sklearn import metrics\n",
        "from sklearn.preprocessing import StandardScaler"
      ],
      "execution_count": null,
      "outputs": []
    },
    {
      "cell_type": "code",
      "metadata": {
        "id": "M50Muoi5UrFA",
        "outputId": "0d86a3cf-c787-4f1c-c998-90fdd3d3ef81",
        "colab": {
          "base_uri": "https://localhost:8080/",
          "height": 34
        }
      },
      "source": [
        "wines = datasets.load_wine()\n",
        "x_wines = wines.data\n",
        "y_wines = wines.target\n",
        "# scaler = StandardScaler()\n",
        "# scaler.fit(vinos.data)\n",
        "# x_scaled = scaler.transform(vinos.data)\n",
        "# x = pd.DataFrame(x_scaled, columns=variables, ) #Si deseas trabajar con los datos sin estandarizar, solo cambia x_scaled por x_vinos\n",
        "# y = pd.DataFrame(y_vinos, columns= [\"Target\"])\n",
        "# x.head(5)"
      ],
      "execution_count": null,
      "outputs": [
        {
          "output_type": "execute_result",
          "data": {
            "text/plain": [
              "array(['class_0', 'class_1', 'class_2'], dtype='<U7')"
            ]
          },
          "metadata": {
            "tags": []
          },
          "execution_count": 126
        }
      ]
    },
    {
      "cell_type": "code",
      "metadata": {
        "id": "MX83Ke4gX6Kn",
        "outputId": "b46927ea-77f3-44e4-ab0a-a23188441421",
        "colab": {
          "base_uri": "https://localhost:8080/",
          "height": 224
        }
      },
      "source": [
        "x_df = pd.DataFrame(x_wines,columns = wines.feature_names)\n",
        "x_df.head()"
      ],
      "execution_count": null,
      "outputs": [
        {
          "output_type": "execute_result",
          "data": {
            "text/html": [
              "<div>\n",
              "<style scoped>\n",
              "    .dataframe tbody tr th:only-of-type {\n",
              "        vertical-align: middle;\n",
              "    }\n",
              "\n",
              "    .dataframe tbody tr th {\n",
              "        vertical-align: top;\n",
              "    }\n",
              "\n",
              "    .dataframe thead th {\n",
              "        text-align: right;\n",
              "    }\n",
              "</style>\n",
              "<table border=\"1\" class=\"dataframe\">\n",
              "  <thead>\n",
              "    <tr style=\"text-align: right;\">\n",
              "      <th></th>\n",
              "      <th>alcohol</th>\n",
              "      <th>malic_acid</th>\n",
              "      <th>ash</th>\n",
              "      <th>alcalinity_of_ash</th>\n",
              "      <th>magnesium</th>\n",
              "      <th>total_phenols</th>\n",
              "      <th>flavanoids</th>\n",
              "      <th>nonflavanoid_phenols</th>\n",
              "      <th>proanthocyanins</th>\n",
              "      <th>color_intensity</th>\n",
              "      <th>hue</th>\n",
              "      <th>od280/od315_of_diluted_wines</th>\n",
              "      <th>proline</th>\n",
              "    </tr>\n",
              "  </thead>\n",
              "  <tbody>\n",
              "    <tr>\n",
              "      <th>0</th>\n",
              "      <td>14.23</td>\n",
              "      <td>1.71</td>\n",
              "      <td>2.43</td>\n",
              "      <td>15.6</td>\n",
              "      <td>127.0</td>\n",
              "      <td>2.80</td>\n",
              "      <td>3.06</td>\n",
              "      <td>0.28</td>\n",
              "      <td>2.29</td>\n",
              "      <td>5.64</td>\n",
              "      <td>1.04</td>\n",
              "      <td>3.92</td>\n",
              "      <td>1065.0</td>\n",
              "    </tr>\n",
              "    <tr>\n",
              "      <th>1</th>\n",
              "      <td>13.20</td>\n",
              "      <td>1.78</td>\n",
              "      <td>2.14</td>\n",
              "      <td>11.2</td>\n",
              "      <td>100.0</td>\n",
              "      <td>2.65</td>\n",
              "      <td>2.76</td>\n",
              "      <td>0.26</td>\n",
              "      <td>1.28</td>\n",
              "      <td>4.38</td>\n",
              "      <td>1.05</td>\n",
              "      <td>3.40</td>\n",
              "      <td>1050.0</td>\n",
              "    </tr>\n",
              "    <tr>\n",
              "      <th>2</th>\n",
              "      <td>13.16</td>\n",
              "      <td>2.36</td>\n",
              "      <td>2.67</td>\n",
              "      <td>18.6</td>\n",
              "      <td>101.0</td>\n",
              "      <td>2.80</td>\n",
              "      <td>3.24</td>\n",
              "      <td>0.30</td>\n",
              "      <td>2.81</td>\n",
              "      <td>5.68</td>\n",
              "      <td>1.03</td>\n",
              "      <td>3.17</td>\n",
              "      <td>1185.0</td>\n",
              "    </tr>\n",
              "    <tr>\n",
              "      <th>3</th>\n",
              "      <td>14.37</td>\n",
              "      <td>1.95</td>\n",
              "      <td>2.50</td>\n",
              "      <td>16.8</td>\n",
              "      <td>113.0</td>\n",
              "      <td>3.85</td>\n",
              "      <td>3.49</td>\n",
              "      <td>0.24</td>\n",
              "      <td>2.18</td>\n",
              "      <td>7.80</td>\n",
              "      <td>0.86</td>\n",
              "      <td>3.45</td>\n",
              "      <td>1480.0</td>\n",
              "    </tr>\n",
              "    <tr>\n",
              "      <th>4</th>\n",
              "      <td>13.24</td>\n",
              "      <td>2.59</td>\n",
              "      <td>2.87</td>\n",
              "      <td>21.0</td>\n",
              "      <td>118.0</td>\n",
              "      <td>2.80</td>\n",
              "      <td>2.69</td>\n",
              "      <td>0.39</td>\n",
              "      <td>1.82</td>\n",
              "      <td>4.32</td>\n",
              "      <td>1.04</td>\n",
              "      <td>2.93</td>\n",
              "      <td>735.0</td>\n",
              "    </tr>\n",
              "  </tbody>\n",
              "</table>\n",
              "</div>"
            ],
            "text/plain": [
              "   alcohol  malic_acid   ash  ...   hue  od280/od315_of_diluted_wines  proline\n",
              "0    14.23        1.71  2.43  ...  1.04                          3.92   1065.0\n",
              "1    13.20        1.78  2.14  ...  1.05                          3.40   1050.0\n",
              "2    13.16        2.36  2.67  ...  1.03                          3.17   1185.0\n",
              "3    14.37        1.95  2.50  ...  0.86                          3.45   1480.0\n",
              "4    13.24        2.59  2.87  ...  1.04                          2.93    735.0\n",
              "\n",
              "[5 rows x 13 columns]"
            ]
          },
          "metadata": {
            "tags": []
          },
          "execution_count": 124
        }
      ]
    },
    {
      "cell_type": "code",
      "metadata": {
        "id": "WpNkoFnxYWKg",
        "outputId": "27b53006-2514-4168-e69e-9654b6168e3e",
        "colab": {
          "base_uri": "https://localhost:8080/",
          "height": 255
        }
      },
      "source": [
        "y_df = pd.DataFrame(y_wines,columns = ['target'])\n",
        "y_df.info"
      ],
      "execution_count": null,
      "outputs": [
        {
          "output_type": "execute_result",
          "data": {
            "text/plain": [
              "<bound method DataFrame.info of      target\n",
              "0         0\n",
              "1         0\n",
              "2         0\n",
              "3         0\n",
              "4         0\n",
              "..      ...\n",
              "173       2\n",
              "174       2\n",
              "175       2\n",
              "176       2\n",
              "177       2\n",
              "\n",
              "[178 rows x 1 columns]>"
            ]
          },
          "metadata": {
            "tags": []
          },
          "execution_count": 129
        }
      ]
    },
    {
      "cell_type": "code",
      "metadata": {
        "id": "UcCe3a1vZIRq",
        "outputId": "4cacd075-98a3-4f71-c5fb-b85178135bc1",
        "colab": {
          "base_uri": "https://localhost:8080/",
          "height": 224
        }
      },
      "source": [
        "scaler = StandardScaler()\n",
        "x_new = scaler.fit_transform(x_wines)\n",
        "x_df = pd.DataFrame(x_new,columns = wines.feature_names)\n",
        "x_df.head()"
      ],
      "execution_count": null,
      "outputs": [
        {
          "output_type": "execute_result",
          "data": {
            "text/html": [
              "<div>\n",
              "<style scoped>\n",
              "    .dataframe tbody tr th:only-of-type {\n",
              "        vertical-align: middle;\n",
              "    }\n",
              "\n",
              "    .dataframe tbody tr th {\n",
              "        vertical-align: top;\n",
              "    }\n",
              "\n",
              "    .dataframe thead th {\n",
              "        text-align: right;\n",
              "    }\n",
              "</style>\n",
              "<table border=\"1\" class=\"dataframe\">\n",
              "  <thead>\n",
              "    <tr style=\"text-align: right;\">\n",
              "      <th></th>\n",
              "      <th>alcohol</th>\n",
              "      <th>malic_acid</th>\n",
              "      <th>ash</th>\n",
              "      <th>alcalinity_of_ash</th>\n",
              "      <th>magnesium</th>\n",
              "      <th>total_phenols</th>\n",
              "      <th>flavanoids</th>\n",
              "      <th>nonflavanoid_phenols</th>\n",
              "      <th>proanthocyanins</th>\n",
              "      <th>color_intensity</th>\n",
              "      <th>hue</th>\n",
              "      <th>od280/od315_of_diluted_wines</th>\n",
              "      <th>proline</th>\n",
              "    </tr>\n",
              "  </thead>\n",
              "  <tbody>\n",
              "    <tr>\n",
              "      <th>0</th>\n",
              "      <td>1.518613</td>\n",
              "      <td>-0.562250</td>\n",
              "      <td>0.232053</td>\n",
              "      <td>-1.169593</td>\n",
              "      <td>1.913905</td>\n",
              "      <td>0.808997</td>\n",
              "      <td>1.034819</td>\n",
              "      <td>-0.659563</td>\n",
              "      <td>1.224884</td>\n",
              "      <td>0.251717</td>\n",
              "      <td>0.362177</td>\n",
              "      <td>1.847920</td>\n",
              "      <td>1.013009</td>\n",
              "    </tr>\n",
              "    <tr>\n",
              "      <th>1</th>\n",
              "      <td>0.246290</td>\n",
              "      <td>-0.499413</td>\n",
              "      <td>-0.827996</td>\n",
              "      <td>-2.490847</td>\n",
              "      <td>0.018145</td>\n",
              "      <td>0.568648</td>\n",
              "      <td>0.733629</td>\n",
              "      <td>-0.820719</td>\n",
              "      <td>-0.544721</td>\n",
              "      <td>-0.293321</td>\n",
              "      <td>0.406051</td>\n",
              "      <td>1.113449</td>\n",
              "      <td>0.965242</td>\n",
              "    </tr>\n",
              "    <tr>\n",
              "      <th>2</th>\n",
              "      <td>0.196879</td>\n",
              "      <td>0.021231</td>\n",
              "      <td>1.109334</td>\n",
              "      <td>-0.268738</td>\n",
              "      <td>0.088358</td>\n",
              "      <td>0.808997</td>\n",
              "      <td>1.215533</td>\n",
              "      <td>-0.498407</td>\n",
              "      <td>2.135968</td>\n",
              "      <td>0.269020</td>\n",
              "      <td>0.318304</td>\n",
              "      <td>0.788587</td>\n",
              "      <td>1.395148</td>\n",
              "    </tr>\n",
              "    <tr>\n",
              "      <th>3</th>\n",
              "      <td>1.691550</td>\n",
              "      <td>-0.346811</td>\n",
              "      <td>0.487926</td>\n",
              "      <td>-0.809251</td>\n",
              "      <td>0.930918</td>\n",
              "      <td>2.491446</td>\n",
              "      <td>1.466525</td>\n",
              "      <td>-0.981875</td>\n",
              "      <td>1.032155</td>\n",
              "      <td>1.186068</td>\n",
              "      <td>-0.427544</td>\n",
              "      <td>1.184071</td>\n",
              "      <td>2.334574</td>\n",
              "    </tr>\n",
              "    <tr>\n",
              "      <th>4</th>\n",
              "      <td>0.295700</td>\n",
              "      <td>0.227694</td>\n",
              "      <td>1.840403</td>\n",
              "      <td>0.451946</td>\n",
              "      <td>1.281985</td>\n",
              "      <td>0.808997</td>\n",
              "      <td>0.663351</td>\n",
              "      <td>0.226796</td>\n",
              "      <td>0.401404</td>\n",
              "      <td>-0.319276</td>\n",
              "      <td>0.362177</td>\n",
              "      <td>0.449601</td>\n",
              "      <td>-0.037874</td>\n",
              "    </tr>\n",
              "  </tbody>\n",
              "</table>\n",
              "</div>"
            ],
            "text/plain": [
              "    alcohol  malic_acid  ...  od280/od315_of_diluted_wines   proline\n",
              "0  1.518613   -0.562250  ...                      1.847920  1.013009\n",
              "1  0.246290   -0.499413  ...                      1.113449  0.965242\n",
              "2  0.196879    0.021231  ...                      0.788587  1.395148\n",
              "3  1.691550   -0.346811  ...                      1.184071  2.334574\n",
              "4  0.295700    0.227694  ...                      0.449601 -0.037874\n",
              "\n",
              "[5 rows x 13 columns]"
            ]
          },
          "metadata": {
            "tags": []
          },
          "execution_count": 131
        }
      ]
    },
    {
      "cell_type": "code",
      "metadata": {
        "id": "xOUSIit6ZqPk",
        "outputId": "bca140ef-8cc5-4d8f-f1df-b171b4f8b758",
        "colab": {
          "base_uri": "https://localhost:8080/",
          "height": 285
        }
      },
      "source": [
        "import pickle\n",
        "dic_error = {}\n",
        "best = 0\n",
        "\n",
        "for i in range(1,11):\n",
        "  model = KMeans(n_clusters = i, max_iter=1000)\n",
        "  model.fit(x_new)\n",
        "\n",
        "  y_pred = model.predict(x_new)\n",
        "\n",
        "  acc = metrics.adjusted_rand_score(y_wines,y_pred)\n",
        "  if acc > best:\n",
        "    best = acc\n",
        "    with open(\"model_wines.pickle\",'wb') as file:\n",
        "      pickle.dump(model,file)\n",
        "  dic_error[i] = model.inertia_\n",
        "\n",
        "fig = plt.figure()\n",
        "\n",
        "ax = fig.add_subplot(1,1,1)\n",
        "ax.plot(list(dic_error.keys()), list(dic_error.values()))\n",
        "ax.set_xlabel('K´s Numerb')\n",
        "ax.set_ylabel('Error')\n",
        "\n",
        "plt.show()\n",
        "\n",
        "# se genera el codo gracias a la inercia, tiene un cierto valor al principio pero al tener un cambio drastico se genera un cambio en la direccion de la recta, a eso se le llama el codo o elbow."
      ],
      "execution_count": null,
      "outputs": [
        {
          "output_type": "display_data",
          "data": {
            "image/png": "[encoded data removed]",
            "text/plain": [
              "<Figure size 432x288 with 1 Axes>"
            ]
          },
          "metadata": {
            "tags": [],
            "needs_background": "light"
          }
        }
      ]
    },
    {
      "cell_type": "code",
      "metadata": {
        "id": "KSkF0BiUcb4Y",
        "outputId": "28e4b724-ee59-4224-b163-9455de5e7c9e",
        "colab": {
          "base_uri": "https://localhost:8080/",
          "height": 204
        }
      },
      "source": [
        "with open('model_wines.pickle','rb') as file:\n",
        "  model = pickle.load(file)\n",
        "\n",
        "y_pred = model.predict(x_new)\n",
        "dic_error, f'accuracy: {best}'"
      ],
      "execution_count": null,
      "outputs": [
        {
          "output_type": "execute_result",
          "data": {
            "text/plain": [
              "({1: 2314.0000000000005,\n",
              "  2: 1659.0079672511501,\n",
              "  3: 1277.928488844642,\n",
              "  4: 1175.428333103347,\n",
              "  5: 1110.8098514276946,\n",
              "  6: 1051.361819717823,\n",
              "  7: 979.1500889410695,\n",
              "  8: 943.3659483851869,\n",
              "  9: 910.4441067444043,\n",
              "  10: 847.6657392163534},\n",
              " 'accuracy: 0.8974949815093207')"
            ]
          },
          "metadata": {
            "tags": []
          },
          "execution_count": 160
        }
      ]
    },
    {
      "cell_type": "code",
      "metadata": {
        "id": "A_IlGNoodRwv",
        "outputId": "a4abf5a5-d725-4e87-d194-6a04a1780b7e",
        "colab": {
          "base_uri": "https://localhost:8080/",
          "height": 338
        }
      },
      "source": [
        "colors = ['blue','green','red']\n",
        "color = [colors[c] for c in y_pred]\n",
        "plt.scatter(x_df['flavanoids'], x_df['total_phenols'], c = color, s= 30)\n",
        "plt.xlabel('flavanoids', fontsize = 40)\n",
        "plt.ylabel('total_phenols', fontsize = 40)\n",
        "plt.show()"
      ],
      "execution_count": null,
      "outputs": [
        {
          "output_type": "display_data",
          "data": {
            "image/png": "[encoded data removed]",
            "text/plain": [
              "<Figure size 432x288 with 1 Axes>"
            ]
          },
          "metadata": {
            "tags": [],
            "needs_background": "light"
          }
        }
      ]
    }
  ]
}