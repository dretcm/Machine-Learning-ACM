{
  "nbformat": 4,
  "nbformat_minor": 0,
  "metadata": {
    "colab": {
      "name": "Scikit_Learning.ipynb",
      "provenance": [],
      "collapsed_sections": [
        "XHqh5dqrGqJ1",
        "_04Zk66S2tov",
        "mClo83pz9CCQ",
        "rUFW1CDmg4y5",
        "9x74d21nxgod",
        "SKFRFzAGNy0K"
      ],
      "authorship_tag": "ABX9TyMPOLlFae777RPJDrepScTW",
      "include_colab_link": true
    },
    "kernelspec": {
      "name": "python3",
      "display_name": "Python 3"
    }
  },
  "cells": [
    {
      "cell_type": "markdown",
      "metadata": {
        "id": "view-in-github",
        "colab_type": "text"
      },
      "source": [
        "<a href=\"https://colab.research.google.com/github/dretcm/Machine-Learning-ACM/blob/main/Scikit_Learning.ipynb\" target=\"_parent\"><img src=\"https://colab.research.google.com/assets/colab-badge.svg\" alt=\"Open In Colab\"/></a>"
      ]
    },
    {
      "cell_type": "markdown",
      "metadata": {
        "id": "XHqh5dqrGqJ1"
      },
      "source": [
        "# Introducción\n",
        "\n",
        "---\n",
        "\n"
      ]
    },
    {
      "cell_type": "markdown",
      "metadata": {
        "id": "RGR-XDs8HuqW"
      },
      "source": [
        "* Los datos son todo: si tenemos correctamente analizados podemos llegar a modelos más efectivos.\n",
        "\n",
        "* Aprendizaje supervisado: por observación\n",
        "\n",
        "* Aprendizaje no supervisado: Descubrimiento. Intentamos descubrir patrones o relaciones.\n",
        "\n",
        "* Aprendizaje por refuerzo: Prueba y error.\n",
        "\n",
        "* Opciones a ML: Algoritmos evolutivos(optimización), Lógica difusa(variables continuas), Agentes, Sistemas expertos(Sistema de reglas para responder preguntas concretas )"
      ]
    },
    {
      "cell_type": "markdown",
      "metadata": {
        "id": "Sm11VmX3I71k"
      },
      "source": [
        "* **Algoritmos evolutivos:** Realmente es una serie de algoritmos heuristicos, en donde en tu espacio de soluciones se explora las mejores candidatos, según se optimice cierta función de costo. Por ejemplo, se usa en la industría automotriz o de diseño aeroespacial para encontrar el mejor diseño que minimice, por ejemplo, la resistencia al aire.\n",
        "\n",
        "* **Lógica Difusa:** Es una generalización de la lógica clásica, pero en lugar de tener solo dos condiciones (verdadero, falso) [principio de tercero excluido], se tienen condiciones de verdad continuas. Por ejemplo, si 1 representa verdadero, y 0 representa falso, en la lógica difusa, el grado de verdad ahora puede tomar valores en el intervalo continuo de [0, 1]. Este enfoque tenía mucho auge en sistemas de control y robotica, antes del auge de las redes neuronales.\n",
        "Agentes: Para sistemas cuyas propiedades se puede describir por la interacción de agentes, se utiliza este enfoque para encontrar o describir comportamientos en el colectivo. (Por ejemplo, los mercados financieros compuestos por agentes economicos, vendedores y compradores, etc). La física estadística y los sistemas complejos también se ayudan de este enfoque.\n",
        "Una de las disciplinas matemáticas con mayor número de seguidores actualmente es la llamada lógica difusa o borrosa, que es la lógica que utiliza expresiones que no son ni totalmente ciertas ni completamente falsas, es decir, es la lógica aplicada a conceptos que pueden tomar un valor cualquiera de veracidad dentro de la verdad absoluta o falsedad absoluta.\n",
        "\n",
        "* **Agentes:** Para sistemas cuyas propiedades se puede describir por la interacción de agentes, se utiliza este enfoque para encontrar o describir comportamientos en el colectivo. (Por ejemplo, los mercados financieros compuestos por agentes economicos, vendedores y compradores, etc). La física estadística y los sistemas complejos también se ayudan de este enfoque.\n",
        "Realmente son muy interesantes y divertidos cada enfoque. Te invito a investigar más al respecto."
      ]
    },
    {
      "cell_type": "markdown",
      "metadata": {
        "id": "TO7BrPilVMO0"
      },
      "source": [
        "Bias and Variance: [link text](https://ligdigonzalez.com/bias-y-varianza-en-machine-learning/)\n",
        "\n",
        "conclus: \n",
        "\n",
        "* **bias - sesgo, etc:** se refiere a la diferencia de tu 'y_predict' con la 'y', en otras palabras, que tanto se parecen tus datos predichos con los datos del mundo real. tener un bias alto significa tener mucho error, caso contrario, tener un bais bajo significa tener muy poco error.\n",
        "\n",
        "* **variance:** a que tanto cambian las predicciones segun cambie mi data de entrenamiento o que tanto se parecen diferentes prediciones entre si y que tan distantes estan, si nuestra varianza es alta significa que las predicciones cambian mucho segun cambie los datos de entrenamiento, que nuestra varianza sea baja significa que nuestras predicciones no varian o cambian mucho segun cambien los datos de entrenamiento.\n",
        "\n",
        "**Lo ideal:** TENER UN BIAS BAJO Y VARIANCE BAJO.\n",
        "\n",
        "\n",
        "* **Underfitting:** cuando un modelo no modela bien los datos de entrenamiento y a la hora de hacer la prueba no generaliza bien. Ejemplo: UN ALUMNO QUE NO ESTUDIA Y A LA HORA DE HACER LA PRUEBA LA DA A LA SUERTE, RESULTADO, JALO EL EXAMEN. \n",
        "\n",
        "* **Overfitting:** cuando un modelo se ajusta mucho a los datos y a la hora de dar la prueba no generaliza bien. Ejemplo: CUANDO UN ALUMNO SOLO MEMORIZA LO APRENDIDO Y SE AJUSTA A SOLO LO APRENDIDO, Y A LA HORA DE DAR EL EXAMEN LO HACE BIEN, PERO CON DATOS DE LA VIDA REAL NO SABE QUE HACER, PORQUE SOLO SE AJUSTO A LOS DATOS DE ENTRENAMIENTO O LO APRENDIDO.\n",
        "\n",
        "\n",
        "* **IDEAL:** Un alumno que a la hora de hacer un examen lo haga bien, y que con problemas de la vida real los sepa generalizar y encontrar una solucion que se ajuste a ese problema."
      ]
    },
    {
      "cell_type": "markdown",
      "metadata": {
        "id": "9VhUEt6_5y2j"
      },
      "source": [
        "lo que buscan las medidas de dispercion (varianza, desviacion estandar, etc..): es distinguir los diferentes grupos o conjuntos de datos, como saber si dos conjuntos con una media, moda y mediana iguales son diferentes ?, pues aqui entran las medidas de dispersion que nos permiten saber que tan dispersos estan los datos y saber si en realidad los dos conjuntos son iguales o no."
      ]
    },
    {
      "cell_type": "markdown",
      "metadata": {
        "id": "JWENwjaxy85l"
      },
      "source": [
        "que podemos hacer ?\n",
        "\n",
        "* usar tecnicas de feature selection y feature extraction (PCA): reduccion de dimensionalidad, eligiendo los features más relevantes.\n",
        "\n",
        "* regulización\n",
        "\n",
        "* Balanceo: oversampling undersampling: cuando tenemos muchos ejemplos de una categoria y pocos de otra."
      ]
    },
    {
      "cell_type": "markdown",
      "metadata": {
        "id": "saZyvo8yR1ll"
      },
      "source": [
        "**Cross Validation**\n",
        "\n",
        "* nos permite comparar diferentes metodos de machine learning y tener una idea de lo bien que funcionarán estos en practica. Ejemplo: tenemos un dataset donde queremos saber si tiene una enfermedad al corazon o no, Podríamos usar Logistic Regression, K-Nearest Neighbors, Support Vector machines,etc.\n",
        "\n",
        "* comó, pues, digamos que la data se separara en 4 partes(a,b,c,d), 3 para train (a,b,c)y 1 para test(d), ve el numero de correctas e incorrectas con esa distribucion y luego cambia de distribucion, 3 para train(a,b,d) y 1 para test(c), y haci con todas las demas, y saca un conteo de todas las correctar e incorrectas, hace los mismo con otros modelos y al final elige el modelo donde se tubo más buenas que malas.\n",
        "\n",
        "* al proceso de separa la data en el ejemplo anterior fue de 4, a esto se le llama 'k-fold cross validation', donde k es el numero de bloques en el cual sera dividida la data."
      ]
    },
    {
      "cell_type": "markdown",
      "metadata": {
        "id": "_04Zk66S2tov"
      },
      "source": [
        "# PCA\n",
        "\n",
        "---\n",
        "\n"
      ]
    },
    {
      "cell_type": "markdown",
      "metadata": {
        "id": "9RV-mQbf2wOQ"
      },
      "source": [
        "**Introducción:** [link text](https://www.youtube.com/watch?v=AniiwysJ-2Y&t=1117s)\n",
        "\n",
        "**Problema:** \n",
        "* alta dimensionalidad en nuestro dataset\n",
        "\n",
        "* hay una alta coorelacion entre los features\n",
        "\n",
        "* overfitting, al usar PCA el modelo se vuelve más simple haciendo que el modelo ya no se sobreajuste.\n",
        "\n",
        "* alto coste computacional, tiempo, etc.\n",
        "\n",
        "**Objetivo:**\n",
        "\n",
        "Lo que quiere PCA, esencialmente es intentar convinar diferentes features en otros features 'Artificiales' donde se mantenga la misma informacion, o en nuestro caso la varianza entre los features.\n",
        "\n",
        "\n",
        "**Analisis de Componentes principales**\n",
        "\n",
        "* calculamos la covarianza para expresar las relaciones entre nuestros features.\n",
        "\n",
        "* hallamos los vectores propios y valores propios (eigenvalues & eigenvectors), de esta matriz, para medir la fuerza y variabilidad de estas relaciones.\n",
        "\n",
        "* ordenamos y escogemos los vectores propios con mayor variabilidad, esto es, que aportan más informacion, una expliacion con mayor detalle en el video de introduccion.\n",
        "\n",
        "**Adicionalmente**\n",
        "\n",
        "* si tenemos un dataset demasiado exigente o un equipo de bajos recursos, podemos usar Increment Principal Components Analysis (IPCA).\n",
        "\n",
        "* Si nuestros datos no tienen una estructura separable linealmente, y encontramos un KERNEL que pueda mapearlos podemos usar KPCA.\n"
      ]
    },
    {
      "cell_type": "markdown",
      "metadata": {
        "id": "6Y1u0rzWaJS5"
      },
      "source": [
        "**Preparacion de datos para PCA Y IPCA**\n",
        "\n",
        "---"
      ]
    },
    {
      "cell_type": "code",
      "metadata": {
        "id": "Ytf_9pZXaPCv"
      },
      "source": [
        "import pandas as pd\n",
        "import sklearn\n",
        "import matplotlib.pyplot as plt\n",
        "\n",
        "from sklearn.decomposition import PCA\n",
        "from sklearn.decomposition import IncrementalPCA\n",
        "from sklearn.decomposition import KernelPCA\n",
        "\n",
        "from sklearn.linear_model import LogisticRegression\n",
        "\n",
        "from sklearn.preprocessing import StandardScaler\n",
        "from sklearn.model_selection import train_test_split"
      ],
      "execution_count": null,
      "outputs": []
    },
    {
      "cell_type": "code",
      "metadata": {
        "id": "iUi9R__mak5q",
        "outputId": "c419d4d9-b2b7-47cb-d01d-01e0b8f4de1f",
        "colab": {
          "base_uri": "https://localhost:8080/",
          "height": 204
        }
      },
      "source": [
        "dt_heart = pd.read_csv('/content/heart_bde64b4c-2d72-4cd3-a964-62ee94855f5b.csv')\n",
        "dt_heart.head()"
      ],
      "execution_count": null,
      "outputs": [
        {
          "output_type": "execute_result",
          "data": {
            "text/html": [
              "<div>\n",
              "<style scoped>\n",
              "    .dataframe tbody tr th:only-of-type {\n",
              "        vertical-align: middle;\n",
              "    }\n",
              "\n",
              "    .dataframe tbody tr th {\n",
              "        vertical-align: top;\n",
              "    }\n",
              "\n",
              "    .dataframe thead th {\n",
              "        text-align: right;\n",
              "    }\n",
              "</style>\n",
              "<table border=\"1\" class=\"dataframe\">\n",
              "  <thead>\n",
              "    <tr style=\"text-align: right;\">\n",
              "      <th></th>\n",
              "      <th>age</th>\n",
              "      <th>sex</th>\n",
              "      <th>cp</th>\n",
              "      <th>trestbps</th>\n",
              "      <th>chol</th>\n",
              "      <th>fbs</th>\n",
              "      <th>restecg</th>\n",
              "      <th>thalach</th>\n",
              "      <th>exang</th>\n",
              "      <th>oldpeak</th>\n",
              "      <th>slope</th>\n",
              "      <th>ca</th>\n",
              "      <th>thal</th>\n",
              "      <th>target</th>\n",
              "    </tr>\n",
              "  </thead>\n",
              "  <tbody>\n",
              "    <tr>\n",
              "      <th>0</th>\n",
              "      <td>52</td>\n",
              "      <td>1</td>\n",
              "      <td>0</td>\n",
              "      <td>125</td>\n",
              "      <td>212</td>\n",
              "      <td>0</td>\n",
              "      <td>1</td>\n",
              "      <td>168</td>\n",
              "      <td>0</td>\n",
              "      <td>1.0</td>\n",
              "      <td>2</td>\n",
              "      <td>2</td>\n",
              "      <td>3</td>\n",
              "      <td>0</td>\n",
              "    </tr>\n",
              "    <tr>\n",
              "      <th>1</th>\n",
              "      <td>53</td>\n",
              "      <td>1</td>\n",
              "      <td>0</td>\n",
              "      <td>140</td>\n",
              "      <td>203</td>\n",
              "      <td>1</td>\n",
              "      <td>0</td>\n",
              "      <td>155</td>\n",
              "      <td>1</td>\n",
              "      <td>3.1</td>\n",
              "      <td>0</td>\n",
              "      <td>0</td>\n",
              "      <td>3</td>\n",
              "      <td>0</td>\n",
              "    </tr>\n",
              "    <tr>\n",
              "      <th>2</th>\n",
              "      <td>70</td>\n",
              "      <td>1</td>\n",
              "      <td>0</td>\n",
              "      <td>145</td>\n",
              "      <td>174</td>\n",
              "      <td>0</td>\n",
              "      <td>1</td>\n",
              "      <td>125</td>\n",
              "      <td>1</td>\n",
              "      <td>2.6</td>\n",
              "      <td>0</td>\n",
              "      <td>0</td>\n",
              "      <td>3</td>\n",
              "      <td>0</td>\n",
              "    </tr>\n",
              "    <tr>\n",
              "      <th>3</th>\n",
              "      <td>61</td>\n",
              "      <td>1</td>\n",
              "      <td>0</td>\n",
              "      <td>148</td>\n",
              "      <td>203</td>\n",
              "      <td>0</td>\n",
              "      <td>1</td>\n",
              "      <td>161</td>\n",
              "      <td>0</td>\n",
              "      <td>0.0</td>\n",
              "      <td>2</td>\n",
              "      <td>1</td>\n",
              "      <td>3</td>\n",
              "      <td>0</td>\n",
              "    </tr>\n",
              "    <tr>\n",
              "      <th>4</th>\n",
              "      <td>62</td>\n",
              "      <td>0</td>\n",
              "      <td>0</td>\n",
              "      <td>138</td>\n",
              "      <td>294</td>\n",
              "      <td>1</td>\n",
              "      <td>1</td>\n",
              "      <td>106</td>\n",
              "      <td>0</td>\n",
              "      <td>1.9</td>\n",
              "      <td>1</td>\n",
              "      <td>3</td>\n",
              "      <td>2</td>\n",
              "      <td>0</td>\n",
              "    </tr>\n",
              "  </tbody>\n",
              "</table>\n",
              "</div>"
            ],
            "text/plain": [
              "   age  sex  cp  trestbps  chol  fbs  ...  exang  oldpeak  slope  ca  thal  target\n",
              "0   52    1   0       125   212    0  ...      0      1.0      2   2     3       0\n",
              "1   53    1   0       140   203    1  ...      1      3.1      0   0     3       0\n",
              "2   70    1   0       145   174    0  ...      1      2.6      0   0     3       0\n",
              "3   61    1   0       148   203    0  ...      0      0.0      2   1     3       0\n",
              "4   62    0   0       138   294    1  ...      0      1.9      1   3     2       0\n",
              "\n",
              "[5 rows x 14 columns]"
            ]
          },
          "metadata": {
            "tags": []
          },
          "execution_count": 3
        }
      ]
    },
    {
      "cell_type": "code",
      "metadata": {
        "id": "UCIP5k1xgdhT",
        "outputId": "1b6fdd93-e17d-4502-9b0a-7393e690aabc",
        "colab": {
          "base_uri": "https://localhost:8080/",
          "height": 221
        }
      },
      "source": [
        "dt_features = dt_heart.drop(['target'],axis=1)\n",
        "# dt_target = dt_heart.drop(dt_features.columns,axis=1) # mayor coste computacional\n",
        "dt_target = dt_heart['target'] \n",
        "dt_target"
      ],
      "execution_count": null,
      "outputs": [
        {
          "output_type": "execute_result",
          "data": {
            "text/plain": [
              "0       0\n",
              "1       0\n",
              "2       0\n",
              "3       0\n",
              "4       0\n",
              "       ..\n",
              "1020    1\n",
              "1021    0\n",
              "1022    0\n",
              "1023    1\n",
              "1024    0\n",
              "Name: target, Length: 1025, dtype: int64"
            ]
          },
          "metadata": {
            "tags": []
          },
          "execution_count": 4
        }
      ]
    },
    {
      "cell_type": "code",
      "metadata": {
        "id": "PxnmTK2niXXu",
        "outputId": "8b7aa58b-d3f0-4677-ce32-60c95a31c831",
        "colab": {
          "base_uri": "https://localhost:8080/",
          "height": 34
        }
      },
      "source": [
        "dt_features = StandardScaler().fit_transform(dt_features) # standarizamos nuestra data\n",
        "df_f = pd.DataFrame(dt_features,columns=dt_heart.columns[:-1]) # visualizacion\n",
        "df_f.shape"
      ],
      "execution_count": null,
      "outputs": [
        {
          "output_type": "execute_result",
          "data": {
            "text/plain": [
              "(1025, 13)"
            ]
          },
          "metadata": {
            "tags": []
          },
          "execution_count": 5
        }
      ]
    },
    {
      "cell_type": "code",
      "metadata": {
        "id": "KonBYd97B_zr",
        "outputId": "fb01896a-9cf2-47a7-bbcc-d3da2cb3f88b",
        "colab": {
          "base_uri": "https://localhost:8080/",
          "height": 204
        }
      },
      "source": [
        "df_f.head()"
      ],
      "execution_count": null,
      "outputs": [
        {
          "output_type": "execute_result",
          "data": {
            "text/html": [
              "<div>\n",
              "<style scoped>\n",
              "    .dataframe tbody tr th:only-of-type {\n",
              "        vertical-align: middle;\n",
              "    }\n",
              "\n",
              "    .dataframe tbody tr th {\n",
              "        vertical-align: top;\n",
              "    }\n",
              "\n",
              "    .dataframe thead th {\n",
              "        text-align: right;\n",
              "    }\n",
              "</style>\n",
              "<table border=\"1\" class=\"dataframe\">\n",
              "  <thead>\n",
              "    <tr style=\"text-align: right;\">\n",
              "      <th></th>\n",
              "      <th>age</th>\n",
              "      <th>sex</th>\n",
              "      <th>cp</th>\n",
              "      <th>trestbps</th>\n",
              "      <th>chol</th>\n",
              "      <th>fbs</th>\n",
              "      <th>restecg</th>\n",
              "      <th>thalach</th>\n",
              "      <th>exang</th>\n",
              "      <th>oldpeak</th>\n",
              "      <th>slope</th>\n",
              "      <th>ca</th>\n",
              "      <th>thal</th>\n",
              "    </tr>\n",
              "  </thead>\n",
              "  <tbody>\n",
              "    <tr>\n",
              "      <th>0</th>\n",
              "      <td>-0.268437</td>\n",
              "      <td>0.661504</td>\n",
              "      <td>-0.915755</td>\n",
              "      <td>-0.377636</td>\n",
              "      <td>-0.659332</td>\n",
              "      <td>-0.418878</td>\n",
              "      <td>0.891255</td>\n",
              "      <td>0.821321</td>\n",
              "      <td>-0.712287</td>\n",
              "      <td>-0.060888</td>\n",
              "      <td>0.995433</td>\n",
              "      <td>1.209221</td>\n",
              "      <td>1.089852</td>\n",
              "    </tr>\n",
              "    <tr>\n",
              "      <th>1</th>\n",
              "      <td>-0.158157</td>\n",
              "      <td>0.661504</td>\n",
              "      <td>-0.915755</td>\n",
              "      <td>0.479107</td>\n",
              "      <td>-0.833861</td>\n",
              "      <td>2.387330</td>\n",
              "      <td>-1.004049</td>\n",
              "      <td>0.255968</td>\n",
              "      <td>1.403928</td>\n",
              "      <td>1.727137</td>\n",
              "      <td>-2.243675</td>\n",
              "      <td>-0.731971</td>\n",
              "      <td>1.089852</td>\n",
              "    </tr>\n",
              "    <tr>\n",
              "      <th>2</th>\n",
              "      <td>1.716595</td>\n",
              "      <td>0.661504</td>\n",
              "      <td>-0.915755</td>\n",
              "      <td>0.764688</td>\n",
              "      <td>-1.396233</td>\n",
              "      <td>-0.418878</td>\n",
              "      <td>0.891255</td>\n",
              "      <td>-1.048692</td>\n",
              "      <td>1.403928</td>\n",
              "      <td>1.301417</td>\n",
              "      <td>-2.243675</td>\n",
              "      <td>-0.731971</td>\n",
              "      <td>1.089852</td>\n",
              "    </tr>\n",
              "    <tr>\n",
              "      <th>3</th>\n",
              "      <td>0.724079</td>\n",
              "      <td>0.661504</td>\n",
              "      <td>-0.915755</td>\n",
              "      <td>0.936037</td>\n",
              "      <td>-0.833861</td>\n",
              "      <td>-0.418878</td>\n",
              "      <td>0.891255</td>\n",
              "      <td>0.516900</td>\n",
              "      <td>-0.712287</td>\n",
              "      <td>-0.912329</td>\n",
              "      <td>0.995433</td>\n",
              "      <td>0.238625</td>\n",
              "      <td>1.089852</td>\n",
              "    </tr>\n",
              "    <tr>\n",
              "      <th>4</th>\n",
              "      <td>0.834359</td>\n",
              "      <td>-1.511706</td>\n",
              "      <td>-0.915755</td>\n",
              "      <td>0.364875</td>\n",
              "      <td>0.930822</td>\n",
              "      <td>2.387330</td>\n",
              "      <td>0.891255</td>\n",
              "      <td>-1.874977</td>\n",
              "      <td>-0.712287</td>\n",
              "      <td>0.705408</td>\n",
              "      <td>-0.624121</td>\n",
              "      <td>2.179817</td>\n",
              "      <td>-0.522122</td>\n",
              "    </tr>\n",
              "  </tbody>\n",
              "</table>\n",
              "</div>"
            ],
            "text/plain": [
              "        age       sex        cp  ...     slope        ca      thal\n",
              "0 -0.268437  0.661504 -0.915755  ...  0.995433  1.209221  1.089852\n",
              "1 -0.158157  0.661504 -0.915755  ... -2.243675 -0.731971  1.089852\n",
              "2  1.716595  0.661504 -0.915755  ... -2.243675 -0.731971  1.089852\n",
              "3  0.724079  0.661504 -0.915755  ...  0.995433  0.238625  1.089852\n",
              "4  0.834359 -1.511706 -0.915755  ... -0.624121  2.179817 -0.522122\n",
              "\n",
              "[5 rows x 13 columns]"
            ]
          },
          "metadata": {
            "tags": []
          },
          "execution_count": 6
        }
      ]
    },
    {
      "cell_type": "code",
      "metadata": {
        "id": "B7GiHIsxjJBJ"
      },
      "source": [
        "x_train, x_test, y_train, y_test = train_test_split(dt_features,dt_target,train_size=0.85,random_state = 42)\n",
        "# como funciona el random_state:\n",
        "# random.seed(42) -> random.randint(1,50) -> 36\n",
        "# random.seed(42) -> random.randint(1,50) -> 36\n",
        "# random.seed(42) -> random.randint(1,50) -> 36\n",
        "# o sea segun tenga la misma semilla el valor de retorno en ese rango sera el mismo '36'\n",
        "\n",
        "# random.seed(42) -> random.randint(1,50) -> 36\n",
        "# random.seed() -> random.randint(1,50) -> 12\n",
        "# random.seed(42) -> random.randint(1,50) -> 36\n",
        "# en esta solo tubieron valores iguales los que tubieron la misma semilla.\n",
        "# normalemente se hace el random.seed(datetime.now()) # que representa el tiempo de tu computador"
      ],
      "execution_count": null,
      "outputs": []
    },
    {
      "cell_type": "code",
      "metadata": {
        "id": "yPWi9WSpoo5t",
        "outputId": "cee4e7c2-08a6-4b61-ddbd-6dec57d2e8a1",
        "colab": {
          "base_uri": "https://localhost:8080/",
          "height": 269
        }
      },
      "source": [
        "# n_components  = none, entonces es como no hacer ninguna reduccion de dimensionalidad y devolveria los mismo que ingresamos, no tendria sentido lo que estariamos haciendo.\n",
        "pca = PCA(n_components=3)\n",
        "pca.fit(x_train) # n_componets = a la cantidad de features artificiales\n",
        "\n",
        "ipca = IncrementalPCA(n_components=3, batch_size=10) # el batch_size es la cantidad de lotes a tomar para hacer las combinaciones\n",
        "ipca.fit(x_train) \n",
        "\n",
        "plt.plot(range(len(pca.explained_variance_)), pca.explained_variance_)  # significa que la hay 3 partes 1 parte = 0, 2 part = 1, 3 part = 2\n",
        "plt.plot(range(len(ipca.explained_variance_)), ipca.explained_variance_) # donde se dice que la primera y segunda componente estan dando mucha informacion\n",
        "plt.xticks(c='white') # mientras que la tercera muy poco\n",
        "plt.yticks(c='white')\n",
        "plt.grid()\n",
        "plt.show()"
      ],
      "execution_count": null,
      "outputs": [
        {
          "output_type": "display_data",
          "data": {
            "image/png": "[encoded data removed]",
            "text/plain": [
              "<Figure size 432x288 with 1 Axes>"
            ]
          },
          "metadata": {
            "tags": [],
            "needs_background": "dark"
          }
        }
      ]
    },
    {
      "cell_type": "code",
      "metadata": {
        "id": "HiZJUdi4wx-F",
        "outputId": "4e47db11-3b3c-4685-88da-eb4dc3f3907b",
        "colab": {
          "base_uri": "https://localhost:8080/",
          "height": 85
        }
      },
      "source": [
        "logistic = LogisticRegression(solver='lbfgs')\n",
        "\n",
        "dt_train = pca.transform(x_train) # reduccion de dimensionalidad con PCA\n",
        "dt_test = pca.transform(x_test)\n",
        "\n",
        "logistic.fit(dt_train,y_train) # entrenamos nuestra data de entrenamiento\n",
        "\n",
        "print(' PCA Score: ',logistic.score(dt_test,y_test)) # y obtenemos las presicion del modelo\n",
        "\n",
        "dt_train = ipca.transform(x_train) # reduccion de dimensionalidad con IPCA\n",
        "dt_test = ipca.transform(x_test)\n",
        "\n",
        "logistic.fit(dt_train,y_train)\n",
        "\n",
        "print(' IPCA Score: ', logistic.score(dt_test, y_test))"
      ],
      "execution_count": null,
      "outputs": [
        {
          "output_type": "stream",
          "text": [
            "(871, 3)\n",
            " PCA Score:  0.8246753246753247\n",
            "(871, 3)\n",
            " IPCA Score:  0.8181818181818182\n"
          ],
          "name": "stdout"
        }
      ]
    },
    {
      "cell_type": "markdown",
      "metadata": {
        "id": "4upYZKANxK4E"
      },
      "source": [
        "**Kernels**\n",
        "\n",
        "---\n",
        "\n",
        "* son funciones matematicas que con unos datos en 2D, pueden ser llevamos o proyectados en otras dimensones más altas como 3D, 4D, nD, etc.\n",
        "\n",
        "![link text](https://static.platzi.com/media/user_upload/Captura-b6298d31-5865-4287-b153-38194fafc296.jpg)\n",
        "\n",
        "* existen varios tipos de kernels, los más comunes son: lineares (donde son combinaciones lineales), polinomiales (son combinaciones con polinomios haciendo que las separaciones sean mas curvadas), y gausianos(RBF, donde se toman campos espesificos, siendo regiones mas complejas, curvas mas combinadas entre si).\n",
        "\n",
        "RECORDAR, QUE AL LLEVAR NUESTRA DATA A OTRAS DIMENSIONES SIGNIFICA QUE VA A TENER UN COSTE COMPUTACIONAL MÁS ALTO."
      ]
    },
    {
      "cell_type": "code",
      "metadata": {
        "id": "tcUzhwLf0swk",
        "outputId": "0d3286e1-563d-4c15-e661-828360e1ae56",
        "colab": {
          "base_uri": "https://localhost:8080/",
          "height": 34
        }
      },
      "source": [
        "kpca = KernelPCA(n_components=4, kernel= 'poly')\n",
        "kpca.fit(x_train)\n",
        "\n",
        "dt_train = kpca.transform(x_train)\n",
        "dt_test = kpca.transform(x_test)\n",
        "\n",
        "logistic = LogisticRegression(solver='lbfgs')\n",
        "logistic.fit(dt_train, y_train)\n",
        "\n",
        "print('Score with KPCA: ',logistic.score(dt_test,y_test))"
      ],
      "execution_count": null,
      "outputs": [
        {
          "output_type": "stream",
          "text": [
            "Score with KPCA:  0.7987012987012987\n"
          ],
          "name": "stdout"
        }
      ]
    },
    {
      "cell_type": "markdown",
      "metadata": {
        "id": "UeAR5isbCumT"
      },
      "source": [
        "**LA MEJOR FORMA DE ENCONTRAR UN NUMERO BUENO CON EL 90%  DE LA DATA ES:**\n",
        "\n",
        "---\n",
        "\n"
      ]
    },
    {
      "cell_type": "code",
      "metadata": {
        "id": "GI9tqYehC0v_"
      },
      "source": [
        "min_compo= 0\n",
        "\n",
        "for i in range(2,14):\n",
        "  pca = PCA(n_components=i)\n",
        "  pca.fit(x_train) # n_componets = a la cantidad de features artificiales\n",
        "\n",
        "  cumsum = np.cumsum(pca.explained_variance_ratio_) # ACUMULACION DE LA VARIACION DE LOS DATOS\n",
        "  dim = np.argmax(cumsum >= 0.90) + 1  # SI NINGUNO DE LOS DATOS ACUMULADOS ES MAYOR A 0.90 ENTONCES SERA 1 O IGUAL A DECIR 0\n",
        "  if dim > 1:\n",
        "    min_compo = i\n",
        "    print(i,' components is the minimum for the 90% of the data')\n",
        "    break\n",
        "  else:\n",
        "    print(i,' components doesnt contain the 90% of the data.')\n",
        "\n",
        "pca = PCA(n_components=min_compo)\n",
        "pca.fit(x_train)"
      ],
      "execution_count": null,
      "outputs": []
    },
    {
      "cell_type": "code",
      "metadata": {
        "id": "yYY6zvrYESbi"
      },
      "source": [
        "plt.figure(figsize=(8,6))\n",
        "plt.plot(np.cumsum(pca.explained_variance_ratio_))\n",
        "plt.xlim(0,14,1)\n",
        "plt.xlabel('Number of components')\n",
        "plt.ylabel('Cumulative explained variance')\n",
        "plt.show()"
      ],
      "execution_count": null,
      "outputs": []
    },
    {
      "cell_type": "markdown",
      "metadata": {
        "id": "mClo83pz9CCQ"
      },
      "source": [
        "# ¿Qué es la regularización y cómo aplicarla?\n",
        "\n",
        "---"
      ]
    },
    {
      "cell_type": "markdown",
      "metadata": {
        "id": "y3GdduMOqTjB"
      },
      "source": [
        "* Consiste en disminuir la complejidad del modelo a traves de una penalizacion aplicada a sus variable o features más inrelevantes. para que no tengan tanto efecto dentro de nuestro modelo.\n",
        "\n",
        "* su principio se basa en, un modelo que se ajusta a su data de entrenamiento y a la hora de la prueba obtiene un accuracy bajo o el que no se esperaba, para eso, aumentaremos un poco el sesgo o bias de nuestro modelo con los datos de entrenamiento, para así tener un mejor desempeño con los datos del mundo real."
      ]
    },
    {
      "cell_type": "markdown",
      "metadata": {
        "id": "cbPj35xN92gz"
      },
      "source": [
        "![link text](https://static.platzi.com/media/user_upload/l2-22ee27bf-b7e1-47b3-ab1a-16a69fc043f2.jpg)\n",
        "\n",
        "![link text](https://static.platzi.com/media/user_upload/l1ok-c14e2c8e-85f8-4858-bc25-a6f96945c061.jpg)"
      ]
    },
    {
      "cell_type": "markdown",
      "metadata": {
        "id": "fzJhT7a8ueqv"
      },
      "source": [
        "**Sinembargo:**\n",
        "\n",
        "*  no hay un campeon definitivo para todos los problemas.\n",
        "\n",
        "* si hay pocos features que se relacionen directamente con la variable a predecir, Probar la Regulización Lasso.\n",
        "\n",
        "* si hay varios features relacionados con la variable a predecir, Probar La Regulización Ridge."
      ]
    },
    {
      "cell_type": "code",
      "metadata": {
        "id": "nCRNTH71pmf6"
      },
      "source": [
        "import pandas as pd\n",
        "import sklearn\n",
        "\n",
        "from sklearn.linear_model import LinearRegression\n",
        "from sklearn.linear_model import Lasso\n",
        "from sklearn.linear_model import Ridge\n",
        "\n",
        "from sklearn.model_selection import train_test_split\n",
        "from sklearn.metrics import mean_squared_error"
      ],
      "execution_count": null,
      "outputs": []
    },
    {
      "cell_type": "code",
      "metadata": {
        "id": "6eXveI1Prpk8"
      },
      "source": [
        "dataset = pd.read_csv('/content/whr2017.csv')\n",
        "dataset.head()"
      ],
      "execution_count": null,
      "outputs": []
    },
    {
      "cell_type": "code",
      "metadata": {
        "id": "S-dVgbKur9jV"
      },
      "source": [
        "dataset.describe()"
      ],
      "execution_count": null,
      "outputs": []
    },
    {
      "cell_type": "code",
      "metadata": {
        "id": "shBbusupt-Ru",
        "outputId": "0370493a-6ccd-4047-d220-6a82b29b630e",
        "colab": {
          "base_uri": "https://localhost:8080/",
          "height": 34
        }
      },
      "source": [
        "dataset.shape"
      ],
      "execution_count": null,
      "outputs": [
        {
          "output_type": "execute_result",
          "data": {
            "text/plain": [
              "(155, 12)"
            ]
          },
          "metadata": {
            "tags": []
          },
          "execution_count": 17
        }
      ]
    },
    {
      "cell_type": "code",
      "metadata": {
        "id": "HkdS8KEYuF46",
        "outputId": "6732dfbf-96d3-4ac5-8e79-ad0966cf9c27",
        "colab": {
          "base_uri": "https://localhost:8080/",
          "height": 34
        }
      },
      "source": [
        "features = ['gdp', 'family', 'lifexp', 'freedom' , 'corruption' , 'generosity', 'dystopia']\n",
        "labels = ['score']\n",
        "\n",
        "# cuando ponemos corchetes dentro de los corchetes significa que estamos tomando esas columnas, ya no solo los valores, sino todo\n",
        "# X = dataset[['gdp', 'family', 'lifexp', 'freedom' , 'corruption' , 'generosity', 'dystopia']]\n",
        "# y = dataset[['score']]\n",
        "\n",
        "x = dataset[features]\n",
        "y = dataset[labels]\n",
        "x.shape, y.shape"
      ],
      "execution_count": null,
      "outputs": [
        {
          "output_type": "execute_result",
          "data": {
            "text/plain": [
              "((155, 7), (155, 1))"
            ]
          },
          "metadata": {
            "tags": []
          },
          "execution_count": 18
        }
      ]
    },
    {
      "cell_type": "code",
      "metadata": {
        "id": "YGGwofHGu8Is",
        "outputId": "11975913-6807-47dc-8617-84fac18a8a5d",
        "colab": {
          "base_uri": "https://localhost:8080/",
          "height": 34
        }
      },
      "source": [
        "x_train, x_test, y_train, y_test = train_test_split(x,y,train_size = 0.75)\n",
        "x_train.shape"
      ],
      "execution_count": null,
      "outputs": [
        {
          "output_type": "execute_result",
          "data": {
            "text/plain": [
              "(116, 7)"
            ]
          },
          "metadata": {
            "tags": []
          },
          "execution_count": 19
        }
      ]
    },
    {
      "cell_type": "code",
      "metadata": {
        "id": "C7NidV-rvU_j"
      },
      "source": [
        "# implementacion de los modelos:\n",
        "LinearModel = LinearRegression().fit(x_train,y_train)\n",
        "y_pred_Linear = LinearModel.predict(x_test)\n",
        "\n",
        "# RECORDAR QUE EL 'alpha' ES EL LAMBDA QUE SE VEN EN LAS FORMULAS\n",
        "# el 'alpha' hace que la pendiente o slope se valla más a un valor donde la pendiente sea 0, osea una recta en el infito de x. \n",
        "# Si el alpha es 0 significa que no modifico nada y sera lo mismo que hacer un regression linear\n",
        "RidgeModel = Ridge(alpha=1).fit(x_train,y_train)\n",
        "y_pred_Ridge = RidgeModel.predict(x_test)\n",
        "\n",
        "LassoModel = Lasso(alpha=0.02).fit(x_train,y_train)\n",
        "y_pred_Lasso = LassoModel.predict(x_test)"
      ],
      "execution_count": null,
      "outputs": []
    },
    {
      "cell_type": "code",
      "metadata": {
        "id": "LPjKHEjZ3_Vi",
        "outputId": "2feec6e4-7f84-427b-b996-adcf6956de17",
        "colab": {
          "base_uri": "https://localhost:8080/",
          "height": 68
        }
      },
      "source": [
        "print('LM: ',LinearModel.score(x_test,y_test)*100)\n",
        "print('Ridge: ',RidgeModel.score(x_test,y_test)*100)\n",
        "print('Lasso: ',LassoModel.score(x_test,y_test)*100)"
      ],
      "execution_count": null,
      "outputs": [
        {
          "output_type": "stream",
          "text": [
            "LM:  99.99999137365471\n",
            "Ridge:  99.62214658614207\n",
            "Lasso:  97.09012253983543\n"
          ],
          "name": "stdout"
        }
      ]
    },
    {
      "cell_type": "code",
      "metadata": {
        "id": "apc9UMBT1iFR",
        "outputId": "4abb770b-fca9-4f9c-aeac-da7525283ce4",
        "colab": {
          "base_uri": "https://localhost:8080/",
          "height": 68
        }
      },
      "source": [
        "Error_Linear = mean_squared_error(y_test, y_pred_Linear)\n",
        "print(' Error Linear Regression: ', Error_Linear)\n",
        "\n",
        "Error_Ridge = mean_squared_error(y_test,y_pred_Ridge)\n",
        "print(' Error Ridge: ', Error_Ridge)\n",
        "\n",
        "Error_Lasso = mean_squared_error(y_test,y_pred_Lasso)\n",
        "print(' Error Lasso: ',Error_Lasso)\n",
        "\n",
        "# como se ve el que tubo menor perdida fue Linear Regression, parecera mayor por el 1.215... pero al final es 'e-07' eso quiere decir que es un valor muy muy acerdado a cero."
      ],
      "execution_count": null,
      "outputs": [
        {
          "output_type": "stream",
          "text": [
            " Error Linear Regression:  9.42463830752595e-08\n",
            " Error Ridge:  0.0041282045138061494\n",
            " Error Lasso:  0.031791612368998315\n"
          ],
          "name": "stdout"
        }
      ]
    },
    {
      "cell_type": "code",
      "metadata": {
        "id": "msZJant92gXc",
        "outputId": "6bbf38ad-dde1-4a95-8778-bff7445ed642",
        "colab": {
          "base_uri": "https://localhost:8080/",
          "height": 221
        }
      },
      "source": [
        "print('='*30)\n",
        "print(' Coef Ridge: \\n', RidgeModel.coef_)\n",
        "# en Ridge 'gdp' fue el q aporto más, y ninguno fue '0.' solomente los aproximo a cero.\n",
        "print('='*30)\n",
        "print(' Coef Lasso: \\n', LassoModel.coef_)\n",
        "# en lasso, el que tubo mayor peso o importancia fue el primer parametro que es 'gdp' y decidio.\n",
        "# y decidio penalizar a la categoria de corrupcion con un '0.'\n",
        "print('='*30)\n",
        "print(' Coef Linear: \\n', LinearModel.coef_)\n",
        "# Por otro lado al comparar los coeficientes para la variable “corruption” en todos los modelos, \n",
        "# se observa que el coeficiente para el modelo 'lineal' es de 0.9996… , osea casi 1!!. Luego esto \n",
        "# indicaría que la variable es estadisticamente muy significativa y por tanto el modelo lasso nos \n",
        "# estaría llevando hacia un resultado erróneo. "
      ],
      "execution_count": null,
      "outputs": [
        {
          "output_type": "stream",
          "text": [
            "==============================\n",
            " Coef Ridge: \n",
            " [[1.06719519 0.96490865 0.86756104 0.88983292 0.65035932 0.78085766\n",
            "  0.9659824 ]]\n",
            "==============================\n",
            " Coef Lasso: \n",
            " [1.26265466 0.90474289 0.5140317  0.7777669  0.         0.3212934\n",
            " 0.9128909 ]\n",
            "==============================\n",
            " Coef Linear: \n",
            " [[0.99997359 0.99997805 0.99999076 0.99981434 0.99989779 1.00033842\n",
            "  0.99999115]]\n"
          ],
          "name": "stdout"
        }
      ]
    },
    {
      "cell_type": "markdown",
      "metadata": {
        "id": "YCOlaypnJGLy"
      },
      "source": [
        "**ElasticNet: Una técnica intermedia:**\n",
        "\n",
        "Es común encontrarnos en la literatura con un camino intermedio llamado ElasticNet. Esta técnica consiste en combinar las dos penalizaciones anteriores en una sola función.\n",
        "\n",
        "Donde tenemos ahora un parámetro adicional 𝛂 que tiene un rango de valores entre 0 y 1. Si 𝛂 = 0 , ElasticNet se comportará como Ridge, y si 𝛂 = 1 , se comportará como Lasso. Por lo tanto, nos brinda todo el espectro lineal de posibles combinaciones entre estos dos extremos.\n",
        "\n",
        "* Tenemos una forma de probar ambas L1 y L2 al tiempo sin perder información.\n",
        "\n",
        "* Supera las limitaciones individuales de ellas.\n",
        "\n",
        "* Si hace falta experiencia, o el conocimiento matemático de fondo, puede ser la opción preferente para probar la regularización.\n",
        "\n",
        "**ElasticNet con Scikit-learn**\n",
        "\n",
        "* from sklearn.linear_model import ElasticNet\n",
        "\n",
        "* regr = ElasticNet(random_state=0)\n",
        "\n",
        "* regr.fit(X, y)"
      ]
    },
    {
      "cell_type": "markdown",
      "metadata": {
        "id": "rUFW1CDmg4y5"
      },
      "source": [
        "# Regresiones Robustas\n",
        "\n",
        "---\n",
        "\n"
      ]
    },
    {
      "cell_type": "markdown",
      "metadata": {
        "id": "RL_pHOGu-436"
      },
      "source": [
        "**Qué es un valor atipico ?**\n",
        "\n",
        "* es un medicion que se encuenta por fuera del comportamiento general de nuestros datos.\n",
        "\n",
        "* pueden indicar variabilidad, errores de medicion, o novedades en nuestra data.\n",
        "\n",
        "**por qué son problematicos?**\n",
        "\n",
        "* producen sesgos o bias en nuestros modelos de ML.\n",
        "\n",
        "* aveces son datos relevantes de nuetro dataset, donde revelan la naturaleza de los datos.\n",
        "\n",
        "* deteccion temprana de fallos.\n",
        "\n",
        "**comó detectarlos?**\n",
        "\n",
        "* mediante metodos estadisticos o graficas.\n",
        "\n",
        "* q < Q1 -1.5 * IQR o q > Q3 + 1.5 * IQR, si la q o dato se encuentra en estos rangos es un valor atipico.\n",
        "\n",
        "* para graficas usaremos Boxplots\n",
        "\n",
        "**Ejemplo:**\n",
        "\n",
        "* El grafico de caja de una buena forma para detectar los valores atípicos en un set de datos, a su vez también es aconsejable (dependiendo del caso) eliminarlos para que nuestro análisis sea lo más confiable posible.\n",
        "Me explicó, si sabemos que el promedio de autos que cruza una calle x de cuadra a cuadra es de aproximadamente de 10 segundos, un auto que tenga un tiempo de 100 segundo o de 10 minutos, claramente nos está indicando que tenemos un problema con ese dato. O sea los de 100 s o 10 min son datos atipicos de nuestra data.\n",
        "\n",
        "**¿Qué es el rango intercuartil y cómo se calcula?**\n",
        "\n",
        "El RIQ describe el 50% central de los valores cuando se ordenan de menor a mayor. Para encontrar el rango intercuartil (RIQ), primero encuentra la mediana (valor medio) de la mitad inferior y de la mitad superior de los datos. Estos valores son el primer cuartil (Q1) y el tercer cuartil (Q3).\n",
        "\n",
        "**¿Cuál es el rango intercuartil?**\n",
        "\n",
        "El rango intercuartílico IQR (o rango intercuartil) es una estimación estadística de la dispersión de una distribución de datos. Consiste en la diferencia entre el tercer y el primer cuartil. **Mediante esta medida se eliminan los valores extremadamente alejados.**\n",
        "\n",
        "**¿Cómo se interpreta el rango intercuartil?**\n",
        "\n",
        "El rango intercuartil (IQR) es la distancia entre el primer cuartil (Q1) y el tercer cuartil (Q3). El 50% de los datos está dentro de este rango. Para estos datos ordenados, el rango intercuartil es 8 (17.5–9.5 = 8). Es decir, el 50% intermedio de los datos está entre 9.5 and 17.5.\n"
      ]
    },
    {
      "cell_type": "markdown",
      "metadata": {
        "id": "rmwGQ76NFPpw"
      },
      "source": [
        "**Regresiones Robustas en Scikit-learn**\n",
        "\n",
        "* estos modelo nos ayudan a solucionar el problema de los valores atipicos.\n",
        "\n",
        "**RANSAC:**\n",
        "\n",
        "* Lo que hace es tomar un muestreo aleatorio de nuestros datos asumiendo que los datos tomados son inliners o no atipicos, hara esto 'n' veces y al final tomara la mejor combinacion que se ajusta a la mejor cantidad de inliners donde se pueda tomar los inliners y separarlos de los valores atipicos o viseversa.\n",
        "\n",
        "**Huber Regressor:**\n",
        "\n",
        "* Esta no sacara a los valores atipicos, sino que los penalizara. \n",
        "\n",
        "* calculara nuestro modelo de una manera normal, y utilizando el valor de la perdida, escogera a los valores que esten por debajo de un umbral, si estan por encima del umbral seran llamados epsilon (el 95% de veces epsilon es igual a 1.35), seran consideramos como valores atipicos y no los tendran en cuenta en nuestro modelo."
      ]
    },
    {
      "cell_type": "code",
      "metadata": {
        "id": "xGNnP0bNTT2A"
      },
      "source": [
        "import pandas as pd\n",
        "\n",
        "from sklearn.linear_model import RANSACRegressor, HuberRegressor\n",
        "\n",
        "from sklearn.svm import SVR # existe support vector regression y tambien otra que concosco SVC o support vector Clasification\n",
        "\n",
        "from sklearn.model_selection import train_test_split\n",
        "from sklearn.metrics import mean_squared_error"
      ],
      "execution_count": null,
      "outputs": []
    },
    {
      "cell_type": "code",
      "metadata": {
        "id": "iFpIypuZT5fg",
        "outputId": "22a91727-9530-48ea-86b1-4c38d9726fc6",
        "colab": {
          "base_uri": "https://localhost:8080/",
          "height": 34
        }
      },
      "source": [
        "dataset = pd.read_csv('/content/felicidad_corrupt.csv')\n",
        "dataset.shape"
      ],
      "execution_count": null,
      "outputs": [
        {
          "output_type": "execute_result",
          "data": {
            "text/plain": [
              "(167, 12)"
            ]
          },
          "metadata": {
            "tags": []
          },
          "execution_count": 11
        }
      ]
    },
    {
      "cell_type": "code",
      "metadata": {
        "id": "QYSu05JOUIx7",
        "outputId": "cf087388-60cf-4b60-e681-08ca5d6d9543",
        "colab": {
          "base_uri": "https://localhost:8080/",
          "height": 204
        }
      },
      "source": [
        "dataset.head()"
      ],
      "execution_count": null,
      "outputs": [
        {
          "output_type": "execute_result",
          "data": {
            "text/html": [
              "<div>\n",
              "<style scoped>\n",
              "    .dataframe tbody tr th:only-of-type {\n",
              "        vertical-align: middle;\n",
              "    }\n",
              "\n",
              "    .dataframe tbody tr th {\n",
              "        vertical-align: top;\n",
              "    }\n",
              "\n",
              "    .dataframe thead th {\n",
              "        text-align: right;\n",
              "    }\n",
              "</style>\n",
              "<table border=\"1\" class=\"dataframe\">\n",
              "  <thead>\n",
              "    <tr style=\"text-align: right;\">\n",
              "      <th></th>\n",
              "      <th>country</th>\n",
              "      <th>rank</th>\n",
              "      <th>score</th>\n",
              "      <th>high</th>\n",
              "      <th>low</th>\n",
              "      <th>gdp</th>\n",
              "      <th>family</th>\n",
              "      <th>lifexp</th>\n",
              "      <th>freedom</th>\n",
              "      <th>generosity</th>\n",
              "      <th>corruption</th>\n",
              "      <th>dystopia</th>\n",
              "    </tr>\n",
              "  </thead>\n",
              "  <tbody>\n",
              "    <tr>\n",
              "      <th>0</th>\n",
              "      <td>Norway</td>\n",
              "      <td>1</td>\n",
              "      <td>7.537</td>\n",
              "      <td>7.594445</td>\n",
              "      <td>7.479556</td>\n",
              "      <td>1.616463</td>\n",
              "      <td>1.533524</td>\n",
              "      <td>0.796667</td>\n",
              "      <td>0.635423</td>\n",
              "      <td>0.362012</td>\n",
              "      <td>0.315964</td>\n",
              "      <td>2.277027</td>\n",
              "    </tr>\n",
              "    <tr>\n",
              "      <th>1</th>\n",
              "      <td>Denmark</td>\n",
              "      <td>2</td>\n",
              "      <td>7.522</td>\n",
              "      <td>7.581728</td>\n",
              "      <td>7.462272</td>\n",
              "      <td>1.482383</td>\n",
              "      <td>1.551122</td>\n",
              "      <td>0.792566</td>\n",
              "      <td>0.626007</td>\n",
              "      <td>0.355280</td>\n",
              "      <td>0.400770</td>\n",
              "      <td>2.313707</td>\n",
              "    </tr>\n",
              "    <tr>\n",
              "      <th>2</th>\n",
              "      <td>Iceland</td>\n",
              "      <td>3</td>\n",
              "      <td>7.504</td>\n",
              "      <td>7.622030</td>\n",
              "      <td>7.385970</td>\n",
              "      <td>1.480633</td>\n",
              "      <td>1.610574</td>\n",
              "      <td>0.833552</td>\n",
              "      <td>0.627163</td>\n",
              "      <td>0.475540</td>\n",
              "      <td>0.153527</td>\n",
              "      <td>2.322715</td>\n",
              "    </tr>\n",
              "    <tr>\n",
              "      <th>3</th>\n",
              "      <td>Switzerland</td>\n",
              "      <td>4</td>\n",
              "      <td>7.494</td>\n",
              "      <td>7.561772</td>\n",
              "      <td>7.426227</td>\n",
              "      <td>1.564980</td>\n",
              "      <td>1.516912</td>\n",
              "      <td>0.858131</td>\n",
              "      <td>0.620071</td>\n",
              "      <td>0.290549</td>\n",
              "      <td>0.367007</td>\n",
              "      <td>2.276716</td>\n",
              "    </tr>\n",
              "    <tr>\n",
              "      <th>4</th>\n",
              "      <td>Finland</td>\n",
              "      <td>5</td>\n",
              "      <td>7.469</td>\n",
              "      <td>7.527542</td>\n",
              "      <td>7.410458</td>\n",
              "      <td>1.443572</td>\n",
              "      <td>1.540247</td>\n",
              "      <td>0.809158</td>\n",
              "      <td>0.617951</td>\n",
              "      <td>0.245483</td>\n",
              "      <td>0.382612</td>\n",
              "      <td>2.430182</td>\n",
              "    </tr>\n",
              "  </tbody>\n",
              "</table>\n",
              "</div>"
            ],
            "text/plain": [
              "       country  rank  score  ...  generosity  corruption  dystopia\n",
              "0       Norway     1  7.537  ...    0.362012    0.315964  2.277027\n",
              "1      Denmark     2  7.522  ...    0.355280    0.400770  2.313707\n",
              "2      Iceland     3  7.504  ...    0.475540    0.153527  2.322715\n",
              "3  Switzerland     4  7.494  ...    0.290549    0.367007  2.276716\n",
              "4      Finland     5  7.469  ...    0.245483    0.382612  2.430182\n",
              "\n",
              "[5 rows x 12 columns]"
            ]
          },
          "metadata": {
            "tags": []
          },
          "execution_count": 12
        }
      ]
    },
    {
      "cell_type": "code",
      "metadata": {
        "id": "hGORdoR3UZyq",
        "outputId": "57572e35-e5a2-4a9c-b74e-c17ad1a434e2",
        "colab": {
          "base_uri": "https://localhost:8080/",
          "height": 34
        }
      },
      "source": [
        "X = dataset.drop(['country','score'],axis=1)\n",
        "y = dataset[['score']]\n",
        "X.shape, y.shape"
      ],
      "execution_count": null,
      "outputs": [
        {
          "output_type": "execute_result",
          "data": {
            "text/plain": [
              "((167, 10), (167, 1))"
            ]
          },
          "metadata": {
            "tags": []
          },
          "execution_count": 13
        }
      ]
    },
    {
      "cell_type": "code",
      "metadata": {
        "id": "daUvE-I-VHBJ"
      },
      "source": [
        "x_train, x_test, y_train, y_test = train_test_split(X,y, test_size = 0.3, random_state = 42)\n",
        "# el random state, sirve para que la distribucion aleatoria con este numero '42' sea la misma si lo ponemos en otro lado tambien sera la misma, si cambiamos de numero tendra otra y asi con todas las demas.\n",
        "# random.seed(13)\n",
        "# random.randint(1,100) = 47\n",
        "\n",
        "# random.seed(5)\n",
        "# random.randint(1,100) = 82\n",
        "\n",
        "# random.seed(13)\n",
        "# random.randint(1,100) = 47"
      ],
      "execution_count": null,
      "outputs": []
    },
    {
      "cell_type": "code",
      "metadata": {
        "id": "C4SOrcc-V_X9"
      },
      "source": [
        "estimadores = {\n",
        "    'SVR' : SVR(gamma='auto', C=1.0, epsilon=0.1), # si disminuyimos a C seremos menos severos con la penalizacion de los errores, y eso causa un aumento en el bias y disminuiria la varianza del modelo.\n",
        "    'RANSAC' : RANSACRegressor(), # podemos poner SVC, LogisticRegression, etc, pero por defectuo viene con LinearRegression\n",
        "    'HUBER' : HuberRegressor(epsilon=1.35) #si bajamos el valor de epsilon tendremos menos inliners, y si los subimos tendremos muchos más valores atipicos\n",
        "    # O SEA, tendremos muchos valores atipicos si subimos o bajamos el epsilo que esta en equilibrio, esto siempre casi funcion el 95% de veces.\n",
        "}"
      ],
      "execution_count": null,
      "outputs": []
    },
    {
      "cell_type": "code",
      "metadata": {
        "id": "FQEh-ItOl8xl",
        "outputId": "5a4d55a1-27da-4a98-9927-2704ecb7d762",
        "colab": {
          "base_uri": "https://localhost:8080/",
          "height": 411
        }
      },
      "source": [
        "for name, estimador in estimadores.items():\n",
        "  estimador.fit(x_train,y_train)\n",
        "  y_pred = estimador.predict(x_test)\n",
        "  print('='*50)\n",
        "  print(name)\n",
        "  print('Acc: ',estimador.score(x_test,y_test))\n",
        "  print('MSE: ',mean_squared_error(y_test,y_pred))"
      ],
      "execution_count": null,
      "outputs": [
        {
          "output_type": "stream",
          "text": [
            "==================================================\n",
            "SVR\n",
            "Acc:  0.9664741348572501\n",
            "MSE:  0.0745577130188853\n",
            "==================================================\n",
            "RANSAC\n",
            "Acc:  1.0\n",
            "MSE:  1.2756407570133312e-19\n",
            "==================================================\n",
            "HUBER\n",
            "Acc:  0.9999996565242018\n",
            "MSE:  7.638511305649558e-07\n"
          ],
          "name": "stdout"
        },
        {
          "output_type": "stream",
          "text": [
            "/usr/local/lib/python3.6/dist-packages/sklearn/utils/validation.py:760: DataConversionWarning: A column-vector y was passed when a 1d array was expected. Please change the shape of y to (n_samples, ), for example using ravel().\n",
            "  y = column_or_1d(y, warn=True)\n",
            "/usr/local/lib/python3.6/dist-packages/sklearn/utils/validation.py:760: DataConversionWarning: A column-vector y was passed when a 1d array was expected. Please change the shape of y to (n_samples, ), for example using ravel().\n",
            "  y = column_or_1d(y, warn=True)\n",
            "/usr/local/lib/python3.6/dist-packages/sklearn/linear_model/_huber.py:296: ConvergenceWarning: lbfgs failed to converge (status=1):\n",
            "STOP: TOTAL NO. of ITERATIONS REACHED LIMIT.\n",
            "\n",
            "Increase the number of iterations (max_iter) or scale the data as shown in:\n",
            "    https://scikit-learn.org/stable/modules/preprocessing.html\n",
            "  self.n_iter_ = _check_optimize_result(\"lbfgs\", opt_res, self.max_iter)\n"
          ],
          "name": "stderr"
        }
      ]
    },
    {
      "cell_type": "markdown",
      "metadata": {
        "id": "9x74d21nxgod"
      },
      "source": [
        "# Métodos de ensamble aplicados a clasificación\n",
        "\n",
        "---\n",
        "\n"
      ]
    },
    {
      "cell_type": "markdown",
      "metadata": {
        "id": "B0ZQcV8nxmo8"
      },
      "source": [
        "**¿Qué son los métodos de ensamble?**\n",
        "\n",
        "* es la combinacion de diferentes metodos de ML, con diferentes configuraciones y aplicar un modelo para lograr un consenso.\n",
        "\n",
        "* la diversidad es una buena opcion, siempre hay que probar diferentes caminos, respuestas, etc.\n",
        "\n",
        "**Bagging:**\n",
        "\n",
        "* poner a varios expertos en paralelo e intentamos lograr un consenso.\n",
        "\n",
        "* como, pues: primero tomamos muestreos donde la repeticion de los datos esta permitida, y cada uno de estos modelos o estimadores nos votara un repuesta independiente de las demas y al final nos permitira encontrar un metodo en la cual nos pueda dar una respues consencuada, o una estimacion de entre todos los expertos.\n",
        "\n",
        "* modelos ensamblados de bagging: random forest, voting classifiers/ Regressors, y en general se puede aplicar sobre cualquier modelo de ML.\n",
        "\n",
        "**Boosting:**\n",
        "\n",
        "* lo que hace es poner a un experto sacar su juicio del problema y de ese juicio sacar un error, despues de eso se le dara a otro experto el mismo problema con el error que optubo el anterior y tratara de resolverlo o coregirlo, el sacara su propio jucio y error y asi varias veces hasta tener la certeza que hay un consenso, o en otras palabras las respuestas en secuencia de los expertos al final tendran una estimacion a una respuesta final.\n",
        "\n",
        "* el principio de boosting es fortalecer un modelo debil mediante la repeticion secuencial.\n",
        "\n",
        "* modelos ensamblados de bossting: gradient tree boosting, adaBoost, XGBoost."
      ]
    },
    {
      "cell_type": "markdown",
      "metadata": {
        "id": "rwGHms02n6Jp"
      },
      "source": [
        "**Cuando usarlas?**\n",
        "\n",
        "* ambos disminuyen la varianza de la estimacion unica\n",
        "\n",
        "* si el problema es que un modelo unico tiene un rendimiento bajo, boosting es la mejor desicion.\n",
        "\n",
        "* si la dificultdad del modelo o over-fitting se adapta en exceso, entonces la mejor opcion es bagging."
      ]
    },
    {
      "cell_type": "code",
      "metadata": {
        "id": "QqjFlIaQ0W6m"
      },
      "source": [
        "import pandas as pd\n",
        "\n",
        "from sklearn.neighbors import KNeighborsClassifier\n",
        "from sklearn.ensemble import BaggingClassifier  # bagging\n",
        "\n",
        "from sklearn.model_selection import train_test_split\n",
        "from sklearn.ensemble import RandomForestClassifier\n",
        "from sklearn.tree import DecisionTreeClassifier\n",
        "from sklearn.svm import SVC\n",
        "from sklearn.metrics import accuracy_score"
      ],
      "execution_count": null,
      "outputs": []
    },
    {
      "cell_type": "code",
      "metadata": {
        "id": "Qt86jSovY0S_",
        "outputId": "93391385-45cb-4e45-974f-15d8e8d57870",
        "colab": {
          "base_uri": "https://localhost:8080/",
          "height": 34
        }
      },
      "source": [
        "dataset = pd.read_csv('/content/heart.csv')\n",
        "dataset.shape"
      ],
      "execution_count": null,
      "outputs": [
        {
          "output_type": "execute_result",
          "data": {
            "text/plain": [
              "(1025, 14)"
            ]
          },
          "metadata": {
            "tags": []
          },
          "execution_count": 2
        }
      ]
    },
    {
      "cell_type": "code",
      "metadata": {
        "id": "gIAByPKuY9Vm"
      },
      "source": [
        "dataset.head()"
      ],
      "execution_count": null,
      "outputs": []
    },
    {
      "cell_type": "code",
      "metadata": {
        "id": "k4KpTqtvZFhh"
      },
      "source": [
        "X = dataset.drop(['target'],axis=1)\n",
        "y = dataset['target']"
      ],
      "execution_count": null,
      "outputs": []
    },
    {
      "cell_type": "code",
      "metadata": {
        "id": "L41Gj1pvZccO"
      },
      "source": [
        "dataset.describe()"
      ],
      "execution_count": null,
      "outputs": []
    },
    {
      "cell_type": "code",
      "metadata": {
        "id": "mjMZzPu8aNz-"
      },
      "source": [
        "x_train, x_test, y_train, y_test = train_test_split(X,y,test_size=0.25, random_state=42)"
      ],
      "execution_count": null,
      "outputs": []
    },
    {
      "cell_type": "code",
      "metadata": {
        "id": "mikpg8P3GPVR"
      },
      "source": [
        "estimators = {\n",
        "    'KNClassifier' : KNeighborsClassifier(),\n",
        "    'BaggingClassifier(KNC)' : BaggingClassifier(base_estimator=KNeighborsClassifier(), n_estimators= 50), # 50 expertos en el modelo de KNC.\n",
        "    'DecisionTreeClassifier' : DecisionTreeClassifier(),\n",
        "    'BaggingClassifier(DTC)' : BaggingClassifier(DecisionTreeClassifier(), n_estimators= 50),\n",
        "    'RandomForestClassifier' : RandomForestClassifier(n_estimators=50),\n",
        "    'BaggingClassifier(RFC)' : BaggingClassifier(RandomForestClassifier(n_estimators=50), n_estimators= 50),\n",
        "    'SVC' : SVC(C=1.0,),\n",
        "    'BaggingClassifier(SVC)' : BaggingClassifier(SVC(), n_estimators= 50),\n",
        "    }"
      ],
      "execution_count": null,
      "outputs": []
    },
    {
      "cell_type": "code",
      "metadata": {
        "id": "_WubEpSyG3H9",
        "outputId": "db6befb9-fc94-48a9-db3d-d4ae15592fe3",
        "colab": {
          "base_uri": "https://localhost:8080/",
          "height": 289
        }
      },
      "source": [
        "for name, estimator in estimators.items():\n",
        "  estimator.fit(x_train,y_train)\n",
        "  y_pred = estimator.predict(x_test)\n",
        "\n",
        "  print('='*25,name,'='*25)\n",
        "  print(accuracy_score(y_test,y_pred)) # metrica de puntaje de presicion"
      ],
      "execution_count": null,
      "outputs": [
        {
          "output_type": "stream",
          "text": [
            "========================= KNClassifier =========================\n",
            "0.7198443579766537\n",
            "========================= BaggingClassifier(KNC) =========================\n",
            "0.754863813229572\n",
            "========================= DecisionTreeClassifier =========================\n",
            "0.9766536964980544\n",
            "========================= BaggingClassifier(DTC) =========================\n",
            "0.9883268482490273\n",
            "========================= RandomForestClassifier =========================\n",
            "0.9883268482490273\n",
            "========================= BaggingClassifier(RFC) =========================\n",
            "0.9883268482490273\n",
            "========================= SVC =========================\n",
            "0.6770428015564203\n",
            "========================= BaggingClassifier(SVC) =========================\n",
            "0.6848249027237354\n"
          ],
          "name": "stdout"
        }
      ]
    },
    {
      "cell_type": "code",
      "metadata": {
        "id": "CbBw-InlELhS"
      },
      "source": [
        "import pandas as pd\n",
        "\n",
        "from sklearn.ensemble import GradientBoostingClassifier  #boosting\n",
        "\n",
        "from sklearn.model_selection import train_test_split\n",
        "from sklearn.metrics import accuracy_score"
      ],
      "execution_count": null,
      "outputs": []
    },
    {
      "cell_type": "code",
      "metadata": {
        "id": "ZvQw1b5lERmr",
        "outputId": "9aebc8e5-91ec-4ce7-e7df-a2463d4a7df5",
        "colab": {
          "base_uri": "https://localhost:8080/",
          "height": 34
        }
      },
      "source": [
        "dataset = pd.read_csv('/content/heart.csv')\n",
        "dataset.shape"
      ],
      "execution_count": null,
      "outputs": [
        {
          "output_type": "execute_result",
          "data": {
            "text/plain": [
              "(1025, 14)"
            ]
          },
          "metadata": {
            "tags": []
          },
          "execution_count": 19
        }
      ]
    },
    {
      "cell_type": "code",
      "metadata": {
        "id": "WTyG_NhYEV-3"
      },
      "source": [
        "X = dataset.drop(['target'],axis=1)\n",
        "y = dataset['target']"
      ],
      "execution_count": null,
      "outputs": []
    },
    {
      "cell_type": "code",
      "metadata": {
        "id": "ORS3MlU8EYM_"
      },
      "source": [
        "x_train, x_test, y_train, y_test = train_test_split(X,y,test_size=0.20, random_state=42)"
      ],
      "execution_count": null,
      "outputs": []
    },
    {
      "cell_type": "code",
      "metadata": {
        "id": "7h8f_OkbEZBy",
        "outputId": "b498800e-91bd-4ceb-f69f-3d8bc556c3ef",
        "colab": {
          "base_uri": "https://localhost:8080/",
          "height": 187
        }
      },
      "source": [
        "# entrenar a nuestros arbol pequeño no muy profundo, una y otra vez, se define el numero de veces con n_estimators.}\n",
        "import pickle\n",
        "list_range = range(10,201,20)\n",
        "best = 0\n",
        "list_acc = []\n",
        "for i in list_range:\n",
        "  boost = GradientBoostingClassifier(n_estimators=i).fit(x_train,y_train)\n",
        "  boost_pred = boost.predict(x_test)\n",
        "  acc = accuracy_score(y_test,boost_pred)\n",
        "  print('accuracy GBC: ',acc, 'with ',i,' estimators')\n",
        "  list_acc.append(acc)\n",
        "  if acc > best:\n",
        "    best = acc\n",
        "    with open('boosting.pickle','wb') as file:\n",
        "      pickle.dump(boost,file)\n",
        "      file.close()"
      ],
      "execution_count": null,
      "outputs": [
        {
          "output_type": "stream",
          "text": [
            "accuracy GBC:  0.7951219512195122 with  10  estimators\n",
            "accuracy GBC:  0.8585365853658536 with  30  estimators\n",
            "accuracy GBC:  0.8975609756097561 with  50  estimators\n",
            "accuracy GBC:  0.9170731707317074 with  70  estimators\n",
            "accuracy GBC:  0.9219512195121952 with  90  estimators\n",
            "accuracy GBC:  0.9414634146341463 with  110  estimators\n",
            "accuracy GBC:  0.9560975609756097 with  130  estimators\n",
            "accuracy GBC:  0.9658536585365853 with  150  estimators\n",
            "accuracy GBC:  0.9853658536585366 with  170  estimators\n",
            "accuracy GBC:  0.9853658536585366 with  190  estimators\n"
          ],
          "name": "stdout"
        }
      ]
    },
    {
      "cell_type": "code",
      "metadata": {
        "id": "6KdfD0vXKQt-",
        "outputId": "fa088c32-adad-4565-89f7-4b9824cb7b07",
        "colab": {
          "base_uri": "https://localhost:8080/",
          "height": 187
        }
      },
      "source": [
        "with open('boosting.pickle','rb') as f:\n",
        "  boost = pickle.load(f)\n",
        "  f.close()\n",
        "boost"
      ],
      "execution_count": null,
      "outputs": [
        {
          "output_type": "execute_result",
          "data": {
            "text/plain": [
              "GradientBoostingClassifier(ccp_alpha=0.0, criterion='friedman_mse', init=None,\n",
              "                           learning_rate=0.1, loss='deviance', max_depth=3,\n",
              "                           max_features=None, max_leaf_nodes=None,\n",
              "                           min_impurity_decrease=0.0, min_impurity_split=None,\n",
              "                           min_samples_leaf=1, min_samples_split=2,\n",
              "                           min_weight_fraction_leaf=0.0, n_estimators=170,\n",
              "                           n_iter_no_change=None, presort='deprecated',\n",
              "                           random_state=None, subsample=1.0, tol=0.0001,\n",
              "                           validation_fraction=0.1, verbose=0,\n",
              "                           warm_start=False)"
            ]
          },
          "metadata": {
            "tags": []
          },
          "execution_count": 32
        }
      ]
    },
    {
      "cell_type": "code",
      "metadata": {
        "id": "7HcU59NtKnBi",
        "outputId": "03b28498-0682-435e-f2c8-99a04b434a63",
        "colab": {
          "base_uri": "https://localhost:8080/",
          "height": 280
        }
      },
      "source": [
        "import matplotlib.pyplot as plt\n",
        "\n",
        "plt.scatter(list_range,list_acc,c='red')\n",
        "plt.plot(list_range,list_acc,c='blue')\n",
        "plt.grid()\n",
        "plt.xticks(color='white',ticks=list_range)\n",
        "plt.yticks(color='white')\n",
        "plt.xlabel('n_estimators',c='white')\n",
        "plt.ylabel('accuracy',c='white')\n",
        "plt.show()"
      ],
      "execution_count": null,
      "outputs": [
        {
          "output_type": "display_data",
          "data": {
            "image/png": "[encoded data removed]",
            "text/plain": [
              "<Figure size 432x288 with 1 Axes>"
            ]
          },
          "metadata": {
            "tags": [],
            "needs_background": "dark"
          }
        }
      ]
    },
    {
      "cell_type": "markdown",
      "metadata": {
        "id": "SKFRFzAGNy0K"
      },
      "source": [
        "# Clustering\n",
        "\n",
        "---\n",
        "\n"
      ]
    },
    {
      "cell_type": "markdown",
      "metadata": {
        "id": "Czv1whsNDeKl"
      },
      "source": [
        "1. No conocemos con anterioridad las etiquetas de nuestros datos (Aprendisaje no supervisado).\n",
        "\n",
        "2. queremos descubrir patrones ocultos a simple vista, separandolos por grupos.\n",
        "\n",
        "3. queremos identificar datos atipicos."
      ]
    },
    {
      "cell_type": "markdown",
      "metadata": {
        "id": "Wl-p9xRvECi1"
      },
      "source": [
        "**1. SI CONOCEMOS EL NÚMERO DE K'S QUE NECESITAMOS:**\n",
        "\n",
        "* K-Means, Spectral Clustering, MiniBatchKMeans, etc.\n",
        "\n",
        "**2. SI NO SABEMOS CUANTOS K'S QUEREMOS:**\n",
        "\n",
        "* Meanshift, Clustering jerárquico, DBScam\n",
        "\n"
      ]
    },
    {
      "cell_type": "markdown",
      "metadata": {
        "id": "s00RI8Gkejst"
      },
      "source": [
        "Metricas a tomar en cuenta para clusters:\n",
        "\n",
        "* https://scikit-learn.org/stable/modules/clustering.html#clustering-performance-evaluation"
      ]
    },
    {
      "cell_type": "code",
      "metadata": {
        "id": "c-ZQqx7OFUGZ"
      },
      "source": [
        "import pandas as pd\n",
        "\n",
        "from sklearn.cluster import MiniBatchKMeans # este modulo es como importar KMeans, pero para procesadores pequeños, con bajo poder computacional\n",
        "\n",
        "dataset = pd.read_csv('/content/candy.csv')\n",
        "dataset.head(10)"
      ],
      "execution_count": null,
      "outputs": []
    },
    {
      "cell_type": "code",
      "metadata": {
        "id": "nhRMaIptGE41",
        "outputId": "196a41c8-eeb7-469a-fd36-5e562890ed14",
        "colab": {
          "base_uri": "https://localhost:8080/",
          "height": 289
        }
      },
      "source": [
        "X = dataset.drop('competitorname', axis=1) #por qué competironame?, porque es el nombre de los caramelos y eso no nos sirve.\n",
        "# como es un problema de aprendizaje no supervisado, no hay data de prueba, etc. por eso solo se enviara los datos que tenemos\n",
        "\n",
        "kmeans = MiniBatchKMeans(n_clusters=4, batch_size=8).fit(X)\n",
        "# batch_size = 8, de 8 en 8 van a ir formando nuestro modelo o agrupaciones.\n",
        "print(\"Total de centros: \" , len(kmeans.cluster_centers_))\n",
        "print(\"=\"*64)\n",
        "print(kmeans.predict(X))\n",
        "\n",
        "dataset['group'] = kmeans.predict(X)\n",
        "\n",
        "dataset.head()\n",
        "\n",
        "# # Ahora mando los datos a un archivo excel :)\n",
        "\n",
        "# writer = pd.ExcelWriter('./K-Means/data/candy_usuario.xlsx', engine='xlsxwriter')\n",
        "# dataset.to_excel(writer, sheet_name='usuario')\n",
        "# writer.save()"
      ],
      "execution_count": null,
      "outputs": [
        {
          "output_type": "stream",
          "text": [
            "Total de centros:  4\n",
            "================================================================\n",
            "[1 1 2 0 3 3 3 2 0 2 0 2 2 0 0 0 0 0 3 2 3 0 3 3 3 3 2 3 1 0 0 3 1 1 0 3 1\n",
            " 3 1 0 3 3 1 1 2 0 0 1 0 0 0 1 1 1 1 2 1 2 0 2 3 3 0 0 1 3 3 3 1 2 2 2 2 3\n",
            " 3 0 0 3 0 1 0 0 0 0 3]\n"
          ],
          "name": "stdout"
        },
        {
          "output_type": "execute_result",
          "data": {
            "text/html": [
              "<div>\n",
              "<style scoped>\n",
              "    .dataframe tbody tr th:only-of-type {\n",
              "        vertical-align: middle;\n",
              "    }\n",
              "\n",
              "    .dataframe tbody tr th {\n",
              "        vertical-align: top;\n",
              "    }\n",
              "\n",
              "    .dataframe thead th {\n",
              "        text-align: right;\n",
              "    }\n",
              "</style>\n",
              "<table border=\"1\" class=\"dataframe\">\n",
              "  <thead>\n",
              "    <tr style=\"text-align: right;\">\n",
              "      <th></th>\n",
              "      <th>competitorname</th>\n",
              "      <th>chocolate</th>\n",
              "      <th>fruity</th>\n",
              "      <th>caramel</th>\n",
              "      <th>peanutyalmondy</th>\n",
              "      <th>nougat</th>\n",
              "      <th>crispedricewafer</th>\n",
              "      <th>hard</th>\n",
              "      <th>bar</th>\n",
              "      <th>pluribus</th>\n",
              "      <th>sugarpercent</th>\n",
              "      <th>pricepercent</th>\n",
              "      <th>winpercent</th>\n",
              "      <th>group</th>\n",
              "    </tr>\n",
              "  </thead>\n",
              "  <tbody>\n",
              "    <tr>\n",
              "      <th>0</th>\n",
              "      <td>100 Grand</td>\n",
              "      <td>1</td>\n",
              "      <td>0</td>\n",
              "      <td>1</td>\n",
              "      <td>0</td>\n",
              "      <td>0</td>\n",
              "      <td>1</td>\n",
              "      <td>0</td>\n",
              "      <td>1</td>\n",
              "      <td>0</td>\n",
              "      <td>0.732</td>\n",
              "      <td>0.860</td>\n",
              "      <td>66.971725</td>\n",
              "      <td>1</td>\n",
              "    </tr>\n",
              "    <tr>\n",
              "      <th>1</th>\n",
              "      <td>3 Musketeers</td>\n",
              "      <td>1</td>\n",
              "      <td>0</td>\n",
              "      <td>0</td>\n",
              "      <td>0</td>\n",
              "      <td>1</td>\n",
              "      <td>0</td>\n",
              "      <td>0</td>\n",
              "      <td>1</td>\n",
              "      <td>0</td>\n",
              "      <td>0.604</td>\n",
              "      <td>0.511</td>\n",
              "      <td>67.602936</td>\n",
              "      <td>1</td>\n",
              "    </tr>\n",
              "    <tr>\n",
              "      <th>2</th>\n",
              "      <td>One dime</td>\n",
              "      <td>0</td>\n",
              "      <td>0</td>\n",
              "      <td>0</td>\n",
              "      <td>0</td>\n",
              "      <td>0</td>\n",
              "      <td>0</td>\n",
              "      <td>0</td>\n",
              "      <td>0</td>\n",
              "      <td>0</td>\n",
              "      <td>0.011</td>\n",
              "      <td>0.116</td>\n",
              "      <td>32.261086</td>\n",
              "      <td>2</td>\n",
              "    </tr>\n",
              "    <tr>\n",
              "      <th>3</th>\n",
              "      <td>One quarter</td>\n",
              "      <td>0</td>\n",
              "      <td>0</td>\n",
              "      <td>0</td>\n",
              "      <td>0</td>\n",
              "      <td>0</td>\n",
              "      <td>0</td>\n",
              "      <td>0</td>\n",
              "      <td>0</td>\n",
              "      <td>0</td>\n",
              "      <td>0.011</td>\n",
              "      <td>0.511</td>\n",
              "      <td>46.116505</td>\n",
              "      <td>0</td>\n",
              "    </tr>\n",
              "    <tr>\n",
              "      <th>4</th>\n",
              "      <td>Air Heads</td>\n",
              "      <td>0</td>\n",
              "      <td>1</td>\n",
              "      <td>0</td>\n",
              "      <td>0</td>\n",
              "      <td>0</td>\n",
              "      <td>0</td>\n",
              "      <td>0</td>\n",
              "      <td>0</td>\n",
              "      <td>0</td>\n",
              "      <td>0.906</td>\n",
              "      <td>0.511</td>\n",
              "      <td>52.341465</td>\n",
              "      <td>3</td>\n",
              "    </tr>\n",
              "  </tbody>\n",
              "</table>\n",
              "</div>"
            ],
            "text/plain": [
              "  competitorname  chocolate  fruity  ...  pricepercent  winpercent  group\n",
              "0      100 Grand          1       0  ...         0.860   66.971725      1\n",
              "1   3 Musketeers          1       0  ...         0.511   67.602936      1\n",
              "2       One dime          0       0  ...         0.116   32.261086      2\n",
              "3    One quarter          0       0  ...         0.511   46.116505      0\n",
              "4      Air Heads          0       1  ...         0.511   52.341465      3\n",
              "\n",
              "[5 rows x 14 columns]"
            ]
          },
          "metadata": {
            "tags": []
          },
          "execution_count": 17
        }
      ]
    },
    {
      "cell_type": "code",
      "metadata": {
        "id": "rFlZKg-nJ3OV",
        "outputId": "03da5ab7-3c04-43fc-dfc9-df8e9f4903ef",
        "colab": {
          "base_uri": "https://localhost:8080/",
          "height": 584
        }
      },
      "source": [
        "import seaborn as sns\n",
        "# sns.pairplot(dataset, hue = 'group') # para todos los datos de la dataset\n",
        "sns.pairplot(dataset[['sugarpercent','pricepercent','winpercent','group']], hue = 'group')"
      ],
      "execution_count": null,
      "outputs": [
        {
          "output_type": "execute_result",
          "data": {
            "text/plain": [
              "<seaborn.axisgrid.PairGrid at 0x7fbb02e53198>"
            ]
          },
          "metadata": {
            "tags": []
          },
          "execution_count": 25
        },
        {
          "output_type": "display_data",
          "data": {
            "image/png": "[encoded data removed]",
            "text/plain": [
              "<Figure size 582.375x540 with 12 Axes>"
            ]
          },
          "metadata": {
            "tags": [],
            "needs_background": "light"
          }
        }
      ]
    },
    {
      "cell_type": "code",
      "metadata": {
        "id": "aTeeBkAeU7Js",
        "outputId": "ae7f53bc-f29a-4f89-8796-71474599e961",
        "colab": {
          "base_uri": "https://localhost:8080/",
          "height": 204
        }
      },
      "source": [
        "import pandas as pd\n",
        "\n",
        "from sklearn.cluster import MeanShift # cuando no sabemos cuantos k's queremos\n",
        "\n",
        "dataset = pd.read_csv(\"/content/candy.csv\")\n",
        "dataset.head(5)"
      ],
      "execution_count": null,
      "outputs": [
        {
          "output_type": "execute_result",
          "data": {
            "text/html": [
              "<div>\n",
              "<style scoped>\n",
              "    .dataframe tbody tr th:only-of-type {\n",
              "        vertical-align: middle;\n",
              "    }\n",
              "\n",
              "    .dataframe tbody tr th {\n",
              "        vertical-align: top;\n",
              "    }\n",
              "\n",
              "    .dataframe thead th {\n",
              "        text-align: right;\n",
              "    }\n",
              "</style>\n",
              "<table border=\"1\" class=\"dataframe\">\n",
              "  <thead>\n",
              "    <tr style=\"text-align: right;\">\n",
              "      <th></th>\n",
              "      <th>competitorname</th>\n",
              "      <th>chocolate</th>\n",
              "      <th>fruity</th>\n",
              "      <th>caramel</th>\n",
              "      <th>peanutyalmondy</th>\n",
              "      <th>nougat</th>\n",
              "      <th>crispedricewafer</th>\n",
              "      <th>hard</th>\n",
              "      <th>bar</th>\n",
              "      <th>pluribus</th>\n",
              "      <th>sugarpercent</th>\n",
              "      <th>pricepercent</th>\n",
              "      <th>winpercent</th>\n",
              "    </tr>\n",
              "  </thead>\n",
              "  <tbody>\n",
              "    <tr>\n",
              "      <th>0</th>\n",
              "      <td>100 Grand</td>\n",
              "      <td>1</td>\n",
              "      <td>0</td>\n",
              "      <td>1</td>\n",
              "      <td>0</td>\n",
              "      <td>0</td>\n",
              "      <td>1</td>\n",
              "      <td>0</td>\n",
              "      <td>1</td>\n",
              "      <td>0</td>\n",
              "      <td>0.732</td>\n",
              "      <td>0.860</td>\n",
              "      <td>66.971725</td>\n",
              "    </tr>\n",
              "    <tr>\n",
              "      <th>1</th>\n",
              "      <td>3 Musketeers</td>\n",
              "      <td>1</td>\n",
              "      <td>0</td>\n",
              "      <td>0</td>\n",
              "      <td>0</td>\n",
              "      <td>1</td>\n",
              "      <td>0</td>\n",
              "      <td>0</td>\n",
              "      <td>1</td>\n",
              "      <td>0</td>\n",
              "      <td>0.604</td>\n",
              "      <td>0.511</td>\n",
              "      <td>67.602936</td>\n",
              "    </tr>\n",
              "    <tr>\n",
              "      <th>2</th>\n",
              "      <td>One dime</td>\n",
              "      <td>0</td>\n",
              "      <td>0</td>\n",
              "      <td>0</td>\n",
              "      <td>0</td>\n",
              "      <td>0</td>\n",
              "      <td>0</td>\n",
              "      <td>0</td>\n",
              "      <td>0</td>\n",
              "      <td>0</td>\n",
              "      <td>0.011</td>\n",
              "      <td>0.116</td>\n",
              "      <td>32.261086</td>\n",
              "    </tr>\n",
              "    <tr>\n",
              "      <th>3</th>\n",
              "      <td>One quarter</td>\n",
              "      <td>0</td>\n",
              "      <td>0</td>\n",
              "      <td>0</td>\n",
              "      <td>0</td>\n",
              "      <td>0</td>\n",
              "      <td>0</td>\n",
              "      <td>0</td>\n",
              "      <td>0</td>\n",
              "      <td>0</td>\n",
              "      <td>0.011</td>\n",
              "      <td>0.511</td>\n",
              "      <td>46.116505</td>\n",
              "    </tr>\n",
              "    <tr>\n",
              "      <th>4</th>\n",
              "      <td>Air Heads</td>\n",
              "      <td>0</td>\n",
              "      <td>1</td>\n",
              "      <td>0</td>\n",
              "      <td>0</td>\n",
              "      <td>0</td>\n",
              "      <td>0</td>\n",
              "      <td>0</td>\n",
              "      <td>0</td>\n",
              "      <td>0</td>\n",
              "      <td>0.906</td>\n",
              "      <td>0.511</td>\n",
              "      <td>52.341465</td>\n",
              "    </tr>\n",
              "  </tbody>\n",
              "</table>\n",
              "</div>"
            ],
            "text/plain": [
              "  competitorname  chocolate  fruity  ...  sugarpercent  pricepercent  winpercent\n",
              "0      100 Grand          1       0  ...         0.732         0.860   66.971725\n",
              "1   3 Musketeers          1       0  ...         0.604         0.511   67.602936\n",
              "2       One dime          0       0  ...         0.011         0.116   32.261086\n",
              "3    One quarter          0       0  ...         0.011         0.511   46.116505\n",
              "4      Air Heads          0       1  ...         0.906         0.511   52.341465\n",
              "\n",
              "[5 rows x 13 columns]"
            ]
          },
          "metadata": {
            "tags": []
          },
          "execution_count": 27
        }
      ]
    },
    {
      "cell_type": "code",
      "metadata": {
        "id": "gWgZd_nkak2O",
        "outputId": "57255562-970e-497f-dc99-24818b3d4054",
        "colab": {
          "base_uri": "https://localhost:8080/",
          "height": 459
        }
      },
      "source": [
        "X = dataset.drop('competitorname', axis=1)\n",
        "\n",
        "meanshift = MeanShift().fit(X)\n",
        "\n",
        "print('labels: ',max(meanshift.labels_)+1)\n",
        "\n",
        "print(\"=\"*64)\n",
        "\n",
        "print(meanshift.cluster_centers_)  #es una matriz con 3 vectores, los cuales son los centroides de cada una de las features del dataset\n",
        "\n",
        "dataset['meanshift'] = meanshift.labels_ # se agrega los labels obtenidos al dataset\n",
        "\n",
        "print(\"=\"*64)\n",
        "\n",
        "dataset.head()\n",
        "\n",
        "#implementacion_meanshift"
      ],
      "execution_count": null,
      "outputs": [
        {
          "output_type": "stream",
          "text": [
            "labels:  3\n",
            "================================================================\n",
            "[[2.56410256e-01 5.89743590e-01 7.69230769e-02 5.12820513e-02\n",
            "  5.12820513e-02 2.56410256e-02 3.07692308e-01 1.28205128e-01\n",
            "  5.64102564e-01 4.70256402e-01 3.85615382e-01 4.17339475e+01\n",
            "  1.53846154e-01]\n",
            " [4.68750000e-01 5.00000000e-01 1.25000000e-01 1.56250000e-01\n",
            "  9.37500000e-02 6.25000000e-02 1.25000000e-01 3.12500000e-01\n",
            "  5.31250000e-01 4.57281243e-01 4.67874998e-01 5.21138597e+01\n",
            "  8.75000000e-01]\n",
            " [8.26086957e-01 1.73913043e-01 3.04347826e-01 3.04347826e-01\n",
            "  1.73913043e-01 1.73913043e-01 0.00000000e+00 5.21739130e-01\n",
            "  4.34782609e-01 5.81391293e-01 6.38086963e-01 6.47120799e+01\n",
            "  1.82608696e+00]]\n",
            "================================================================\n"
          ],
          "name": "stdout"
        },
        {
          "output_type": "execute_result",
          "data": {
            "text/html": [
              "<div>\n",
              "<style scoped>\n",
              "    .dataframe tbody tr th:only-of-type {\n",
              "        vertical-align: middle;\n",
              "    }\n",
              "\n",
              "    .dataframe tbody tr th {\n",
              "        vertical-align: top;\n",
              "    }\n",
              "\n",
              "    .dataframe thead th {\n",
              "        text-align: right;\n",
              "    }\n",
              "</style>\n",
              "<table border=\"1\" class=\"dataframe\">\n",
              "  <thead>\n",
              "    <tr style=\"text-align: right;\">\n",
              "      <th></th>\n",
              "      <th>competitorname</th>\n",
              "      <th>chocolate</th>\n",
              "      <th>fruity</th>\n",
              "      <th>caramel</th>\n",
              "      <th>peanutyalmondy</th>\n",
              "      <th>nougat</th>\n",
              "      <th>crispedricewafer</th>\n",
              "      <th>hard</th>\n",
              "      <th>bar</th>\n",
              "      <th>pluribus</th>\n",
              "      <th>sugarpercent</th>\n",
              "      <th>pricepercent</th>\n",
              "      <th>winpercent</th>\n",
              "      <th>meanshift</th>\n",
              "    </tr>\n",
              "  </thead>\n",
              "  <tbody>\n",
              "    <tr>\n",
              "      <th>0</th>\n",
              "      <td>100 Grand</td>\n",
              "      <td>1</td>\n",
              "      <td>0</td>\n",
              "      <td>1</td>\n",
              "      <td>0</td>\n",
              "      <td>0</td>\n",
              "      <td>1</td>\n",
              "      <td>0</td>\n",
              "      <td>1</td>\n",
              "      <td>0</td>\n",
              "      <td>0.732</td>\n",
              "      <td>0.860</td>\n",
              "      <td>66.971725</td>\n",
              "      <td>2</td>\n",
              "    </tr>\n",
              "    <tr>\n",
              "      <th>1</th>\n",
              "      <td>3 Musketeers</td>\n",
              "      <td>1</td>\n",
              "      <td>0</td>\n",
              "      <td>0</td>\n",
              "      <td>0</td>\n",
              "      <td>1</td>\n",
              "      <td>0</td>\n",
              "      <td>0</td>\n",
              "      <td>1</td>\n",
              "      <td>0</td>\n",
              "      <td>0.604</td>\n",
              "      <td>0.511</td>\n",
              "      <td>67.602936</td>\n",
              "      <td>2</td>\n",
              "    </tr>\n",
              "    <tr>\n",
              "      <th>2</th>\n",
              "      <td>One dime</td>\n",
              "      <td>0</td>\n",
              "      <td>0</td>\n",
              "      <td>0</td>\n",
              "      <td>0</td>\n",
              "      <td>0</td>\n",
              "      <td>0</td>\n",
              "      <td>0</td>\n",
              "      <td>0</td>\n",
              "      <td>0</td>\n",
              "      <td>0.011</td>\n",
              "      <td>0.116</td>\n",
              "      <td>32.261086</td>\n",
              "      <td>0</td>\n",
              "    </tr>\n",
              "    <tr>\n",
              "      <th>3</th>\n",
              "      <td>One quarter</td>\n",
              "      <td>0</td>\n",
              "      <td>0</td>\n",
              "      <td>0</td>\n",
              "      <td>0</td>\n",
              "      <td>0</td>\n",
              "      <td>0</td>\n",
              "      <td>0</td>\n",
              "      <td>0</td>\n",
              "      <td>0</td>\n",
              "      <td>0.011</td>\n",
              "      <td>0.511</td>\n",
              "      <td>46.116505</td>\n",
              "      <td>0</td>\n",
              "    </tr>\n",
              "    <tr>\n",
              "      <th>4</th>\n",
              "      <td>Air Heads</td>\n",
              "      <td>0</td>\n",
              "      <td>1</td>\n",
              "      <td>0</td>\n",
              "      <td>0</td>\n",
              "      <td>0</td>\n",
              "      <td>0</td>\n",
              "      <td>0</td>\n",
              "      <td>0</td>\n",
              "      <td>0</td>\n",
              "      <td>0.906</td>\n",
              "      <td>0.511</td>\n",
              "      <td>52.341465</td>\n",
              "      <td>1</td>\n",
              "    </tr>\n",
              "  </tbody>\n",
              "</table>\n",
              "</div>"
            ],
            "text/plain": [
              "  competitorname  chocolate  fruity  ...  pricepercent  winpercent  meanshift\n",
              "0      100 Grand          1       0  ...         0.860   66.971725          2\n",
              "1   3 Musketeers          1       0  ...         0.511   67.602936          2\n",
              "2       One dime          0       0  ...         0.116   32.261086          0\n",
              "3    One quarter          0       0  ...         0.511   46.116505          0\n",
              "4      Air Heads          0       1  ...         0.511   52.341465          1\n",
              "\n",
              "[5 rows x 14 columns]"
            ]
          },
          "metadata": {
            "tags": []
          },
          "execution_count": 31
        }
      ]
    },
    {
      "cell_type": "code",
      "metadata": {
        "id": "eG5yrpdWbnnZ",
        "outputId": "3540ec7e-ca90-45c1-be60-9296b426c59f",
        "colab": {
          "base_uri": "https://localhost:8080/",
          "height": 584
        }
      },
      "source": [
        "import seaborn as sns\n",
        "# sns.pairplot(dataset, hue = 'group') # para todos los datos de la dataset\n",
        "sns.pairplot(dataset[['sugarpercent','pricepercent','winpercent','meanshift']], hue = 'meanshift')"
      ],
      "execution_count": null,
      "outputs": [
        {
          "output_type": "execute_result",
          "data": {
            "text/plain": [
              "<seaborn.axisgrid.PairGrid at 0x7fbb024a0630>"
            ]
          },
          "metadata": {
            "tags": []
          },
          "execution_count": 34
        },
        {
          "output_type": "display_data",
          "data": {
            "image/png": "[encoded data removed]",
            "text/plain": [
              "<Figure size 598.125x540 with 12 Axes>"
            ]
          },
          "metadata": {
            "tags": [],
            "needs_background": "light"
          }
        }
      ]
    },
    {
      "cell_type": "markdown",
      "metadata": {
        "id": "NieJSEJNcXVv"
      },
      "source": [
        "# Optimización Parametrica\n",
        "\n",
        "---"
      ]
    },
    {
      "cell_type": "markdown",
      "metadata": {
        "id": "9LsT1V_d_nDG"
      },
      "source": [
        "* una resolucion es optima cuando el accuracy es alto y no hay ni over-fitting ni under-fitting. \n"
      ]
    },
    {
      "cell_type": "markdown",
      "metadata": {
        "id": "j3osOpe4yGcE"
      },
      "source": [
        "**Tipos de Validación:**\n",
        "\n",
        "* Dividir nuestros datos en Entrenamiento y Prueba (Hold-On).\n",
        "\n",
        "* Usar Validación cruzada (K-Folds).\n",
        "\n",
        "* Validación cruzada (LOOCV)."
      ]
    },
    {
      "cell_type": "markdown",
      "metadata": {
        "id": "dvYMfkVvzO54"
      },
      "source": [
        "**Cuando usar Hold-On:**\n",
        "\n",
        "---\n",
        "\n",
        "\n",
        "1. Se requiere un prototipo rápido.\n",
        "2. No se tiene mucho conocimiento.\n",
        "3. No se cuenta con abundante poder de cómputo."
      ]
    },
    {
      "cell_type": "markdown",
      "metadata": {
        "id": "6Yv9zOsi0CR1"
      },
      "source": [
        "**Validación cruzada de k-Fold**\n",
        "\n",
        "---\n",
        "\n",
        "\n",
        "\n",
        "La validación cruzada es un procedimiento de remuestreo que se utiliza para evaluar modelos de aprendizaje automático en una muestra de datos limitada.\n",
        "\n",
        "El procedimiento tiene un solo parámetro llamado k que se refiere al número de grupos en los que se dividirá una muestra de datos determinada. Como tal, el procedimiento a menudo se denomina validación cruzada de k veces. Cuando se elige un valor específico para k, se puede usar en lugar de k en la referencia al modelo, por ejemplo, k = 10 se convierte en una validación cruzada de 10 veces.\n",
        "\n",
        "La validación cruzada se utiliza principalmente en el aprendizaje automático aplicado para estimar la habilidad de un modelo de aprendizaje automático en datos invisibles. Es decir, utilizar una muestra limitada para estimar cómo se espera que funcione el modelo en general cuando se utiliza para hacer predicciones sobre datos no utilizados durante el entrenamiento del modelo.\n",
        "\n",
        "Es un método popular porque es fácil de entender y porque generalmente da como resultado una estimación menos sesgada o menos optimista de la habilidad del modelo que otros métodos, como una simple división de entrenamiento / prueba.\n",
        "\n",
        "El procedimiento general es el siguiente:\n",
        "\n",
        "1. Mezcle el conjunto de datos de forma aleatoria.\n",
        "2. Divida el conjunto de datos en k grupos\n",
        "3. Para cada grupo único:\n",
        "* Tome el grupo como un conjunto de datos de prueba o de reserva\n",
        "* Tome los grupos restantes como un conjunto de datos de entrenamiento\n",
        "* Coloque un modelo en el conjunto de entrenamiento y evalúelo en el conjunto de prueba\n",
        "* Conserve la puntuación de la evaluación y descarte el modelo\n",
        "\n",
        "4. Resumir la habilidad del modelo usando la muestra de puntajes de evaluación del modelo\n",
        "\n",
        "Es importante destacar que cada observación en la muestra de datos se asigna a un grupo individual y permanece en ese grupo durante la duración del procedimiento. Esto significa que a cada muestra se le da la oportunidad de ser usada en el set 1 de reserva y usada para entrenar el modelo k-1 veces.\n",
        "\n",
        "1. casi siempre se debe usar.\n",
        "2. cuando se cuente con un equipo suficiente para implementar algoritmos de ML.\n",
        "3. Se requiere la integracion con técnicas de optimización paramétrica.\n",
        "4. cundo se tenga más tiempo para las pruebas."
      ]
    },
    {
      "cell_type": "markdown",
      "metadata": {
        "id": "-PZiEbXV22Jc"
      },
      "source": [
        "**LOOCV:**\n",
        "\n",
        "---\n",
        "\n",
        "\n",
        "\n",
        "La validación cruzada de dejar uno fuera, o LOOCV, es una configuración de validación cruzada de k veces donde k se establece en el número de ejemplos en el conjunto de datos.\n",
        "\n",
        "LOOCV es una versión extrema de la validación cruzada de k-fold que tiene el máximo costo computacional. Requiere la creación y evaluación de un modelo para cada ejemplo en el conjunto de datos de entrenamiento.\n",
        "\n",
        "El beneficio de tantos modelos ajustados y evaluados es una estimación más robusta del rendimiento del modelo, ya que cada fila de datos tiene la oportunidad de representar la totalidad del conjunto de datos de prueba.\n",
        "\n",
        "Dado el costo computacional, LOOCV no es apropiado para conjuntos de datos muy grandes, como más de decenas o cientos de miles de ejemplos, o para modelos que son costosos de ajustar, como las redes neuronales.\n",
        "\n",
        "No utilice LOOCV : conjuntos de datos grandes o modelos costosos de adaptar.\n",
        "\n",
        "1. se tiene gran poder de cómputo.\n",
        "2. se cuenta con pocos datos como para dividir por training / test. si se tienen pocos datos vamos a usar todos los datos para train y todos los datos para test, solo que seran todos - 1, y 1 para todas las iteraciones hasta que sean cubridos todos. \n",
        "3. personas que sufren de TOC y quieren probar todos los casos posibles, o una prueba general y ver que nuestro modelo es el mejor."
      ]
    },
    {
      "cell_type": "code",
      "metadata": {
        "id": "cXO8OApLuzsE"
      },
      "source": [
        "import numpy as np\n",
        "import pandas as pd\n",
        "from sklearn.tree import DecisionTreeRegressor\n",
        "from sklearn.model_selection import cross_val_score, KFold"
      ],
      "execution_count": null,
      "outputs": []
    },
    {
      "cell_type": "code",
      "metadata": {
        "id": "8YaGeQfOvS7c"
      },
      "source": [
        "dataset = pd.read_csv('/content/felicidad.csv')\n",
        "dataset.head()"
      ],
      "execution_count": null,
      "outputs": []
    },
    {
      "cell_type": "code",
      "metadata": {
        "id": "jOCk6GrgvgBo"
      },
      "source": [
        "dataset.isnull().sum()"
      ],
      "execution_count": null,
      "outputs": []
    },
    {
      "cell_type": "code",
      "metadata": {
        "id": "z7MkUAGNvosG"
      },
      "source": [
        "dataset.info()"
      ],
      "execution_count": null,
      "outputs": []
    },
    {
      "cell_type": "code",
      "metadata": {
        "id": "1F9pXJHUvuN7"
      },
      "source": [
        "X = dataset.drop(['country','score','rank'],axis = 1).values\n",
        "y = dataset['score']"
      ],
      "execution_count": null,
      "outputs": []
    },
    {
      "cell_type": "code",
      "metadata": {
        "id": "3H5lzSL5wVKI"
      },
      "source": [
        "model = DecisionTreeRegressor()\n",
        "\n",
        "# esta funcion es para ver una validacion o estimacion de que tan bien funcionara el modelo con estos datos.\n",
        "score = cross_val_score(model, X, y, scoring='neg_mean_squared_error', cv=3)\n",
        "# el cv por defectuo es 5, esto es cuanta plieges o doblez va a tener nuestra data con el modelo. cv = 3 => data(a,b,c) => train (a,b) test (c), train(a,c) test (b), etc."
      ],
      "execution_count": null,
      "outputs": []
    },
    {
      "cell_type": "code",
      "metadata": {
        "id": "m0YSk6iJyp_e",
        "outputId": "bbaac88a-7a80-42ac-b60e-3d7786d3e9e8",
        "colab": {
          "base_uri": "https://localhost:8080/",
          "height": 51
        }
      },
      "source": [
        "print(score) # la eficiencia del modelo son 3 diferentes distribuciones\n",
        "print(np.abs(np.mean(score))) # la eficiencia en general del modelo"
      ],
      "execution_count": null,
      "outputs": [
        {
          "output_type": "stream",
          "text": [
            "[-0.90153377 -0.15555176 -0.74961172]\n",
            "0.6022324174252118\n"
          ],
          "name": "stdout"
        }
      ]
    },
    {
      "cell_type": "code",
      "metadata": {
        "id": "MY2s9xKOzBx-"
      },
      "source": [
        "# para ver como funciona por dentro:\n",
        "\n",
        "kf = KFold(n_splits=3, shuffle=True, random_state=42) # 1 param: pliegue, 2 param: combinados, 3 param: replica de datos\n",
        "for train, test in kf.split(dataset):\n",
        "  print(train) # data de entrenamieto\n",
        "  print(test) # data de prueba\n",
        "# seran en total 3 plieges donde el más grande la data de train y la más pequeña la ddata de prueba.\n",
        "# en los arreglos mostrado se ve la posicion del argumento o index."
      ],
      "execution_count": null,
      "outputs": []
    },
    {
      "cell_type": "code",
      "metadata": {
        "id": "Jqjt0VsV0ztu",
        "outputId": "2a51c20a-cbb2-47f1-ccf6-9efc2d50ce69",
        "colab": {
          "base_uri": "https://localhost:8080/",
          "height": 68
        }
      },
      "source": [
        "kf = KFold(n_splits=3, shuffle=True, random_state=42)\n",
        "for train, test in kf.split(dataset):\n",
        "  model = DecisionTreeRegressor()\n",
        "  model.fit(X[train],y[train])\n",
        "  print(model.score(X[test],y[test]))"
      ],
      "execution_count": null,
      "outputs": [
        {
          "output_type": "stream",
          "text": [
            "0.9701416867885688\n",
            "0.9959480084730341\n",
            "0.9955744423208112\n"
          ],
          "name": "stdout"
        }
      ]
    },
    {
      "cell_type": "markdown",
      "metadata": {
        "id": "Ph3NyyYFRhMb"
      },
      "source": [
        "**Tres enfoques:**\n",
        "\n",
        "1. **Manual:** \n",
        "* el cual es en escoger un modelo al que queremos ajustar.\n",
        "* buscar documentacio en scikit learn.\n",
        "* identificamos los porsibles ajustes.\n",
        "* probar combinaciones una por una iterando a través de listas.\n",
        "\n",
        "2. **GridSearchCV (Cuando tengamos tiempo y queremos ver a fondo):**\n",
        "* definir una o varias metricas que queramos optimizar.\n",
        "* identificar los posibles valores que pueden tenr los parámetros.\n",
        "* crear un diccionaro de parámetros.\n",
        "* usar Cross Validation.\n",
        "* Entrenar el modelo e ir por un café XD.\n",
        "\n",
        "3. **RandomSearchCV (Cuando no hay mucho tiempo):**\n",
        "\n",
        "* definir una o varias metricas que queramos optimizar.\n",
        "* identificar los rangos de valores que puedan tomar ciertos parámetros.\n",
        "* crear un diccionario de rangos de valores.\n",
        "* usar Cross Validation.\n",
        "* Entrenar el modelo e ir por otro café XD.\n"
      ]
    },
    {
      "cell_type": "code",
      "metadata": {
        "id": "_7CrU7p6YBL4"
      },
      "source": [
        "import pandas as pd\n",
        "\n",
        "from sklearn.model_selection import RandomizedSearchCV # la tercera\n",
        "from sklearn.ensemble import RandomForestRegressor\n",
        "\n",
        "dataset = pd.read_csv('/content/felicidad.csv')\n",
        "\n",
        "dataset.head()"
      ],
      "execution_count": null,
      "outputs": []
    },
    {
      "cell_type": "code",
      "metadata": {
        "id": "I3xCmc4OYLhd"
      },
      "source": [
        "X = dataset.drop(['country', 'rank', 'score'], axis=1)\n",
        "y = dataset[['score']]\n",
        "\n",
        "reg = RandomForestRegressor()\n",
        "\n",
        "parametros = {\n",
        "  'n_estimators' : range(4,16),\n",
        "  'criterion' : ['mse', 'mae'],\n",
        "  'max_depth' : range(2,11)\n",
        "}"
      ],
      "execution_count": null,
      "outputs": []
    },
    {
      "cell_type": "code",
      "metadata": {
        "id": "D3jMGOWxYUkF",
        "outputId": "5a1a83da-b6b3-491a-d15b-b56090c73a22",
        "colab": {
          "base_uri": "https://localhost:8080/",
          "height": 1000
        }
      },
      "source": [
        "rand_est = RandomizedSearchCV(reg, parametros , n_iter=10, cv=3, scoring='neg_mean_absolute_error').fit(X,y)\n",
        "# n_iter = 10 : va a tomar del diccionario 10 posibles combinaciones.\n",
        "# cv = 3 : un cross validation de 3, o sea los partira en 3 pliegues, 2 de train y 1 de test.\n",
        "\n",
        "estimators = rand_est.best_estimator_ # El MODELO EN GENERAL DE 'reg'.\n",
        "params = rand_est.best_params_ # Los parametros establecidos con mejor desempeño.\n",
        "y_pred_0 = rand_est.predict(X.loc[[0]]) # la prediccion y el .loc se refiera a la fila del X en la pos 0 segun los parametros"
      ],
      "execution_count": null,
      "outputs": [
        {
          "output_type": "stream",
          "text": [
            "/usr/local/lib/python3.6/dist-packages/sklearn/model_selection/_validation.py:515: DataConversionWarning: A column-vector y was passed when a 1d array was expected. Please change the shape of y to (n_samples,), for example using ravel().\n",
            "  estimator.fit(X_train, y_train, **fit_params)\n",
            "/usr/local/lib/python3.6/dist-packages/sklearn/model_selection/_validation.py:515: DataConversionWarning: A column-vector y was passed when a 1d array was expected. Please change the shape of y to (n_samples,), for example using ravel().\n",
            "  estimator.fit(X_train, y_train, **fit_params)\n",
            "/usr/local/lib/python3.6/dist-packages/sklearn/model_selection/_validation.py:515: DataConversionWarning: A column-vector y was passed when a 1d array was expected. Please change the shape of y to (n_samples,), for example using ravel().\n",
            "  estimator.fit(X_train, y_train, **fit_params)\n",
            "/usr/local/lib/python3.6/dist-packages/sklearn/model_selection/_validation.py:515: DataConversionWarning: A column-vector y was passed when a 1d array was expected. Please change the shape of y to (n_samples,), for example using ravel().\n",
            "  estimator.fit(X_train, y_train, **fit_params)\n",
            "/usr/local/lib/python3.6/dist-packages/sklearn/model_selection/_validation.py:515: DataConversionWarning: A column-vector y was passed when a 1d array was expected. Please change the shape of y to (n_samples,), for example using ravel().\n",
            "  estimator.fit(X_train, y_train, **fit_params)\n",
            "/usr/local/lib/python3.6/dist-packages/sklearn/model_selection/_validation.py:515: DataConversionWarning: A column-vector y was passed when a 1d array was expected. Please change the shape of y to (n_samples,), for example using ravel().\n",
            "  estimator.fit(X_train, y_train, **fit_params)\n",
            "/usr/local/lib/python3.6/dist-packages/sklearn/model_selection/_validation.py:515: DataConversionWarning: A column-vector y was passed when a 1d array was expected. Please change the shape of y to (n_samples,), for example using ravel().\n",
            "  estimator.fit(X_train, y_train, **fit_params)\n",
            "/usr/local/lib/python3.6/dist-packages/sklearn/model_selection/_validation.py:515: DataConversionWarning: A column-vector y was passed when a 1d array was expected. Please change the shape of y to (n_samples,), for example using ravel().\n",
            "  estimator.fit(X_train, y_train, **fit_params)\n",
            "/usr/local/lib/python3.6/dist-packages/sklearn/model_selection/_validation.py:515: DataConversionWarning: A column-vector y was passed when a 1d array was expected. Please change the shape of y to (n_samples,), for example using ravel().\n",
            "  estimator.fit(X_train, y_train, **fit_params)\n",
            "/usr/local/lib/python3.6/dist-packages/sklearn/model_selection/_validation.py:515: DataConversionWarning: A column-vector y was passed when a 1d array was expected. Please change the shape of y to (n_samples,), for example using ravel().\n",
            "  estimator.fit(X_train, y_train, **fit_params)\n",
            "/usr/local/lib/python3.6/dist-packages/sklearn/model_selection/_validation.py:515: DataConversionWarning: A column-vector y was passed when a 1d array was expected. Please change the shape of y to (n_samples,), for example using ravel().\n",
            "  estimator.fit(X_train, y_train, **fit_params)\n",
            "/usr/local/lib/python3.6/dist-packages/sklearn/model_selection/_validation.py:515: DataConversionWarning: A column-vector y was passed when a 1d array was expected. Please change the shape of y to (n_samples,), for example using ravel().\n",
            "  estimator.fit(X_train, y_train, **fit_params)\n",
            "/usr/local/lib/python3.6/dist-packages/sklearn/model_selection/_validation.py:515: DataConversionWarning: A column-vector y was passed when a 1d array was expected. Please change the shape of y to (n_samples,), for example using ravel().\n",
            "  estimator.fit(X_train, y_train, **fit_params)\n",
            "/usr/local/lib/python3.6/dist-packages/sklearn/model_selection/_validation.py:515: DataConversionWarning: A column-vector y was passed when a 1d array was expected. Please change the shape of y to (n_samples,), for example using ravel().\n",
            "  estimator.fit(X_train, y_train, **fit_params)\n",
            "/usr/local/lib/python3.6/dist-packages/sklearn/model_selection/_validation.py:515: DataConversionWarning: A column-vector y was passed when a 1d array was expected. Please change the shape of y to (n_samples,), for example using ravel().\n",
            "  estimator.fit(X_train, y_train, **fit_params)\n",
            "/usr/local/lib/python3.6/dist-packages/sklearn/model_selection/_validation.py:515: DataConversionWarning: A column-vector y was passed when a 1d array was expected. Please change the shape of y to (n_samples,), for example using ravel().\n",
            "  estimator.fit(X_train, y_train, **fit_params)\n",
            "/usr/local/lib/python3.6/dist-packages/sklearn/model_selection/_validation.py:515: DataConversionWarning: A column-vector y was passed when a 1d array was expected. Please change the shape of y to (n_samples,), for example using ravel().\n",
            "  estimator.fit(X_train, y_train, **fit_params)\n",
            "/usr/local/lib/python3.6/dist-packages/sklearn/model_selection/_validation.py:515: DataConversionWarning: A column-vector y was passed when a 1d array was expected. Please change the shape of y to (n_samples,), for example using ravel().\n",
            "  estimator.fit(X_train, y_train, **fit_params)\n",
            "/usr/local/lib/python3.6/dist-packages/sklearn/model_selection/_validation.py:515: DataConversionWarning: A column-vector y was passed when a 1d array was expected. Please change the shape of y to (n_samples,), for example using ravel().\n",
            "  estimator.fit(X_train, y_train, **fit_params)\n",
            "/usr/local/lib/python3.6/dist-packages/sklearn/model_selection/_validation.py:515: DataConversionWarning: A column-vector y was passed when a 1d array was expected. Please change the shape of y to (n_samples,), for example using ravel().\n",
            "  estimator.fit(X_train, y_train, **fit_params)\n",
            "/usr/local/lib/python3.6/dist-packages/sklearn/model_selection/_validation.py:515: DataConversionWarning: A column-vector y was passed when a 1d array was expected. Please change the shape of y to (n_samples,), for example using ravel().\n",
            "  estimator.fit(X_train, y_train, **fit_params)\n",
            "/usr/local/lib/python3.6/dist-packages/sklearn/model_selection/_validation.py:515: DataConversionWarning: A column-vector y was passed when a 1d array was expected. Please change the shape of y to (n_samples,), for example using ravel().\n",
            "  estimator.fit(X_train, y_train, **fit_params)\n",
            "/usr/local/lib/python3.6/dist-packages/sklearn/model_selection/_validation.py:515: DataConversionWarning: A column-vector y was passed when a 1d array was expected. Please change the shape of y to (n_samples,), for example using ravel().\n",
            "  estimator.fit(X_train, y_train, **fit_params)\n",
            "/usr/local/lib/python3.6/dist-packages/sklearn/model_selection/_validation.py:515: DataConversionWarning: A column-vector y was passed when a 1d array was expected. Please change the shape of y to (n_samples,), for example using ravel().\n",
            "  estimator.fit(X_train, y_train, **fit_params)\n",
            "/usr/local/lib/python3.6/dist-packages/sklearn/model_selection/_validation.py:515: DataConversionWarning: A column-vector y was passed when a 1d array was expected. Please change the shape of y to (n_samples,), for example using ravel().\n",
            "  estimator.fit(X_train, y_train, **fit_params)\n",
            "/usr/local/lib/python3.6/dist-packages/sklearn/model_selection/_validation.py:515: DataConversionWarning: A column-vector y was passed when a 1d array was expected. Please change the shape of y to (n_samples,), for example using ravel().\n",
            "  estimator.fit(X_train, y_train, **fit_params)\n",
            "/usr/local/lib/python3.6/dist-packages/sklearn/model_selection/_validation.py:515: DataConversionWarning: A column-vector y was passed when a 1d array was expected. Please change the shape of y to (n_samples,), for example using ravel().\n",
            "  estimator.fit(X_train, y_train, **fit_params)\n",
            "/usr/local/lib/python3.6/dist-packages/sklearn/model_selection/_validation.py:515: DataConversionWarning: A column-vector y was passed when a 1d array was expected. Please change the shape of y to (n_samples,), for example using ravel().\n",
            "  estimator.fit(X_train, y_train, **fit_params)\n",
            "/usr/local/lib/python3.6/dist-packages/sklearn/model_selection/_validation.py:515: DataConversionWarning: A column-vector y was passed when a 1d array was expected. Please change the shape of y to (n_samples,), for example using ravel().\n",
            "  estimator.fit(X_train, y_train, **fit_params)\n",
            "/usr/local/lib/python3.6/dist-packages/sklearn/model_selection/_validation.py:515: DataConversionWarning: A column-vector y was passed when a 1d array was expected. Please change the shape of y to (n_samples,), for example using ravel().\n",
            "  estimator.fit(X_train, y_train, **fit_params)\n",
            "/usr/local/lib/python3.6/dist-packages/sklearn/model_selection/_search.py:739: DataConversionWarning: A column-vector y was passed when a 1d array was expected. Please change the shape of y to (n_samples,), for example using ravel().\n",
            "  self.best_estimator_.fit(X, y, **fit_params)\n"
          ],
          "name": "stderr"
        }
      ]
    },
    {
      "cell_type": "code",
      "metadata": {
        "id": "gzJLBllLjPUz",
        "outputId": "ed38ea9b-9e0e-4a10-9595-3708dee84588",
        "colab": {
          "base_uri": "https://localhost:8080/",
          "height": 170
        }
      },
      "source": [
        "print('Modelo estimado: ',estimators)\n",
        "print('\\nparametros: ',params)"
      ],
      "execution_count": null,
      "outputs": [
        {
          "output_type": "stream",
          "text": [
            "Modelo estimado:  RandomForestRegressor(bootstrap=True, ccp_alpha=0.0, criterion='mae',\n",
            "                      max_depth=7, max_features='auto', max_leaf_nodes=None,\n",
            "                      max_samples=None, min_impurity_decrease=0.0,\n",
            "                      min_impurity_split=None, min_samples_leaf=1,\n",
            "                      min_samples_split=2, min_weight_fraction_leaf=0.0,\n",
            "                      n_estimators=7, n_jobs=None, oob_score=False,\n",
            "                      random_state=None, verbose=0, warm_start=False)\n",
            "\n",
            "parametros:  {'n_estimators': 7, 'max_depth': 7, 'criterion': 'mae'}\n"
          ],
          "name": "stdout"
        }
      ]
    },
    {
      "cell_type": "code",
      "metadata": {
        "id": "9_S18TY1g_wF",
        "outputId": "a994ce9f-f457-46f7-872b-33545a623bdd",
        "colab": {
          "base_uri": "https://localhost:8080/",
          "height": 34
        }
      },
      "source": [
        "print('y_pred = ',y_pred_0,' and y = ',y.loc[[0]].values)"
      ],
      "execution_count": null,
      "outputs": [
        {
          "output_type": "stream",
          "text": [
            "y_pred =  [7.5080001]  and y =  [[7.53700018]]\n"
          ],
          "name": "stdout"
        }
      ]
    },
    {
      "cell_type": "markdown",
      "metadata": {
        "id": "Fu1vo53AsX0g"
      },
      "source": [
        "**Auto Machine Learning:**\n",
        "\n",
        "---\n",
        "\n",
        "\n",
        "\n",
        "[link text](https://itmastersmag.com/noticias-analisis/que-es-automated-machine-learning-la-proxima-generacion-de-inteligencia-artificial/)\n",
        "\n",
        "**Auto-Sklearn:**\n",
        "\n",
        "La herramienta que te quiero presentar en esta clase se llama auto-sklearn, y nos ayudará a llevar aún un paso más lejos nuestro proceso de selección y optimización de modelos de machine learning. Dado que automáticamente prueba diferentes modelos predefinidos y configuraciones de parámetros comunes hasta encontrar la que más se ajuste según los datos que le pasemos como entrada. Con esta herramienta podrás entrenar modelos tanto de clasificación como de regresión por igual.\n",
        "\n",
        "La forma de hacer funcionar nuestro algoritmo no podría ser más fácil. Nos resultará bastante familiar a estas alturas después de haber trabajado tanto con sklearn.\n",
        "\n",
        "```\n",
        "import autosklearn.classification\n",
        "\n",
        "cls = autosklearn.classification.AutoSklearnClassifier()\n",
        "\n",
        "cls.fit(X_train, y_train)\n",
        "\n",
        "predictions = cls.predict(X_test)\n",
        "```\n",
        "\n"
      ]
    },
    {
      "cell_type": "markdown",
      "metadata": {
        "id": "BLORzGMyx42H"
      },
      "source": [
        "# Salida a Producción\n",
        "\n",
        "---\n",
        "\n"
      ]
    },
    {
      "cell_type": "markdown",
      "metadata": {
        "id": "F7MZi6cK12OI"
      },
      "source": [
        "**Revisión de nuestra arquitectura de código:**\n",
        "\n",
        "1. utilidades.py\n",
        "2. main.py\n",
        "3. models.py\n",
        "4. load.py\n",
        "5. server.py"
      ]
    },
    {
      "cell_type": "code",
      "metadata": {
        "id": "arPRrGeN14rG"
      },
      "source": [
        "#################### utils.py ############################\n",
        "\n",
        "import pandas as pd\n",
        "import joblib  # libreria parecida a pickle pero más simplificada\n",
        "\n",
        "class Utils:\n",
        "\n",
        "    def load_from_csv(self, path):      # carga un archivo en formato '.csv'\n",
        "        return pd.read_csv(path)\n",
        "\n",
        "    def load_from_mysql(self):  # en caso que el cliente cambia a '.mysql'\n",
        "        pass\n",
        "\n",
        "    def features_target(self, dataset, drop_cols, y):  # para obtener nuestras features y labels\n",
        "        X = dataset.drop(drop_cols, axis=1)\n",
        "        y = dataset[y]\n",
        "        return X,y\n",
        "\n",
        "    def model_export(self, clf, score):  \n",
        "        print(score)\n",
        "        joblib.dump(clf, 'best_model.pkl')   # se guarba el modelo en un archivo .pkl"
      ],
      "execution_count": null,
      "outputs": []
    },
    {
      "cell_type": "code",
      "metadata": {
        "id": "-y3p0tOzKaZT"
      },
      "source": [
        "#################### models.py ############################\n",
        "\n",
        "import numpy as np\n",
        "import pandas as pd\n",
        "\n",
        "from sklearn.svm import SVR\n",
        "from sklearn.ensemble import GradientBoostingRegressor\n",
        "from sklearn.model_selection import GridSearchCV\n",
        "\n",
        "# from utils import Utils\n",
        "\n",
        "class Models:\n",
        "\n",
        "  def __init__(self):\n",
        "\n",
        "    self.reg = {   # Los modelos que se usaran en 'gridsearchcv'\n",
        "        'SVR' : SVR(),\n",
        "        'GRADIENT' : GradientBoostingRegressor()\n",
        "    }\n",
        "\n",
        "    self.params = {  # los parametros por diccionario\n",
        "        'SVR' : {\n",
        "            'kernel' :  ['linear', 'poly', 'rbf'],\n",
        "            'gamma' : ['auto', 'scale'],\n",
        "            'C' : [1,5,10]\n",
        "        },\n",
        "        'GRADIENT' : {\n",
        "            'loss' : ['ls', 'lad'],\n",
        "            'learning_rate' : [0.01, 0.05, 0.1]\n",
        "        }\n",
        "    }\n",
        "  \n",
        "  def grid_training(self, X, y):\n",
        "\n",
        "    best_score = 999\n",
        "    best_model = None\n",
        "\n",
        "    for name, reg in self.reg.items():\n",
        "      grid_reg = GridSearchCV(reg, self.params[name], cv = 3).fit(X,y.values.ravel())  # se pone el values.ravel() para no tener los warnings etc.\n",
        "\n",
        "      score = np.abs(grid_reg.best_score_)\n",
        "\n",
        "      if score < best_score:   # debe ser menor porque el .best_score_ de grid devuelve el error que existe con la mejor prediccion de su modelo\n",
        "        best_score = score\n",
        "        best_model = grid_reg.best_estimator_\n",
        "\n",
        "    utils = Utils()\n",
        "    utils.model_export(best_model, best_score)\n"
      ],
      "execution_count": null,
      "outputs": []
    },
    {
      "cell_type": "code",
      "metadata": {
        "id": "BC4cUpUQCUcX",
        "outputId": "bc379257-a9d1-4c0b-e2e8-e9e249b234dd",
        "colab": {
          "base_uri": "https://localhost:8080/",
          "height": 34
        }
      },
      "source": [
        "#################### main.py ############################\n",
        "\n",
        "# from utils import Utils\n",
        "# from models import Models\n",
        "\n",
        "# LO IDEAL\n",
        "# if __name__ == '__main__':\n",
        "\n",
        "  # utils = Utils()\n",
        "  # models = Models()\n",
        "\n",
        "  # data = utils.load_from_csv('/content/felicidad.csv')\n",
        "\n",
        "  # X, y = utils.features_target(data, ['score', 'rank', 'country'], ['score'])\n",
        "\n",
        "  # models.grid_training(X,y)\n",
        "\n",
        "# PERO COMO ESTAMOS EN COLABORATORY ASÍ QUE\n",
        "\n",
        "\n",
        "utils = Utils()\n",
        "models = Models()\n",
        "\n",
        "data = utils.load_from_csv('/content/felicidad.csv')\n",
        "\n",
        "X, y = utils.features_target(data, ['score', 'rank', 'country'], ['score'])\n",
        "\n",
        "models.grid_training(X,y)"
      ],
      "execution_count": null,
      "outputs": [
        {
          "output_type": "stream",
          "text": [
            "0.9319120119763165\n"
          ],
          "name": "stdout"
        }
      ]
    },
    {
      "cell_type": "code",
      "metadata": {
        "id": "ierWghncVZUC",
        "outputId": "19fc4b1b-7211-439b-8f0f-2ae815dc53b3",
        "colab": {
          "base_uri": "https://localhost:8080/",
          "height": 119
        }
      },
      "source": [
        "#################### server.py ############################\n",
        "\n",
        "import joblib\n",
        "import numpy as np\n",
        "\n",
        "from flask import Flask\n",
        "from flask import jsonify  # para trabajar con archivos json\n",
        "\n",
        "app = Flask(__name__) # esto hace que se cree una variable con el nombre de este archivo\n",
        "\n",
        "model = joblib.load('/content/best_model.pkl')\n",
        "app.run(port=808080) # el numero de nuestro puerto local, recomendable usar un numero alto porque los con numero bajo estan siendo usados  por el pc.\n",
        "\n",
        "#POSTMAN PARA PRUEBAS\n",
        "@app.route('/predict', methods=['GET'])   # el 'GET' para obtener algo, tambien se puede usar el POST para subir algo etc.\n",
        "def predict():  # lo de arriba llamara a esta funcion\n",
        "    X_test = np.array([7.594444821,7.479555538,1.616463184,1.53352356,0.796666503,0.635422587,0.362012237,0.315963835,2.277026653])\n",
        "    prediction = model.predict(X_test.reshape(1,-1))\n",
        "    return jsonify({'prediccion' : list(prediction)})\n",
        "\n",
        "# if __name__ == \"__main__\":\n",
        "#     model = joblib.load('./models/best_model.pkl')\n",
        "#     app.run(port=808080)"
      ],
      "execution_count": null,
      "outputs": [
        {
          "output_type": "stream",
          "text": [
            " * Serving Flask app \"__main__\" (lazy loading)\n",
            " * Environment: production\n",
            "\u001b[31m   WARNING: This is a development server. Do not use it in a production deployment.\u001b[0m\n",
            "\u001b[2m   Use a production WSGI server instead.\u001b[0m\n",
            " * Debug mode: off\n"
          ],
          "name": "stdout"
        },
        {
          "output_type": "stream",
          "text": [
            " * Running on http://127.0.0.1:21648/ (Press CTRL+C to quit)\n"
          ],
          "name": "stderr"
        }
      ]
    }
  ]
}